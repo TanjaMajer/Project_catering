{
 "cells": [
  {
   "cell_type": "markdown",
   "id": "6825b46c",
   "metadata": {},
   "source": [
    "# Analysis of User Acquisition Channel Effectiveness for a Mobile Game"
   ]
  },
  {
   "cell_type": "markdown",
   "id": "02b1a5ed",
   "metadata": {},
   "source": [
    "Client - a game developer, purchases advertising from third-party sources. The task is to understand how to best attract players to the game. To do this, it is necessary to rank the channels by their effectiveness and determine which platform is more effective. Effectiveness here is defined as the ratio of cost of acquisition to audience quality.\n",
    "\n",
    "In the game, there are two victory strategies:\n",
    "\n",
    "1. Complete a project (PvE), in which case the completed project \"Orbital Satellite Assembly\" will be indicated in events preceding the level's completion.\n",
    "2. Eliminate the enemy\n",
    "\n",
    "A level is considered completed after clicking the \"Proceed to the next level\" button and is recorded in the logs as an event.\n",
    "\n",
    "In the game, there is also building construction, and advertisements appear during construction. It is known that the cost of displaying an ad is 0.07 cents. The types of buildings are:\n",
    "- Assembly Workshop: for hiring workers. The more assembly workshops, the faster further construction progresses.\n",
    "- Spaceport: for recruiting an army.\n",
    "- \n",
    "Research Center: available type - Orbital Satellite Assembly."
   ]
  },
  {
   "cell_type": "markdown",
   "id": "63dd3f2b",
   "metadata": {
    "toc": true
   },
   "source": [
    "<h1><span class=\"tocSkip\"></span></h1>\n",
    "<div class=\"toc\"><ul class=\"toc-item\"><li><span><a href=\"#Analysis-of-User-Acquisition-Channel-Effectiveness-for-a-Mobile-Game\" data-toc-modified-id=\"Analysis-of-User-Acquisition-Channel-Effectiveness-for-a-Mobile-Game-1\"><span class=\"toc-item-num\">1&nbsp;&nbsp;</span>Analysis of User Acquisition Channel Effectiveness for a Mobile Game</a></span><ul class=\"toc-item\"><li><span><a href=\"#Preprocessing\" data-toc-modified-id=\"Preprocessing-1.1\"><span class=\"toc-item-num\">1.1&nbsp;&nbsp;</span>Preprocessing</a></span><ul class=\"toc-item\"><li><span><a href=\"#Missing-Values-and-Data-Types\" data-toc-modified-id=\"Missing-Values-and-Data-Types-1.1.1\"><span class=\"toc-item-num\">1.1.1&nbsp;&nbsp;</span>Missing Values and Data Types</a></span></li><li><span><a href=\"#Duplicates-and-Table-Concatenation\" data-toc-modified-id=\"Duplicates-and-Table-Concatenation-1.1.2\"><span class=\"toc-item-num\">1.1.2&nbsp;&nbsp;</span>Duplicates and Table Concatenation</a></span></li></ul></li><li><span><a href=\"#Exploratory-Analysis\" data-toc-modified-id=\"Exploratory-Analysis-1.2\"><span class=\"toc-item-num\">1.2&nbsp;&nbsp;</span>Exploratory Analysis</a></span><ul class=\"toc-item\"><li><span><a href=\"#Users-by-Sources\" data-toc-modified-id=\"Users-by-Sources-1.2.1\"><span class=\"toc-item-num\">1.2.1&nbsp;&nbsp;</span>Users by Sources</a></span></li><li><span><a href=\"#Users-by-strategy\" data-toc-modified-id=\"Users-by-strategy-1.2.2\"><span class=\"toc-item-num\">1.2.2&nbsp;&nbsp;</span>Users by strategy</a></span></li><li><span><a href=\"#Users-by-the-number-of-events-per-day.\" data-toc-modified-id=\"Users-by-the-number-of-events-per-day.-1.2.3\"><span class=\"toc-item-num\">1.2.3&nbsp;&nbsp;</span>Users by the number of events per day.</a></span></li><li><span><a href=\"#Buildings\" data-toc-modified-id=\"Buildings-1.2.4\"><span class=\"toc-item-num\">1.2.4&nbsp;&nbsp;</span>Buildings</a></span></li><li><span><a href=\"#Level-completion\" data-toc-modified-id=\"Level-completion-1.2.5\"><span class=\"toc-item-num\">1.2.5&nbsp;&nbsp;</span>Level completion</a></span></li><li><span><a href=\"#Duration\" data-toc-modified-id=\"Duration-1.2.6\"><span class=\"toc-item-num\">1.2.6&nbsp;&nbsp;</span>Duration</a></span></li><li><span><a href=\"#Cost\" data-toc-modified-id=\"Cost-1.2.7\"><span class=\"toc-item-num\">1.2.7&nbsp;&nbsp;</span>Cost</a></span><ul class=\"toc-item\"><li><span><a href=\"#The-cost-per-click-from-each-source.\" data-toc-modified-id=\"The-cost-per-click-from-each-source.-1.2.7.1\"><span class=\"toc-item-num\">1.2.7.1&nbsp;&nbsp;</span>The cost per click from each source.</a></span></li><li><span><a href=\"#The-total-amount-spent-on-each-source\" data-toc-modified-id=\"The-total-amount-spent-on-each-source-1.2.7.2\"><span class=\"toc-item-num\">1.2.7.2&nbsp;&nbsp;</span>The total amount spent on each source</a></span></li></ul></li><li><span><a href=\"#Hypothesis\" data-toc-modified-id=\"Hypothesis-1.2.8\"><span class=\"toc-item-num\">1.2.8&nbsp;&nbsp;</span>Hypothesis</a></span></li></ul></li><li><span><a href=\"#Conclusions\" data-toc-modified-id=\"Conclusions-1.3\"><span class=\"toc-item-num\">1.3&nbsp;&nbsp;</span>Conclusions</a></span><ul class=\"toc-item\"><li><span><a href=\"#Analysis-and-Ranking-of-User-Acquisition-Sources\" data-toc-modified-id=\"Analysis-and-Ranking-of-User-Acquisition-Sources-1.3.1\"><span class=\"toc-item-num\">1.3.1&nbsp;&nbsp;</span>Analysis and Ranking of User Acquisition Sources</a></span></li></ul></li></ul></li></ul></div>"
   ]
  },
  {
   "cell_type": "markdown",
   "id": "beb9d95c",
   "metadata": {},
   "source": [
    "Three datasets are available for analysis:\n",
    "1. \"game\" with logs from May 4th to June 5th.\n",
    "2. \"ad\" with advertising activities from May 3rd to May 9th.\n",
    "3. \"user\" with the user acquisition channel information for each user.\n",
    "\n",
    "Let's load the datasets for initial processing."
   ]
  },
  {
   "cell_type": "markdown",
   "id": "a7536841",
   "metadata": {},
   "source": [
    "## Preprocessing"
   ]
  },
  {
   "cell_type": "code",
   "execution_count": 127,
   "id": "fefd9487",
   "metadata": {},
   "outputs": [],
   "source": [
    "import pandas as pd\n",
    "from datetime import datetime, timedelta\n",
    "import seaborn as sns\n",
    "from matplotlib import pyplot as plt\n",
    "%matplotlib inline\n",
    "from scipy.stats import chi2_contingency\n",
    "import numpy as np\n",
    "from scipy import stats\n",
    "from scipy.stats import mannwhitneyu\n",
    "from scipy.stats import ttest_ind\n",
    "import statsmodels.api as sm"
   ]
  },
  {
   "cell_type": "code",
   "execution_count": 128,
   "id": "3bb6573e",
   "metadata": {},
   "outputs": [
    {
     "data": {
      "text/html": [
       "<div>\n",
       "<style scoped>\n",
       "    .dataframe tbody tr th:only-of-type {\n",
       "        vertical-align: middle;\n",
       "    }\n",
       "\n",
       "    .dataframe tbody tr th {\n",
       "        vertical-align: top;\n",
       "    }\n",
       "\n",
       "    .dataframe thead th {\n",
       "        text-align: right;\n",
       "    }\n",
       "</style>\n",
       "<table border=\"1\" class=\"dataframe\">\n",
       "  <thead>\n",
       "    <tr style=\"text-align: right;\">\n",
       "      <th></th>\n",
       "      <th>event_datetime</th>\n",
       "      <th>event</th>\n",
       "      <th>building_type</th>\n",
       "      <th>user_id</th>\n",
       "      <th>project_type</th>\n",
       "    </tr>\n",
       "  </thead>\n",
       "  <tbody>\n",
       "    <tr>\n",
       "      <th>0</th>\n",
       "      <td>2020-05-04 00:00:01</td>\n",
       "      <td>building</td>\n",
       "      <td>assembly_shop</td>\n",
       "      <td>55e92310-cb8e-4754-b622-597e124b03de</td>\n",
       "      <td>NaN</td>\n",
       "    </tr>\n",
       "    <tr>\n",
       "      <th>1</th>\n",
       "      <td>2020-05-04 00:00:03</td>\n",
       "      <td>building</td>\n",
       "      <td>assembly_shop</td>\n",
       "      <td>c07b1c10-f477-44dc-81dc-ec82254b1347</td>\n",
       "      <td>NaN</td>\n",
       "    </tr>\n",
       "    <tr>\n",
       "      <th>2</th>\n",
       "      <td>2020-05-04 00:00:16</td>\n",
       "      <td>building</td>\n",
       "      <td>assembly_shop</td>\n",
       "      <td>6edd42cc-e753-4ff6-a947-2107cd560710</td>\n",
       "      <td>NaN</td>\n",
       "    </tr>\n",
       "    <tr>\n",
       "      <th>3</th>\n",
       "      <td>2020-05-04 00:00:16</td>\n",
       "      <td>building</td>\n",
       "      <td>assembly_shop</td>\n",
       "      <td>92c69003-d60a-444a-827f-8cc51bf6bf4c</td>\n",
       "      <td>NaN</td>\n",
       "    </tr>\n",
       "    <tr>\n",
       "      <th>4</th>\n",
       "      <td>2020-05-04 00:00:35</td>\n",
       "      <td>building</td>\n",
       "      <td>assembly_shop</td>\n",
       "      <td>cdc6bb92-0ccb-4490-9866-ef142f09139d</td>\n",
       "      <td>NaN</td>\n",
       "    </tr>\n",
       "  </tbody>\n",
       "</table>\n",
       "</div>"
      ],
      "text/plain": [
       "        event_datetime     event  building_type  \\\n",
       "0  2020-05-04 00:00:01  building  assembly_shop   \n",
       "1  2020-05-04 00:00:03  building  assembly_shop   \n",
       "2  2020-05-04 00:00:16  building  assembly_shop   \n",
       "3  2020-05-04 00:00:16  building  assembly_shop   \n",
       "4  2020-05-04 00:00:35  building  assembly_shop   \n",
       "\n",
       "                                user_id project_type  \n",
       "0  55e92310-cb8e-4754-b622-597e124b03de          NaN  \n",
       "1  c07b1c10-f477-44dc-81dc-ec82254b1347          NaN  \n",
       "2  6edd42cc-e753-4ff6-a947-2107cd560710          NaN  \n",
       "3  92c69003-d60a-444a-827f-8cc51bf6bf4c          NaN  \n",
       "4  cdc6bb92-0ccb-4490-9866-ef142f09139d          NaN  "
      ]
     },
     "execution_count": 128,
     "metadata": {},
     "output_type": "execute_result"
    }
   ],
   "source": [
    "game = pd.read_csv('https://code.s3.yandex.net/datasets/game_actions.csv')\n",
    "ad = pd.read_csv('https://code.s3.yandex.net/datasets/ad_costs.csv')\n",
    "user = pd.read_csv('https://code.s3.yandex.net/datasets/user_source.csv')\n",
    "game.head()"
   ]
  },
  {
   "cell_type": "markdown",
   "id": "728544ca",
   "metadata": {},
   "source": [
    "### Missing Values and Data Types"
   ]
  },
  {
   "cell_type": "code",
   "execution_count": 129,
   "id": "dcbae11f",
   "metadata": {},
   "outputs": [
    {
     "name": "stdout",
     "output_type": "stream",
     "text": [
      "<class 'pandas.core.frame.DataFrame'>\n",
      "RangeIndex: 135640 entries, 0 to 135639\n",
      "Data columns (total 5 columns):\n",
      " #   Column          Non-Null Count   Dtype \n",
      "---  ------          --------------   ----- \n",
      " 0   event_datetime  135640 non-null  object\n",
      " 1   event           135640 non-null  object\n",
      " 2   building_type   127957 non-null  object\n",
      " 3   user_id         135640 non-null  object\n",
      " 4   project_type    1866 non-null    object\n",
      "dtypes: object(5)\n",
      "memory usage: 5.2+ MB\n"
     ]
    }
   ],
   "source": [
    "game.info()"
   ]
  },
  {
   "cell_type": "code",
   "execution_count": 130,
   "id": "93536039",
   "metadata": {},
   "outputs": [],
   "source": [
    "#Convert data types to datetime.\n",
    "game['event_datetime'] = pd.to_datetime(game['event_datetime'])"
   ]
  },
  {
   "cell_type": "code",
   "execution_count": 131,
   "id": "7391da32",
   "metadata": {},
   "outputs": [
    {
     "data": {
      "text/html": [
       "<div>\n",
       "<style scoped>\n",
       "    .dataframe tbody tr th:only-of-type {\n",
       "        vertical-align: middle;\n",
       "    }\n",
       "\n",
       "    .dataframe tbody tr th {\n",
       "        vertical-align: top;\n",
       "    }\n",
       "\n",
       "    .dataframe thead th {\n",
       "        text-align: right;\n",
       "    }\n",
       "</style>\n",
       "<table border=\"1\" class=\"dataframe\">\n",
       "  <thead>\n",
       "    <tr style=\"text-align: right;\">\n",
       "      <th></th>\n",
       "      <th>source</th>\n",
       "      <th>day</th>\n",
       "      <th>cost</th>\n",
       "    </tr>\n",
       "  </thead>\n",
       "  <tbody>\n",
       "    <tr>\n",
       "      <th>0</th>\n",
       "      <td>facebook_ads</td>\n",
       "      <td>2020-05-03</td>\n",
       "      <td>935.882786</td>\n",
       "    </tr>\n",
       "    <tr>\n",
       "      <th>1</th>\n",
       "      <td>facebook_ads</td>\n",
       "      <td>2020-05-04</td>\n",
       "      <td>548.354480</td>\n",
       "    </tr>\n",
       "    <tr>\n",
       "      <th>2</th>\n",
       "      <td>facebook_ads</td>\n",
       "      <td>2020-05-05</td>\n",
       "      <td>260.185754</td>\n",
       "    </tr>\n",
       "    <tr>\n",
       "      <th>3</th>\n",
       "      <td>facebook_ads</td>\n",
       "      <td>2020-05-06</td>\n",
       "      <td>177.982200</td>\n",
       "    </tr>\n",
       "    <tr>\n",
       "      <th>4</th>\n",
       "      <td>facebook_ads</td>\n",
       "      <td>2020-05-07</td>\n",
       "      <td>111.766796</td>\n",
       "    </tr>\n",
       "    <tr>\n",
       "      <th>5</th>\n",
       "      <td>facebook_ads</td>\n",
       "      <td>2020-05-08</td>\n",
       "      <td>68.009276</td>\n",
       "    </tr>\n",
       "    <tr>\n",
       "      <th>6</th>\n",
       "      <td>facebook_ads</td>\n",
       "      <td>2020-05-09</td>\n",
       "      <td>38.723350</td>\n",
       "    </tr>\n",
       "    <tr>\n",
       "      <th>7</th>\n",
       "      <td>instagram_new_adverts</td>\n",
       "      <td>2020-05-03</td>\n",
       "      <td>943.204717</td>\n",
       "    </tr>\n",
       "    <tr>\n",
       "      <th>8</th>\n",
       "      <td>instagram_new_adverts</td>\n",
       "      <td>2020-05-04</td>\n",
       "      <td>502.925451</td>\n",
       "    </tr>\n",
       "    <tr>\n",
       "      <th>9</th>\n",
       "      <td>instagram_new_adverts</td>\n",
       "      <td>2020-05-05</td>\n",
       "      <td>313.970984</td>\n",
       "    </tr>\n",
       "    <tr>\n",
       "      <th>10</th>\n",
       "      <td>instagram_new_adverts</td>\n",
       "      <td>2020-05-06</td>\n",
       "      <td>173.071145</td>\n",
       "    </tr>\n",
       "    <tr>\n",
       "      <th>11</th>\n",
       "      <td>instagram_new_adverts</td>\n",
       "      <td>2020-05-07</td>\n",
       "      <td>109.915254</td>\n",
       "    </tr>\n",
       "    <tr>\n",
       "      <th>12</th>\n",
       "      <td>instagram_new_adverts</td>\n",
       "      <td>2020-05-08</td>\n",
       "      <td>71.578739</td>\n",
       "    </tr>\n",
       "    <tr>\n",
       "      <th>13</th>\n",
       "      <td>instagram_new_adverts</td>\n",
       "      <td>2020-05-09</td>\n",
       "      <td>46.775400</td>\n",
       "    </tr>\n",
       "    <tr>\n",
       "      <th>14</th>\n",
       "      <td>yandex_direct</td>\n",
       "      <td>2020-05-03</td>\n",
       "      <td>969.139394</td>\n",
       "    </tr>\n",
       "    <tr>\n",
       "      <th>15</th>\n",
       "      <td>yandex_direct</td>\n",
       "      <td>2020-05-04</td>\n",
       "      <td>554.651494</td>\n",
       "    </tr>\n",
       "    <tr>\n",
       "      <th>16</th>\n",
       "      <td>yandex_direct</td>\n",
       "      <td>2020-05-05</td>\n",
       "      <td>308.232990</td>\n",
       "    </tr>\n",
       "    <tr>\n",
       "      <th>17</th>\n",
       "      <td>yandex_direct</td>\n",
       "      <td>2020-05-06</td>\n",
       "      <td>180.917099</td>\n",
       "    </tr>\n",
       "    <tr>\n",
       "      <th>18</th>\n",
       "      <td>yandex_direct</td>\n",
       "      <td>2020-05-07</td>\n",
       "      <td>114.429338</td>\n",
       "    </tr>\n",
       "    <tr>\n",
       "      <th>19</th>\n",
       "      <td>yandex_direct</td>\n",
       "      <td>2020-05-08</td>\n",
       "      <td>62.961630</td>\n",
       "    </tr>\n",
       "    <tr>\n",
       "      <th>20</th>\n",
       "      <td>yandex_direct</td>\n",
       "      <td>2020-05-09</td>\n",
       "      <td>42.779505</td>\n",
       "    </tr>\n",
       "    <tr>\n",
       "      <th>21</th>\n",
       "      <td>youtube_channel_reklama</td>\n",
       "      <td>2020-05-03</td>\n",
       "      <td>454.224943</td>\n",
       "    </tr>\n",
       "    <tr>\n",
       "      <th>22</th>\n",
       "      <td>youtube_channel_reklama</td>\n",
       "      <td>2020-05-04</td>\n",
       "      <td>259.073224</td>\n",
       "    </tr>\n",
       "    <tr>\n",
       "      <th>23</th>\n",
       "      <td>youtube_channel_reklama</td>\n",
       "      <td>2020-05-05</td>\n",
       "      <td>147.041741</td>\n",
       "    </tr>\n",
       "    <tr>\n",
       "      <th>24</th>\n",
       "      <td>youtube_channel_reklama</td>\n",
       "      <td>2020-05-06</td>\n",
       "      <td>88.506074</td>\n",
       "    </tr>\n",
       "    <tr>\n",
       "      <th>25</th>\n",
       "      <td>youtube_channel_reklama</td>\n",
       "      <td>2020-05-07</td>\n",
       "      <td>55.740645</td>\n",
       "    </tr>\n",
       "    <tr>\n",
       "      <th>26</th>\n",
       "      <td>youtube_channel_reklama</td>\n",
       "      <td>2020-05-08</td>\n",
       "      <td>40.217907</td>\n",
       "    </tr>\n",
       "    <tr>\n",
       "      <th>27</th>\n",
       "      <td>youtube_channel_reklama</td>\n",
       "      <td>2020-05-09</td>\n",
       "      <td>23.314669</td>\n",
       "    </tr>\n",
       "  </tbody>\n",
       "</table>\n",
       "</div>"
      ],
      "text/plain": [
       "                     source         day        cost\n",
       "0              facebook_ads  2020-05-03  935.882786\n",
       "1              facebook_ads  2020-05-04  548.354480\n",
       "2              facebook_ads  2020-05-05  260.185754\n",
       "3              facebook_ads  2020-05-06  177.982200\n",
       "4              facebook_ads  2020-05-07  111.766796\n",
       "5              facebook_ads  2020-05-08   68.009276\n",
       "6              facebook_ads  2020-05-09   38.723350\n",
       "7     instagram_new_adverts  2020-05-03  943.204717\n",
       "8     instagram_new_adverts  2020-05-04  502.925451\n",
       "9     instagram_new_adverts  2020-05-05  313.970984\n",
       "10    instagram_new_adverts  2020-05-06  173.071145\n",
       "11    instagram_new_adverts  2020-05-07  109.915254\n",
       "12    instagram_new_adverts  2020-05-08   71.578739\n",
       "13    instagram_new_adverts  2020-05-09   46.775400\n",
       "14            yandex_direct  2020-05-03  969.139394\n",
       "15            yandex_direct  2020-05-04  554.651494\n",
       "16            yandex_direct  2020-05-05  308.232990\n",
       "17            yandex_direct  2020-05-06  180.917099\n",
       "18            yandex_direct  2020-05-07  114.429338\n",
       "19            yandex_direct  2020-05-08   62.961630\n",
       "20            yandex_direct  2020-05-09   42.779505\n",
       "21  youtube_channel_reklama  2020-05-03  454.224943\n",
       "22  youtube_channel_reklama  2020-05-04  259.073224\n",
       "23  youtube_channel_reklama  2020-05-05  147.041741\n",
       "24  youtube_channel_reklama  2020-05-06   88.506074\n",
       "25  youtube_channel_reklama  2020-05-07   55.740645\n",
       "26  youtube_channel_reklama  2020-05-08   40.217907\n",
       "27  youtube_channel_reklama  2020-05-09   23.314669"
      ]
     },
     "metadata": {},
     "output_type": "display_data"
    },
    {
     "name": "stdout",
     "output_type": "stream",
     "text": [
      "<class 'pandas.core.frame.DataFrame'>\n",
      "RangeIndex: 28 entries, 0 to 27\n",
      "Data columns (total 3 columns):\n",
      " #   Column  Non-Null Count  Dtype  \n",
      "---  ------  --------------  -----  \n",
      " 0   source  28 non-null     object \n",
      " 1   day     28 non-null     object \n",
      " 2   cost    28 non-null     float64\n",
      "dtypes: float64(1), object(2)\n",
      "memory usage: 800.0+ bytes\n"
     ]
    }
   ],
   "source": [
    "display(ad.head(30))\n",
    "ad.info()"
   ]
  },
  {
   "cell_type": "code",
   "execution_count": 132,
   "id": "06567f56",
   "metadata": {},
   "outputs": [],
   "source": [
    "# Convert to date\n",
    "ad['day'] = pd.to_datetime(ad['day'])\n",
    "ad['cost'] = ad['cost'].round(2)"
   ]
  },
  {
   "cell_type": "code",
   "execution_count": 133,
   "id": "4f224c14",
   "metadata": {},
   "outputs": [
    {
     "data": {
      "text/html": [
       "<div>\n",
       "<style scoped>\n",
       "    .dataframe tbody tr th:only-of-type {\n",
       "        vertical-align: middle;\n",
       "    }\n",
       "\n",
       "    .dataframe tbody tr th {\n",
       "        vertical-align: top;\n",
       "    }\n",
       "\n",
       "    .dataframe thead th {\n",
       "        text-align: right;\n",
       "    }\n",
       "</style>\n",
       "<table border=\"1\" class=\"dataframe\">\n",
       "  <thead>\n",
       "    <tr style=\"text-align: right;\">\n",
       "      <th></th>\n",
       "      <th>user_id</th>\n",
       "      <th>source</th>\n",
       "    </tr>\n",
       "  </thead>\n",
       "  <tbody>\n",
       "    <tr>\n",
       "      <th>0</th>\n",
       "      <td>0001f83c-c6ac-4621-b7f0-8a28b283ac30</td>\n",
       "      <td>facebook_ads</td>\n",
       "    </tr>\n",
       "    <tr>\n",
       "      <th>1</th>\n",
       "      <td>00151b4f-ba38-44a8-a650-d7cf130a0105</td>\n",
       "      <td>yandex_direct</td>\n",
       "    </tr>\n",
       "    <tr>\n",
       "      <th>2</th>\n",
       "      <td>001aaea6-3d14-43f1-8ca8-7f48820f17aa</td>\n",
       "      <td>youtube_channel_reklama</td>\n",
       "    </tr>\n",
       "    <tr>\n",
       "      <th>3</th>\n",
       "      <td>001d39dc-366c-4021-9604-6a3b9ff01e25</td>\n",
       "      <td>instagram_new_adverts</td>\n",
       "    </tr>\n",
       "    <tr>\n",
       "      <th>4</th>\n",
       "      <td>002f508f-67b6-479f-814b-b05f00d4e995</td>\n",
       "      <td>facebook_ads</td>\n",
       "    </tr>\n",
       "  </tbody>\n",
       "</table>\n",
       "</div>"
      ],
      "text/plain": [
       "                                user_id                   source\n",
       "0  0001f83c-c6ac-4621-b7f0-8a28b283ac30             facebook_ads\n",
       "1  00151b4f-ba38-44a8-a650-d7cf130a0105            yandex_direct\n",
       "2  001aaea6-3d14-43f1-8ca8-7f48820f17aa  youtube_channel_reklama\n",
       "3  001d39dc-366c-4021-9604-6a3b9ff01e25    instagram_new_adverts\n",
       "4  002f508f-67b6-479f-814b-b05f00d4e995             facebook_ads"
      ]
     },
     "metadata": {},
     "output_type": "display_data"
    },
    {
     "name": "stdout",
     "output_type": "stream",
     "text": [
      "<class 'pandas.core.frame.DataFrame'>\n",
      "RangeIndex: 13576 entries, 0 to 13575\n",
      "Data columns (total 2 columns):\n",
      " #   Column   Non-Null Count  Dtype \n",
      "---  ------   --------------  ----- \n",
      " 0   user_id  13576 non-null  object\n",
      " 1   source   13576 non-null  object\n",
      "dtypes: object(2)\n",
      "memory usage: 212.2+ KB\n"
     ]
    }
   ],
   "source": [
    "display(user.head())\n",
    "user.info()"
   ]
  },
  {
   "cell_type": "code",
   "execution_count": 134,
   "id": "f8b5faa7",
   "metadata": {},
   "outputs": [
    {
     "data": {
      "text/plain": [
       "array(['building', 'finished_stage_1', 'project'], dtype=object)"
      ]
     },
     "execution_count": 134,
     "metadata": {},
     "output_type": "execute_result"
    }
   ],
   "source": [
    "game.event.unique()"
   ]
  },
  {
   "cell_type": "markdown",
   "id": "5b19ef70",
   "metadata": {},
   "source": [
    "The \"game\" dataset contains 135,640 rows and missing values in the \"building_type\" and \"project_type\" columns.\n",
    "\n",
    "It is known that the missing values in \"building_type\" and \"project_type\" occurred because, if a building is being constructed (event = building), the project type will not be specified, only the building type will be indicated, and vice versa. There is also a value \"finished_stage_1,\" for which nothing should be specified in \"building_type\" and \"project_type.\" The sum of these values should be equal to 135,640. Let's verify."
   ]
  },
  {
   "cell_type": "code",
   "execution_count": 135,
   "id": "ba1f8314",
   "metadata": {},
   "outputs": [
    {
     "name": "stdout",
     "output_type": "stream",
     "text": [
      "building: 127957\n",
      "project: 1866\n",
      "finished_stage_1: 5817\n",
      "Итого: 135640\n"
     ]
    }
   ],
   "source": [
    "#count the occurrences of different event types\n",
    "events = ['building', 'project', 'finished_stage_1']\n",
    "\n",
    "for event in events:\n",
    "    count = game[game['event'] == event].shape[0]\n",
    "    print(f'{event}: {count}')\n",
    "\n",
    "total_count = game.shape[0]\n",
    "print(f'Итого: {total_count}')"
   ]
  },
  {
   "cell_type": "markdown",
   "id": "7b240521",
   "metadata": {},
   "source": [
    "exclude the possibility of errors"
   ]
  },
  {
   "cell_type": "code",
   "execution_count": 136,
   "id": "76ff8c6f",
   "metadata": {},
   "outputs": [
    {
     "data": {
      "text/plain": [
       "127957"
      ]
     },
     "execution_count": 136,
     "metadata": {},
     "output_type": "execute_result"
    }
   ],
   "source": [
    "# check the condition that if a building is being constructed (event = building), \n",
    "#then the project type will not be specified, only the building type will be indicated\n",
    "((game['event'] == 'building') & (game['building_type'].notna()) & (game['project_type'].isna())).sum()"
   ]
  },
  {
   "cell_type": "code",
   "execution_count": 137,
   "id": "7ee0984e",
   "metadata": {},
   "outputs": [
    {
     "data": {
      "text/plain": [
       "1866"
      ]
     },
     "execution_count": 137,
     "metadata": {},
     "output_type": "execute_result"
    }
   ],
   "source": [
    "# and vice versa\n",
    "((game['event'] == 'project') & (game['project_type'].notna()) & (game['building_type'].isna())).sum()"
   ]
  },
  {
   "cell_type": "code",
   "execution_count": 138,
   "id": "af243104",
   "metadata": {},
   "outputs": [
    {
     "data": {
      "text/plain": [
       "5817"
      ]
     },
     "execution_count": 138,
     "metadata": {},
     "output_type": "execute_result"
    }
   ],
   "source": [
    "# In the case of \"finished_stage_1,\" both building and project types should be empty.\n",
    "((game['event'] == 'finished_stage_1') & (game['project_type'].isna()) & (game['building_type'].isna())).sum()"
   ]
  },
  {
   "cell_type": "markdown",
   "id": "fed43852",
   "metadata": {},
   "source": [
    "Everything is correct; no additional processing is needed for the missing values in the data."
   ]
  },
  {
   "cell_type": "markdown",
   "id": "468f878b",
   "metadata": {},
   "source": [
    "### Duplicates and Table Concatenation"
   ]
  },
  {
   "cell_type": "code",
   "execution_count": 139,
   "id": "51f61dd0",
   "metadata": {},
   "outputs": [
    {
     "name": "stdout",
     "output_type": "stream",
     "text": [
      "Duplicates found in game:\n",
      "     event_datetime    event   building_type                              user_id project_type\n",
      "2020-05-10 18:41:56 building research_center c9af55d2-b0ae-4bb4-b3d5-f32aa9ac03af          NaN\n",
      "No duplicates found in ad.\n",
      "No duplicates found in user.\n"
     ]
    }
   ],
   "source": [
    "# List of DataFrames and their names\n",
    "dataframes = [(game, 'game'), (ad, 'ad'), (user, 'user')]\n",
    "\n",
    "# Iterate through each DataFrame and their names in a loop\n",
    "for df, df_name in dataframes:\n",
    "    duplicates = df[df.duplicated()]\n",
    "    \n",
    "    # Display duplicates if they exist\n",
    "    if not duplicates.empty:\n",
    "        print(f\"Duplicates found in {df_name}:\\n{duplicates.to_string(index=False)}\")\n",
    "    else:\n",
    "        print(f\"No duplicates found in {df_name}.\")"
   ]
  },
  {
   "cell_type": "markdown",
   "id": "c0b9d81e",
   "metadata": {},
   "source": [
    "A duplicate has been found in the \"game\" dataset; let's remove it."
   ]
  },
  {
   "cell_type": "code",
   "execution_count": 140,
   "id": "d18a5a21",
   "metadata": {},
   "outputs": [],
   "source": [
    "game = game.drop_duplicates()"
   ]
  },
  {
   "cell_type": "markdown",
   "id": "16a7627d",
   "metadata": {},
   "source": [
    "For simplicity, let's combine the \"game\" and \"user\" datasets after analyzing the number of unique users in each of them."
   ]
  },
  {
   "cell_type": "code",
   "execution_count": 141,
   "id": "ce70ea6a",
   "metadata": {},
   "outputs": [
    {
     "data": {
      "text/plain": [
       "13576"
      ]
     },
     "execution_count": 141,
     "metadata": {},
     "output_type": "execute_result"
    }
   ],
   "source": [
    "game['user_id'].nunique()"
   ]
  },
  {
   "cell_type": "code",
   "execution_count": 142,
   "id": "ec215765",
   "metadata": {},
   "outputs": [
    {
     "data": {
      "text/plain": [
       "13576"
      ]
     },
     "execution_count": 142,
     "metadata": {},
     "output_type": "execute_result"
    }
   ],
   "source": [
    "user['user_id'].nunique()"
   ]
  },
  {
   "cell_type": "code",
   "execution_count": 143,
   "id": "de77f1e9",
   "metadata": {},
   "outputs": [],
   "source": [
    "#merge datasets\n",
    "game_source = pd.merge(game, user, on='user_id', how='inner')"
   ]
  },
  {
   "cell_type": "code",
   "execution_count": 144,
   "id": "0528a4a7",
   "metadata": {},
   "outputs": [
    {
     "name": "stdout",
     "output_type": "stream",
     "text": [
      "<class 'pandas.core.frame.DataFrame'>\n",
      "Int64Index: 135639 entries, 0 to 135638\n",
      "Data columns (total 6 columns):\n",
      " #   Column          Non-Null Count   Dtype         \n",
      "---  ------          --------------   -----         \n",
      " 0   event_datetime  135639 non-null  datetime64[ns]\n",
      " 1   event           135639 non-null  object        \n",
      " 2   building_type   127956 non-null  object        \n",
      " 3   user_id         135639 non-null  object        \n",
      " 4   project_type    1866 non-null    object        \n",
      " 5   source          135639 non-null  object        \n",
      "dtypes: datetime64[ns](1), object(5)\n",
      "memory usage: 7.2+ MB\n"
     ]
    }
   ],
   "source": [
    "game_source.info()"
   ]
  },
  {
   "cell_type": "code",
   "execution_count": 145,
   "id": "ed395e00",
   "metadata": {},
   "outputs": [
    {
     "data": {
      "text/html": [
       "<div>\n",
       "<style scoped>\n",
       "    .dataframe tbody tr th:only-of-type {\n",
       "        vertical-align: middle;\n",
       "    }\n",
       "\n",
       "    .dataframe tbody tr th {\n",
       "        vertical-align: top;\n",
       "    }\n",
       "\n",
       "    .dataframe thead th {\n",
       "        text-align: right;\n",
       "    }\n",
       "</style>\n",
       "<table border=\"1\" class=\"dataframe\">\n",
       "  <thead>\n",
       "    <tr style=\"text-align: right;\">\n",
       "      <th></th>\n",
       "      <th>event_datetime</th>\n",
       "      <th>event</th>\n",
       "      <th>building_type</th>\n",
       "      <th>user_id</th>\n",
       "      <th>project_type</th>\n",
       "      <th>source</th>\n",
       "    </tr>\n",
       "  </thead>\n",
       "  <tbody>\n",
       "    <tr>\n",
       "      <th>0</th>\n",
       "      <td>2020-05-04 00:00:01</td>\n",
       "      <td>building</td>\n",
       "      <td>assembly_shop</td>\n",
       "      <td>55e92310-cb8e-4754-b622-597e124b03de</td>\n",
       "      <td>NaN</td>\n",
       "      <td>youtube_channel_reklama</td>\n",
       "    </tr>\n",
       "    <tr>\n",
       "      <th>1</th>\n",
       "      <td>2020-05-05 05:20:15</td>\n",
       "      <td>building</td>\n",
       "      <td>assembly_shop</td>\n",
       "      <td>55e92310-cb8e-4754-b622-597e124b03de</td>\n",
       "      <td>NaN</td>\n",
       "      <td>youtube_channel_reklama</td>\n",
       "    </tr>\n",
       "    <tr>\n",
       "      <th>2</th>\n",
       "      <td>2020-05-05 19:24:02</td>\n",
       "      <td>building</td>\n",
       "      <td>assembly_shop</td>\n",
       "      <td>55e92310-cb8e-4754-b622-597e124b03de</td>\n",
       "      <td>NaN</td>\n",
       "      <td>youtube_channel_reklama</td>\n",
       "    </tr>\n",
       "    <tr>\n",
       "      <th>3</th>\n",
       "      <td>2020-05-05 20:59:19</td>\n",
       "      <td>building</td>\n",
       "      <td>assembly_shop</td>\n",
       "      <td>55e92310-cb8e-4754-b622-597e124b03de</td>\n",
       "      <td>NaN</td>\n",
       "      <td>youtube_channel_reklama</td>\n",
       "    </tr>\n",
       "    <tr>\n",
       "      <th>4</th>\n",
       "      <td>2020-05-06 00:52:56</td>\n",
       "      <td>building</td>\n",
       "      <td>assembly_shop</td>\n",
       "      <td>55e92310-cb8e-4754-b622-597e124b03de</td>\n",
       "      <td>NaN</td>\n",
       "      <td>youtube_channel_reklama</td>\n",
       "    </tr>\n",
       "  </tbody>\n",
       "</table>\n",
       "</div>"
      ],
      "text/plain": [
       "       event_datetime     event  building_type  \\\n",
       "0 2020-05-04 00:00:01  building  assembly_shop   \n",
       "1 2020-05-05 05:20:15  building  assembly_shop   \n",
       "2 2020-05-05 19:24:02  building  assembly_shop   \n",
       "3 2020-05-05 20:59:19  building  assembly_shop   \n",
       "4 2020-05-06 00:52:56  building  assembly_shop   \n",
       "\n",
       "                                user_id project_type                   source  \n",
       "0  55e92310-cb8e-4754-b622-597e124b03de          NaN  youtube_channel_reklama  \n",
       "1  55e92310-cb8e-4754-b622-597e124b03de          NaN  youtube_channel_reklama  \n",
       "2  55e92310-cb8e-4754-b622-597e124b03de          NaN  youtube_channel_reklama  \n",
       "3  55e92310-cb8e-4754-b622-597e124b03de          NaN  youtube_channel_reklama  \n",
       "4  55e92310-cb8e-4754-b622-597e124b03de          NaN  youtube_channel_reklama  "
      ]
     },
     "execution_count": 145,
     "metadata": {},
     "output_type": "execute_result"
    }
   ],
   "source": [
    "game_source.head()"
   ]
  },
  {
   "cell_type": "markdown",
   "id": "23c9d561",
   "metadata": {},
   "source": [
    "**Now, each user is associated with the source from which they came and installed the application.**\n",
    "\n",
    "**Additionally, we will add a column indicating the user's strategy. It is known that users can:**\n",
    "\n",
    "1. Complete a project (PvE), in this case, the events preceding the level's completion will indicate the completed project \"Orbital Satellite Assembly.\"\n",
    "\n",
    "2. Eliminate an enemy, in this case, the level will be completed, but the project will not be executed.\n",
    "\n",
    "3. Not finish the level."
   ]
  },
  {
   "cell_type": "code",
   "execution_count": 146,
   "id": "60cbb5b2",
   "metadata": {},
   "outputs": [],
   "source": [
    "# determine strategy\n",
    "def determine_strategy(group):\n",
    "    if 'finished_stage_1' in group.values and 'project' not in group.values:\n",
    "        return 'war'\n",
    "    elif 'finished_stage_1' in group.values and 'project' in group.values:\n",
    "        return 'project'\n",
    "    else:\n",
    "        return 'not finished'\n",
    "\n",
    "# apply a function to groups grouped by 'user_id' and create a 'strategy' column.\n",
    "game_source['strategy'] = game_source.groupby('user_id')['event'].transform(determine_strategy).astype('object')"
   ]
  },
  {
   "cell_type": "code",
   "execution_count": 147,
   "id": "9031160d",
   "metadata": {},
   "outputs": [
    {
     "data": {
      "text/html": [
       "<div>\n",
       "<style scoped>\n",
       "    .dataframe tbody tr th:only-of-type {\n",
       "        vertical-align: middle;\n",
       "    }\n",
       "\n",
       "    .dataframe tbody tr th {\n",
       "        vertical-align: top;\n",
       "    }\n",
       "\n",
       "    .dataframe thead th {\n",
       "        text-align: right;\n",
       "    }\n",
       "</style>\n",
       "<table border=\"1\" class=\"dataframe\">\n",
       "  <thead>\n",
       "    <tr style=\"text-align: right;\">\n",
       "      <th></th>\n",
       "      <th>event_datetime</th>\n",
       "      <th>event</th>\n",
       "      <th>building_type</th>\n",
       "      <th>user_id</th>\n",
       "      <th>project_type</th>\n",
       "      <th>source</th>\n",
       "      <th>strategy</th>\n",
       "    </tr>\n",
       "  </thead>\n",
       "  <tbody>\n",
       "  </tbody>\n",
       "</table>\n",
       "</div>"
      ],
      "text/plain": [
       "Empty DataFrame\n",
       "Columns: [event_datetime, event, building_type, user_id, project_type, source, strategy]\n",
       "Index: []"
      ]
     },
     "execution_count": 147,
     "metadata": {},
     "output_type": "execute_result"
    }
   ],
   "source": [
    "#check that everyone who completed the level did not fall into 'not_finished'.\n",
    "game_source.query('strategy==\"not_finished\" and event==\"finished_stage_1\"')"
   ]
  },
  {
   "cell_type": "code",
   "execution_count": 148,
   "id": "fe2bbc43",
   "metadata": {},
   "outputs": [
    {
     "data": {
      "text/html": [
       "<div>\n",
       "<style scoped>\n",
       "    .dataframe tbody tr th:only-of-type {\n",
       "        vertical-align: middle;\n",
       "    }\n",
       "\n",
       "    .dataframe tbody tr th {\n",
       "        vertical-align: top;\n",
       "    }\n",
       "\n",
       "    .dataframe thead th {\n",
       "        text-align: right;\n",
       "    }\n",
       "</style>\n",
       "<table border=\"1\" class=\"dataframe\">\n",
       "  <thead>\n",
       "    <tr style=\"text-align: right;\">\n",
       "      <th></th>\n",
       "      <th>event_datetime</th>\n",
       "      <th>event</th>\n",
       "      <th>building_type</th>\n",
       "      <th>user_id</th>\n",
       "      <th>project_type</th>\n",
       "      <th>source</th>\n",
       "      <th>strategy</th>\n",
       "    </tr>\n",
       "  </thead>\n",
       "  <tbody>\n",
       "    <tr>\n",
       "      <th>127785</th>\n",
       "      <td>2020-05-17 22:48:25</td>\n",
       "      <td>building</td>\n",
       "      <td>research_center</td>\n",
       "      <td>ffff69cc-fec1-4fd3-9f98-93be1112a6b8</td>\n",
       "      <td>NaN</td>\n",
       "      <td>facebook_ads</td>\n",
       "      <td>project</td>\n",
       "    </tr>\n",
       "    <tr>\n",
       "      <th>127782</th>\n",
       "      <td>2020-05-15 08:36:25</td>\n",
       "      <td>building</td>\n",
       "      <td>spaceport</td>\n",
       "      <td>ffff69cc-fec1-4fd3-9f98-93be1112a6b8</td>\n",
       "      <td>NaN</td>\n",
       "      <td>facebook_ads</td>\n",
       "      <td>project</td>\n",
       "    </tr>\n",
       "    <tr>\n",
       "      <th>127790</th>\n",
       "      <td>2020-05-25 14:05:51</td>\n",
       "      <td>finished_stage_1</td>\n",
       "      <td>NaN</td>\n",
       "      <td>ffff69cc-fec1-4fd3-9f98-93be1112a6b8</td>\n",
       "      <td>NaN</td>\n",
       "      <td>facebook_ads</td>\n",
       "      <td>project</td>\n",
       "    </tr>\n",
       "    <tr>\n",
       "      <th>127789</th>\n",
       "      <td>2020-05-25 07:09:53</td>\n",
       "      <td>building</td>\n",
       "      <td>research_center</td>\n",
       "      <td>ffff69cc-fec1-4fd3-9f98-93be1112a6b8</td>\n",
       "      <td>NaN</td>\n",
       "      <td>facebook_ads</td>\n",
       "      <td>project</td>\n",
       "    </tr>\n",
       "    <tr>\n",
       "      <th>127788</th>\n",
       "      <td>2020-05-25 03:55:06</td>\n",
       "      <td>project</td>\n",
       "      <td>NaN</td>\n",
       "      <td>ffff69cc-fec1-4fd3-9f98-93be1112a6b8</td>\n",
       "      <td>satellite_orbital_assembly</td>\n",
       "      <td>facebook_ads</td>\n",
       "      <td>project</td>\n",
       "    </tr>\n",
       "    <tr>\n",
       "      <th>127787</th>\n",
       "      <td>2020-05-24 12:52:53</td>\n",
       "      <td>building</td>\n",
       "      <td>research_center</td>\n",
       "      <td>ffff69cc-fec1-4fd3-9f98-93be1112a6b8</td>\n",
       "      <td>NaN</td>\n",
       "      <td>facebook_ads</td>\n",
       "      <td>project</td>\n",
       "    </tr>\n",
       "    <tr>\n",
       "      <th>127786</th>\n",
       "      <td>2020-05-23 06:00:10</td>\n",
       "      <td>building</td>\n",
       "      <td>spaceport</td>\n",
       "      <td>ffff69cc-fec1-4fd3-9f98-93be1112a6b8</td>\n",
       "      <td>NaN</td>\n",
       "      <td>facebook_ads</td>\n",
       "      <td>project</td>\n",
       "    </tr>\n",
       "    <tr>\n",
       "      <th>127784</th>\n",
       "      <td>2020-05-16 11:39:58</td>\n",
       "      <td>building</td>\n",
       "      <td>spaceport</td>\n",
       "      <td>ffff69cc-fec1-4fd3-9f98-93be1112a6b8</td>\n",
       "      <td>NaN</td>\n",
       "      <td>facebook_ads</td>\n",
       "      <td>project</td>\n",
       "    </tr>\n",
       "    <tr>\n",
       "      <th>127783</th>\n",
       "      <td>2020-05-16 04:29:30</td>\n",
       "      <td>building</td>\n",
       "      <td>spaceport</td>\n",
       "      <td>ffff69cc-fec1-4fd3-9f98-93be1112a6b8</td>\n",
       "      <td>NaN</td>\n",
       "      <td>facebook_ads</td>\n",
       "      <td>project</td>\n",
       "    </tr>\n",
       "    <tr>\n",
       "      <th>127781</th>\n",
       "      <td>2020-05-13 10:59:39</td>\n",
       "      <td>building</td>\n",
       "      <td>spaceport</td>\n",
       "      <td>ffff69cc-fec1-4fd3-9f98-93be1112a6b8</td>\n",
       "      <td>NaN</td>\n",
       "      <td>facebook_ads</td>\n",
       "      <td>project</td>\n",
       "    </tr>\n",
       "    <tr>\n",
       "      <th>127780</th>\n",
       "      <td>2020-05-11 07:09:49</td>\n",
       "      <td>building</td>\n",
       "      <td>spaceport</td>\n",
       "      <td>ffff69cc-fec1-4fd3-9f98-93be1112a6b8</td>\n",
       "      <td>NaN</td>\n",
       "      <td>facebook_ads</td>\n",
       "      <td>project</td>\n",
       "    </tr>\n",
       "    <tr>\n",
       "      <th>127779</th>\n",
       "      <td>2020-05-09 20:56:03</td>\n",
       "      <td>building</td>\n",
       "      <td>assembly_shop</td>\n",
       "      <td>ffff69cc-fec1-4fd3-9f98-93be1112a6b8</td>\n",
       "      <td>NaN</td>\n",
       "      <td>facebook_ads</td>\n",
       "      <td>project</td>\n",
       "    </tr>\n",
       "    <tr>\n",
       "      <th>127778</th>\n",
       "      <td>2020-05-09 06:00:38</td>\n",
       "      <td>building</td>\n",
       "      <td>assembly_shop</td>\n",
       "      <td>ffff69cc-fec1-4fd3-9f98-93be1112a6b8</td>\n",
       "      <td>NaN</td>\n",
       "      <td>facebook_ads</td>\n",
       "      <td>project</td>\n",
       "    </tr>\n",
       "    <tr>\n",
       "      <th>127777</th>\n",
       "      <td>2020-05-08 06:57:30</td>\n",
       "      <td>building</td>\n",
       "      <td>assembly_shop</td>\n",
       "      <td>ffff69cc-fec1-4fd3-9f98-93be1112a6b8</td>\n",
       "      <td>NaN</td>\n",
       "      <td>facebook_ads</td>\n",
       "      <td>project</td>\n",
       "    </tr>\n",
       "  </tbody>\n",
       "</table>\n",
       "</div>"
      ],
      "text/plain": [
       "            event_datetime             event    building_type  \\\n",
       "127785 2020-05-17 22:48:25          building  research_center   \n",
       "127782 2020-05-15 08:36:25          building        spaceport   \n",
       "127790 2020-05-25 14:05:51  finished_stage_1              NaN   \n",
       "127789 2020-05-25 07:09:53          building  research_center   \n",
       "127788 2020-05-25 03:55:06           project              NaN   \n",
       "127787 2020-05-24 12:52:53          building  research_center   \n",
       "127786 2020-05-23 06:00:10          building        spaceport   \n",
       "127784 2020-05-16 11:39:58          building        spaceport   \n",
       "127783 2020-05-16 04:29:30          building        spaceport   \n",
       "127781 2020-05-13 10:59:39          building        spaceport   \n",
       "127780 2020-05-11 07:09:49          building        spaceport   \n",
       "127779 2020-05-09 20:56:03          building    assembly_shop   \n",
       "127778 2020-05-09 06:00:38          building    assembly_shop   \n",
       "127777 2020-05-08 06:57:30          building    assembly_shop   \n",
       "\n",
       "                                     user_id                project_type  \\\n",
       "127785  ffff69cc-fec1-4fd3-9f98-93be1112a6b8                         NaN   \n",
       "127782  ffff69cc-fec1-4fd3-9f98-93be1112a6b8                         NaN   \n",
       "127790  ffff69cc-fec1-4fd3-9f98-93be1112a6b8                         NaN   \n",
       "127789  ffff69cc-fec1-4fd3-9f98-93be1112a6b8                         NaN   \n",
       "127788  ffff69cc-fec1-4fd3-9f98-93be1112a6b8  satellite_orbital_assembly   \n",
       "127787  ffff69cc-fec1-4fd3-9f98-93be1112a6b8                         NaN   \n",
       "127786  ffff69cc-fec1-4fd3-9f98-93be1112a6b8                         NaN   \n",
       "127784  ffff69cc-fec1-4fd3-9f98-93be1112a6b8                         NaN   \n",
       "127783  ffff69cc-fec1-4fd3-9f98-93be1112a6b8                         NaN   \n",
       "127781  ffff69cc-fec1-4fd3-9f98-93be1112a6b8                         NaN   \n",
       "127780  ffff69cc-fec1-4fd3-9f98-93be1112a6b8                         NaN   \n",
       "127779  ffff69cc-fec1-4fd3-9f98-93be1112a6b8                         NaN   \n",
       "127778  ffff69cc-fec1-4fd3-9f98-93be1112a6b8                         NaN   \n",
       "127777  ffff69cc-fec1-4fd3-9f98-93be1112a6b8                         NaN   \n",
       "\n",
       "              source strategy  \n",
       "127785  facebook_ads  project  \n",
       "127782  facebook_ads  project  \n",
       "127790  facebook_ads  project  \n",
       "127789  facebook_ads  project  \n",
       "127788  facebook_ads  project  \n",
       "127787  facebook_ads  project  \n",
       "127786  facebook_ads  project  \n",
       "127784  facebook_ads  project  \n",
       "127783  facebook_ads  project  \n",
       "127781  facebook_ads  project  \n",
       "127780  facebook_ads  project  \n",
       "127779  facebook_ads  project  \n",
       "127778  facebook_ads  project  \n",
       "127777  facebook_ads  project  "
      ]
     },
     "execution_count": 148,
     "metadata": {},
     "output_type": "execute_result"
    }
   ],
   "source": [
    "#check the remaining conditions.\n",
    "game_source.sort_values(by='user_id', ascending=False).head(14)"
   ]
  },
  {
   "cell_type": "code",
   "execution_count": 149,
   "id": "72d24e4d",
   "metadata": {},
   "outputs": [
    {
     "data": {
      "text/html": [
       "<div>\n",
       "<style scoped>\n",
       "    .dataframe tbody tr th:only-of-type {\n",
       "        vertical-align: middle;\n",
       "    }\n",
       "\n",
       "    .dataframe tbody tr th {\n",
       "        vertical-align: top;\n",
       "    }\n",
       "\n",
       "    .dataframe thead th {\n",
       "        text-align: right;\n",
       "    }\n",
       "</style>\n",
       "<table border=\"1\" class=\"dataframe\">\n",
       "  <thead>\n",
       "    <tr style=\"text-align: right;\">\n",
       "      <th></th>\n",
       "      <th>event_datetime</th>\n",
       "      <th>event</th>\n",
       "      <th>building_type</th>\n",
       "      <th>user_id</th>\n",
       "      <th>project_type</th>\n",
       "      <th>source</th>\n",
       "      <th>strategy</th>\n",
       "      <th>first_day</th>\n",
       "      <th>last_day</th>\n",
       "      <th>duration</th>\n",
       "    </tr>\n",
       "  </thead>\n",
       "  <tbody>\n",
       "    <tr>\n",
       "      <th>1307</th>\n",
       "      <td>2020-05-04 00:22:48</td>\n",
       "      <td>building</td>\n",
       "      <td>assembly_shop</td>\n",
       "      <td>7ef7fc89-2779-46ea-b328-9e5035b83af5</td>\n",
       "      <td>NaN</td>\n",
       "      <td>facebook_ads</td>\n",
       "      <td>war</td>\n",
       "      <td>2020-05-04</td>\n",
       "      <td>2020-05-05</td>\n",
       "      <td>2</td>\n",
       "    </tr>\n",
       "    <tr>\n",
       "      <th>1308</th>\n",
       "      <td>2020-05-04 17:32:03</td>\n",
       "      <td>building</td>\n",
       "      <td>spaceport</td>\n",
       "      <td>7ef7fc89-2779-46ea-b328-9e5035b83af5</td>\n",
       "      <td>NaN</td>\n",
       "      <td>facebook_ads</td>\n",
       "      <td>war</td>\n",
       "      <td>2020-05-04</td>\n",
       "      <td>2020-05-05</td>\n",
       "      <td>2</td>\n",
       "    </tr>\n",
       "    <tr>\n",
       "      <th>1309</th>\n",
       "      <td>2020-05-05 13:22:09</td>\n",
       "      <td>finished_stage_1</td>\n",
       "      <td>NaN</td>\n",
       "      <td>7ef7fc89-2779-46ea-b328-9e5035b83af5</td>\n",
       "      <td>NaN</td>\n",
       "      <td>facebook_ads</td>\n",
       "      <td>war</td>\n",
       "      <td>2020-05-04</td>\n",
       "      <td>2020-05-05</td>\n",
       "      <td>2</td>\n",
       "    </tr>\n",
       "    <tr>\n",
       "      <th>3249</th>\n",
       "      <td>2020-05-04 00:57:02</td>\n",
       "      <td>building</td>\n",
       "      <td>assembly_shop</td>\n",
       "      <td>903fc9ef-ba97-4b12-9d5c-ac8d602fbd8b</td>\n",
       "      <td>NaN</td>\n",
       "      <td>youtube_channel_reklama</td>\n",
       "      <td>war</td>\n",
       "      <td>2020-05-04</td>\n",
       "      <td>2020-05-05</td>\n",
       "      <td>2</td>\n",
       "    </tr>\n",
       "    <tr>\n",
       "      <th>3250</th>\n",
       "      <td>2020-05-04 03:32:03</td>\n",
       "      <td>building</td>\n",
       "      <td>spaceport</td>\n",
       "      <td>903fc9ef-ba97-4b12-9d5c-ac8d602fbd8b</td>\n",
       "      <td>NaN</td>\n",
       "      <td>youtube_channel_reklama</td>\n",
       "      <td>war</td>\n",
       "      <td>2020-05-04</td>\n",
       "      <td>2020-05-05</td>\n",
       "      <td>2</td>\n",
       "    </tr>\n",
       "    <tr>\n",
       "      <th>...</th>\n",
       "      <td>...</td>\n",
       "      <td>...</td>\n",
       "      <td>...</td>\n",
       "      <td>...</td>\n",
       "      <td>...</td>\n",
       "      <td>...</td>\n",
       "      <td>...</td>\n",
       "      <td>...</td>\n",
       "      <td>...</td>\n",
       "      <td>...</td>\n",
       "    </tr>\n",
       "    <tr>\n",
       "      <th>133667</th>\n",
       "      <td>2020-05-09 21:18:48</td>\n",
       "      <td>building</td>\n",
       "      <td>assembly_shop</td>\n",
       "      <td>6ba5b56b-4bca-4896-81de-30d177d3a0c6</td>\n",
       "      <td>NaN</td>\n",
       "      <td>youtube_channel_reklama</td>\n",
       "      <td>not finished</td>\n",
       "      <td>2020-05-09</td>\n",
       "      <td>2020-05-10</td>\n",
       "      <td>2</td>\n",
       "    </tr>\n",
       "    <tr>\n",
       "      <th>133668</th>\n",
       "      <td>2020-05-10 19:18:43</td>\n",
       "      <td>building</td>\n",
       "      <td>spaceport</td>\n",
       "      <td>6ba5b56b-4bca-4896-81de-30d177d3a0c6</td>\n",
       "      <td>NaN</td>\n",
       "      <td>youtube_channel_reklama</td>\n",
       "      <td>not finished</td>\n",
       "      <td>2020-05-09</td>\n",
       "      <td>2020-05-10</td>\n",
       "      <td>2</td>\n",
       "    </tr>\n",
       "    <tr>\n",
       "      <th>134496</th>\n",
       "      <td>2020-05-10 06:40:21</td>\n",
       "      <td>building</td>\n",
       "      <td>assembly_shop</td>\n",
       "      <td>c9c45166-11da-49b0-9126-6c03c34ef3e8</td>\n",
       "      <td>NaN</td>\n",
       "      <td>yandex_direct</td>\n",
       "      <td>not finished</td>\n",
       "      <td>2020-05-10</td>\n",
       "      <td>2020-05-11</td>\n",
       "      <td>2</td>\n",
       "    </tr>\n",
       "    <tr>\n",
       "      <th>134497</th>\n",
       "      <td>2020-05-11 13:08:35</td>\n",
       "      <td>building</td>\n",
       "      <td>spaceport</td>\n",
       "      <td>c9c45166-11da-49b0-9126-6c03c34ef3e8</td>\n",
       "      <td>NaN</td>\n",
       "      <td>yandex_direct</td>\n",
       "      <td>not finished</td>\n",
       "      <td>2020-05-10</td>\n",
       "      <td>2020-05-11</td>\n",
       "      <td>2</td>\n",
       "    </tr>\n",
       "    <tr>\n",
       "      <th>134498</th>\n",
       "      <td>2020-05-11 19:34:44</td>\n",
       "      <td>building</td>\n",
       "      <td>spaceport</td>\n",
       "      <td>c9c45166-11da-49b0-9126-6c03c34ef3e8</td>\n",
       "      <td>NaN</td>\n",
       "      <td>yandex_direct</td>\n",
       "      <td>not finished</td>\n",
       "      <td>2020-05-10</td>\n",
       "      <td>2020-05-11</td>\n",
       "      <td>2</td>\n",
       "    </tr>\n",
       "  </tbody>\n",
       "</table>\n",
       "<p>192 rows × 10 columns</p>\n",
       "</div>"
      ],
      "text/plain": [
       "            event_datetime             event  building_type  \\\n",
       "1307   2020-05-04 00:22:48          building  assembly_shop   \n",
       "1308   2020-05-04 17:32:03          building      spaceport   \n",
       "1309   2020-05-05 13:22:09  finished_stage_1            NaN   \n",
       "3249   2020-05-04 00:57:02          building  assembly_shop   \n",
       "3250   2020-05-04 03:32:03          building      spaceport   \n",
       "...                    ...               ...            ...   \n",
       "133667 2020-05-09 21:18:48          building  assembly_shop   \n",
       "133668 2020-05-10 19:18:43          building      spaceport   \n",
       "134496 2020-05-10 06:40:21          building  assembly_shop   \n",
       "134497 2020-05-11 13:08:35          building      spaceport   \n",
       "134498 2020-05-11 19:34:44          building      spaceport   \n",
       "\n",
       "                                     user_id project_type  \\\n",
       "1307    7ef7fc89-2779-46ea-b328-9e5035b83af5          NaN   \n",
       "1308    7ef7fc89-2779-46ea-b328-9e5035b83af5          NaN   \n",
       "1309    7ef7fc89-2779-46ea-b328-9e5035b83af5          NaN   \n",
       "3249    903fc9ef-ba97-4b12-9d5c-ac8d602fbd8b          NaN   \n",
       "3250    903fc9ef-ba97-4b12-9d5c-ac8d602fbd8b          NaN   \n",
       "...                                      ...          ...   \n",
       "133667  6ba5b56b-4bca-4896-81de-30d177d3a0c6          NaN   \n",
       "133668  6ba5b56b-4bca-4896-81de-30d177d3a0c6          NaN   \n",
       "134496  c9c45166-11da-49b0-9126-6c03c34ef3e8          NaN   \n",
       "134497  c9c45166-11da-49b0-9126-6c03c34ef3e8          NaN   \n",
       "134498  c9c45166-11da-49b0-9126-6c03c34ef3e8          NaN   \n",
       "\n",
       "                         source      strategy   first_day    last_day  \\\n",
       "1307               facebook_ads           war  2020-05-04  2020-05-05   \n",
       "1308               facebook_ads           war  2020-05-04  2020-05-05   \n",
       "1309               facebook_ads           war  2020-05-04  2020-05-05   \n",
       "3249    youtube_channel_reklama           war  2020-05-04  2020-05-05   \n",
       "3250    youtube_channel_reklama           war  2020-05-04  2020-05-05   \n",
       "...                         ...           ...         ...         ...   \n",
       "133667  youtube_channel_reklama  not finished  2020-05-09  2020-05-10   \n",
       "133668  youtube_channel_reklama  not finished  2020-05-09  2020-05-10   \n",
       "134496            yandex_direct  not finished  2020-05-10  2020-05-11   \n",
       "134497            yandex_direct  not finished  2020-05-10  2020-05-11   \n",
       "134498            yandex_direct  not finished  2020-05-10  2020-05-11   \n",
       "\n",
       "        duration  \n",
       "1307           2  \n",
       "1308           2  \n",
       "1309           2  \n",
       "3249           2  \n",
       "3250           2  \n",
       "...          ...  \n",
       "133667         2  \n",
       "133668         2  \n",
       "134496         2  \n",
       "134497         2  \n",
       "134498         2  \n",
       "\n",
       "[192 rows x 10 columns]"
      ]
     },
     "execution_count": 149,
     "metadata": {},
     "output_type": "execute_result"
    }
   ],
   "source": [
    "# create columns 'first_day' and 'last_day', containing the first and last dates for each 'user_id'\n",
    "game_source['first_day'] = game_source.groupby('user_id')['event_datetime'].transform('min').dt.date\n",
    "game_source['last_day'] = game_source.groupby('user_id')['event_datetime'].transform('max').dt.date\n",
    "# number of days for each user_id\n",
    "game_source['duration'] = (game_source['last_day'] - game_source['first_day']).apply(lambda x: x.days + 1)\n",
    "game_source.query('duration==2') "
   ]
  },
  {
   "cell_type": "markdown",
   "id": "743cc736",
   "metadata": {},
   "source": [
    "**As a result, during the data preprocessing:**\n",
    "- Three datasets were loaded.\n",
    "- Missing values were handled, and data types were converted to the required format.\n",
    "- Duplicates were removed.\n",
    "- Tables were merged, creating a new column reflecting the user's strategy.\n",
    "- Columns with the first and last days in the game were added, along with the number of days."
   ]
  },
  {
   "cell_type": "markdown",
   "id": "adc41e2a",
   "metadata": {},
   "source": [
    "## Exploratory Analysis"
   ]
  },
  {
   "cell_type": "markdown",
   "id": "c57ecf37",
   "metadata": {},
   "source": [
    "### Users by Sources"
   ]
  },
  {
   "cell_type": "markdown",
   "id": "1b81ac25",
   "metadata": {},
   "source": [
    "First, let's take a look at the overall distribution of the number of events by days."
   ]
  },
  {
   "cell_type": "code",
   "execution_count": 150,
   "id": "cf233639",
   "metadata": {},
   "outputs": [
    {
     "data": {
      "image/png": "[encoded data removed]",
      "text/plain": [
       "<Figure size 1000x600 with 1 Axes>"
      ]
     },
     "metadata": {},
     "output_type": "display_data"
    }
   ],
   "source": [
    "daily_user_count = game_source.groupby(game_source['event_datetime'].dt.date)['user_id'].count()\n",
    "\n",
    "# hist\n",
    "plt.figure(figsize=(10, 6))\n",
    "plt.bar(daily_user_count.index, daily_user_count.values, width=0.8)\n",
    "plt.xlabel('Date')\n",
    "plt.ylabel('Number of Users')\n",
    "plt.title('Histogram of User Counts by Dates')\n",
    "plt.xticks(rotation=45)\n",
    "plt.tight_layout()\n",
    "plt.show()"
   ]
  },
  {
   "cell_type": "markdown",
   "id": "e81424fd",
   "metadata": {},
   "source": [
    "Since we are analyzing a cohort of users who joined the game between May 4th and May 10th, the histogram shows that the number of users is increasing until that date and then gradually starts to decrease.\n",
    "\n",
    "Let's create datasets for user acquisition channels and analyze the proportion of users acquired from different channels."
   ]
  },
  {
   "cell_type": "code",
   "execution_count": 151,
   "id": "839f2145",
   "metadata": {},
   "outputs": [],
   "source": [
    "youtube = game_source.query('source==\"youtube_channel_reklama\"')\n",
    "fb = game_source.query('source==\"facebook_ads\"')\n",
    "insta = game_source.query('source==\"instagram_new_adverts\"')\n",
    "ya = game_source.query('source==\"yandex_direct\"')"
   ]
  },
  {
   "cell_type": "code",
   "execution_count": 152,
   "id": "c47b5853",
   "metadata": {},
   "outputs": [
    {
     "data": {
      "image/png": "[encoded data removed]",
      "text/plain": [
       "<Figure size 600x600 with 1 Axes>"
      ]
     },
     "metadata": {},
     "output_type": "display_data"
    }
   ],
   "source": [
    "channels = [\"youtube_channel_reklama\", \"facebook_ads\", \"instagram_new_adverts\", \"yandex_direct\"]\n",
    "unique_users = [len(channel['user_id'].unique()) for channel in [youtube, fb, insta, ya]]\n",
    "\n",
    "# pie\n",
    "plt.figure(figsize=(6, 6))\n",
    "plt.pie(unique_users, labels=channels, autopct='%1.1f%%', startangle=140)\n",
    "plt.axis('equal')  \n",
    "plt.title(\"Share of Users from Different Sources\")\n",
    "plt.show()"
   ]
  },
  {
   "cell_type": "markdown",
   "id": "4f7ce9ae",
   "metadata": {},
   "source": [
    "The largest number of unique users in the cohort from May 4th to May 10th came from the Yandex channel, while YouTube was at the bottom. Let's see how the distribution has changed over the days."
   ]
  },
  {
   "cell_type": "code",
   "execution_count": 153,
   "id": "92b551eb",
   "metadata": {},
   "outputs": [
    {
     "data": {
      "image/png": "[encoded data removed]",
      "text/plain": [
       "<Figure size 1000x600 with 1 Axes>"
      ]
     },
     "metadata": {},
     "output_type": "display_data"
    }
   ],
   "source": [
    "# group the data by date and calculate the number of unique users for each channel.\n",
    "youtube_daily_users = youtube.groupby(youtube['event_datetime'].dt.date)['user_id'].nunique()\n",
    "fb_daily_users = fb.groupby(fb['event_datetime'].dt.date)['user_id'].nunique()\n",
    "insta_daily_users = insta.groupby(insta['event_datetime'].dt.date)['user_id'].nunique()\n",
    "ya_daily_users = ya.groupby(ya['event_datetime'].dt.date)['user_id'].nunique()\n",
    "\n",
    "# Combine the data into one DataFrame and fill in missing values with 0\n",
    "combined_data = pd.concat([youtube_daily_users, fb_daily_users, insta_daily_users, ya_daily_users], axis=1).fillna(0)\n",
    "combined_data.columns = ['YouTube', 'Facebook', 'Instagram', 'Yandex']\n",
    "\n",
    "# DataFrame with user shares by channels.\n",
    "channel_share = combined_data.div(combined_data.sum(axis=1), axis=0)\n",
    "\n",
    "fig, ax = plt.subplots(figsize=(10, 6))\n",
    "\n",
    "channel_share.plot(kind='bar', stacked=True, colormap='viridis', edgecolor='black', ax=ax)\n",
    "\n",
    "plt.xticks(rotation=45)\n",
    "plt.xlabel('Date')\n",
    "plt.ylabel('Share of Users by Channels')\n",
    "plt.legend(loc='upper left')\n",
    "plt.show()"
   ]
  },
  {
   "cell_type": "markdown",
   "id": "a89d6246",
   "metadata": {},
   "source": [
    "Overall, in the first 7 days, the shares remain stable, around 20% for YouTube, Facebook, and slightly more for Instagram. Yandex is around 30%. The increased volatility towards the end of the period is likely a result of fewer players during those days.\n",
    "\n",
    "Let's see which strategy users choose more often and how many of them did not complete the game."
   ]
  },
  {
   "cell_type": "code",
   "execution_count": 154,
   "id": "b11ac46e",
   "metadata": {},
   "outputs": [
    {
     "data": {
      "text/plain": [
       "source\n",
       "youtube_channel_reklama    2686\n",
       "facebook_ads               2726\n",
       "instagram_new_adverts      3347\n",
       "yandex_direct              4817\n",
       "Name: user_id, dtype: int64"
      ]
     },
     "execution_count": 154,
     "metadata": {},
     "output_type": "execute_result"
    }
   ],
   "source": [
    "game_source.groupby('source')['user_id'].nunique().sort_values()"
   ]
  },
  {
   "cell_type": "markdown",
   "id": "9f96a5d3",
   "metadata": {},
   "source": [
    "### Users by strategy"
   ]
  },
  {
   "cell_type": "code",
   "execution_count": 155,
   "id": "6b63e166",
   "metadata": {},
   "outputs": [
    {
     "data": {
      "image/png": "[encoded data removed]",
      "text/plain": [
       "<Figure size 600x600 with 1 Axes>"
      ]
     },
     "metadata": {},
     "output_type": "display_data"
    }
   ],
   "source": [
    "# Creating data for distributing users by strategies.\n",
    "strategy_counts = game_source['strategy'].value_counts()\n",
    "\n",
    "# Creating a pie chart \n",
    "plt.figure(figsize=(6, 6))\n",
    "plt.pie(strategy_counts, labels=strategy_counts.index, autopct='%1.1f%%', startangle=140)\n",
    "plt.axis('equal')  # with equal axes to create a circular diagram.\n",
    "plt.title('Users by Strategies')\n",
    "\n",
    "plt.show()"
   ]
  },
  {
   "cell_type": "markdown",
   "id": "1efb8708",
   "metadata": {},
   "source": [
    "Nearly half of all users did not complete the game, and the war strategy is more popular than the project strategy. Let's see if the shares change depending on the user acquisition channel."
   ]
  },
  {
   "cell_type": "code",
   "execution_count": 156,
   "id": "ede2b788",
   "metadata": {},
   "outputs": [
    {
     "data": {
      "image/png": "[encoded data removed]",
      "text/plain": [
       "<Figure size 600x600 with 4 Axes>"
      ]
     },
     "metadata": {},
     "output_type": "display_data"
    }
   ],
   "source": [
    "channel_names = ['YouTube', 'Facebook', 'Instagram', 'Yandex']\n",
    "# Creating subsets for each of the strategies\n",
    "strategies = ['war', 'project', 'not finished']\n",
    "\n",
    "# Determining the number of rows and columns for arranging the plots\n",
    "rows = 2\n",
    "columns = 2\n",
    "\n",
    "# Creating the figure and subplots\n",
    "fig, axs = plt.subplots(rows, columns, figsize=(6, 6))\n",
    "\n",
    "# Iterate through the channels and create pie charts.\n",
    "for i, channel in enumerate(channels):\n",
    "    channel_data = game_source.query(f'source == \"{channel}\"')\n",
    "    channel_strategies = [channel_data.query(f'strategy == \"{strategy}\"')['user_id'].nunique() for strategy in strategies]\n",
    "    ax = axs[i // columns, i % columns]  # Selecting the appropriate subplot.\n",
    "    ax.pie(channel_strategies, labels=strategies, autopct='%1.1f%%', startangle=140)\n",
    "    ax.axis('equal')\n",
    "    ax.set_title(channel_names[i])\n",
    "\n",
    "plt.tight_layout()\n",
    "plt.show()"
   ]
  },
  {
   "cell_type": "markdown",
   "id": "6385f761",
   "metadata": {},
   "source": [
    "We can see that the proportion of users choosing different strategies varies insignificantly depending on the channel. Let's test the hypothesis:\n",
    "- Null Hypothesis (H0): The choice of strategy is independent of the user acquisition channel. In other words, the user acquisition channel and the choice of strategy are independent.\n",
    "- Alternative Hypothesis (H1): The choice of strategy depends on the user acquisition channel."
   ]
  },
  {
   "cell_type": "code",
   "execution_count": 157,
   "id": "b0917265",
   "metadata": {},
   "outputs": [
    {
     "name": "stdout",
     "output_type": "stream",
     "text": [
      "There is no statistically significant dependency between the choice of strategy and the user acquisition channel.\n"
     ]
    }
   ],
   "source": [
    "# Create a cross-table with unique user_id\n",
    "cross_table = pd.crosstab(game_source['source'], game_source['strategy'], values=game_source['user_id'], aggfunc='nunique')\n",
    "\n",
    "# Perform a chi-square test\n",
    "chi2, p, dof, expected = chi2_contingency(cross_table)\n",
    "\n",
    "# Assess the statistical significance\n",
    "if p < 0.05:\n",
    "    print(\"There is a statistically significant dependency between the choice of strategy and the user acquisition channel.\")\n",
    "else:\n",
    "    print(\"There is no statistically significant dependency between the choice of strategy and the user acquisition channel.\")"
   ]
  },
  {
   "cell_type": "markdown",
   "id": "927d8758",
   "metadata": {},
   "source": [
    "The null hypothesis has been confirmed; there is no dependency."
   ]
  },
  {
   "cell_type": "markdown",
   "id": "cc88688a",
   "metadata": {},
   "source": [
    "### Users by the number of events per day."
   ]
  },
  {
   "cell_type": "code",
   "execution_count": 158,
   "id": "c4a7540b",
   "metadata": {},
   "outputs": [
    {
     "data": {
      "text/html": [
       "<div>\n",
       "<style scoped>\n",
       "    .dataframe tbody tr th:only-of-type {\n",
       "        vertical-align: middle;\n",
       "    }\n",
       "\n",
       "    .dataframe tbody tr th {\n",
       "        vertical-align: top;\n",
       "    }\n",
       "\n",
       "    .dataframe thead th {\n",
       "        text-align: right;\n",
       "    }\n",
       "</style>\n",
       "<table border=\"1\" class=\"dataframe\">\n",
       "  <thead>\n",
       "    <tr style=\"text-align: right;\">\n",
       "      <th></th>\n",
       "      <th>event_datetime</th>\n",
       "      <th>event</th>\n",
       "    </tr>\n",
       "  </thead>\n",
       "  <tbody>\n",
       "    <tr>\n",
       "      <th>0</th>\n",
       "      <td>2020-05-04</td>\n",
       "      <td>8171</td>\n",
       "    </tr>\n",
       "    <tr>\n",
       "      <th>1</th>\n",
       "      <td>2020-05-05</td>\n",
       "      <td>9055</td>\n",
       "    </tr>\n",
       "    <tr>\n",
       "      <th>2</th>\n",
       "      <td>2020-05-06</td>\n",
       "      <td>9925</td>\n",
       "    </tr>\n",
       "    <tr>\n",
       "      <th>3</th>\n",
       "      <td>2020-05-07</td>\n",
       "      <td>10858</td>\n",
       "    </tr>\n",
       "    <tr>\n",
       "      <th>4</th>\n",
       "      <td>2020-05-08</td>\n",
       "      <td>12059</td>\n",
       "    </tr>\n",
       "  </tbody>\n",
       "</table>\n",
       "</div>"
      ],
      "text/plain": [
       "  event_datetime  event\n",
       "0     2020-05-04   8171\n",
       "1     2020-05-05   9055\n",
       "2     2020-05-06   9925\n",
       "3     2020-05-07  10858\n",
       "4     2020-05-08  12059"
      ]
     },
     "execution_count": 158,
     "metadata": {},
     "output_type": "execute_result"
    }
   ],
   "source": [
    "# group the data by day and 'user_id' and count the number of events.\n",
    "daily_event_counts = game_source.groupby([game_source['event_datetime'].dt.date])['event'].count().reset_index()\n",
    "daily_event_counts.head()"
   ]
  },
  {
   "cell_type": "code",
   "execution_count": 159,
   "id": "edc6d151",
   "metadata": {},
   "outputs": [
    {
     "data": {
      "text/html": [
       "<div>\n",
       "<style scoped>\n",
       "    .dataframe tbody tr th:only-of-type {\n",
       "        vertical-align: middle;\n",
       "    }\n",
       "\n",
       "    .dataframe tbody tr th {\n",
       "        vertical-align: top;\n",
       "    }\n",
       "\n",
       "    .dataframe thead th {\n",
       "        text-align: right;\n",
       "    }\n",
       "</style>\n",
       "<table border=\"1\" class=\"dataframe\">\n",
       "  <thead>\n",
       "    <tr style=\"text-align: right;\">\n",
       "      <th></th>\n",
       "      <th>event_datetime</th>\n",
       "      <th>user_id</th>\n",
       "    </tr>\n",
       "  </thead>\n",
       "  <tbody>\n",
       "    <tr>\n",
       "      <th>0</th>\n",
       "      <td>2020-05-04</td>\n",
       "      <td>5860</td>\n",
       "    </tr>\n",
       "    <tr>\n",
       "      <th>1</th>\n",
       "      <td>2020-05-05</td>\n",
       "      <td>6382</td>\n",
       "    </tr>\n",
       "    <tr>\n",
       "      <th>2</th>\n",
       "      <td>2020-05-06</td>\n",
       "      <td>6854</td>\n",
       "    </tr>\n",
       "    <tr>\n",
       "      <th>3</th>\n",
       "      <td>2020-05-07</td>\n",
       "      <td>7384</td>\n",
       "    </tr>\n",
       "    <tr>\n",
       "      <th>4</th>\n",
       "      <td>2020-05-08</td>\n",
       "      <td>7891</td>\n",
       "    </tr>\n",
       "  </tbody>\n",
       "</table>\n",
       "</div>"
      ],
      "text/plain": [
       "  event_datetime  user_id\n",
       "0     2020-05-04     5860\n",
       "1     2020-05-05     6382\n",
       "2     2020-05-06     6854\n",
       "3     2020-05-07     7384\n",
       "4     2020-05-08     7891"
      ]
     },
     "execution_count": 159,
     "metadata": {},
     "output_type": "execute_result"
    }
   ],
   "source": [
    "daily_user_counts = game_source.groupby([game_source['event_datetime'].dt.date])['user_id'].nunique().reset_index()\n",
    "daily_user_counts.head()"
   ]
  },
  {
   "cell_type": "code",
   "execution_count": 160,
   "id": "4f64ebb4",
   "metadata": {},
   "outputs": [
    {
     "data": {
      "text/html": [
       "<div>\n",
       "<style scoped>\n",
       "    .dataframe tbody tr th:only-of-type {\n",
       "        vertical-align: middle;\n",
       "    }\n",
       "\n",
       "    .dataframe tbody tr th {\n",
       "        vertical-align: top;\n",
       "    }\n",
       "\n",
       "    .dataframe thead th {\n",
       "        text-align: right;\n",
       "    }\n",
       "</style>\n",
       "<table border=\"1\" class=\"dataframe\">\n",
       "  <thead>\n",
       "    <tr style=\"text-align: right;\">\n",
       "      <th></th>\n",
       "      <th>event_per_user</th>\n",
       "      <th>user_count</th>\n",
       "    </tr>\n",
       "  </thead>\n",
       "  <tbody>\n",
       "    <tr>\n",
       "      <th>30</th>\n",
       "      <td>1.649528</td>\n",
       "      <td>9219</td>\n",
       "    </tr>\n",
       "    <tr>\n",
       "      <th>29</th>\n",
       "      <td>1.564093</td>\n",
       "      <td>8394</td>\n",
       "    </tr>\n",
       "    <tr>\n",
       "      <th>28</th>\n",
       "      <td>1.528197</td>\n",
       "      <td>7891</td>\n",
       "    </tr>\n",
       "    <tr>\n",
       "      <th>27</th>\n",
       "      <td>1.470477</td>\n",
       "      <td>7384</td>\n",
       "    </tr>\n",
       "    <tr>\n",
       "      <th>26</th>\n",
       "      <td>1.448060</td>\n",
       "      <td>6854</td>\n",
       "    </tr>\n",
       "  </tbody>\n",
       "</table>\n",
       "</div>"
      ],
      "text/plain": [
       "    event_per_user  user_count\n",
       "30        1.649528        9219\n",
       "29        1.564093        8394\n",
       "28        1.528197        7891\n",
       "27        1.470477        7384\n",
       "26        1.448060        6854"
      ]
     },
     "execution_count": 160,
     "metadata": {},
     "output_type": "execute_result"
    }
   ],
   "source": [
    "data = daily_event_counts.merge(daily_user_counts, on='event_datetime')\n",
    "\n",
    "# rename columns\n",
    "data.columns = ['date', 'event_count', 'user_count']\n",
    "\n",
    "# new column\n",
    "data['event_per_user'] = data['event_count'] / data['user_count']\n",
    "grouped_data = data.groupby('event_per_user')['user_count'].sum().reset_index().sort_values(by='user_count', ascending=False)\n",
    "grouped_data.head()"
   ]
  },
  {
   "cell_type": "markdown",
   "id": "2b3d607b",
   "metadata": {},
   "source": [
    "Users access the game between 1.21 and 1.64 times. There is very little variation."
   ]
  },
  {
   "cell_type": "markdown",
   "id": "63729325",
   "metadata": {},
   "source": [
    "### Buildings"
   ]
  },
  {
   "cell_type": "code",
   "execution_count": 161,
   "id": "03672d04",
   "metadata": {},
   "outputs": [
    {
     "data": {
      "image/png": "[encoded data removed]",
      "text/plain": [
       "<Figure size 600x600 with 1 Axes>"
      ]
     },
     "metadata": {},
     "output_type": "display_data"
    }
   ],
   "source": [
    "building_type_counts = game_source['building_type'].value_counts()\n",
    "\n",
    "# pie\n",
    "plt.figure(figsize=(6, 6))\n",
    "plt.pie(building_type_counts, labels=building_type_counts.index, autopct='%1.1f%%', startangle=140)\n",
    "plt.axis('equal')  \n",
    "plt.title('Distribution by Building Type')\n",
    "\n",
    "plt.show()"
   ]
  },
  {
   "cell_type": "code",
   "execution_count": 162,
   "id": "8b1ebe2b",
   "metadata": {},
   "outputs": [
    {
     "data": {
      "image/png": "[encoded data removed]",
      "text/plain": [
       "<Figure size 800x800 with 4 Axes>"
      ]
     },
     "metadata": {},
     "output_type": "display_data"
    }
   ],
   "source": [
    "fig, axs = plt.subplots(rows, columns, figsize=(8, 8))\n",
    "\n",
    "for i, channel in enumerate(channels):\n",
    "    channel_data = game_source.query(f'source == \"{channel}\"')\n",
    "    building_type_counts = channel_data['building_type'].value_counts()\n",
    "    ax = axs[i // columns, i % columns]\n",
    "    ax.pie(building_type_counts, labels=building_type_counts.index, autopct='%1.1f%%', startangle=140)\n",
    "    ax.axis('equal')\n",
    "    ax.set_title(channel_names[i])\n",
    "\n",
    "plt.tight_layout()\n",
    "plt.show()"
   ]
  },
  {
   "cell_type": "markdown",
   "id": "003ec6f6",
   "metadata": {},
   "source": [
    "Users generally prefer to build spaceports for recruiting armies, which is logical considering that warfare is the predominant strategy. Assembly workshops are also built in large numbers and occupy the second-largest portion of the pie. Only 11% is attributed to the research center."
   ]
  },
  {
   "cell_type": "code",
   "execution_count": 163,
   "id": "11670223",
   "metadata": {},
   "outputs": [
    {
     "data": {
      "text/html": [
       "<div>\n",
       "<style scoped>\n",
       "    .dataframe tbody tr th:only-of-type {\n",
       "        vertical-align: middle;\n",
       "    }\n",
       "\n",
       "    .dataframe tbody tr th {\n",
       "        vertical-align: top;\n",
       "    }\n",
       "\n",
       "    .dataframe thead th {\n",
       "        text-align: right;\n",
       "    }\n",
       "</style>\n",
       "<table border=\"1\" class=\"dataframe\">\n",
       "  <thead>\n",
       "    <tr style=\"text-align: right;\">\n",
       "      <th></th>\n",
       "      <th>source</th>\n",
       "      <th>building</th>\n",
       "      <th>total_users</th>\n",
       "      <th>avg_buildings</th>\n",
       "    </tr>\n",
       "  </thead>\n",
       "  <tbody>\n",
       "    <tr>\n",
       "      <th>3</th>\n",
       "      <td>youtube_channel_reklama</td>\n",
       "      <td>24978</td>\n",
       "      <td>2686</td>\n",
       "      <td>9.30</td>\n",
       "    </tr>\n",
       "    <tr>\n",
       "      <th>2</th>\n",
       "      <td>yandex_direct</td>\n",
       "      <td>45032</td>\n",
       "      <td>4817</td>\n",
       "      <td>9.35</td>\n",
       "    </tr>\n",
       "    <tr>\n",
       "      <th>1</th>\n",
       "      <td>instagram_new_adverts</td>\n",
       "      <td>31815</td>\n",
       "      <td>3347</td>\n",
       "      <td>9.51</td>\n",
       "    </tr>\n",
       "    <tr>\n",
       "      <th>0</th>\n",
       "      <td>facebook_ads</td>\n",
       "      <td>26131</td>\n",
       "      <td>2726</td>\n",
       "      <td>9.59</td>\n",
       "    </tr>\n",
       "  </tbody>\n",
       "</table>\n",
       "</div>"
      ],
      "text/plain": [
       "                    source  building  total_users  avg_buildings\n",
       "3  youtube_channel_reklama     24978         2686           9.30\n",
       "2            yandex_direct     45032         4817           9.35\n",
       "1    instagram_new_adverts     31815         3347           9.51\n",
       "0             facebook_ads     26131         2726           9.59"
      ]
     },
     "execution_count": 163,
     "metadata": {},
     "output_type": "execute_result"
    }
   ],
   "source": [
    "# filtr 'building'\n",
    "building_data = game_source[game_source['event'] == 'building']\n",
    "\n",
    "# filtr by 'source' and count users\n",
    "building_users_by_source = building_data.groupby('source')['user_id'].count().reset_index()\n",
    "building_users_by_source.rename(columns={'user_id': 'building'}, inplace=True)\n",
    "\n",
    "# group by 'source'\n",
    "total_users_by_source = game_source.groupby('source')['user_id'].nunique().reset_index()\n",
    "total_users_by_source.rename(columns={'user_id': 'total_users'}, inplace=True)\n",
    "\n",
    "# merge\n",
    "result = pd.merge(building_users_by_source, total_users_by_source, on='source')\n",
    "\n",
    "# add a column for the 'building' share, as a percentage of the total.\n",
    "result['avg_buildings'] = result['building']/result['total_users']\n",
    "result.sort_values(by='avg_buildings').round(2)"
   ]
  },
  {
   "cell_type": "markdown",
   "id": "2b329e87",
   "metadata": {},
   "source": [
    "It appears that, on average, there are 9 building constructions per unique user, with Facebook users being more active builders compared to users from YouTube, who build slightly less."
   ]
  },
  {
   "cell_type": "code",
   "execution_count": 164,
   "id": "fb3ca40c",
   "metadata": {},
   "outputs": [
    {
     "data": {
      "image/png": "[encoded data removed]",
      "text/plain": [
       "<Figure size 1000x600 with 1 Axes>"
      ]
     },
     "metadata": {},
     "output_type": "display_data"
    }
   ],
   "source": [
    "# group the data by 'user_id' and count the number of constructed buildings for each user\n",
    "user_building_counts = building_data.groupby('user_id')['event'].count()\n",
    "\n",
    "bin_range = range(0, 21)\n",
    "\n",
    "# hist\n",
    "plt.figure(figsize=(10, 6))\n",
    "plt.hist(user_building_counts, bins=bin_range, color='skyblue', edgecolor='black')\n",
    "plt.xlabel('Number of buildings')\n",
    "plt.ylabel('Number of Users')\n",
    "plt.title('Distribution of Users by Number of buildings')\n",
    "plt.xticks(bin_range)\n",
    "plt.grid(True)\n",
    "\n",
    "plt.show()"
   ]
  },
  {
   "cell_type": "markdown",
   "id": "b566fffe",
   "metadata": {},
   "source": [
    "Users most commonly build 10, 11, 9, or 6 buildings. Additionally, the distribution of buildings per unique user is nearly identical across different user acquisition channels."
   ]
  },
  {
   "cell_type": "markdown",
   "id": "3fe9bb48",
   "metadata": {},
   "source": [
    "[Tableau](https://public.tableau.com/app/profile/tatyana.mayorova/viz/NumberofBuildingsbyUsers/Dashboard1)"
   ]
  },
  {
   "cell_type": "markdown",
   "id": "d1168152",
   "metadata": {},
   "source": [
    "### Level completion"
   ]
  },
  {
   "cell_type": "code",
   "execution_count": 165,
   "id": "47370286",
   "metadata": {},
   "outputs": [
    {
     "data": {
      "image/png": "[encoded data removed]",
      "text/plain": [
       "<Figure size 800x600 with 1 Axes>"
      ]
     },
     "metadata": {},
     "output_type": "display_data"
    }
   ],
   "source": [
    "finished_users = game_source[game_source['event'] == 'finished_stage_1']['user_id'].nunique()\n",
    "not_finished_users = game_source[game_source['strategy'] == 'not finished']['user_id'].nunique()\n",
    "data = [finished_users, not_finished_users]\n",
    "labels = ['Finished', 'Not Finished']\n",
    "colors = ['#FF9999', '#66B2FF']\n",
    "\n",
    "plt.figure(figsize=(8, 6))\n",
    "plt.pie(data, labels=labels, colors=colors, autopct='%1.1f%%', startangle=140)\n",
    "plt.axis('equal')  \n",
    "plt.title('Distribution of Users by Level Completion Status')\n",
    "\n",
    "plt.show()"
   ]
  },
  {
   "cell_type": "code",
   "execution_count": 166,
   "id": "2dd1423b",
   "metadata": {},
   "outputs": [
    {
     "data": {
      "image/png": "[encoded data removed]",
      "text/plain": [
       "<Figure size 1200x600 with 1 Axes>"
      ]
     },
     "metadata": {},
     "output_type": "display_data"
    }
   ],
   "source": [
    "# Create a figure and axes for the graph\n",
    "fig, ax = plt.subplots(figsize=(12, 6))\n",
    "\n",
    "# Create a list of data by channels.\n",
    "channel_data_list = [youtube, fb, insta, ya]\n",
    "channel_names = [\"YouTube\", \"Facebook\", \"Instagram\", \"Yandex Direct\"]\n",
    "\n",
    "# Iterate through each channel and create lines for the graph.\n",
    "for i, channel_data in enumerate(channel_data_list):\n",
    "    finished_users = channel_data[channel_data['event'] == 'finished_stage_1'].groupby(channel_data['event_datetime'].dt.date)['user_id'].nunique().reset_index()\n",
    "    ax.plot(finished_users['event_datetime'], finished_users['user_id'], label=channel_names[i])\n",
    "\n",
    "# Adjusting the appearance of the graph.\n",
    "ax.set_xlabel('Day')\n",
    "ax.set_ylabel('Number of Users')\n",
    "ax.set_title('Number of Users Completing Level by Days and Channels')\n",
    "ax.legend()\n",
    "\n",
    "plt.grid(True)\n",
    "plt.show()"
   ]
  },
  {
   "cell_type": "markdown",
   "id": "75d9ea95",
   "metadata": {},
   "source": [
    "The graph shows that the peak in the number of level completions occurs around the 14th to the 17th day for users who started the game between May 4th and May 10th."
   ]
  },
  {
   "cell_type": "code",
   "execution_count": 167,
   "id": "e448d977",
   "metadata": {},
   "outputs": [
    {
     "data": {
      "text/html": [
       "<div>\n",
       "<style scoped>\n",
       "    .dataframe tbody tr th:only-of-type {\n",
       "        vertical-align: middle;\n",
       "    }\n",
       "\n",
       "    .dataframe tbody tr th {\n",
       "        vertical-align: top;\n",
       "    }\n",
       "\n",
       "    .dataframe thead th {\n",
       "        text-align: right;\n",
       "    }\n",
       "</style>\n",
       "<table border=\"1\" class=\"dataframe\">\n",
       "  <thead>\n",
       "    <tr style=\"text-align: right;\">\n",
       "      <th></th>\n",
       "      <th>source</th>\n",
       "      <th>user_id_finished</th>\n",
       "      <th>user_id_total</th>\n",
       "      <th>share</th>\n",
       "    </tr>\n",
       "  </thead>\n",
       "  <tbody>\n",
       "    <tr>\n",
       "      <th>1</th>\n",
       "      <td>instagram_new_adverts</td>\n",
       "      <td>1466</td>\n",
       "      <td>3347</td>\n",
       "      <td>0.438</td>\n",
       "    </tr>\n",
       "    <tr>\n",
       "      <th>3</th>\n",
       "      <td>youtube_channel_reklama</td>\n",
       "      <td>1159</td>\n",
       "      <td>2686</td>\n",
       "      <td>0.431</td>\n",
       "    </tr>\n",
       "    <tr>\n",
       "      <th>2</th>\n",
       "      <td>yandex_direct</td>\n",
       "      <td>2042</td>\n",
       "      <td>4817</td>\n",
       "      <td>0.424</td>\n",
       "    </tr>\n",
       "    <tr>\n",
       "      <th>0</th>\n",
       "      <td>facebook_ads</td>\n",
       "      <td>1150</td>\n",
       "      <td>2726</td>\n",
       "      <td>0.422</td>\n",
       "    </tr>\n",
       "  </tbody>\n",
       "</table>\n",
       "</div>"
      ],
      "text/plain": [
       "                    source  user_id_finished  user_id_total  share\n",
       "1    instagram_new_adverts              1466           3347  0.438\n",
       "3  youtube_channel_reklama              1159           2686  0.431\n",
       "2            yandex_direct              2042           4817  0.424\n",
       "0             facebook_ads              1150           2726  0.422"
      ]
     },
     "execution_count": 167,
     "metadata": {},
     "output_type": "execute_result"
    }
   ],
   "source": [
    "# Calculate the total number of users for each channel.\n",
    "total_users_by_source = game_source.groupby('source')['user_id'].nunique().reset_index()\n",
    "filtered_data = game_source.query('event == \"finished_stage_1\"')\n",
    "# Calculate the number of unique users who completed the level for each channel.\n",
    "finished_users_by_source = filtered_data.groupby('source')['user_id'].nunique().reset_index()\n",
    "\n",
    "# merge\n",
    "merged_data = finished_users_by_source.merge(total_users_by_source, on='source', suffixes=('_finished', '_total'))\n",
    "\n",
    "# Calculate the proportion of players who completed the game out of the total number.\n",
    "merged_data['share'] = merged_data['user_id_finished'] / merged_data['user_id_total']\n",
    "\n",
    "# sort\n",
    "merged_data.sort_values(by='share', ascending=False).round(3)"
   ]
  },
  {
   "cell_type": "markdown",
   "id": "9859f8e0",
   "metadata": {},
   "source": [
    "Despite there being more level completions among users who came from Yandex Direct, the proportion of such users by channels is nearly the same. Let's examine how the number of buildings constructed differs between users who completed the level and those who didn't."
   ]
  },
  {
   "cell_type": "code",
   "execution_count": 168,
   "id": "4b6ccac8",
   "metadata": {},
   "outputs": [
    {
     "name": "stdout",
     "output_type": "stream",
     "text": [
      "Median number of buildings constructed by users who completed the level: 12.00\n",
      "Median number of buildings constructed by users who did not complete the level: 8.00\n"
     ]
    }
   ],
   "source": [
    "# Filter the data for those who completed the level and those who did not\n",
    "finished = game_source[game_source['event'] == 'finished_stage_1']\n",
    "not_finished = game_source[game_source['strategy'] == 'not finished']\n",
    "\n",
    "# Group the data for users who built buildings\n",
    "building_users = game_source[game_source['event'] == 'building']['user_id']\n",
    "\n",
    "# Find the intersection of users who completed the level and those who built buildings\n",
    "finished_building_users = set(finished['user_id']) & set(building_users)\n",
    "not_finished_building_users = set(not_finished['user_id']) & set(building_users)\n",
    "\n",
    "# Calculate the median number of buildings constructed for both groups\n",
    "build_finished = game_source[game_source['user_id'].isin(finished_building_users)]['user_id'].value_counts().median()\n",
    "build_not_finished = game_source[game_source['user_id'].isin(not_finished_building_users)]['user_id'].value_counts().median()\n",
    "\n",
    "# Display the results\n",
    "print(f\"Median number of buildings constructed by users who completed the level: {build_finished:.2f}\")\n",
    "print(f\"Median number of buildings constructed by users who did not complete the level: {build_not_finished:.2f}\")"
   ]
  },
  {
   "cell_type": "markdown",
   "id": "158d83a4",
   "metadata": {},
   "source": [
    "### Duration"
   ]
  },
  {
   "cell_type": "code",
   "execution_count": 169,
   "id": "4bff2cfe",
   "metadata": {},
   "outputs": [
    {
     "data": {
      "image/png": "[encoded data removed]",
      "text/plain": [
       "<Figure size 1200x600 with 2 Axes>"
      ]
     },
     "metadata": {},
     "output_type": "display_data"
    }
   ],
   "source": [
    "fig, axes = plt.subplots(1, 2, figsize=(12, 6))\n",
    "\n",
    "# hist\n",
    "sns.histplot(data=game_source, x='duration', bins=30, kde=True, ax=axes[0])\n",
    "axes[0].set_title('Duration Histogram')\n",
    "axes[0].set_xlabel('Duration')\n",
    "axes[0].set_ylabel('Frequency')\n",
    "\n",
    "# Box plot\n",
    "sns.boxplot(data=game_source, y='duration', ax=axes[1])\n",
    "axes[1].set_title('Box Plot for Duration')\n",
    "axes[1].set_ylabel('Duration')\n",
    "\n",
    "# display\n",
    "plt.tight_layout()\n",
    "plt.show()"
   ]
  },
  {
   "cell_type": "markdown",
   "id": "e4b56a01",
   "metadata": {},
   "source": [
    "The majority of users spend between 9 to 13 days in the game."
   ]
  },
  {
   "cell_type": "code",
   "execution_count": 170,
   "id": "dcc8519a",
   "metadata": {},
   "outputs": [
    {
     "data": {
      "image/png": "[encoded data removed]",
      "text/plain": [
       "<Figure size 1200x600 with 2 Axes>"
      ]
     },
     "metadata": {},
     "output_type": "display_data"
    }
   ],
   "source": [
    "fig, axes = plt.subplots(1, 2, figsize=(12, 6))\n",
    "\n",
    "# hist for 'ya' and 'fb'\n",
    "sns.histplot(data=ya, x='duration', bins=30, kde=True, ax=axes[0], label='ya')\n",
    "sns.histplot(data=fb, x='duration', bins=30, kde=True, ax=axes[0], label='fb')\n",
    "axes[0].set_title('Duration Histogram for Yandex and FB')\n",
    "axes[0].set_xlabel('Duration')\n",
    "axes[0].set_ylabel('Frequency')\n",
    "axes[0].legend()\n",
    "\n",
    "# Histogram for 'insta' and 'youtube' channels\n",
    "sns.histplot(data=insta, x='duration', bins=30, kde=True, ax=axes[1], label='insta')\n",
    "sns.histplot(data=youtube, x='duration', bins=30, kde=True, ax=axes[1], label='youtube')\n",
    "axes[1].set_title('Duration Histogram for Insta and Youtube')\n",
    "axes[1].set_xlabel('Duration')\n",
    "axes[1].set_ylabel('Frequency')\n",
    "\n",
    "# standardize the Y-axis scales.\n",
    "axes[0].set_ylim([0, max(axes[0].get_ylim()[1], axes[1].get_ylim()[1])])\n",
    "axes[1].set_ylim([0, max(axes[0].get_ylim()[1], axes[1].get_ylim()[1])])\n",
    "\n",
    "plt.tight_layout()\n",
    "plt.show()"
   ]
  },
  {
   "cell_type": "markdown",
   "id": "2531020f",
   "metadata": {},
   "source": [
    "When looking at the number of days that users spend in the game from different acquisition channels, the pattern does not significantly differ. The peaks of the distributions are around the 11th to 13th day."
   ]
  },
  {
   "cell_type": "code",
   "execution_count": 171,
   "id": "6a357237",
   "metadata": {},
   "outputs": [
    {
     "data": {
      "text/html": [
       "<div>\n",
       "<style scoped>\n",
       "    .dataframe tbody tr th:only-of-type {\n",
       "        vertical-align: middle;\n",
       "    }\n",
       "\n",
       "    .dataframe tbody tr th {\n",
       "        vertical-align: top;\n",
       "    }\n",
       "\n",
       "    .dataframe thead th {\n",
       "        text-align: right;\n",
       "    }\n",
       "</style>\n",
       "<table border=\"1\" class=\"dataframe\">\n",
       "  <thead>\n",
       "    <tr style=\"text-align: right;\">\n",
       "      <th></th>\n",
       "      <th>count</th>\n",
       "      <th>mean</th>\n",
       "      <th>std</th>\n",
       "      <th>min</th>\n",
       "      <th>25%</th>\n",
       "      <th>50%</th>\n",
       "      <th>75%</th>\n",
       "      <th>max</th>\n",
       "    </tr>\n",
       "    <tr>\n",
       "      <th>source</th>\n",
       "      <th></th>\n",
       "      <th></th>\n",
       "      <th></th>\n",
       "      <th></th>\n",
       "      <th></th>\n",
       "      <th></th>\n",
       "      <th></th>\n",
       "      <th></th>\n",
       "    </tr>\n",
       "  </thead>\n",
       "  <tbody>\n",
       "    <tr>\n",
       "      <th>facebook_ads</th>\n",
       "      <td>27672.0</td>\n",
       "      <td>12.712670</td>\n",
       "      <td>4.080177</td>\n",
       "      <td>1.0</td>\n",
       "      <td>10.0</td>\n",
       "      <td>12.0</td>\n",
       "      <td>15.0</td>\n",
       "      <td>31.0</td>\n",
       "    </tr>\n",
       "    <tr>\n",
       "      <th>instagram_new_adverts</th>\n",
       "      <td>33757.0</td>\n",
       "      <td>12.787451</td>\n",
       "      <td>4.068381</td>\n",
       "      <td>1.0</td>\n",
       "      <td>10.0</td>\n",
       "      <td>12.0</td>\n",
       "      <td>15.0</td>\n",
       "      <td>31.0</td>\n",
       "    </tr>\n",
       "    <tr>\n",
       "      <th>yandex_direct</th>\n",
       "      <td>47694.0</td>\n",
       "      <td>12.618736</td>\n",
       "      <td>4.072362</td>\n",
       "      <td>1.0</td>\n",
       "      <td>10.0</td>\n",
       "      <td>12.0</td>\n",
       "      <td>15.0</td>\n",
       "      <td>32.0</td>\n",
       "    </tr>\n",
       "    <tr>\n",
       "      <th>youtube_channel_reklama</th>\n",
       "      <td>26516.0</td>\n",
       "      <td>12.669219</td>\n",
       "      <td>4.045935</td>\n",
       "      <td>1.0</td>\n",
       "      <td>10.0</td>\n",
       "      <td>12.0</td>\n",
       "      <td>15.0</td>\n",
       "      <td>30.0</td>\n",
       "    </tr>\n",
       "  </tbody>\n",
       "</table>\n",
       "</div>"
      ],
      "text/plain": [
       "                           count       mean       std  min   25%   50%   75%  \\\n",
       "source                                                                         \n",
       "facebook_ads             27672.0  12.712670  4.080177  1.0  10.0  12.0  15.0   \n",
       "instagram_new_adverts    33757.0  12.787451  4.068381  1.0  10.0  12.0  15.0   \n",
       "yandex_direct            47694.0  12.618736  4.072362  1.0  10.0  12.0  15.0   \n",
       "youtube_channel_reklama  26516.0  12.669219  4.045935  1.0  10.0  12.0  15.0   \n",
       "\n",
       "                          max  \n",
       "source                         \n",
       "facebook_ads             31.0  \n",
       "instagram_new_adverts    31.0  \n",
       "yandex_direct            32.0  \n",
       "youtube_channel_reklama  30.0  "
      ]
     },
     "execution_count": 171,
     "metadata": {},
     "output_type": "execute_result"
    }
   ],
   "source": [
    "game_source.groupby('source')['duration'].describe()"
   ]
  },
  {
   "cell_type": "markdown",
   "id": "44534711",
   "metadata": {},
   "source": [
    "### Cost"
   ]
  },
  {
   "cell_type": "markdown",
   "id": "f7278b03",
   "metadata": {},
   "source": [
    "#### The cost per click from each source."
   ]
  },
  {
   "cell_type": "code",
   "execution_count": 172,
   "id": "52065581",
   "metadata": {},
   "outputs": [],
   "source": [
    "# convert the date columns to datetime.\n",
    "game_source['first_day'] = pd.to_datetime(game_source['first_day'])\n",
    "ad['day'] = pd.to_datetime(ad['day'])\n",
    "\n",
    "# shift the dates in the 'ad' dataset one day forward.\n",
    "ad['day_shifted'] = ad['day'] + pd.DateOffset(days=1)\n",
    "\n",
    "# We combine the data based on matching dates and channels.\n",
    "merged_data = game_source.groupby(['first_day', 'source'])['user_id'].nunique().reset_index().merge(\n",
    "    ad.groupby(['day_shifted', 'source'])['cost'].sum().reset_index(),\n",
    "    left_on=['first_day', 'source'], right_on=['day_shifted', 'source'],\n",
    "    how='inner'\n",
    ")\n",
    "\n",
    "# We remove the unnecessary 'day_shifted' column if it is no longer needed.\n",
    "merged_data.drop(columns='day_shifted', inplace=True)\n",
    "merged_data['click_cost'] = merged_data['cost'] / merged_data['user_id']\n",
    "merged_data['click_cost'] = merged_data['click_cost'].round(2)"
   ]
  },
  {
   "cell_type": "code",
   "execution_count": 173,
   "id": "1a85b494",
   "metadata": {},
   "outputs": [],
   "source": [
    "# sort\n",
    "merged_data.sort_values(by=['first_day', 'click_cost'], inplace=True)"
   ]
  },
  {
   "cell_type": "code",
   "execution_count": 174,
   "id": "606c3900",
   "metadata": {},
   "outputs": [
    {
     "data": {
      "image/png": "[encoded data removed]",
      "text/plain": [
       "<Figure size 1200x600 with 1 Axes>"
      ]
     },
     "metadata": {},
     "output_type": "display_data"
    }
   ],
   "source": [
    "# The unique 'source' channels.\n",
    "sources = merged_data['source'].unique()\n",
    "\n",
    "# Determining the width of each column.\n",
    "bar_width = 0.2\n",
    "index = np.arange(len(merged_data['first_day'].dt.date.unique()))\n",
    "\n",
    "# Creating a bar chart for each channel.\n",
    "plt.figure(figsize=(12, 6))\n",
    "\n",
    "for i, source in enumerate(sources):\n",
    "    source_data = merged_data[merged_data['source'] == source]\n",
    "    plt.bar(index + i * bar_width, source_data['click_cost'], bar_width, label=source)\n",
    "\n",
    "plt.title('click_cost by date and channel')\n",
    "plt.xlabel('Date')\n",
    "plt.ylabel('click_cost')\n",
    "plt.xticks(index + bar_width * (len(sources) - 1) / 2, merged_data['first_day'].dt.date.unique())\n",
    "plt.legend(loc='upper right')\n",
    "\n",
    "plt.tight_layout()\n",
    "plt.show()"
   ]
  },
  {
   "cell_type": "markdown",
   "id": "d54f45c6",
   "metadata": {},
   "source": [
    "The cost per click is consistently distributed across channels. Facebook is the most expensive acquisition channel, while YouTube has the lowest cost per click."
   ]
  },
  {
   "cell_type": "code",
   "execution_count": 175,
   "id": "1e48ed8a",
   "metadata": {},
   "outputs": [
    {
     "data": {
      "text/plain": [
       "source\n",
       "facebook_ads               0.77\n",
       "instagram_new_adverts      0.65\n",
       "yandex_direct              0.46\n",
       "youtube_channel_reklama    0.40\n",
       "Name: click_cost, dtype: float64"
      ]
     },
     "execution_count": 175,
     "metadata": {},
     "output_type": "execute_result"
    }
   ],
   "source": [
    "merged_data.groupby('source')['click_cost'].mean().round(2)"
   ]
  },
  {
   "cell_type": "markdown",
   "id": "b5863803",
   "metadata": {},
   "source": [
    "<div class=\"alert alert-success\">\n",
    "    <p><b> ! : </b></p>\n",
    "    \n",
    "Finally, we've found the first metric that shows significant differences between channels. It seems that this metric will ultimately form the basis for ranking.\n",
    "</div>\n"
   ]
  },
  {
   "cell_type": "markdown",
   "id": "b9cc9392",
   "metadata": {},
   "source": [
    "#### The total amount spent on each source"
   ]
  },
  {
   "cell_type": "code",
   "execution_count": 176,
   "id": "dd6bdfba",
   "metadata": {},
   "outputs": [
    {
     "data": {
      "text/html": [
       "<div>\n",
       "<style scoped>\n",
       "    .dataframe tbody tr th:only-of-type {\n",
       "        vertical-align: middle;\n",
       "    }\n",
       "\n",
       "    .dataframe tbody tr th {\n",
       "        vertical-align: top;\n",
       "    }\n",
       "\n",
       "    .dataframe thead th {\n",
       "        text-align: right;\n",
       "    }\n",
       "</style>\n",
       "<table border=\"1\" class=\"dataframe\">\n",
       "  <thead>\n",
       "    <tr style=\"text-align: right;\">\n",
       "      <th></th>\n",
       "      <th>source</th>\n",
       "      <th>cost</th>\n",
       "    </tr>\n",
       "  </thead>\n",
       "  <tbody>\n",
       "    <tr>\n",
       "      <th>0</th>\n",
       "      <td>facebook_ads</td>\n",
       "      <td>2140.90</td>\n",
       "    </tr>\n",
       "    <tr>\n",
       "      <th>1</th>\n",
       "      <td>instagram_new_adverts</td>\n",
       "      <td>2161.45</td>\n",
       "    </tr>\n",
       "    <tr>\n",
       "      <th>2</th>\n",
       "      <td>yandex_direct</td>\n",
       "      <td>2233.11</td>\n",
       "    </tr>\n",
       "    <tr>\n",
       "      <th>3</th>\n",
       "      <td>youtube_channel_reklama</td>\n",
       "      <td>1068.11</td>\n",
       "    </tr>\n",
       "  </tbody>\n",
       "</table>\n",
       "</div>"
      ],
      "text/plain": [
       "                    source     cost\n",
       "0             facebook_ads  2140.90\n",
       "1    instagram_new_adverts  2161.45\n",
       "2            yandex_direct  2233.11\n",
       "3  youtube_channel_reklama  1068.11"
      ]
     },
     "execution_count": 176,
     "metadata": {},
     "output_type": "execute_result"
    }
   ],
   "source": [
    "source_costs = merged_data.groupby('source')['cost'].sum().reset_index()\n",
    "source_costs"
   ]
  },
  {
   "cell_type": "code",
   "execution_count": 177,
   "id": "3a973dc5",
   "metadata": {},
   "outputs": [
    {
     "data": {
      "image/png": "[encoded data removed]",
      "text/plain": [
       "<Figure size 400x400 with 1 Axes>"
      ]
     },
     "metadata": {},
     "output_type": "display_data"
    }
   ],
   "source": [
    "# pie\n",
    "plt.figure(figsize=(4, 4))\n",
    "plt.pie(source_costs['cost'], labels=source_costs['source'], autopct='%1.1f%%', startangle=140)\n",
    "plt.title('The cost distribution by source channels.')\n",
    "\n",
    "plt.axis('equal')  \n",
    "plt.show()"
   ]
  },
  {
   "cell_type": "markdown",
   "id": "108ddd9b",
   "metadata": {},
   "source": [
    "The share of expenses on all channels except YouTube is around 30%, with YouTube being the most cost-effective channel."
   ]
  },
  {
   "cell_type": "markdown",
   "id": "beab092f",
   "metadata": {},
   "source": [
    "### Hypothesis"
   ]
  },
  {
   "cell_type": "markdown",
   "id": "fb5500df",
   "metadata": {},
   "source": [
    "**Let's test the hypothesis that the completion time of a level differs depending on the strategy of completion:**\n",
    "- H0: Completion time is not dependent on the strategy.\n",
    "- H1: Completion time is dependent on the strategy."
   ]
  },
  {
   "cell_type": "code",
   "execution_count": 178,
   "id": "cb514c8c",
   "metadata": {},
   "outputs": [
    {
     "name": "stdout",
     "output_type": "stream",
     "text": [
      "We reject the null hypothesis: the means are different.\n"
     ]
    }
   ],
   "source": [
    "strategy_A = filtered_data[filtered_data['strategy'] == 'war']['duration']\n",
    "strategy_B = filtered_data[filtered_data['strategy'] == 'project']['duration']\n",
    "\n",
    "# t-test\n",
    "t_statistic, p_value = ttest_ind(strategy_A, strategy_B)\n",
    "\n",
    "# Evaluate the test results\n",
    "alpha = 0.05  \n",
    "if p_value < alpha:\n",
    "    print(\"We reject the null hypothesis: the means are different.\")\n",
    "else:\n",
    "    print(\"There is not enough evidence to reject the null hypothesis: the means are equal.\")"
   ]
  },
  {
   "cell_type": "markdown",
   "id": "501f634a",
   "metadata": {},
   "source": [
    "**Let's test the hypothesis that the number of players who complete the level differs depending on the user acquisition channel:**\n",
    "- H0: The number of players who complete the level is not dependent on the channel.\n",
    "- H1: The number of players who complete the level is dependent on the channel."
   ]
  },
  {
   "cell_type": "code",
   "execution_count": 179,
   "id": "bb4ecedd",
   "metadata": {},
   "outputs": [
    {
     "name": "stdout",
     "output_type": "stream",
     "text": [
      "There is not enough evidence to reject the null hypothesis: the number of players who completed the level is not dependent on the user acquisition channel.\n"
     ]
    }
   ],
   "source": [
    "# Create a contingency table\n",
    "contingency_table = pd.crosstab(filtered_data['source'], filtered_data['user_id'].nunique())\n",
    "\n",
    "# chi-square test\n",
    "chi2, p, _, _ = chi2_contingency(contingency_table)\n",
    "\n",
    "# Evaluate the test results.\n",
    "alpha = 0.05\n",
    "if p < alpha:\n",
    "    print(\"We reject the null hypothesis: there is a statistically significant association between the user acquisition channel and the number of players who completed the level.\")\n",
    "else:\n",
    "    print(\"There is not enough evidence to reject the null hypothesis: the number of players who completed the level is not dependent on the user acquisition channel.\")"
   ]
  },
  {
   "cell_type": "markdown",
   "id": "9f000658",
   "metadata": {},
   "source": [
    "**Which strategy is chosen more frequently for winning?**\n",
    "\n",
    "- H0: Among players who completed the level, there is no difference in the choice of the \"war\" and \"project\" strategies; the choice of strategy does not influence successful level completion.\n",
    "\n",
    "- H1: Among players who completed the level, there is a statistically significant difference in the choice of the \"war\" and \"project\" strategies; the choice of strategy influences successful level completion."
   ]
  },
  {
   "cell_type": "code",
   "execution_count": 180,
   "id": "9f509f10",
   "metadata": {},
   "outputs": [
    {
     "name": "stdout",
     "output_type": "stream",
     "text": [
      "Z-статистика: 38.66086130712516\n",
      "P-значение: 0.0\n",
      "We reject the null hypothesis: the difference is statistically significant.\n"
     ]
    }
   ],
   "source": [
    "war_f = len(finished[finished['strategy'] == 'war'])\n",
    "pro_f = len(finished[finished['strategy'] == 'project'])\n",
    "\n",
    "# The total number of all users who completed the level.\n",
    "n_total_finished = len(finished)\n",
    "\n",
    "# Performing a Z-test for the difference in completion rates between strategies.\n",
    "z_stat, p_value = sm.stats.proportions_ztest([war_f, pro_f], [n_total_finished, n_total_finished])\n",
    "\n",
    "print(f\"Z-статистика: {z_stat}\")\n",
    "print(f\"P-значение: {p_value}\")\n",
    "\n",
    "alpha = 0.05 \n",
    "if p_value < alpha:\n",
    "    print(\"We reject the null hypothesis: the difference is statistically significant.\")\n",
    "else:\n",
    "    print(\"There is not enough evidence to reject the null hypothesis: the difference is not statistically significant.\")"
   ]
  },
  {
   "cell_type": "markdown",
   "id": "55908630",
   "metadata": {},
   "source": [
    "## Conclusions"
   ]
  },
  {
   "cell_type": "markdown",
   "id": "aa1801f0",
   "metadata": {},
   "source": [
    "| Parameter                                | Yandex | Instagram | FB   | Youtube | Comment                                       |\n",
    "|------------------------------------------|--------|-----------|------|---------|-----------------------------------------------|\n",
    "| Share of unique users                    | 35.5   | 24.7      | 20.1 | 19.8    |                                               |\n",
    "| Strategies: not completed % of all       | 57.6   | 56.2      | 57.8 | 56.9    |                                               |\n",
    "| Strategies: war                          | 29.5   | 29.6      | 27.6 | 29.0    | It is statistically true that this strategy leads to level completion more often |\n",
    "| Number of buildings per unique player    | 9.35   | 9.51      | 9.59 | 9.3     | The more buildings, the more ad impressions  |\n",
    "| Average duration, days                   | 12.61  | 12.78     | 12.71| 12.66   |                                               |\n",
    "| Average cost per click                   | 0.46   | 0.65      | 0.77 | 0.4     |                                               |\n",
    "| Acquisition costs                        | 2233.11| 2161.45   | 2140.9| 1068.11 |                                               |\n"
   ]
  },
  {
   "cell_type": "code",
   "execution_count": 181,
   "id": "3e198eb4",
   "metadata": {},
   "outputs": [
    {
     "data": {
      "text/html": [
       "<div>\n",
       "<style scoped>\n",
       "    .dataframe tbody tr th:only-of-type {\n",
       "        vertical-align: middle;\n",
       "    }\n",
       "\n",
       "    .dataframe tbody tr th {\n",
       "        vertical-align: top;\n",
       "    }\n",
       "\n",
       "    .dataframe thead th {\n",
       "        text-align: right;\n",
       "    }\n",
       "</style>\n",
       "<table border=\"1\" class=\"dataframe\">\n",
       "  <thead>\n",
       "    <tr style=\"text-align: right;\">\n",
       "      <th></th>\n",
       "      <th>source</th>\n",
       "      <th>building</th>\n",
       "      <th>cost</th>\n",
       "      <th>avg</th>\n",
       "    </tr>\n",
       "  </thead>\n",
       "  <tbody>\n",
       "    <tr>\n",
       "      <th>3</th>\n",
       "      <td>youtube_channel_reklama</td>\n",
       "      <td>24978</td>\n",
       "      <td>1068.11</td>\n",
       "      <td>0.042762</td>\n",
       "    </tr>\n",
       "    <tr>\n",
       "      <th>2</th>\n",
       "      <td>yandex_direct</td>\n",
       "      <td>45032</td>\n",
       "      <td>2233.11</td>\n",
       "      <td>0.049589</td>\n",
       "    </tr>\n",
       "    <tr>\n",
       "      <th>1</th>\n",
       "      <td>instagram_new_adverts</td>\n",
       "      <td>31815</td>\n",
       "      <td>2161.45</td>\n",
       "      <td>0.067938</td>\n",
       "    </tr>\n",
       "    <tr>\n",
       "      <th>0</th>\n",
       "      <td>facebook_ads</td>\n",
       "      <td>26131</td>\n",
       "      <td>2140.90</td>\n",
       "      <td>0.081930</td>\n",
       "    </tr>\n",
       "  </tbody>\n",
       "</table>\n",
       "</div>"
      ],
      "text/plain": [
       "                    source  building     cost       avg\n",
       "3  youtube_channel_reklama     24978  1068.11  0.042762\n",
       "2            yandex_direct     45032  2233.11  0.049589\n",
       "1    instagram_new_adverts     31815  2161.45  0.067938\n",
       "0             facebook_ads     26131  2140.90  0.081930"
      ]
     },
     "execution_count": 181,
     "metadata": {},
     "output_type": "execute_result"
    }
   ],
   "source": [
    "income = building_users_by_source.merge(source_costs, on='source')\n",
    "income['avg'] = income['cost']/income['building']\n",
    "income.sort_values(by='avg')"
   ]
  },
  {
   "cell_type": "markdown",
   "id": "45123896",
   "metadata": {},
   "source": [
    "### Analysis and Ranking of User Acquisition Sources\n",
    "\n",
    "If we consider effectiveness in terms of player quality (game duration, level completion) and cost (cost per click), and also take into account that building structures will generate future ad revenue, the channels should be ranked as follows:\n",
    "\n",
    "The dependence on qualitative characteristics such as strategy choice, level completion, and game duration is practically indistinguishable (indicators vary from channel to channel by fractions). Cost is the priority indicator for ranking.\n",
    "\n",
    "1. **Yandex** has the highest share of unique users and a low cost per click, making it the most attractive source for user acquisition.\n",
    "\n",
    "2. **Youtube** shows the best cost per constructed building, which will aid in monetization, and the cost per click is the lowest here. Investing money in this channel is a good choice.\n",
    "\n",
    "3. **Instagram** lags behind the top two channels, with a cost per click that is not the highest but not the lowest either.\n",
    "\n",
    "4. **Facebook** is the most expensive channel in terms of cost per click.\n",
    "\n",
    "Therefore, when placing advertisements and optimizing acquisition costs, it is advisable to pay the most attention to **Yandex**, followed by **Youtube**, and **Instagram** depending on monetization and user retention goals. **Facebook** can be considered a lower-priority source."
   ]
  },
  {
   "cell_type": "markdown",
   "id": "25f3baf4",
   "metadata": {},
   "source": [
    "<div style=\"background:#B0E0E6;color:#000; padding:10px; margin-top:10px\">\n",
    "    <p><big><b> Links:</b></big></p>\n",
    "    \n",
    "[Tableau](https://public.tableau.com/app/profile/tatyana.mayorova/viz/NumberofBuildingsbyUsers/Sheet4)\n",
    "    \n",
    "    \n",
    "[Presentation](https://disk.yandex.ru/d/CeK9hJERj7b5ig)\n",
    "</div>"
   ]
  }
 ],
 "metadata": {
  "ExecuteTimeLog": [
   {
    "duration": 1393,
    "start_time": "2023-09-29T18:23:57.644Z"
   },
   {
    "duration": 907,
    "start_time": "2023-09-29T18:23:59.039Z"
   },
   {
    "duration": 35,
    "start_time": "2023-09-29T18:23:59.947Z"
   },
   {
    "duration": 37,
    "start_time": "2023-09-29T18:23:59.984Z"
   },
   {
    "duration": 52,
    "start_time": "2023-09-29T18:24:00.022Z"
   },
   {
    "duration": 44,
    "start_time": "2023-09-29T18:24:00.076Z"
   },
   {
    "duration": 46,
    "start_time": "2023-09-29T18:24:00.122Z"
   },
   {
    "duration": 53,
    "start_time": "2023-09-29T18:24:00.169Z"
   },
   {
    "duration": 69,
    "start_time": "2023-09-29T18:24:00.224Z"
   },
   {
    "duration": 38,
    "start_time": "2023-09-29T18:24:00.295Z"
   },
   {
    "duration": 47,
    "start_time": "2023-09-29T18:24:00.335Z"
   },
   {
    "duration": 68,
    "start_time": "2023-09-29T18:24:00.384Z"
   },
   {
    "duration": 117,
    "start_time": "2023-09-29T18:24:00.453Z"
   },
   {
    "duration": 54,
    "start_time": "2023-09-29T18:24:00.571Z"
   },
   {
    "duration": 36,
    "start_time": "2023-09-29T18:24:00.627Z"
   },
   {
    "duration": 30,
    "start_time": "2023-09-29T18:24:00.665Z"
   },
   {
    "duration": 64,
    "start_time": "2023-09-29T18:24:00.697Z"
   },
   {
    "duration": 44,
    "start_time": "2023-09-29T18:24:00.762Z"
   },
   {
    "duration": 61,
    "start_time": "2023-09-29T18:24:00.808Z"
   },
   {
    "duration": 2071,
    "start_time": "2023-09-29T18:24:00.870Z"
   },
   {
    "duration": 32,
    "start_time": "2023-09-29T18:24:02.942Z"
   },
   {
    "duration": 105,
    "start_time": "2023-09-29T18:24:02.976Z"
   },
   {
    "duration": 1163,
    "start_time": "2023-09-29T18:24:03.082Z"
   },
   {
    "duration": 536,
    "start_time": "2023-09-29T18:24:04.247Z"
   },
   {
    "duration": 33,
    "start_time": "2023-09-29T18:24:04.784Z"
   },
   {
    "duration": 120,
    "start_time": "2023-09-29T18:24:04.818Z"
   },
   {
    "duration": 480,
    "start_time": "2023-09-29T18:24:04.939Z"
   },
   {
    "duration": 38,
    "start_time": "2023-09-29T18:24:05.422Z"
   },
   {
    "duration": 111,
    "start_time": "2023-09-29T18:24:05.461Z"
   },
   {
    "duration": 561,
    "start_time": "2023-09-29T18:24:05.574Z"
   },
   {
    "duration": 68,
    "start_time": "2023-09-29T18:24:06.136Z"
   },
   {
    "duration": 278,
    "start_time": "2023-09-29T18:24:06.206Z"
   },
   {
    "duration": 887,
    "start_time": "2023-09-29T18:24:06.485Z"
   },
   {
    "duration": 105,
    "start_time": "2023-09-29T18:24:07.374Z"
   },
   {
    "duration": 513,
    "start_time": "2023-09-29T18:24:07.481Z"
   },
   {
    "duration": 106,
    "start_time": "2023-09-29T18:24:07.996Z"
   },
   {
    "duration": 289,
    "start_time": "2023-09-29T18:24:08.104Z"
   },
   {
    "duration": 143,
    "start_time": "2023-09-29T18:24:08.395Z"
   },
   {
    "duration": 294,
    "start_time": "2023-09-29T18:24:08.540Z"
   },
   {
    "duration": 142,
    "start_time": "2023-09-29T18:24:08.836Z"
   },
   {
    "duration": 0,
    "start_time": "2023-09-29T18:24:08.980Z"
   },
   {
    "duration": 0,
    "start_time": "2023-09-29T18:24:08.983Z"
   },
   {
    "duration": 0,
    "start_time": "2023-09-29T18:24:08.984Z"
   },
   {
    "duration": 0,
    "start_time": "2023-09-29T18:24:08.985Z"
   },
   {
    "duration": 0,
    "start_time": "2023-09-29T18:24:08.987Z"
   },
   {
    "duration": 0,
    "start_time": "2023-09-29T18:24:08.989Z"
   },
   {
    "duration": 0,
    "start_time": "2023-09-29T18:24:08.991Z"
   },
   {
    "duration": 0,
    "start_time": "2023-09-29T18:24:08.993Z"
   },
   {
    "duration": 0,
    "start_time": "2023-09-29T18:24:08.994Z"
   },
   {
    "duration": 0,
    "start_time": "2023-09-29T18:24:08.996Z"
   },
   {
    "duration": 0,
    "start_time": "2023-09-29T18:24:08.997Z"
   },
   {
    "duration": 0,
    "start_time": "2023-09-29T18:24:08.998Z"
   },
   {
    "duration": 0,
    "start_time": "2023-09-29T18:24:09.000Z"
   },
   {
    "duration": 7,
    "start_time": "2023-09-29T18:38:30.186Z"
   },
   {
    "duration": 107,
    "start_time": "2023-09-29T18:47:30.679Z"
   },
   {
    "duration": 125,
    "start_time": "2023-09-29T18:47:34.831Z"
   },
   {
    "duration": 963,
    "start_time": "2023-09-29T18:47:36.559Z"
   },
   {
    "duration": 1875,
    "start_time": "2023-09-29T18:47:37.524Z"
   },
   {
    "duration": 33,
    "start_time": "2023-09-29T18:47:39.401Z"
   },
   {
    "duration": 74,
    "start_time": "2023-09-29T18:47:39.437Z"
   },
   {
    "duration": 5,
    "start_time": "2023-09-29T18:47:39.513Z"
   },
   {
    "duration": 347,
    "start_time": "2023-09-29T18:47:39.519Z"
   },
   {
    "duration": 7,
    "start_time": "2023-09-29T18:47:39.868Z"
   },
   {
    "duration": 27,
    "start_time": "2023-09-29T18:47:39.877Z"
   },
   {
    "duration": 105,
    "start_time": "2023-09-29T18:47:39.907Z"
   },
   {
    "duration": 34,
    "start_time": "2023-09-29T18:47:40.759Z"
   },
   {
    "duration": 38,
    "start_time": "2023-09-29T18:47:41.127Z"
   },
   {
    "duration": 14,
    "start_time": "2023-09-29T18:47:41.494Z"
   },
   {
    "duration": 5,
    "start_time": "2023-09-29T18:52:21.318Z"
   },
   {
    "duration": 5,
    "start_time": "2023-09-29T18:52:36.278Z"
   },
   {
    "duration": 103,
    "start_time": "2023-09-29T18:52:59.782Z"
   },
   {
    "duration": 3,
    "start_time": "2023-09-29T18:53:40.663Z"
   },
   {
    "duration": 6,
    "start_time": "2023-09-29T18:53:52.246Z"
   },
   {
    "duration": 74,
    "start_time": "2023-09-29T18:54:03.413Z"
   },
   {
    "duration": 7,
    "start_time": "2023-09-29T18:54:36.653Z"
   },
   {
    "duration": 4,
    "start_time": "2023-09-29T18:55:31.493Z"
   },
   {
    "duration": 4,
    "start_time": "2023-09-29T18:55:34.669Z"
   },
   {
    "duration": 5,
    "start_time": "2023-09-29T18:55:40.709Z"
   },
   {
    "duration": 3,
    "start_time": "2023-09-29T18:55:43.845Z"
   },
   {
    "duration": 81,
    "start_time": "2023-09-30T09:39:24.788Z"
   },
   {
    "duration": 101,
    "start_time": "2023-09-30T09:41:08.776Z"
   },
   {
    "duration": 1229,
    "start_time": "2023-09-30T09:43:26.681Z"
   },
   {
    "duration": 603,
    "start_time": "2023-09-30T09:43:27.912Z"
   },
   {
    "duration": 36,
    "start_time": "2023-09-30T09:43:28.516Z"
   },
   {
    "duration": 53,
    "start_time": "2023-09-30T09:43:28.553Z"
   },
   {
    "duration": 28,
    "start_time": "2023-09-30T09:43:28.608Z"
   },
   {
    "duration": 9,
    "start_time": "2023-09-30T09:43:28.638Z"
   },
   {
    "duration": 34,
    "start_time": "2023-09-30T09:43:28.648Z"
   },
   {
    "duration": 11,
    "start_time": "2023-09-30T09:43:28.684Z"
   },
   {
    "duration": 44,
    "start_time": "2023-09-30T09:43:28.696Z"
   },
   {
    "duration": 21,
    "start_time": "2023-09-30T09:43:28.742Z"
   },
   {
    "duration": 27,
    "start_time": "2023-09-30T09:43:28.765Z"
   },
   {
    "duration": 35,
    "start_time": "2023-09-30T09:43:28.793Z"
   },
   {
    "duration": 71,
    "start_time": "2023-09-30T09:43:28.830Z"
   },
   {
    "duration": 5,
    "start_time": "2023-09-30T09:43:33.164Z"
   },
   {
    "duration": 461,
    "start_time": "2023-09-30T09:43:33.171Z"
   },
   {
    "duration": 33,
    "start_time": "2023-09-30T09:43:33.634Z"
   },
   {
    "duration": 32,
    "start_time": "2023-09-30T09:43:33.670Z"
   },
   {
    "duration": 16,
    "start_time": "2023-09-30T09:43:33.704Z"
   },
   {
    "duration": 11,
    "start_time": "2023-09-30T09:43:33.722Z"
   },
   {
    "duration": 25,
    "start_time": "2023-09-30T09:43:33.734Z"
   },
   {
    "duration": 16,
    "start_time": "2023-09-30T09:43:33.760Z"
   },
   {
    "duration": 41,
    "start_time": "2023-09-30T09:43:33.777Z"
   },
   {
    "duration": 31,
    "start_time": "2023-09-30T09:43:33.820Z"
   },
   {
    "duration": 35,
    "start_time": "2023-09-30T09:43:33.852Z"
   },
   {
    "duration": 25,
    "start_time": "2023-09-30T09:43:33.889Z"
   },
   {
    "duration": 70,
    "start_time": "2023-09-30T09:43:33.916Z"
   },
   {
    "duration": 51,
    "start_time": "2023-09-30T09:43:33.987Z"
   },
   {
    "duration": 31,
    "start_time": "2023-09-30T09:43:34.039Z"
   },
   {
    "duration": 33,
    "start_time": "2023-09-30T09:43:34.071Z"
   },
   {
    "duration": 102,
    "start_time": "2023-09-30T09:43:34.105Z"
   },
   {
    "duration": 57,
    "start_time": "2023-09-30T09:43:34.209Z"
   },
   {
    "duration": 11,
    "start_time": "2023-09-30T09:43:34.267Z"
   },
   {
    "duration": 1975,
    "start_time": "2023-09-30T09:43:34.279Z"
   },
   {
    "duration": 30,
    "start_time": "2023-09-30T09:43:36.256Z"
   },
   {
    "duration": 117,
    "start_time": "2023-09-30T09:43:36.288Z"
   },
   {
    "duration": 1138,
    "start_time": "2023-09-30T09:43:36.407Z"
   },
   {
    "duration": 544,
    "start_time": "2023-09-30T09:43:37.547Z"
   },
   {
    "duration": 31,
    "start_time": "2023-09-30T09:43:38.092Z"
   },
   {
    "duration": 114,
    "start_time": "2023-09-30T09:43:38.125Z"
   },
   {
    "duration": 496,
    "start_time": "2023-09-30T09:43:38.240Z"
   },
   {
    "duration": 32,
    "start_time": "2023-09-30T09:43:38.739Z"
   },
   {
    "duration": 98,
    "start_time": "2023-09-30T09:43:38.772Z"
   },
   {
    "duration": 504,
    "start_time": "2023-09-30T09:43:38.872Z"
   },
   {
    "duration": 86,
    "start_time": "2023-09-30T09:43:39.687Z"
   },
   {
    "duration": 241,
    "start_time": "2023-09-30T09:44:33.061Z"
   },
   {
    "duration": 404,
    "start_time": "2023-09-30T09:50:19.669Z"
   },
   {
    "duration": 406,
    "start_time": "2023-09-30T09:50:35.161Z"
   },
   {
    "duration": 431,
    "start_time": "2023-09-30T09:51:35.399Z"
   },
   {
    "duration": 5,
    "start_time": "2023-09-30T09:53:24.033Z"
   },
   {
    "duration": 710,
    "start_time": "2023-09-30T09:53:24.043Z"
   },
   {
    "duration": 33,
    "start_time": "2023-09-30T09:53:24.755Z"
   },
   {
    "duration": 30,
    "start_time": "2023-09-30T09:53:24.790Z"
   },
   {
    "duration": 50,
    "start_time": "2023-09-30T09:53:24.821Z"
   },
   {
    "duration": 6,
    "start_time": "2023-09-30T09:53:24.873Z"
   },
   {
    "duration": 16,
    "start_time": "2023-09-30T09:53:24.881Z"
   },
   {
    "duration": 10,
    "start_time": "2023-09-30T09:53:24.898Z"
   },
   {
    "duration": 50,
    "start_time": "2023-09-30T09:53:24.910Z"
   },
   {
    "duration": 22,
    "start_time": "2023-09-30T09:53:24.961Z"
   },
   {
    "duration": 26,
    "start_time": "2023-09-30T09:53:24.984Z"
   },
   {
    "duration": 42,
    "start_time": "2023-09-30T09:53:25.011Z"
   },
   {
    "duration": 67,
    "start_time": "2023-09-30T09:53:25.055Z"
   },
   {
    "duration": 63,
    "start_time": "2023-09-30T09:53:25.124Z"
   },
   {
    "duration": 27,
    "start_time": "2023-09-30T09:53:25.190Z"
   },
   {
    "duration": 10,
    "start_time": "2023-09-30T09:53:25.218Z"
   },
   {
    "duration": 57,
    "start_time": "2023-09-30T09:53:25.229Z"
   },
   {
    "duration": 47,
    "start_time": "2023-09-30T09:53:25.291Z"
   },
   {
    "duration": 9,
    "start_time": "2023-09-30T09:53:25.353Z"
   },
   {
    "duration": 2228,
    "start_time": "2023-09-30T09:53:25.364Z"
   },
   {
    "duration": 22,
    "start_time": "2023-09-30T09:53:27.593Z"
   },
   {
    "duration": 121,
    "start_time": "2023-09-30T09:53:27.616Z"
   },
   {
    "duration": 1070,
    "start_time": "2023-09-30T09:53:27.739Z"
   },
   {
    "duration": 413,
    "start_time": "2023-09-30T09:53:28.811Z"
   },
   {
    "duration": 46,
    "start_time": "2023-09-30T09:53:29.226Z"
   },
   {
    "duration": 114,
    "start_time": "2023-09-30T09:53:29.273Z"
   },
   {
    "duration": 526,
    "start_time": "2023-09-30T09:53:29.388Z"
   },
   {
    "duration": 34,
    "start_time": "2023-09-30T09:53:29.916Z"
   },
   {
    "duration": 99,
    "start_time": "2023-09-30T09:53:29.952Z"
   },
   {
    "duration": 499,
    "start_time": "2023-09-30T09:53:30.053Z"
   },
   {
    "duration": 51,
    "start_time": "2023-09-30T09:53:30.554Z"
   },
   {
    "duration": 443,
    "start_time": "2023-09-30T09:53:40.497Z"
   },
   {
    "duration": 415,
    "start_time": "2023-09-30T09:54:37.696Z"
   },
   {
    "duration": 432,
    "start_time": "2023-09-30T09:54:59.117Z"
   },
   {
    "duration": 413,
    "start_time": "2023-09-30T09:55:47.152Z"
   },
   {
    "duration": 439,
    "start_time": "2023-09-30T09:56:12.992Z"
   },
   {
    "duration": 115,
    "start_time": "2023-09-30T09:57:15.212Z"
   },
   {
    "duration": 120,
    "start_time": "2023-09-30T09:57:52.730Z"
   },
   {
    "duration": 130,
    "start_time": "2023-09-30T09:58:02.861Z"
   },
   {
    "duration": 141,
    "start_time": "2023-09-30T09:59:22.513Z"
   },
   {
    "duration": 23,
    "start_time": "2023-09-30T10:00:42.519Z"
   },
   {
    "duration": 78,
    "start_time": "2023-09-30T10:01:22.389Z"
   },
   {
    "duration": 169,
    "start_time": "2023-09-30T10:01:44.927Z"
   },
   {
    "duration": 8,
    "start_time": "2023-09-30T10:01:58.616Z"
   },
   {
    "duration": 525,
    "start_time": "2023-09-30T10:01:58.626Z"
   },
   {
    "duration": 34,
    "start_time": "2023-09-30T10:01:59.152Z"
   },
   {
    "duration": 27,
    "start_time": "2023-09-30T10:01:59.188Z"
   },
   {
    "duration": 34,
    "start_time": "2023-09-30T10:01:59.217Z"
   },
   {
    "duration": 4,
    "start_time": "2023-09-30T10:01:59.252Z"
   },
   {
    "duration": 22,
    "start_time": "2023-09-30T10:01:59.258Z"
   },
   {
    "duration": 16,
    "start_time": "2023-09-30T10:01:59.281Z"
   },
   {
    "duration": 41,
    "start_time": "2023-09-30T10:01:59.298Z"
   },
   {
    "duration": 29,
    "start_time": "2023-09-30T10:01:59.341Z"
   },
   {
    "duration": 29,
    "start_time": "2023-09-30T10:01:59.371Z"
   },
   {
    "duration": 25,
    "start_time": "2023-09-30T10:01:59.401Z"
   },
   {
    "duration": 84,
    "start_time": "2023-09-30T10:01:59.428Z"
   },
   {
    "duration": 66,
    "start_time": "2023-09-30T10:01:59.514Z"
   },
   {
    "duration": 26,
    "start_time": "2023-09-30T10:01:59.582Z"
   },
   {
    "duration": 8,
    "start_time": "2023-09-30T10:01:59.609Z"
   },
   {
    "duration": 52,
    "start_time": "2023-09-30T10:01:59.618Z"
   },
   {
    "duration": 34,
    "start_time": "2023-09-30T10:01:59.672Z"
   },
   {
    "duration": 13,
    "start_time": "2023-09-30T10:01:59.708Z"
   },
   {
    "duration": 2138,
    "start_time": "2023-09-30T10:01:59.722Z"
   },
   {
    "duration": 20,
    "start_time": "2023-09-30T10:02:01.861Z"
   },
   {
    "duration": 141,
    "start_time": "2023-09-30T10:02:01.883Z"
   },
   {
    "duration": 1180,
    "start_time": "2023-09-30T10:02:02.025Z"
   },
   {
    "duration": 412,
    "start_time": "2023-09-30T10:02:03.206Z"
   },
   {
    "duration": 43,
    "start_time": "2023-09-30T10:02:03.620Z"
   },
   {
    "duration": 249,
    "start_time": "2023-09-30T10:02:03.665Z"
   },
   {
    "duration": 504,
    "start_time": "2023-09-30T10:02:03.915Z"
   },
   {
    "duration": 34,
    "start_time": "2023-09-30T10:02:04.423Z"
   },
   {
    "duration": 102,
    "start_time": "2023-09-30T10:02:04.459Z"
   },
   {
    "duration": 602,
    "start_time": "2023-09-30T10:02:04.562Z"
   },
   {
    "duration": 53,
    "start_time": "2023-09-30T10:02:05.166Z"
   },
   {
    "duration": 15,
    "start_time": "2023-09-30T10:02:05.220Z"
   },
   {
    "duration": 109,
    "start_time": "2023-09-30T10:02:05.250Z"
   },
   {
    "duration": 0,
    "start_time": "2023-09-30T10:02:05.360Z"
   },
   {
    "duration": 0,
    "start_time": "2023-09-30T10:02:05.362Z"
   },
   {
    "duration": 0,
    "start_time": "2023-09-30T10:02:05.363Z"
   },
   {
    "duration": 0,
    "start_time": "2023-09-30T10:02:05.364Z"
   },
   {
    "duration": 0,
    "start_time": "2023-09-30T10:02:05.365Z"
   },
   {
    "duration": 0,
    "start_time": "2023-09-30T10:02:05.366Z"
   },
   {
    "duration": 0,
    "start_time": "2023-09-30T10:02:05.367Z"
   },
   {
    "duration": 0,
    "start_time": "2023-09-30T10:02:05.368Z"
   },
   {
    "duration": 0,
    "start_time": "2023-09-30T10:02:05.369Z"
   },
   {
    "duration": 0,
    "start_time": "2023-09-30T10:02:05.371Z"
   },
   {
    "duration": 0,
    "start_time": "2023-09-30T10:02:05.372Z"
   },
   {
    "duration": 0,
    "start_time": "2023-09-30T10:02:05.373Z"
   },
   {
    "duration": 0,
    "start_time": "2023-09-30T10:02:05.374Z"
   },
   {
    "duration": 0,
    "start_time": "2023-09-30T10:02:05.375Z"
   },
   {
    "duration": 0,
    "start_time": "2023-09-30T10:02:05.376Z"
   },
   {
    "duration": 0,
    "start_time": "2023-09-30T10:02:05.377Z"
   },
   {
    "duration": 0,
    "start_time": "2023-09-30T10:02:05.378Z"
   },
   {
    "duration": 0,
    "start_time": "2023-09-30T10:02:05.379Z"
   },
   {
    "duration": 0,
    "start_time": "2023-09-30T10:02:05.381Z"
   },
   {
    "duration": 0,
    "start_time": "2023-09-30T10:02:05.382Z"
   },
   {
    "duration": 0,
    "start_time": "2023-09-30T10:02:05.383Z"
   },
   {
    "duration": 0,
    "start_time": "2023-09-30T10:02:05.384Z"
   },
   {
    "duration": 1520,
    "start_time": "2023-09-30T10:02:51.314Z"
   },
   {
    "duration": 229,
    "start_time": "2023-09-30T10:03:25.581Z"
   },
   {
    "duration": 275,
    "start_time": "2023-09-30T10:04:29.349Z"
   },
   {
    "duration": 14,
    "start_time": "2023-09-30T10:06:02.224Z"
   },
   {
    "duration": 927,
    "start_time": "2023-09-30T10:06:58.987Z"
   },
   {
    "duration": 6,
    "start_time": "2023-09-30T10:09:12.660Z"
   },
   {
    "duration": 35,
    "start_time": "2023-09-30T10:11:11.723Z"
   },
   {
    "duration": 41,
    "start_time": "2023-09-30T10:11:24.895Z"
   },
   {
    "duration": 2110,
    "start_time": "2023-09-30T10:12:01.310Z"
   },
   {
    "duration": 67,
    "start_time": "2023-09-30T10:12:17.800Z"
   },
   {
    "duration": 61,
    "start_time": "2023-09-30T10:12:28.140Z"
   },
   {
    "duration": 60,
    "start_time": "2023-09-30T10:13:43.985Z"
   },
   {
    "duration": 71,
    "start_time": "2023-09-30T10:14:30.303Z"
   },
   {
    "duration": 14,
    "start_time": "2023-09-30T10:16:57.362Z"
   },
   {
    "duration": 11,
    "start_time": "2023-09-30T10:17:26.026Z"
   },
   {
    "duration": 15,
    "start_time": "2023-09-30T10:17:46.953Z"
   },
   {
    "duration": 15,
    "start_time": "2023-09-30T10:18:42.360Z"
   },
   {
    "duration": 12,
    "start_time": "2023-09-30T10:18:50.274Z"
   },
   {
    "duration": 152,
    "start_time": "2023-09-30T10:20:29.827Z"
   },
   {
    "duration": 138,
    "start_time": "2023-09-30T10:23:09.680Z"
   },
   {
    "duration": 13,
    "start_time": "2023-09-30T10:24:11.941Z"
   },
   {
    "duration": 215,
    "start_time": "2023-09-30T10:24:19.309Z"
   },
   {
    "duration": 11,
    "start_time": "2023-09-30T10:25:39.898Z"
   },
   {
    "duration": 11,
    "start_time": "2023-09-30T10:26:12.633Z"
   },
   {
    "duration": 12,
    "start_time": "2023-09-30T10:26:25.040Z"
   },
   {
    "duration": 117,
    "start_time": "2023-09-30T10:27:58.438Z"
   },
   {
    "duration": 11,
    "start_time": "2023-09-30T10:30:20.766Z"
   },
   {
    "duration": 1297,
    "start_time": "2023-09-30T10:30:23.726Z"
   },
   {
    "duration": 14,
    "start_time": "2023-09-30T10:31:25.822Z"
   },
   {
    "duration": 157,
    "start_time": "2023-09-30T10:31:33.316Z"
   },
   {
    "duration": 162,
    "start_time": "2023-09-30T10:31:44.018Z"
   },
   {
    "duration": 148,
    "start_time": "2023-09-30T10:32:39.850Z"
   },
   {
    "duration": 184,
    "start_time": "2023-09-30T10:33:15.967Z"
   },
   {
    "duration": 14,
    "start_time": "2023-09-30T10:34:17.651Z"
   },
   {
    "duration": 14,
    "start_time": "2023-09-30T10:35:10.535Z"
   },
   {
    "duration": 16,
    "start_time": "2023-09-30T10:35:31.925Z"
   },
   {
    "duration": 15,
    "start_time": "2023-09-30T10:36:31.835Z"
   },
   {
    "duration": 4,
    "start_time": "2023-09-30T10:37:07.145Z"
   },
   {
    "duration": 4,
    "start_time": "2023-09-30T10:37:17.768Z"
   },
   {
    "duration": 1279,
    "start_time": "2023-09-30T10:39:09.303Z"
   },
   {
    "duration": 49,
    "start_time": "2023-09-30T10:39:20.642Z"
   },
   {
    "duration": 91,
    "start_time": "2023-09-30T10:39:41.198Z"
   },
   {
    "duration": 142,
    "start_time": "2023-09-30T10:40:43.384Z"
   },
   {
    "duration": 148,
    "start_time": "2023-09-30T10:41:21.199Z"
   },
   {
    "duration": 85,
    "start_time": "2023-09-30T10:43:33.425Z"
   },
   {
    "duration": 152,
    "start_time": "2023-09-30T10:45:08.408Z"
   },
   {
    "duration": 144,
    "start_time": "2023-09-30T10:45:28.716Z"
   },
   {
    "duration": 151,
    "start_time": "2023-09-30T10:46:01.607Z"
   },
   {
    "duration": 154,
    "start_time": "2023-09-30T10:46:33.227Z"
   },
   {
    "duration": 4,
    "start_time": "2023-09-30T10:48:15.717Z"
   },
   {
    "duration": 559,
    "start_time": "2023-09-30T10:48:15.723Z"
   },
   {
    "duration": 40,
    "start_time": "2023-09-30T10:48:16.284Z"
   },
   {
    "duration": 51,
    "start_time": "2023-09-30T10:48:16.326Z"
   },
   {
    "duration": 22,
    "start_time": "2023-09-30T10:48:16.380Z"
   },
   {
    "duration": 5,
    "start_time": "2023-09-30T10:48:16.404Z"
   },
   {
    "duration": 19,
    "start_time": "2023-09-30T10:48:16.411Z"
   },
   {
    "duration": 37,
    "start_time": "2023-09-30T10:48:16.432Z"
   },
   {
    "duration": 49,
    "start_time": "2023-09-30T10:48:16.471Z"
   },
   {
    "duration": 25,
    "start_time": "2023-09-30T10:48:16.522Z"
   },
   {
    "duration": 47,
    "start_time": "2023-09-30T10:48:16.549Z"
   },
   {
    "duration": 29,
    "start_time": "2023-09-30T10:48:16.598Z"
   },
   {
    "duration": 59,
    "start_time": "2023-09-30T10:48:16.628Z"
   },
   {
    "duration": 60,
    "start_time": "2023-09-30T10:48:16.689Z"
   },
   {
    "duration": 28,
    "start_time": "2023-09-30T10:48:16.751Z"
   },
   {
    "duration": 10,
    "start_time": "2023-09-30T10:48:16.781Z"
   },
   {
    "duration": 59,
    "start_time": "2023-09-30T10:48:16.793Z"
   },
   {
    "duration": 49,
    "start_time": "2023-09-30T10:48:16.853Z"
   },
   {
    "duration": 10,
    "start_time": "2023-09-30T10:48:16.904Z"
   },
   {
    "duration": 2239,
    "start_time": "2023-09-30T10:48:16.916Z"
   },
   {
    "duration": 19,
    "start_time": "2023-09-30T10:48:19.156Z"
   },
   {
    "duration": 110,
    "start_time": "2023-09-30T10:48:19.177Z"
   },
   {
    "duration": 1084,
    "start_time": "2023-09-30T10:48:19.288Z"
   },
   {
    "duration": 361,
    "start_time": "2023-09-30T10:48:20.374Z"
   },
   {
    "duration": 42,
    "start_time": "2023-09-30T10:48:20.736Z"
   },
   {
    "duration": 109,
    "start_time": "2023-09-30T10:48:20.779Z"
   },
   {
    "duration": 465,
    "start_time": "2023-09-30T10:48:20.889Z"
   },
   {
    "duration": 27,
    "start_time": "2023-09-30T10:48:21.356Z"
   },
   {
    "duration": 98,
    "start_time": "2023-09-30T10:48:21.385Z"
   },
   {
    "duration": 536,
    "start_time": "2023-09-30T10:48:21.484Z"
   },
   {
    "duration": 58,
    "start_time": "2023-09-30T10:48:22.022Z"
   },
   {
    "duration": 58,
    "start_time": "2023-09-30T10:48:22.082Z"
   },
   {
    "duration": 71,
    "start_time": "2023-09-30T10:48:22.150Z"
   },
   {
    "duration": 27,
    "start_time": "2023-09-30T10:48:22.223Z"
   },
   {
    "duration": 86,
    "start_time": "2023-09-30T10:48:22.252Z"
   },
   {
    "duration": 432,
    "start_time": "2023-09-30T10:48:22.340Z"
   },
   {
    "duration": 69,
    "start_time": "2023-09-30T10:48:27.247Z"
   },
   {
    "duration": 227,
    "start_time": "2023-09-30T10:48:54.775Z"
   },
   {
    "duration": 115,
    "start_time": "2023-09-30T10:48:59.927Z"
   },
   {
    "duration": 266,
    "start_time": "2023-09-30T10:49:03.850Z"
   },
   {
    "duration": 34,
    "start_time": "2023-09-30T10:49:09.838Z"
   },
   {
    "duration": 35,
    "start_time": "2023-09-30T10:52:37.608Z"
   },
   {
    "duration": 37,
    "start_time": "2023-09-30T10:53:41.938Z"
   },
   {
    "duration": 4,
    "start_time": "2023-09-30T10:55:23.474Z"
   },
   {
    "duration": 46,
    "start_time": "2023-09-30T10:55:33.074Z"
   },
   {
    "duration": 53,
    "start_time": "2023-09-30T10:56:34.653Z"
   },
   {
    "duration": 106,
    "start_time": "2023-09-30T10:57:07.283Z"
   },
   {
    "duration": 1009,
    "start_time": "2023-09-30T10:57:10.899Z"
   },
   {
    "duration": 1893,
    "start_time": "2023-09-30T10:57:12.307Z"
   },
   {
    "duration": 33,
    "start_time": "2023-09-30T10:57:17.503Z"
   },
   {
    "duration": 76,
    "start_time": "2023-09-30T10:57:20.434Z"
   },
   {
    "duration": 5,
    "start_time": "2023-09-30T10:57:21.981Z"
   },
   {
    "duration": 332,
    "start_time": "2023-09-30T10:57:23.629Z"
   },
   {
    "duration": 7,
    "start_time": "2023-09-30T10:57:27.657Z"
   },
   {
    "duration": 9,
    "start_time": "2023-09-30T10:58:18.640Z"
   },
   {
    "duration": 83,
    "start_time": "2023-09-30T10:58:19.656Z"
   },
   {
    "duration": 102,
    "start_time": "2023-09-30T11:06:47.400Z"
   },
   {
    "duration": 29,
    "start_time": "2023-09-30T11:07:21.523Z"
   },
   {
    "duration": 3,
    "start_time": "2023-09-30T11:07:24.149Z"
   },
   {
    "duration": 2068,
    "start_time": "2023-09-30T11:08:30.640Z"
   },
   {
    "duration": 4,
    "start_time": "2023-09-30T11:09:16.228Z"
   },
   {
    "duration": 10,
    "start_time": "2023-09-30T11:10:13.954Z"
   },
   {
    "duration": 3,
    "start_time": "2023-09-30T11:10:19.555Z"
   },
   {
    "duration": 95,
    "start_time": "2023-09-30T13:12:36.282Z"
   },
   {
    "duration": 9,
    "start_time": "2023-09-30T13:17:07.150Z"
   },
   {
    "duration": 1173,
    "start_time": "2023-09-30T13:17:56.109Z"
   },
   {
    "duration": 15,
    "start_time": "2023-09-30T13:19:31.920Z"
   },
   {
    "duration": 16,
    "start_time": "2023-09-30T13:21:00.204Z"
   },
   {
    "duration": 6,
    "start_time": "2023-09-30T13:21:11.790Z"
   },
   {
    "duration": 16,
    "start_time": "2023-09-30T13:34:46.444Z"
   },
   {
    "duration": 136,
    "start_time": "2023-09-30T13:35:54.048Z"
   },
   {
    "duration": 5,
    "start_time": "2023-09-30T13:36:03.109Z"
   },
   {
    "duration": 764,
    "start_time": "2023-09-30T13:36:03.116Z"
   },
   {
    "duration": 35,
    "start_time": "2023-09-30T13:36:03.882Z"
   },
   {
    "duration": 49,
    "start_time": "2023-09-30T13:36:03.919Z"
   },
   {
    "duration": 52,
    "start_time": "2023-09-30T13:36:03.969Z"
   },
   {
    "duration": 52,
    "start_time": "2023-09-30T13:36:04.022Z"
   },
   {
    "duration": 53,
    "start_time": "2023-09-30T13:36:04.075Z"
   },
   {
    "duration": 17,
    "start_time": "2023-09-30T13:36:04.129Z"
   },
   {
    "duration": 44,
    "start_time": "2023-09-30T13:36:04.148Z"
   },
   {
    "duration": 30,
    "start_time": "2023-09-30T13:36:04.193Z"
   },
   {
    "duration": 34,
    "start_time": "2023-09-30T13:36:04.224Z"
   },
   {
    "duration": 35,
    "start_time": "2023-09-30T13:36:04.260Z"
   },
   {
    "duration": 129,
    "start_time": "2023-09-30T13:36:04.296Z"
   },
   {
    "duration": 62,
    "start_time": "2023-09-30T13:36:04.427Z"
   },
   {
    "duration": 23,
    "start_time": "2023-09-30T13:36:04.491Z"
   },
   {
    "duration": 8,
    "start_time": "2023-09-30T13:36:04.515Z"
   },
   {
    "duration": 57,
    "start_time": "2023-09-30T13:36:04.524Z"
   },
   {
    "duration": 37,
    "start_time": "2023-09-30T13:36:04.584Z"
   },
   {
    "duration": 9,
    "start_time": "2023-09-30T13:36:04.623Z"
   },
   {
    "duration": 2180,
    "start_time": "2023-09-30T13:36:04.634Z"
   },
   {
    "duration": 18,
    "start_time": "2023-09-30T13:36:06.816Z"
   },
   {
    "duration": 119,
    "start_time": "2023-09-30T13:36:06.836Z"
   },
   {
    "duration": 1089,
    "start_time": "2023-09-30T13:36:06.956Z"
   },
   {
    "duration": 391,
    "start_time": "2023-09-30T13:36:08.046Z"
   },
   {
    "duration": 39,
    "start_time": "2023-09-30T13:36:08.439Z"
   },
   {
    "duration": 192,
    "start_time": "2023-09-30T13:36:08.480Z"
   },
   {
    "duration": 508,
    "start_time": "2023-09-30T13:36:08.674Z"
   },
   {
    "duration": 34,
    "start_time": "2023-09-30T13:36:09.184Z"
   },
   {
    "duration": 123,
    "start_time": "2023-09-30T13:36:09.220Z"
   },
   {
    "duration": 549,
    "start_time": "2023-09-30T13:36:09.349Z"
   },
   {
    "duration": 69,
    "start_time": "2023-09-30T13:36:09.900Z"
   },
   {
    "duration": 63,
    "start_time": "2023-09-30T13:36:09.971Z"
   },
   {
    "duration": 113,
    "start_time": "2023-09-30T13:36:10.035Z"
   },
   {
    "duration": 14,
    "start_time": "2023-09-30T13:36:10.149Z"
   },
   {
    "duration": 113,
    "start_time": "2023-09-30T13:36:10.165Z"
   },
   {
    "duration": 432,
    "start_time": "2023-09-30T13:36:10.279Z"
   },
   {
    "duration": 87,
    "start_time": "2023-09-30T13:36:10.712Z"
   },
   {
    "duration": 239,
    "start_time": "2023-09-30T13:36:10.801Z"
   },
   {
    "duration": 225,
    "start_time": "2023-09-30T13:36:11.041Z"
   },
   {
    "duration": 316,
    "start_time": "2023-09-30T13:36:11.267Z"
   },
   {
    "duration": 49,
    "start_time": "2023-09-30T13:36:11.587Z"
   },
   {
    "duration": 131,
    "start_time": "2023-09-30T13:36:11.650Z"
   },
   {
    "duration": 1021,
    "start_time": "2023-09-30T13:36:11.783Z"
   },
   {
    "duration": 1907,
    "start_time": "2023-09-30T13:36:12.806Z"
   },
   {
    "duration": 39,
    "start_time": "2023-09-30T13:36:14.715Z"
   },
   {
    "duration": 62,
    "start_time": "2023-09-30T13:36:14.756Z"
   },
   {
    "duration": 4,
    "start_time": "2023-09-30T13:36:14.820Z"
   },
   {
    "duration": 371,
    "start_time": "2023-09-30T13:36:14.826Z"
   },
   {
    "duration": 7,
    "start_time": "2023-09-30T13:36:15.198Z"
   },
   {
    "duration": 22,
    "start_time": "2023-09-30T13:36:15.206Z"
   },
   {
    "duration": 87,
    "start_time": "2023-09-30T13:36:15.230Z"
   },
   {
    "duration": 3,
    "start_time": "2023-09-30T13:36:15.319Z"
   },
   {
    "duration": 23,
    "start_time": "2023-09-30T13:36:15.323Z"
   },
   {
    "duration": 13,
    "start_time": "2023-09-30T13:36:26.609Z"
   },
   {
    "duration": 319,
    "start_time": "2023-09-30T13:37:36.066Z"
   },
   {
    "duration": 42,
    "start_time": "2023-09-30T13:37:42.392Z"
   },
   {
    "duration": 9,
    "start_time": "2023-09-30T13:39:21.929Z"
   },
   {
    "duration": 9,
    "start_time": "2023-09-30T14:24:16.287Z"
   },
   {
    "duration": 7,
    "start_time": "2023-09-30T14:24:44.865Z"
   },
   {
    "duration": 10,
    "start_time": "2023-09-30T14:28:15.266Z"
   },
   {
    "duration": 12,
    "start_time": "2023-09-30T14:29:33.903Z"
   },
   {
    "duration": 14,
    "start_time": "2023-09-30T14:30:24.939Z"
   },
   {
    "duration": 15,
    "start_time": "2023-09-30T14:30:36.040Z"
   },
   {
    "duration": 14,
    "start_time": "2023-09-30T14:33:26.963Z"
   },
   {
    "duration": 5,
    "start_time": "2023-09-30T14:49:09.909Z"
   },
   {
    "duration": 537,
    "start_time": "2023-09-30T14:49:09.918Z"
   },
   {
    "duration": 38,
    "start_time": "2023-09-30T14:49:10.457Z"
   },
   {
    "duration": 25,
    "start_time": "2023-09-30T14:49:10.497Z"
   },
   {
    "duration": 35,
    "start_time": "2023-09-30T14:49:10.524Z"
   },
   {
    "duration": 7,
    "start_time": "2023-09-30T14:49:10.562Z"
   },
   {
    "duration": 17,
    "start_time": "2023-09-30T14:49:10.571Z"
   },
   {
    "duration": 11,
    "start_time": "2023-09-30T14:49:10.589Z"
   },
   {
    "duration": 65,
    "start_time": "2023-09-30T14:49:10.602Z"
   },
   {
    "duration": 23,
    "start_time": "2023-09-30T14:49:10.669Z"
   },
   {
    "duration": 28,
    "start_time": "2023-09-30T14:49:10.694Z"
   },
   {
    "duration": 34,
    "start_time": "2023-09-30T14:49:10.723Z"
   },
   {
    "duration": 57,
    "start_time": "2023-09-30T14:49:10.758Z"
   },
   {
    "duration": 73,
    "start_time": "2023-09-30T14:49:10.817Z"
   },
   {
    "duration": 23,
    "start_time": "2023-09-30T14:49:10.893Z"
   },
   {
    "duration": 7,
    "start_time": "2023-09-30T14:49:10.918Z"
   },
   {
    "duration": 50,
    "start_time": "2023-09-30T14:49:10.927Z"
   },
   {
    "duration": 35,
    "start_time": "2023-09-30T14:49:10.979Z"
   },
   {
    "duration": 9,
    "start_time": "2023-09-30T14:49:11.015Z"
   },
   {
    "duration": 2073,
    "start_time": "2023-09-30T14:49:11.025Z"
   },
   {
    "duration": 20,
    "start_time": "2023-09-30T14:49:13.099Z"
   },
   {
    "duration": 113,
    "start_time": "2023-09-30T14:49:13.120Z"
   },
   {
    "duration": 1189,
    "start_time": "2023-09-30T14:49:13.234Z"
   },
   {
    "duration": 414,
    "start_time": "2023-09-30T14:49:14.425Z"
   },
   {
    "duration": 39,
    "start_time": "2023-09-30T14:49:14.841Z"
   },
   {
    "duration": 127,
    "start_time": "2023-09-30T14:49:14.881Z"
   },
   {
    "duration": 480,
    "start_time": "2023-09-30T14:49:15.010Z"
   },
   {
    "duration": 31,
    "start_time": "2023-09-30T14:49:15.492Z"
   },
   {
    "duration": 105,
    "start_time": "2023-09-30T14:49:15.525Z"
   },
   {
    "duration": 1776,
    "start_time": "2023-10-01T06:49:11.014Z"
   },
   {
    "duration": 682,
    "start_time": "2023-10-01T06:49:12.792Z"
   },
   {
    "duration": 44,
    "start_time": "2023-10-01T06:49:13.475Z"
   },
   {
    "duration": 58,
    "start_time": "2023-10-01T06:49:13.521Z"
   },
   {
    "duration": 26,
    "start_time": "2023-10-01T06:49:13.580Z"
   },
   {
    "duration": 20,
    "start_time": "2023-10-01T06:49:13.608Z"
   },
   {
    "duration": 33,
    "start_time": "2023-10-01T06:49:13.631Z"
   },
   {
    "duration": 11,
    "start_time": "2023-10-01T06:49:13.666Z"
   },
   {
    "duration": 55,
    "start_time": "2023-10-01T06:49:13.678Z"
   },
   {
    "duration": 43,
    "start_time": "2023-10-01T06:49:13.739Z"
   },
   {
    "duration": 52,
    "start_time": "2023-10-01T06:49:13.784Z"
   },
   {
    "duration": 60,
    "start_time": "2023-10-01T06:49:13.839Z"
   },
   {
    "duration": 110,
    "start_time": "2023-10-01T06:49:13.901Z"
   },
   {
    "duration": 107,
    "start_time": "2023-10-01T06:49:14.013Z"
   },
   {
    "duration": 50,
    "start_time": "2023-10-01T06:49:14.122Z"
   },
   {
    "duration": 74,
    "start_time": "2023-10-01T06:49:14.174Z"
   },
   {
    "duration": 111,
    "start_time": "2023-10-01T06:49:14.250Z"
   },
   {
    "duration": 44,
    "start_time": "2023-10-01T06:49:14.363Z"
   },
   {
    "duration": 74,
    "start_time": "2023-10-01T06:49:14.409Z"
   },
   {
    "duration": 2657,
    "start_time": "2023-10-01T06:49:14.485Z"
   },
   {
    "duration": 28,
    "start_time": "2023-10-01T06:49:17.144Z"
   },
   {
    "duration": 171,
    "start_time": "2023-10-01T06:49:17.174Z"
   },
   {
    "duration": 1384,
    "start_time": "2023-10-01T06:49:17.347Z"
   },
   {
    "duration": 585,
    "start_time": "2023-10-01T06:49:18.733Z"
   },
   {
    "duration": 36,
    "start_time": "2023-10-01T06:49:19.320Z"
   },
   {
    "duration": 150,
    "start_time": "2023-10-01T06:49:19.358Z"
   },
   {
    "duration": 665,
    "start_time": "2023-10-01T06:49:19.509Z"
   },
   {
    "duration": 33,
    "start_time": "2023-10-01T06:49:20.178Z"
   },
   {
    "duration": 170,
    "start_time": "2023-10-01T06:49:20.224Z"
   },
   {
    "duration": 657,
    "start_time": "2023-10-01T06:49:20.397Z"
   },
   {
    "duration": 71,
    "start_time": "2023-10-01T06:49:21.056Z"
   },
   {
    "duration": 73,
    "start_time": "2023-10-01T06:49:21.129Z"
   },
   {
    "duration": 103,
    "start_time": "2023-10-01T06:49:21.203Z"
   },
   {
    "duration": 67,
    "start_time": "2023-10-01T06:49:21.307Z"
   },
   {
    "duration": 179,
    "start_time": "2023-10-01T06:49:21.376Z"
   },
   {
    "duration": 532,
    "start_time": "2023-10-01T06:49:21.557Z"
   },
   {
    "duration": 98,
    "start_time": "2023-10-01T06:49:22.090Z"
   },
   {
    "duration": 301,
    "start_time": "2023-10-01T06:49:22.189Z"
   },
   {
    "duration": 149,
    "start_time": "2023-10-01T06:49:22.492Z"
   },
   {
    "duration": 348,
    "start_time": "2023-10-01T06:49:22.643Z"
   },
   {
    "duration": 65,
    "start_time": "2023-10-01T06:49:22.993Z"
   },
   {
    "duration": 245,
    "start_time": "2023-10-01T06:49:23.060Z"
   },
   {
    "duration": 1068,
    "start_time": "2023-10-01T06:49:23.307Z"
   },
   {
    "duration": 2036,
    "start_time": "2023-10-01T06:49:24.377Z"
   },
   {
    "duration": 45,
    "start_time": "2023-10-01T06:49:26.415Z"
   },
   {
    "duration": 100,
    "start_time": "2023-10-01T06:49:26.462Z"
   },
   {
    "duration": 41,
    "start_time": "2023-10-01T06:49:26.563Z"
   },
   {
    "duration": 457,
    "start_time": "2023-10-01T06:49:26.605Z"
   },
   {
    "duration": 7,
    "start_time": "2023-10-01T06:49:27.064Z"
   },
   {
    "duration": 35,
    "start_time": "2023-10-01T06:49:27.073Z"
   },
   {
    "duration": 118,
    "start_time": "2023-10-01T06:49:27.110Z"
   },
   {
    "duration": 155,
    "start_time": "2023-10-01T06:49:27.229Z"
   },
   {
    "duration": 0,
    "start_time": "2023-10-01T06:49:27.385Z"
   },
   {
    "duration": 0,
    "start_time": "2023-10-01T06:49:27.386Z"
   },
   {
    "duration": 0,
    "start_time": "2023-10-01T06:49:27.387Z"
   },
   {
    "duration": 0,
    "start_time": "2023-10-01T06:49:27.388Z"
   },
   {
    "duration": 14,
    "start_time": "2023-10-01T06:56:02.034Z"
   },
   {
    "duration": 5,
    "start_time": "2023-10-01T06:56:10.122Z"
   },
   {
    "duration": 17,
    "start_time": "2023-10-01T06:57:56.801Z"
   },
   {
    "duration": 10,
    "start_time": "2023-10-01T06:57:58.488Z"
   },
   {
    "duration": 19,
    "start_time": "2023-10-01T06:57:59.613Z"
   },
   {
    "duration": 80,
    "start_time": "2023-10-01T08:05:33.898Z"
   },
   {
    "duration": 398,
    "start_time": "2023-10-01T10:24:35.884Z"
   },
   {
    "duration": 397,
    "start_time": "2023-10-01T10:35:25.063Z"
   },
   {
    "duration": 101,
    "start_time": "2023-10-01T10:41:05.742Z"
   },
   {
    "duration": 584,
    "start_time": "2023-10-01T10:43:29.708Z"
   },
   {
    "duration": 90,
    "start_time": "2023-10-01T10:52:13.390Z"
   },
   {
    "duration": 90,
    "start_time": "2023-10-01T10:58:33.654Z"
   },
   {
    "duration": 246,
    "start_time": "2023-10-01T11:05:07.051Z"
   },
   {
    "duration": 119,
    "start_time": "2023-10-01T11:07:20.186Z"
   },
   {
    "duration": 115,
    "start_time": "2023-10-01T11:07:31.206Z"
   },
   {
    "duration": 258,
    "start_time": "2023-10-01T11:08:52.670Z"
   },
   {
    "duration": 966,
    "start_time": "2023-10-01T11:15:04.732Z"
   },
   {
    "duration": 1837,
    "start_time": "2023-10-01T11:17:37.920Z"
   },
   {
    "duration": 402,
    "start_time": "2023-10-01T11:19:22.368Z"
   }
  ],
  "kernelspec": {
   "display_name": "Python 3 (ipykernel)",
   "language": "python",
   "name": "python3"
  },
  "language_info": {
   "codemirror_mode": {
    "name": "ipython",
    "version": 3
   },
   "file_extension": ".py",
   "mimetype": "text/x-python",
   "name": "python",
   "nbconvert_exporter": "python",
   "pygments_lexer": "ipython3",
   "version": "3.10.9"
  },
  "toc": {
   "base_numbering": 1,
   "nav_menu": {},
   "number_sections": true,
   "sideBar": true,
   "skip_h1_title": false,
   "title_cell": "",
   "title_sidebar": "Contents",
   "toc_cell": true,
   "toc_position": {
    "height": "calc(100% - 180px)",
    "left": "10px",
    "top": "150px",
    "width": "211px"
   },
   "toc_section_display": true,
   "toc_window_display": true
  }
 },
 "nbformat": 4,
 "nbformat_minor": 5
}
