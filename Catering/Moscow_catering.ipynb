{
 "cells": [
  {
   "cell_type": "markdown",
   "metadata": {},
   "source": [
    "# **Project 'Market Research for Catering in Moscow**"
   ]
  },
  {
   "cell_type": "markdown",
   "metadata": {
    "toc": true
   },
   "source": [
    "<h1>Contents<span class=\"tocSkip\"></span></h1>\n",
    "<div class=\"toc\"><ul class=\"toc-item\"><li><span><a href=\"#Introduction-to-Data.-Preliminary-Stage\" data-toc-modified-id=\"Introduction-to-Data.-Preliminary-Stage-1\"><span class=\"toc-item-num\">1&nbsp;&nbsp;</span>Introduction to Data. Preliminary Stage</a></span><ul class=\"toc-item\"><li><span><a href=\"#Creating-new-columns\" data-toc-modified-id=\"Creating-new-columns-1.1\"><span class=\"toc-item-num\">1.1&nbsp;&nbsp;</span>Creating new columns</a></span></li></ul></li><li><span><a href=\"#Analysis-by-establishment-category\" data-toc-modified-id=\"Analysis-by-establishment-category-2\"><span class=\"toc-item-num\">2&nbsp;&nbsp;</span>Analysis by establishment category</a></span></li><li><span><a href=\"#Seating-capacity-by-category\" data-toc-modified-id=\"Seating-capacity-by-category-3\"><span class=\"toc-item-num\">3&nbsp;&nbsp;</span>Seating capacity by category</a></span></li><li><span><a href=\"#Chain-vs.-Independent-establishments\" data-toc-modified-id=\"Chain-vs.-Independent-establishments-4\"><span class=\"toc-item-num\">4&nbsp;&nbsp;</span>Chain vs. Independent establishments</a></span></li><li><span><a href=\"#Chain-and-non-chain-establishments-by-category\" data-toc-modified-id=\"Chain-and-non-chain-establishments-by-category-5\"><span class=\"toc-item-num\">5&nbsp;&nbsp;</span>Chain and non-chain establishments by category</a></span></li><li><span><a href=\"#Top-15-by-categories\" data-toc-modified-id=\"Top-15-by-categories-6\"><span class=\"toc-item-num\">6&nbsp;&nbsp;</span>Top 15 by categories</a></span></li><li><span><a href=\"#Distribution-by-Moscow-Administrative-Districts\" data-toc-modified-id=\"Distribution-by-Moscow-Administrative-Districts-7\"><span class=\"toc-item-num\">7&nbsp;&nbsp;</span>Distribution by Moscow Administrative Districts</a></span></li><li><span><a href=\"#Ratings-by-Category\" data-toc-modified-id=\"Ratings-by-Category-8\"><span class=\"toc-item-num\">8&nbsp;&nbsp;</span>Ratings by Category</a></span></li><li><span><a href=\"#Ratings-by-Districts\" data-toc-modified-id=\"Ratings-by-Districts-9\"><span class=\"toc-item-num\">9&nbsp;&nbsp;</span>Ratings by Districts</a></span></li><li><span><a href=\"#TOP-15-streets-by-the-number-of-establishments\" data-toc-modified-id=\"TOP-15-streets-by-the-number-of-establishments-10\"><span class=\"toc-item-num\">10&nbsp;&nbsp;</span>TOP 15 streets by the number of establishments</a></span></li><li><span><a href=\"#Streets-with-the-only-establishment\" data-toc-modified-id=\"Streets-with-the-only-establishment-11\"><span class=\"toc-item-num\">11&nbsp;&nbsp;</span>Streets with the only establishment</a></span></li><li><span><a href=\"#Median-of-the-average-bill-by-districts\" data-toc-modified-id=\"Median-of-the-average-bill-by-districts-12\"><span class=\"toc-item-num\">12&nbsp;&nbsp;</span>Median of the average bill by districts</a></span></li><li><span><a href=\"#Conclusion\" data-toc-modified-id=\"Conclusion-13\"><span class=\"toc-item-num\">13&nbsp;&nbsp;</span>Conclusion</a></span></li><li><span><a href=\"#Detailed-Study:-Opening-a-Coffee-Shop\" data-toc-modified-id=\"Detailed-Study:-Opening-a-Coffee-Shop-14\"><span class=\"toc-item-num\">14&nbsp;&nbsp;</span>Detailed Study: Opening a Coffee Shop</a></span><ul class=\"toc-item\"><li><span><a href=\"#Competitors\" data-toc-modified-id=\"Competitors-14.1\"><span class=\"toc-item-num\">14.1&nbsp;&nbsp;</span>Competitors</a></span></li><li><span><a href=\"#Operating-Hours\" data-toc-modified-id=\"Operating-Hours-14.2\"><span class=\"toc-item-num\">14.2&nbsp;&nbsp;</span>Operating Hours</a></span></li><li><span><a href=\"#Ratings\" data-toc-modified-id=\"Ratings-14.3\"><span class=\"toc-item-num\">14.3&nbsp;&nbsp;</span>Ratings</a></span></li><li><span><a href=\"#Стоимость-чашки-капучино\" data-toc-modified-id=\"Стоимость-чашки-капучино-14.4\"><span class=\"toc-item-num\">14.4&nbsp;&nbsp;</span>Стоимость чашки капучино</a></span></li><li><span><a href=\"#Price-category\" data-toc-modified-id=\"Price-category-14.5\"><span class=\"toc-item-num\">14.5&nbsp;&nbsp;</span>Price category</a></span></li><li><span><a href=\"#Conclusions-and-Recommendations\" data-toc-modified-id=\"Conclusions-and-Recommendations-14.6\"><span class=\"toc-item-num\">14.6&nbsp;&nbsp;</span>Conclusions and Recommendations</a></span></li></ul></li></ul></div>"
   ]
  },
  {
   "cell_type": "markdown",
   "metadata": {},
   "source": [
    "During this project, we will assist the investors of the fund in analyzing the locations of public dining establishments in Moscow. We will endeavor to discover interesting features and identify patterns that will aid the client in selecting a location and launching a successful startup."
   ]
  },
  {
   "cell_type": "markdown",
   "metadata": {},
   "source": [
    "## Introduction to Data. Preliminary Stage"
   ]
  },
  {
   "cell_type": "code",
   "execution_count": null,
   "metadata": {},
   "outputs": [],
   "source": [
    "pip install folium"
   ]
  },
  {
   "cell_type": "code",
   "execution_count": null,
   "metadata": {},
   "outputs": [],
   "source": [
    "#loading the libraries required for the project\n",
    "import pandas as pd\n",
    "import datetime as dt\n",
    "import numpy as np\n",
    "import matplotlib.pyplot as plt\n",
    "import seaborn as sns\n",
    "import plotly.express as px\n",
    "import json\n",
    "from folium import Map, Choropleth\n",
    "from folium import Marker, Map\n",
    "from folium.plugins import MarkerCluster\n",
    "import folium\n",
    "from math import radians, sin, cos, sqrt, atan2\n",
    "from collections import Counter"
   ]
  },
  {
   "cell_type": "markdown",
   "metadata": {},
   "source": [
    "We have access to a dataset of public catering establishments in Moscow, compiled based on data from Yandex Maps and Yandex Business as of the summer of 2022. The file 'moscow_places.csv' contains:\n",
    "- name — the name of the establishment;\n",
    "- address —  the address of the establishment;\n",
    "- category — the category of the establishment, such as 'cafe,' 'pizzeria,' or 'coffee shop';\n",
    "- hours — information about the days and hours of operation;\n",
    "- lat — the latitude of the geographic point where the establishment is located;\n",
    "- lng — the longitude of the geographic point where the establishment is located;\n",
    "- rating — the establishment's rating based on user ratings in Yandex Maps (highest rating is 5.0);\n",
    "- price — price category in the establishment, such as 'average,' 'below average,' 'above average,' and so on;\n",
    "- avg_bill — a string that stores the average order cost as a range\n",
    "- middle_avg_bill — a numeric value representing the average bill\n",
    "- middle_coffee_cup — a numeric value representing the price of one cup of cappuccino, which is only indicated for values in the 'avg_bill' column starting with the substring 'Price of one cappuccino cup.' \n",
    "1. If a price range of two values is indicated in the row, the median of these two values will be entered into the column.\n",
    "2. If a single number is indicated in the row as the price without a range, that number will be entered into the column.\n",
    "3. If there is no value or it does not start with the substring 'Price of one cappuccino cup,' nothing will be entered into the column.\n",
    "- chain — a binary value expressed as 0 or 1, indicating whether the establishment is part of a chain (there may be errors for small chains). If 0, the establishment is not part of a chain; if 1, the establishment is part of a chain.\n",
    "- district — the administrative district in which the establishment is located, for example, the Central Administrative District;\n",
    "- seats — the number of seating places."
   ]
  },
  {
   "cell_type": "code",
   "execution_count": null,
   "metadata": {},
   "outputs": [],
   "source": [
    "#download the dataset\n",
    "data = pd.read_csv('/Users/tatyanamayorova/Desktop/Yandex/projects/GIT/moscow_places.csv')\n",
    "data.head()"
   ]
  },
  {
   "cell_type": "code",
   "execution_count": null,
   "metadata": {},
   "outputs": [],
   "source": [
    "data.info()"
   ]
  },
  {
   "cell_type": "markdown",
   "metadata": {},
   "source": [
    "Overall, the dataset contains 8,406 Moscow establishments. However, not all columns have complete data. More than half of the data is missing in the 'price' and 'avg_bill' columns, as well as 'middle_avg_bill.' 'Middle_coffee_cup' has very few data points available. The seating capacity is also missing for approximately half of the establishments. For now, we won't address these gaps. There are no issues with data types, although it's worth remembering that 'object' data type can encompass various types of information"
   ]
  },
  {
   "cell_type": "code",
   "execution_count": null,
   "metadata": {},
   "outputs": [],
   "source": [
    "#Let's display duplicates if they exist\n",
    "duplicates = data[data.duplicated()]\n",
    "display(duplicates)\n",
    "#and slightly modify the filter, there may be duplicates by name and address\n",
    "dupl_name_ad = data[data.duplicated(['name','address'], keep='first')]\n",
    "dupl_name_ad"
   ]
  },
  {
   "cell_type": "code",
   "execution_count": null,
   "metadata": {},
   "outputs": [],
   "source": [
    "#take a look at the missing values in the column with operating hours\n",
    "data[data['hours'].isna()].head()"
   ]
  },
  {
   "cell_type": "markdown",
   "metadata": {},
   "source": [
    "It seems that filling in the missing values here is not logical. For instance, we can identify all chain establishments and assume that they have the same operating hours, but that is often not the case. Operating hours are more likely to depend on the location. However, filling in the operating hours based on the district or street would be incorrect. If the establishment is located in a shopping mall, its operating hours will match those of the mall. If it's a standalone establishment, its operating hours may be different. For now, we won't address these missing values."
   ]
  },
  {
   "cell_type": "markdown",
   "metadata": {},
   "source": [
    "### Creating new columns"
   ]
  },
  {
   "cell_type": "markdown",
   "metadata": {},
   "source": [
    "Let's add a column indicating whether the establishment operates 24/7 or not"
   ]
  },
  {
   "cell_type": "code",
   "execution_count": null,
   "metadata": {},
   "outputs": [],
   "source": [
    "#create a function to find the relevant values\n",
    "def is_24_7(hours):\n",
    "    hours_str = str(hours).lower()  # Преобразуем в строку и переводим в нижний регистр\n",
    "    return ('пн-вс' in hours_str or 'ежедневно' in hours_str) and \\\n",
    "           ('круглосуточно' in hours_str or '00:00-00:00' in hours_str)\n",
    "#create a new column\n",
    "data['is_24_7'] = data['hours'].apply(is_24_7)\n",
    "#count how many establishments operate around the clock\n",
    "print('Total establishments operating 24/7:', data.query('is_24_7==True').is_24_7.count())"
   ]
  },
  {
   "cell_type": "markdown",
   "metadata": {},
   "source": [
    "Extract a column with the name of the street where the establishment is located from the address."
   ]
  },
  {
   "cell_type": "code",
   "execution_count": null,
   "metadata": {},
   "outputs": [],
   "source": [
    "#сcreate a function that will extract the street name from the address\n",
    "def extract_street(address):\n",
    "    parts = address.split(',')\n",
    "    if len(parts) >= 2:\n",
    "        street_part = parts[1].strip()\n",
    "        return street_part\n",
    "    else:\n",
    "        return None\n",
    "\n",
    "# create a column street\n",
    "data['street'] = data['address'].apply(extract_street)\n",
    "\n",
    "# dataset with a new column\n",
    "data.head()"
   ]
  },
  {
   "cell_type": "code",
   "execution_count": null,
   "metadata": {},
   "outputs": [],
   "source": [
    "#overall measures\n",
    "data.describe()"
   ]
  },
  {
   "cell_type": "markdown",
   "metadata": {},
   "source": [
    "Here, it's worth paying attention to the minimum and maximum values of the average bill and the cost of a coffee cup. Also, the seating capacity values of 1288 and 0 look suspicious, so let's take a closer look at them. Additionally, we'd like to examine the most popular names that appear in the dataset. Let's start with that."
   ]
  },
  {
   "cell_type": "code",
   "execution_count": null,
   "metadata": {},
   "outputs": [],
   "source": [
    "#the most common chains\n",
    "name_counts = data['name'].value_counts()\n",
    "plt.figure(figsize=(12, 6))\n",
    "sns.barplot(x=name_counts.head(15).index, y=name_counts.head(15).values)\n",
    "plt.xticks(rotation=45, ha='right')\n",
    "plt.xlabel('Names')\n",
    "plt.ylabel('Quantity')\n",
    "plt.title('The most frequent names')\n",
    "plt.show()"
   ]
  },
  {
   "cell_type": "markdown",
   "metadata": {},
   "source": [
    "There are approximately 180 establishments with the name \"Cafe\" and about 30 with the name \"Restaurant.\" The \"NoName\" establishments do not belong to any brand.\n",
    "\n",
    "Let's analyze the columns \"middle_avg_bill,\" \"middle_coffee_cup,\" and \"seats\" separately."
   ]
  },
  {
   "cell_type": "code",
   "execution_count": null,
   "metadata": {},
   "outputs": [],
   "source": [
    "plt.figure(figsize=(10, 6))\n",
    "plt.hist(data['middle_avg_bill'], bins=100, color='grey', edgecolor='black')\n",
    "plt.xlabel('Average bill')\n",
    "plt.ylabel('Frequency')\n",
    "plt.title('Distribution of Average bill')\n",
    "plt.show()"
   ]
  },
  {
   "cell_type": "code",
   "execution_count": null,
   "metadata": {},
   "outputs": [],
   "source": [
    "#remove abnormally high and low values of middle_avg_bill\n",
    "data = data[(data['middle_avg_bill'] > 0) & (data['middle_avg_bill'] <= 11000) | data['middle_avg_bill'].isnull()]\n",
    "data.describe()"
   ]
  },
  {
   "cell_type": "code",
   "execution_count": null,
   "metadata": {},
   "outputs": [],
   "source": [
    "#distribution of the average cost of a coffee cup\n",
    "plt.figure(figsize=(10, 6))\n",
    "plt.hist(data['middle_coffee_cup'], bins=100, color='grey', edgecolor='black')\n",
    "plt.xlabel('Average cuppuccino price')\n",
    "plt.ylabel('Frequency')\n",
    "plt.title('Distribution')\n",
    "plt.show()"
   ]
  },
  {
   "cell_type": "code",
   "execution_count": null,
   "metadata": {},
   "outputs": [],
   "source": [
    "#remove the abnormally high value of middle_coffee_cup\n",
    "data = data[(data['middle_coffee_cup'] <= 600) | data['middle_coffee_cup'].isnull()]\n",
    "data.describe()"
   ]
  },
  {
   "cell_type": "code",
   "execution_count": null,
   "metadata": {},
   "outputs": [],
   "source": [
    "#plot the distribution of the number of seating places\n",
    "plt.figure(figsize=(10, 6))\n",
    "plt.hist(data['seats'], bins=100, color='grey', edgecolor='black')\n",
    "plt.xlabel('Number of seats')\n",
    "plt.ylabel('Freaquency')\n",
    "plt.title('Distribution')\n",
    "plt.show()"
   ]
  },
  {
   "cell_type": "markdown",
   "metadata": {},
   "source": [
    "It's clear that most establishments have 40-60 seating places, but where did the 500-1000 seating places come from? It's possible that this is an error. Let's see which streets have such capacious establishments concentrated."
   ]
  },
  {
   "cell_type": "code",
   "execution_count": null,
   "metadata": {},
   "outputs": [],
   "source": [
    "df = data.query('seats>500')\n",
    "seats_count = df.groupby('street')['seats'].value_counts().reset_index(name='counts')\n",
    "# Sort seats_count\n",
    "seats_count = seats_count.sort_values(by='counts', ascending=False)\n",
    "# Extraction of data for graph.\n",
    "streets = seats_count['street']\n",
    "seats = seats_count['seats']\n",
    "counts = seats_count['counts']\n",
    "\n",
    "# bar chart \n",
    "plt.figure(figsize=(12, 6))\n",
    "plt.bar(streets, counts, color='skyblue')\n",
    "plt.xlabel('Street and number of seats')\n",
    "plt.ylabel('Number of establishments')\n",
    "plt.title('Distribution of establishments by seating capacity on streets')\n",
    "plt.xticks(rotation=90)\n",
    "plt.tight_layout()\n",
    "\n",
    "plt.show()"
   ]
  },
  {
   "cell_type": "markdown",
   "metadata": {},
   "source": [
    "\"Leningradsky Prospekt\" and more than 20 establishments with a seating capacity of 625 people... Let's take a look at what kind of establishments these are."
   ]
  },
  {
   "cell_type": "code",
   "execution_count": null,
   "metadata": {},
   "outputs": [],
   "source": [
    "data.query('street==\"Ленинградский проспект\" and seats>500').head()"
   ]
  },
  {
   "cell_type": "markdown",
   "metadata": {},
   "source": [
    "It's hard to imagine a pizzeria with 600 seats. When searching on the internet, we see that \"Maxima Pizza Moscow, Leningradsky Prospekt, 78, Building 1\" has 160 seating places, and \"Stradivari\" has a banquet hall for up to 150 persons, and so on. Obviously, there is an error in the data. It's unclear whether we can trust the remaining data on the number of seats. Let's see the range in which 95% of the data on seating capacity falls."
   ]
  },
  {
   "cell_type": "code",
   "execution_count": null,
   "metadata": {},
   "outputs": [],
   "source": [
    "# Removing rows with missing values.\n",
    "cleaned_data = data.dropna(subset=['seats'])\n",
    "\n",
    "# Calculating the 2.5th and 97.5th percentiles for a 95% confidence interval.\n",
    "lower_percentile = np.percentile(cleaned_data['seats'], 2.5)\n",
    "upper_percentile = np.percentile(cleaned_data['seats'], 97.5)\n",
    "\n",
    "print(f\"95% of the 'seats' column values fall within the range from {lower_percentile} to {upper_percentile}\")"
   ]
  },
  {
   "cell_type": "code",
   "execution_count": null,
   "metadata": {},
   "outputs": [],
   "source": [
    "#how many values fall within this range.\n",
    "data.query('seats>421').seats.count()"
   ]
  },
  {
   "cell_type": "code",
   "execution_count": null,
   "metadata": {},
   "outputs": [],
   "source": [
    "#remove the questionable data\n",
    "data = data[(data['seats'] < 421) & (data['seats']>0)| data['seats'].isnull()]\n",
    "data.describe()"
   ]
  },
  {
   "cell_type": "markdown",
   "metadata": {},
   "source": [
    "We have completed the data preprocessing. For analysis, we have 8,147 establishments of different categories located in Moscow, which represents nearly 97% of the initial number of establishments in the raw data."
   ]
  },
  {
   "cell_type": "markdown",
   "metadata": {},
   "source": [
    "## Analysis by establishment category"
   ]
  },
  {
   "cell_type": "code",
   "execution_count": null,
   "metadata": {},
   "outputs": [],
   "source": [
    "#Explore the categories\n",
    "data['category'].unique()"
   ]
  },
  {
   "cell_type": "code",
   "execution_count": null,
   "metadata": {},
   "outputs": [],
   "source": [
    "category = data.groupby('category')['name'].count().sort_values()\n",
    "plt.figure(figsize=(12, 6))\n",
    "bars = plt.barh(category.index, category.values, color='skyblue')\n",
    "plt.xlabel('Number of Establishments')\n",
    "plt.ylabel('Category')\n",
    "plt.title('Number of Establishments by Category')\n",
    "for bar in bars:\n",
    "    plt.text(bar.get_width(), bar.get_y() + bar.get_height()/2, str(int(bar.get_width())),\n",
    "             va='center', ha='right', fontsize=11)\n",
    "plt.show()"
   ]
  },
  {
   "cell_type": "markdown",
   "metadata": {},
   "source": [
    "The dataset contains the highest number of establishments in the \"Cafe\" category, while bakeries and canteens are relatively few, ranking lower in prevalence. Does this mean that cafes are popular, and it's better to invest in this category, or could it suggest that the bakery format is undervalued with less competition, making it a potential opportunity to open a bakery? Let's continue to explore further."
   ]
  },
  {
   "cell_type": "markdown",
   "metadata": {},
   "source": [
    "## Seating capacity by category"
   ]
  },
  {
   "cell_type": "code",
   "execution_count": null,
   "metadata": {},
   "outputs": [],
   "source": [
    "# Create a dataset without missing values in the \"seats\" column\n",
    "new_set = data.dropna(subset=['seats'])\n",
    "\n",
    "# Calculate the average number of seats by category\n",
    "category_seats = new_set.groupby('category')['seats'].mean().sort_values(ascending=False)\n",
    "\n",
    "# Create a horizontal bar chart using Seaborn\n",
    "plt.figure(figsize=(13, 6))\n",
    "barplot = sns.barplot(x=category_seats.values, y=category_seats.index, palette='Blues_d')\n",
    "plt.xlabel('Average number of seats')\n",
    "plt.ylabel('Category')\n",
    "plt.title('Average number of seats by establishment category')\n",
    "for index, value in enumerate(category_seats.values):\n",
    "    barplot.text(value + 1, index, str(round(value)), va='center')\n",
    "plt.show()"
   ]
  },
  {
   "cell_type": "markdown",
   "metadata": {},
   "source": [
    "The most capacious establishments are restaurants, bars, and cafes, with seating capacities exceeding one hundred. Let's explore these data from a different angle to understand the range of seating capacities more clearly."
   ]
  },
  {
   "cell_type": "code",
   "execution_count": null,
   "metadata": {},
   "outputs": [],
   "source": [
    "# Grouping data by category and calculating mean, minimum, and maximum seating capacities\n",
    "category_seats_stats = new_set.groupby('category')['seats'].agg(['mean', 'min', 'max']).sort_values(by='mean')\n",
    "\n",
    "# Setting the figure size\n",
    "plt.figure(figsize=(12, 6))\n",
    "\n",
    "# Plotting horizontal range lines\n",
    "for cat, (_, mn, mx) in category_seats_stats.iterrows():\n",
    "    plt.hlines(cat, xmin=mn, xmax=mx, color='salmon')\n",
    "\n",
    "# Adding maximum, minimum, and mean points with labels\n",
    "for cat, (mean, mn, mx) in category_seats_stats.iterrows():\n",
    "    plt.scatter(mx, cat, color='salmon', s=200, edgecolors='black', \n",
    "                label='Max' if cat == category_seats_stats.index[-1] else None)\n",
    "    plt.scatter(mn, cat, color='salmon', s=100, edgecolors='black', \n",
    "                label='Min' if cat == category_seats_stats.index[-1] else None)\n",
    "    plt.scatter(mean, cat, color='lightblue', s=100, edgecolors='black', \n",
    "                label='Mean' if cat == category_seats_stats.index[-1] else None)\n",
    "    plt.text(mx + 5, cat, str(mx), va='center', ha='left', fontsize=10, color='black')\n",
    "    plt.text(mn - 5, cat, str(mn), va='center', ha='right', fontsize=10, color='black')\n",
    "    plt.text(mean + 10, cat, f'{int(mean)}', va='center', ha='left', fontsize=10, color='black')\n",
    "\n",
    "plt.xlabel('Number of seats')\n",
    "plt.ylabel('Category')\n",
    "plt.title('Seating Capacity Statistics by Establishment Category')\n",
    "plt.legend(bbox_to_anchor=(1.05, 1), loc='upper left')\n",
    "plt.tight_layout()\n",
    "plt.show()"
   ]
  },
  {
   "cell_type": "markdown",
   "metadata": {},
   "source": [
    "I still can't imagine a bakery with 320 seats. Let's take a final look at the distributions in the \"Restaurant\" and \"Cafe\" categories for comparison."
   ]
  },
  {
   "cell_type": "code",
   "execution_count": null,
   "metadata": {},
   "outputs": [],
   "source": [
    "restorans=new_set[new_set['category'] == 'ресторан']\n",
    "# Creating a histogram for the distribution of seats\n",
    "plt.figure(figsize=(12, 6))\n",
    "plt.hist(restorans['seats'], bins=30, color='lightblue', edgecolor='black')\n",
    "plt.xlabel('Number of Seats')\n",
    "plt.ylabel('Number of Establishments')\n",
    "plt.title('Distribution of the Number of Seats in Restaurants')\n",
    "plt.show()"
   ]
  },
  {
   "cell_type": "code",
   "execution_count": null,
   "metadata": {},
   "outputs": [],
   "source": [
    "restorans=new_set[new_set['category'] == 'кафе']\n",
    "# Creating a histogram for the distribution of seats\n",
    "plt.figure(figsize=(12, 6))\n",
    "plt.hist(restorans['seats'], bins=30, color='lightblue', edgecolor='black')\n",
    "plt.xlabel('Number of Seats')\n",
    "plt.ylabel('Number of Establishments')\n",
    "plt.title('Distribution of the Number of Seats in Cafe')\n",
    "plt.show()"
   ]
  },
  {
   "cell_type": "markdown",
   "metadata": {},
   "source": [
    "It is evident that the main values for the number of seats in restaurants are around 50 and 80 seats. As for cafes, they typically have around 40-50 seats. Let's also create distributions for other categories."
   ]
  },
  {
   "cell_type": "code",
   "execution_count": null,
   "metadata": {},
   "outputs": [],
   "source": [
    "categories = ['кафе', 'ресторан', 'кофейня', 'пиццерия', 'бар,паб', 'быстрое питание', 'булочная', 'столовая']\n",
    "\n",
    "# Creating histogram plots for each category.\n",
    "plt.figure(figsize=(12, 6 * len(categories)))  # Overall plot size\n",
    "for i, category in enumerate(categories, 1):\n",
    "    subset = data[data['category'] == category]\n",
    "    plt.subplot(len(categories), 1, i)  # Creating subplots\n",
    "    plt.hist(subset['seats'], bins=40, color='lightblue', edgecolor='black')\n",
    "    plt.xlabel('Number of Seats')\n",
    "    plt.ylabel('Number of Establishments')\n",
    "    plt.title(f'Distribution of the Number of Seats in {category}')\n",
    "plt.tight_layout() # Improves the layout of subplots.\n",
    "plt.show()"
   ]
  },
  {
   "cell_type": "markdown",
   "metadata": {},
   "source": [
    "Судя по гистаграммам:\n",
    "\n",
    "| Category       | The most frequently encountered number of seats | Seats in the second place |\n",
    "|:----------------|:----------------:|:-----------------:|\n",
    "| Cafe            | 40               | 50                |\n",
    "| Restaurant        | 100              | 50                |\n",
    "| Coffeehouse         | 50               | 100               |\n",
    "| Pizzeria        | 50               | 100               |\n",
    "| Bar, Pub       | 40               | 90                |\n",
    "| Fast food | 20               | 50                |\n",
    "| Bakery        | 50               | 40                |\n",
    "| Canteens        | 40               | 80                |\n"
   ]
  },
  {
   "cell_type": "markdown",
   "metadata": {},
   "source": [
    "## Chain vs. Independent establishments"
   ]
  },
  {
   "cell_type": "markdown",
   "metadata": {},
   "source": [
    "Let's examine the ratio of chain and independent establishments in the dataset. But first, let's check if all establishments with the same name are marked as chains."
   ]
  },
  {
   "cell_type": "code",
   "execution_count": null,
   "metadata": {},
   "outputs": [],
   "source": [
    "#check this with the example of the Кафе name\n",
    "data[(data['name']=='Кафе') & (data['chain']==1)]"
   ]
  },
  {
   "cell_type": "code",
   "execution_count": null,
   "metadata": {},
   "outputs": [],
   "source": [
    "#and restaurants\n",
    "data[(data['name']=='Ресторан') & (data['chain']==1)]"
   ]
  },
  {
   "cell_type": "markdown",
   "metadata": {},
   "source": [
    "Great, there are no obvious errors in identifying chains. Let's move on to examining the ratio."
   ]
  },
  {
   "cell_type": "code",
   "execution_count": null,
   "metadata": {},
   "outputs": [],
   "source": [
    "chain_counts = data['chain'].value_counts()\n",
    "\n",
    "# creating a pie chart\n",
    "plt.figure(figsize=(6, 6))\n",
    "plt.pie(chain_counts, labels=['Independent', 'Chain'], autopct='%1.1f%%', startangle=140, \n",
    "        colors=['lightgreen', 'lightblue'], wedgeprops={'linewidth': 0.1, 'edgecolor': 'green'})\n",
    "plt.title('Distribution of Independent and Chain Establishments')\n",
    "plt.axis('equal')  # To make the pie chart circular\n",
    "plt.show()"
   ]
  },
  {
   "cell_type": "markdown",
   "metadata": {},
   "source": [
    "\n",
    "More than half of the establishments are independent. It's interesting to explore in which categories chains are more prevalent."
   ]
  },
  {
   "cell_type": "markdown",
   "metadata": {},
   "source": [
    "## Chain and non-chain establishments by category"
   ]
  },
  {
   "cell_type": "code",
   "execution_count": null,
   "metadata": {},
   "outputs": [],
   "source": [
    "# Grouping data\n",
    "category_counts = data['category'].value_counts()\n",
    "chain_counts = data[data['chain'] == 1]['category'].value_counts()\n",
    "nonchain_counts = category_counts - chain_counts\n",
    "\n",
    "# Calculation of shares\n",
    "chain_ratios = chain_counts / category_counts\n",
    "nonchain_ratios = nonchain_counts / category_counts\n",
    "\n",
    "# Creating a chart\n",
    "plt.figure(figsize=(12, 6))\n",
    "\n",
    "# sorting\n",
    "sorted_categories = chain_ratios.sort_values(ascending=False).index\n",
    "\n",
    "# Creating stacked columns with labels for shares\n",
    "plt.bar(sorted_categories, chain_ratios[sorted_categories], color='lightblue', edgecolor='black', label='Сетевые')\n",
    "plt.bar(sorted_categories, nonchain_ratios[sorted_categories], bottom=chain_ratios[sorted_categories], \n",
    "        color='lightgreen', edgecolor='black', label='Несетевые')\n",
    "\n",
    "# Adding share labels\n",
    "for cat in chain_ratios.sort_values(ascending=False).index:\n",
    "    height = chain_ratios[cat]\n",
    "    plt.text(cat, height / 2, f'{height:.2f}', ha='center', va='center', fontsize=10, color='black')\n",
    "    height = chain_ratios[cat] + nonchain_ratios[cat] / 2\n",
    "    plt.text(cat, height, f'{nonchain_ratios[cat]:.2f}', ha='center', va='center', fontsize=10, color='black')\n",
    "\n",
    "plt.xlabel('Category')\n",
    "plt.ylabel('Share of Establishments')\n",
    "plt.title('Ratio of Chain and Non-Chain Establishments by Category')\n",
    "plt.xticks(rotation=45, ha='right')\n",
    "plt.legend()\n",
    "plt.tight_layout()\n",
    "plt.show()"
   ]
  },
  {
   "cell_type": "markdown",
   "metadata": {},
   "source": [
    "Bakeries, pizzerias, and coffeehouses are more frequently represented by chains, whereas among pubs and canteens, over 70% are non-chain establishments."
   ]
  },
  {
   "cell_type": "markdown",
   "metadata": {},
   "source": [
    "## Top 15 by categories"
   ]
  },
  {
   "cell_type": "code",
   "execution_count": null,
   "metadata": {},
   "outputs": [],
   "source": [
    "# Getting the top 15 most popular establishments\n",
    "top_restaurants = data['name'].value_counts().head(19).index\n",
    "\n",
    "# filter\n",
    "filtered_data = data[(data['name'].isin(top_restaurants)) & (data['chain']==1)]"
   ]
  },
  {
   "cell_type": "code",
   "execution_count": null,
   "metadata": {},
   "outputs": [],
   "source": [
    "name_by_category = filtered_data.groupby(['name', 'category']).size().unstack(fill_value=0)\n",
    "name_by_category"
   ]
  },
  {
   "cell_type": "code",
   "execution_count": null,
   "metadata": {},
   "outputs": [],
   "source": [
    "# Creating a column with the total number for sorting.\n",
    "name_by_category['Total'] = name_by_category.sum(axis=1)\n",
    "\n",
    "# Sorting by the total quantity and removing the 'Total' column\n",
    "name_by_category_sorted = name_by_category.sort_values('Total', ascending=False)\n",
    "name_by_category_sorted.drop('Total', axis=1, inplace=True)\n",
    "# Resetting the index\n",
    "name_by_category_sorted.reset_index(inplace=True)\n",
    "\n",
    "# Creating a horizontal stacked bar chart.\n",
    "fig, ax = plt.subplots(figsize=(14, 8))\n",
    "colors = plt.cm.tab20.colors\n",
    "\n",
    "# Building columns for each establishment.\n",
    "name_by_category_sorted.plot(x='name', kind='barh', stacked=True, color=colors, ax=ax)\n",
    "\n",
    "# Adding labels for each column\n",
    "for i, row in name_by_category_sorted.iterrows():\n",
    "    prev_value = 0  # Variable to store the sum of previous values\n",
    "    for col in name_by_category_sorted.columns[1:]:\n",
    "        value = row[col]\n",
    "        if value > 0:\n",
    "            # Calculating the position for the label, taking into account the sum of previous values\n",
    "            pos = prev_value + value / 2\n",
    "            ax.annotate(str(value), xy=(pos, i), ha='center', va='baseline', fontsize=10, color='black')\n",
    "            prev_value += value  # Updating the sum of previous values.\n",
    "\n",
    "ax.set_xlabel('Quantity')\n",
    "ax.set_ylabel('Establishment')\n",
    "ax.set_title('Number of Establishments for Each Name by Category (Top 15)')\n",
    "ax.legend(title='Category', fontsize='large')\n",
    "plt.tight_layout()\n",
    "\n",
    "plt.show()"
   ]
  },
  {
   "cell_type": "markdown",
   "metadata": {},
   "source": [
    "This means that the largest number of chain establishments belong to coffee shops and pizzerias. Moreover, among the 15 most frequently encountered chains, the majority of locations under one chain have the same category. For example, out of 116 establishments in the Shokoladnitsa chain, 115 are coffee shops. If a chain offers a variety of categories, it would be something like Khinkalnaya or Mu-Mu, where you can find bars, pubs, and restaurants under the same brand."
   ]
  },
  {
   "cell_type": "markdown",
   "metadata": {},
   "source": [
    "## Distribution by Moscow Administrative Districts"
   ]
  },
  {
   "cell_type": "code",
   "execution_count": null,
   "metadata": {},
   "outputs": [],
   "source": [
    "#determine the administrative districts of Moscow that are present in the dataset\n",
    "data['district'].unique()"
   ]
  },
  {
   "cell_type": "code",
   "execution_count": null,
   "metadata": {},
   "outputs": [],
   "source": [
    "#number of establishments by category in the table\n",
    "pivot_table_by_category = data.pivot_table(columns='district', index='category', values = 'name', aggfunc ='count')\n",
    "pivot_table_by_category"
   ]
  },
  {
   "cell_type": "code",
   "execution_count": null,
   "metadata": {},
   "outputs": [],
   "source": [
    "# sorting\n",
    "pivot_table_by_category = pivot_table_by_category[pivot_table_by_category.sum(axis=0).\n",
    "                                                  sort_values(ascending=False).index]\n",
    "# viz-ion\n",
    "categories = pivot_table_by_category.index\n",
    "districts = pivot_table_by_category.columns\n",
    "\n",
    "bar_width = 0.5\n",
    "bar_positions = np.arange(len(districts))\n",
    "\n",
    "plt.figure(figsize=(10, 10))  # size\n",
    "\n",
    "bottoms = np.zeros(len(districts))\n",
    "\n",
    "for i, category in enumerate(categories):\n",
    "    plt.bar(bar_positions, pivot_table_by_category.loc[category, :], width=bar_width, label=category, bottom=bottoms)\n",
    "    bottoms += pivot_table_by_category.loc[category, :]\n",
    "for x, total in zip(bar_positions, bottoms):\n",
    "    plt.text(x, total, str(int(total)), ha='center', va='bottom', fontweight='bold')\n",
    "\n",
    "plt.xlabel('Districts')\n",
    "plt.ylabel('Number of Establishments')\n",
    "plt.title('Comparison of Establishments by Categories and Districts')\n",
    "plt.xticks(bar_positions, districts, rotation='vertical')\n",
    "plt.legend()\n",
    "plt.tight_layout()\n",
    "plt.show()"
   ]
  },
  {
   "cell_type": "markdown",
   "metadata": {},
   "source": [
    "Central Administrative District (ЦАО) is the leader in terms of the number of establishments, with a significant lead. Here, there are more than twice as many establishments as in any other district in Moscow. However, competition is also high in this area, especially among bars, cafes, coffee shops, and restaurants. North-Western Administrative District (СЗАО) appears to be the most residential district, less frequented by foodservice entrepreneurs. But even here, cafes and restaurants dominate over other categories."
   ]
  },
  {
   "cell_type": "markdown",
   "metadata": {},
   "source": [
    "## Ratings by Category"
   ]
  },
  {
   "cell_type": "code",
   "execution_count": null,
   "metadata": {},
   "outputs": [],
   "source": [
    "#group data\n",
    "rating_by_cat = data.groupby('category')['rating'].mean().sort_values()\n",
    "# viz-ion\n",
    "plt.figure(figsize=(10, 6))  # size\n",
    "\n",
    "plt.barh(rating_by_cat.index, rating_by_cat.values, color='skyblue')\n",
    "plt.xlabel('Average Rating')\n",
    "plt.ylabel('Category')\n",
    "plt.title('Average Ratings by Category')\n",
    "plt.xlim(4, 4.5) # Limiting the X-axis for better visibility\n",
    "plt.tight_layout()\n",
    "plt.show()"
   ]
  },
  {
   "cell_type": "markdown",
   "metadata": {},
   "source": [
    "The highest average ratings are found among bar/pubs and pizzerias. Fast-food establishments have the lowest average rating, but the range of average ratings is small, ranging from 4 to 4.5. It's interesting to combine the graph with the number of establishments and the average rating because the more establishments we evaluate, the more honest the average rating seems."
   ]
  },
  {
   "cell_type": "code",
   "execution_count": null,
   "metadata": {},
   "outputs": [],
   "source": [
    "# Grouping data by categories and calculating the average rating and the number of establishments\n",
    "count_by_cat = data.groupby('category')['name'].count().sort_values()\n",
    "rating_by_cat = data.groupby('category')['rating'].mean()\n",
    "\n",
    "# viz-ion\n",
    "bar_positions = np.arange(len(count_by_cat))\n",
    "\n",
    "fig, ax1 = plt.subplots(figsize=(12, 7))\n",
    "\n",
    "\n",
    "ax1.bar(bar_positions, count_by_cat.values, bar_width, label='Number of Establishments', color='skyblue')\n",
    "ax1.set_xlabel('Category')\n",
    "ax1.set_ylabel('Number of Establishments', color='black')\n",
    "ax1.tick_params(axis='y', labelcolor='black')\n",
    "ax1.yaxis.set_ticks(np.arange(200, 2600, 200))\n",
    "\n",
    "ax2 = ax1.twinx()\n",
    "ax2.bar(bar_positions + bar_width, rating_by_cat.values, bar_width, label='Average Rating', color='orange')\n",
    "ax2.set_ylabel('Average Rating', color='black')\n",
    "ax2.tick_params(axis='y', labelcolor='black')\n",
    "ax2.set_ylim(4, 4.5)  # Limiting the Y-axis\n",
    "\n",
    "# adding labels\n",
    "for i, (count, rating) in enumerate(zip(count_by_cat.values, rating_by_cat.values)):\n",
    "    ax1.annotate(f\"{count}\", (bar_positions[i], count +20), ha='center', fontsize=10)\n",
    "    ax2.annotate(f\"{rating:.2f}\", (bar_positions[i] + bar_width, rating + 0.02), ha='center', fontsize=10)\n",
    "# create a common legend\n",
    "lines1, labels1 = ax1.get_legend_handles_labels()\n",
    "lines2, labels2 = ax2.get_legend_handles_labels()\n",
    "ax1.legend(lines1 + lines2, labels1 + labels2, loc='upper left', fontsize=12)\n",
    "\n",
    "fig.tight_layout()\n",
    "plt.title('Comparison of Average Rating and Number of Establishments by Category')\n",
    "plt.xticks(bar_positions + bar_width/2, count_by_cat.index)\n",
    "plt.show()"
   ]
  },
  {
   "cell_type": "markdown",
   "metadata": {},
   "source": [
    "It is noticeable that despite a relatively high number of cafes and restaurants, the average ratings of restaurants are higher. However, the number of bakeries and canteens is significantly lower, and their ratings have immediately risen."
   ]
  },
  {
   "cell_type": "markdown",
   "metadata": {},
   "source": [
    "## Ratings by Districts"
   ]
  },
  {
   "cell_type": "markdown",
   "metadata": {},
   "source": [
    "Let's calculate the average ratings by districts in Moscow and visualize them on a map using color-coding. We will also add establishments to this map using clusters."
   ]
  },
  {
   "cell_type": "code",
   "execution_count": null,
   "metadata": {},
   "outputs": [],
   "source": [
    "#Calculate the average ratings by districts, without considering categories\n",
    "rating_df = data.groupby('district', as_index=False)['rating'].agg('mean').round(3)"
   ]
  },
  {
   "cell_type": "code",
   "execution_count": null,
   "metadata": {},
   "outputs": [],
   "source": [
    "# load the JSON file with the boundaries of Moscow districts.\n",
    "state_geo = '/Users/tatyanamayorova/Desktop/Yandex/projects/GIT/admin_level_geomap.geojson'\n",
    "\n",
    "moscow_lat, moscow_lng = 55.751244, 37.618423\n",
    "\n",
    "# creating the map\n",
    "m = Map(location=[moscow_lat, moscow_lng], zoom_start=10)\n",
    "\n",
    "# add Choropleth to the map\n",
    "Choropleth(\n",
    "    geo_data=state_geo,\n",
    "    data=rating_df,\n",
    "    columns=['district', 'rating'],\n",
    "    key_on='feature.name',\n",
    "    fill_color='YlGnBu',\n",
    "    fill_opacity=0.8,\n",
    "    legend_name='Average ratings by districts',\n",
    ").add_to(m)\n",
    "# create an empty cluster and add it to the map\n",
    "marker_cluster = MarkerCluster().add_to(m)\n",
    "\n",
    "# function that takes a row from the DataFrame,\n",
    "# creates a marker at the current point, and adds it to the marker_cluster\n",
    "def create_clusters(row):\n",
    "    Marker(\n",
    "        [row['lat'], row['lng']],\n",
    "        popup=f\"{row['name']} {row['rating']}\",\n",
    "    ).add_to(marker_cluster)\n",
    "\n",
    "# apply the create_clusters() to each row \n",
    "data.apply(create_clusters, axis=1)\n",
    "# displaying the map\n",
    "m"
   ]
  },
  {
   "cell_type": "markdown",
   "metadata": {},
   "source": [
    "The chart clearly shows the highest average ratings in blue color in the center and the lowest ratings in yellow. You can also zoom in/out on the chart to see all the establishments on the map."
   ]
  },
  {
   "cell_type": "markdown",
   "metadata": {},
   "source": [
    "## TOP 15 streets by the number of establishments"
   ]
  },
  {
   "cell_type": "code",
   "execution_count": null,
   "metadata": {},
   "outputs": [],
   "source": [
    "# Grouping data by streets and counting the number of names\n",
    "street_counts = data.groupby('street', as_index=False)['name'].agg('count')\n",
    "\n",
    "# Sorting by the number of names in descending order.\n",
    "sorted_street_counts = street_counts.sort_values(by='name', ascending=False)\n",
    "top = sorted_street_counts.head(15)\n",
    "top"
   ]
  },
  {
   "cell_type": "code",
   "execution_count": null,
   "metadata": {},
   "outputs": [],
   "source": [
    "df = data[(data['street'].isin(top['street']))]\n",
    "pivot_table_by_category = df.pivot_table(index='street', columns='category', values='name', \n",
    "                                         aggfunc='count', fill_value=0)\n",
    "\n",
    "# Sum up the number of establishments by streets and sort the streets\n",
    "sorted_streets = pivot_table_by_category.sum(axis=1).sort_values(ascending=False).index\n",
    "\n",
    "# Sort the pivot table by streets\n",
    "sorted_pivot_table = pivot_table_by_category.loc[sorted_streets]\n",
    "\n",
    "categories = sorted_pivot_table.columns\n",
    "\n",
    "plt.figure(figsize=(10, 8))\n",
    "\n",
    "bottoms = np.zeros(len(sorted_streets))\n",
    "\n",
    "for i, category in enumerate(categories):\n",
    "    sorted_category_data = sorted_pivot_table[category]\n",
    "    plt.barh(sorted_streets, sorted_category_data, height=0.5, label=category, left=bottoms)\n",
    "    bottoms += sorted_category_data\n",
    "\n",
    "plt.xlabel('Number of establishments')\n",
    "plt.ylabel('Street')\n",
    "plt.title('Number of establishments by streets and categories')\n",
    "plt.legend()\n",
    "plt.tight_layout()\n",
    "plt.show()"
   ]
  },
  {
   "cell_type": "markdown",
   "metadata": {},
   "source": [
    "On the bar chart, the top 15 streets with the most establishments are presented. Categories are highlighted with colors. From the visualization, it is noticeable that Prospekt Mira is the most popular street in terms of the number of establishments, even though Warsaw Avenue is the longest in the list. Prospekt Mira has establishments from all 8 categories, but the most popular ones are restaurants, cafes, and coffee shops. On Pyatnitskaya Street and Vavilova Street, there are no canteens at all, but there are the fewest bars on the Moscow Ring Road, which is quite logical."
   ]
  },
  {
   "cell_type": "markdown",
   "metadata": {},
   "source": [
    "## Streets with the only establishment"
   ]
  },
  {
   "cell_type": "code",
   "execution_count": null,
   "metadata": {},
   "outputs": [],
   "source": [
    "alone = data.groupby('street')['name'].count()\n",
    "alone = alone[alone==1]\n",
    "print('Total amount',alone.count())"
   ]
  },
  {
   "cell_type": "code",
   "execution_count": null,
   "metadata": {},
   "outputs": [],
   "source": [
    "alone_streets = data[data['street'].isin(alone.index)]\n",
    "alone_streets.head()"
   ]
  },
  {
   "cell_type": "markdown",
   "metadata": {},
   "source": [
    "It's interesting to find out what these establishments have in common. It's logical to assume that if there's only one establishment on a street, it operates 24/7. Let's check"
   ]
  },
  {
   "cell_type": "code",
   "execution_count": null,
   "metadata": {},
   "outputs": [],
   "source": [
    "is_24_7_counts = alone_streets['is_24_7'].value_counts()\n",
    "is_24_7_counts"
   ]
  },
  {
   "cell_type": "markdown",
   "metadata": {},
   "source": [
    "The assumption is incorrect; out of 459 establishments, 31 operate 24/7. Let's look at the categories."
   ]
  },
  {
   "cell_type": "code",
   "execution_count": null,
   "metadata": {},
   "outputs": [],
   "source": [
    "vis = alone_streets.groupby('category')['name'].count().sort_values()\n",
    "plt.figure(figsize=(12, 6))\n",
    "bars = plt.barh(vis.index, vis.values, color='skyblue')\n",
    "plt.xlabel('Number of Establishments')\n",
    "plt.ylabel('Category')\n",
    "plt.title('Number of Single Establishments by Category')\n",
    "for bar in bars:\n",
    "    plt.text(bar.get_width(), bar.get_y() + bar.get_height()/2, str(int(bar.get_width())),\n",
    "             va='center', ha='right', fontsize=11)\n",
    "plt.show()"
   ]
  },
  {
   "cell_type": "markdown",
   "metadata": {},
   "source": [
    "The same categories remain popular. Let's check if the average rating stands out and how many of them are chain establishments."
   ]
  },
  {
   "cell_type": "code",
   "execution_count": null,
   "metadata": {},
   "outputs": [],
   "source": [
    "print('Average rating of single establishments on the street', alone_streets['rating'].mean().round(2))\n",
    "alone_streets_chain_counts = alone_streets['chain'].value_counts()\n",
    "print('Chains:', alone_streets_chain_counts[1], 'Non-chains:', alone_streets_chain_counts[0])"
   ]
  },
  {
   "cell_type": "markdown",
   "metadata": {},
   "source": [
    "The average rating of single establishments falls within the range of values typical for our other calculations of average ratings. There are fewer chain establishments than non-chain ones, which also corresponds to the general trend of the analyzed establishments in the dataset"
   ]
  },
  {
   "cell_type": "code",
   "execution_count": null,
   "metadata": {},
   "outputs": [],
   "source": [
    "# Creating a histogram for the distribution by the number of seats\n",
    "plt.figure(figsize=(12, 6))\n",
    "plt.hist(alone_streets['seats'], bins=30, color='lightblue', edgecolor='black')\n",
    "plt.xlabel('Number of Seats')\n",
    "plt.ylabel('Number of Establishments')\n",
    "plt.title('Distribution of the Number of Seats in Single-Establishment Streets')\n",
    "plt.show()"
   ]
  },
  {
   "cell_type": "code",
   "execution_count": null,
   "metadata": {},
   "outputs": [],
   "source": [
    "# creating hist\n",
    "plt.figure(figsize=(8, 6))\n",
    "plt.hist(alone_streets['district'], bins=20, edgecolor='black', alpha=0.7)\n",
    "\n",
    "# Setting the appearance of the plot\n",
    "plt.title('Distribution of the Number of Establishments by Districts')\n",
    "plt.xlabel('District')\n",
    "plt.ylabel('Number of Establishments')\n",
    "plt.xticks(rotation='vertical')\n",
    "\n",
    "# Displaying the histogram\n",
    "plt.tight_layout()\n",
    "plt.show()"
   ]
  },
  {
   "cell_type": "markdown",
   "metadata": {},
   "source": [
    "Summarize information about establishments located alone on entire streets.\n",
    "1. Were founded 459 streets where only 1 establishment operates\n",
    "2. Only 31 out of 459 establishments operate around the clock.\n",
    "3. Cafes, restaurants, and coffee shops are the most popular formats here\n",
    "4. There are only 7 bakeries\n",
    "5. The average rating of single establishments on the street is 4.24.\n",
    "6. About 30% are chain establishments, and approximately 70% are standalone\n",
    "7. These are primarily dining establishments with seating for 30-40 people, but there are also larger establishments with more than 200 seats.\n",
    "8. Such streets exist in every district, but there are more establishments in the Central Administrative District (ЦАО)"
   ]
  },
  {
   "cell_type": "markdown",
   "metadata": {},
   "source": [
    "## Median of the average bill by districts"
   ]
  },
  {
   "cell_type": "markdown",
   "metadata": {},
   "source": [
    "To determine the average bill in an establishment, there is a column in the table called 'middle_avg_bill,' which contains a number indicating the average bill for values from the 'avg_bill' column that start with the substring 'Средний счёт' (Average bill):\n",
    "\n",
    "If a price range of two values is indicated in the row, the median of these two values will be entered in the column.\n",
    "If a single number is specified in the row (a price without a range), this number will be entered in the column.\n",
    "If there is no value or it does not start with the substring 'Средний счёт,' nothing will be entered in the column.\n",
    "\n",
    "Given that there are quite a few missing values in 'middle_avg_bill,' we will first create a new dataset without missing values in this column."
   ]
  },
  {
   "cell_type": "code",
   "execution_count": null,
   "metadata": {},
   "outputs": [],
   "source": [
    "#new dataset without missing values in middle_avg_bill\n",
    "avg = data.dropna(subset=['middle_avg_bill'])\n",
    "avg.middle_avg_bill.describe().to_frame()"
   ]
  },
  {
   "cell_type": "code",
   "execution_count": null,
   "metadata": {},
   "outputs": [],
   "source": [
    "#group data and count median\n",
    "avg_by_dis = avg.groupby('district',as_index=False)['middle_avg_bill'].median()\n",
    "avg_by_dis.sort_values(by='middle_avg_bill', ascending=False)"
   ]
  },
  {
   "cell_type": "code",
   "execution_count": null,
   "metadata": {},
   "outputs": [],
   "source": [
    "m = Map(location=[moscow_lat, moscow_lng], zoom_start=10)\n",
    "\n",
    "# create a choropleth map using the Choropleth constructor and add it to the map\n",
    "Choropleth(\n",
    "    geo_data=state_geo,\n",
    "    data=avg_by_dis,\n",
    "    columns=['district', 'middle_avg_bill'],\n",
    "    key_on='feature.name',\n",
    "    fill_color='PuBuGn',\n",
    "    fill_opacity=0.8,\n",
    "    line_opacity=0.2,\n",
    "    legend_name='Median of the average bill by districts',\n",
    ").add_to(m)\n",
    "# empty cluster\n",
    "marker_cluster = MarkerCluster().add_to(m)\n",
    "\n",
    "# write a function that takes a row from the DataFrame,\n",
    "# creates a marker at the current point, and adds it to the marker cluster\n",
    "def create_clusters(row):\n",
    "    Marker(\n",
    "        [row['lat'], row['lng']],\n",
    "        popup=f\"{row['name']} {row['middle_avg_bill']}\",\n",
    "    ).add_to(marker_cluster)\n",
    "\n",
    "# apply create_clusters()\n",
    "data.apply(create_clusters, axis=1)\n",
    "# show the map\n",
    "m"
   ]
  },
  {
   "cell_type": "markdown",
   "metadata": {},
   "source": [
    "The darkest areas of the map (with the highest median of the average check) are located in the central and western districts. It seems that the distance from the center does not affect the cost of the check. Knowing the coordinates of the center of Moscow and the coordinates of all catering points in the average dataset, we will find the distance to each establishment. The haversine function, which we used to calculate the distance, returns the result in kilometers, as the radius of the Earth (R) is specified in kilometers."
   ]
  },
  {
   "cell_type": "code",
   "execution_count": null,
   "metadata": {},
   "outputs": [],
   "source": [
    "# Function to calculate the distance between two points on a sphere (haversine)\n",
    "def haversine(lat1, lon1, lat2, lon2):\n",
    "    # Convert coordinates from degrees to radians\n",
    "    lat1, lon1, lat2, lon2 = map(radians, [lat1, lon1, lat2, lon2])\n",
    "\n",
    "    # Earth's radius in kilometers\n",
    "    R = 6371.0\n",
    "\n",
    "    # Difference in latitude and longitude\n",
    "    dlat = lat2 - lat1\n",
    "    dlon = lon2 - lon1\n",
    "\n",
    "    # Calculate distance using the haversine formula\n",
    "    a = sin(dlat / 2)**2 + cos(lat1) * cos(lat2) * sin(dlon / 2)**2\n",
    "    c = 2 * atan2(sqrt(a), sqrt(1 - a))\n",
    "\n",
    "    # Distance between two points\n",
    "    distance = R * c\n",
    "    return distance\n",
    "\n",
    "# Latitude and longitude of the center of Moscow\n",
    "moscow_lat, moscow_lng = radians(55.751244), radians(37.618423)\n",
    "\n",
    "avg = data.dropna(subset=['middle_avg_bill']).copy()\n",
    "\n",
    "# Add a new column 'distance_to_center' with the distance from each establishment to the center of Moscow in km\n",
    "avg['distance_to_center'] = avg.apply(lambda row: haversine(moscow_lat, moscow_lng, radians(row['lat']), \n",
    "                                                            radians(row['lng'])), axis=1)"
   ]
  },
  {
   "cell_type": "code",
   "execution_count": null,
   "metadata": {},
   "outputs": [],
   "source": [
    "#result\n",
    "avg.head()"
   ]
  },
  {
   "cell_type": "code",
   "execution_count": null,
   "metadata": {},
   "outputs": [],
   "source": [
    "#Visualize the relationship using a scatter plot\n",
    "plt.figure(figsize=(14, 6))\n",
    "plt.scatter(avg['distance_to_center'], avg['middle_avg_bill'], alpha=0.5)\n",
    "plt.xlabel('Distance to Center of Moscow (km)')\n",
    "plt.ylabel('Middle Average Bill')\n",
    "plt.title('Relationship between Distance to Center and Middle Average Bill')\n",
    "plt.grid(True)\n"
   ]
  },
  {
   "cell_type": "code",
   "execution_count": null,
   "metadata": {},
   "outputs": [],
   "source": [
    "# Calculate the correlation between distance from the center and middle average bill\n",
    "correlation = avg['distance_to_center'].corr(avg['middle_avg_bill'])\n",
    "\n",
    "print(f'Correlation between distance from the center and middle average bill: {correlation}')"
   ]
  },
  {
   "cell_type": "markdown",
   "metadata": {},
   "source": [
    "The correlation between the distance from the center and the middle average bill is approximately -0.183. This negative correlation value indicates a weak inverse relationship between these two variables. In this context, it means that the middle average bill tends to decrease (or increase only slightly) as you move away from the center of Moscow, but the relationship between these factors is not very strong."
   ]
  },
  {
   "cell_type": "markdown",
   "metadata": {},
   "source": [
    "## Conclusion"
   ]
  },
  {
   "cell_type": "markdown",
   "metadata": {},
   "source": [
    "The analysis of the public catering market in Moscow provides valuable information for investors from the \"Shut Up and Take My Money\" fund who are planning to open a new establishment. The key findings of the study are as follows:\n",
    "\n",
    "1. Variety of Formats: Moscow's market offers a variety of establishment formats, with the most popular being cafes, restaurants, and coffee shops. Bakeries and canteens, on the other hand, are less common.\n",
    "\n",
    "2. Chain and Non-Chain Establishments: More than half of the establishments are non-chain, but chain establishments such as coffee shops and pizzerias are also popular. Over time, it may be worth considering investing in the chain format given its popularity.\n",
    "\n",
    "3. Distribution by Districts: The Central Administrative District (CAD) of Moscow has the highest number of establishments but also faces the highest level of competition. The Northwestern Administrative District (NWAD) appears to be less saturated with public catering businesses.\n",
    "\n",
    "4. Average Check: The average check varies across different districts, for example, it is highest in CAD and Western Administrative District (WAD), at around 1,000 rubles, while it is half that amount in the Southeastern part of Moscow. However, distance from the center of Moscow has a weak impact on the cost of a check. The weak correlation between these factors allows for considering different districts for locating an establishment.\n",
    "\n",
    "5. Rating: An analysis of the average rating reveals that the average rating of establishments by district ranges from 4 to 4.5 and depends on the number of establishments of a particular type.\n",
    "\n",
    "6. Streets with Single Establishments: Studying streets with single establishments showed that these are primarily cafes, restaurants, and coffee shops. These establishments have an average rating of around 4.24 and are often non-chain. Prospekt Mira, Profsoyuznaya, and Leninsky Prospekt have the highest number of establishments per street.\n",
    "\n",
    "With this data in mind, investors can make more informed decisions regarding the format of the establishment, its location, menu, and pricing. It is recommended to conduct additional research and business planning to determine specific strategies and tactics for successfully entering the public catering market in Moscow."
   ]
  },
  {
   "cell_type": "markdown",
   "metadata": {},
   "source": [
    "## Detailed Study: Opening a Coffee Shop"
   ]
  },
  {
   "cell_type": "markdown",
   "metadata": {},
   "source": [
    "During discussions with the client, we received new insights: they are planning to open an affordable coffee shop. Additionally, we will analyze:\n",
    "\n",
    "How many coffee shops are there in the dataset? In which districts are they most prevalent, and what are the characteristics of their locations?\n",
    "Are there any 24-hour coffee shops?\n",
    "What are the ratings of these coffee shops, and how are they distributed across districts?\n",
    "What price range should we target for a cup of cappuccino when opening, and why?\n",
    "We'll also attempt to identify the target audience for our future coffee shop.\n",
    "\n",
    "The format of the \"Central Perk\" coffee shop, as presented in the series, may not be entirely suitable for business meetings or corporate events. It is more oriented towards informal gatherings and spending time with friends. If the investors decide to create a similar coffee shop, they could target the segment of young adults, fans of the show, and provide a space for performances and events that align with the \"Friends\" atmosphere.\n",
    "\n",
    "I believe our target audience is the youth and students. The characters of \"Friends\" were young adults, and \"Central Perk\" was often frequented by young people looking to spend time in good company. Let's consider an age range of 20-35, which represents financially capable adults. Understanding the target audience will help us determine the ideal location for our establishment.\n",
    "\n",
    "The perfect location should be close to places where active young people spend their time. We can rule out residential areas, especially since the investors are \"not afraid of competition.\" Next, it would be beneficial to have business centers or shopping malls nearby, as well as museums, theaters, and so on. Let's see what information is available in our dataset."
   ]
  },
  {
   "cell_type": "code",
   "execution_count": null,
   "metadata": {},
   "outputs": [],
   "source": [
    "# Create a dataset specifically for coffee shops\n",
    "data_c = data.query('category==\"кофейня\"')\n",
    "data_c.info()"
   ]
  },
  {
   "cell_type": "markdown",
   "metadata": {},
   "source": [
    "### Competitors"
   ]
  },
  {
   "cell_type": "markdown",
   "metadata": {},
   "source": [
    "In total, there are 1368 coffee shops in the dataset. Let's try to identify our future competitors, taking into account the target audience we defined. The best districts for our coffee shop would be the Central Administrative Okrug (CAO) and the Western Administrative Okrug (WAO). The Central Okrug provides access to a rich infrastructure, entertainment, and business events in the city center. Additionally, this district is attractive due to its proximity to business centers and offices, which can attract a corporate audience.\n",
    "\n",
    "The CAO is extensive and includes various districts such as Taganka, Basmanny, Yakimanka, and others, which can provide diverse location options depending on the goals and concept of the coffee shop.\n",
    "\n",
    "The WAO is home to several business and office complexes. Some districts in the WAO, like Kutuzovsky Prospekt and Kievskaya, have developed infrastructure for entertainment and leisure, including restaurants, cinemas, and nightclubs."
   ]
  },
  {
   "cell_type": "code",
   "execution_count": null,
   "metadata": {},
   "outputs": [],
   "source": [
    "#popular coffee shop chains\n",
    "name_counts = data_c['name'].value_counts().sort_values(ascending=False).head(10)\n",
    "plt.figure(figsize=(12, 6))\n",
    "name_counts.plot(kind='bar', color='skyblue')\n",
    "plt.title('Distribution of the number of establishments by name')\n",
    "plt.xlabel('Name of the establishment')\n",
    "plt.ylabel('Number of establishments')\n",
    "plt.xticks(rotation=90)\n",
    "plt.tight_layout()\n",
    "plt.show()"
   ]
  },
  {
   "cell_type": "markdown",
   "metadata": {},
   "source": [
    "On the histogram, we can see the top 10 coffee shops by frequency. However, this doesn't tell us much. Let's determine the locations of these coffee shops."
   ]
  },
  {
   "cell_type": "code",
   "execution_count": null,
   "metadata": {},
   "outputs": [],
   "source": [
    "top_10_coffee = data_c[data_c['name'].isin(name_counts.index)]\n",
    "# group data and count coffee shops\n",
    "coffee_count_by_district = top_10_coffee.groupby('district')['name'].count().sort_values(ascending=False)\n",
    "\n",
    "# create a plot\n",
    "plt.figure(figsize=(12, 6))\n",
    "coffee_count_by_district.plot(kind='bar', color='skyblue')\n",
    "plt.title('Number of Coffee Shops in Moscow Districts')\n",
    "plt.xlabel('District')\n",
    "plt.ylabel('Number of Coffee Shops')\n",
    "plt.xticks(rotation=90)  \n",
    "\n",
    "plt.show()"
   ]
  },
  {
   "cell_type": "markdown",
   "metadata": {},
   "source": [
    "Based on the fact that a significant number of coffee shops are located in the districts we identified as our target areas, it appears that many coffee shops are catering to our target audience. However, competition won't deter us. Let's take a closer look at these chains"
   ]
  },
  {
   "cell_type": "code",
   "execution_count": null,
   "metadata": {},
   "outputs": [],
   "source": [
    "# select coffee shops in ЦАО\n",
    "coffee_in_CAO = top_10_coffee[top_10_coffee['district'].isin(['Центральный административный округ'])]\n",
    "\n",
    "# obtain the unique names \n",
    "coffee_in_CAO['name'].unique()"
   ]
  },
  {
   "cell_type": "code",
   "execution_count": null,
   "metadata": {},
   "outputs": [],
   "source": [
    "# # select coffee shops in ЗАО\n",
    "coffee_in_ZAO = top_10_coffee[top_10_coffee['district'].isin(['Западный административный округ'])]\n",
    "\n",
    "# obtain the unique names\n",
    "coffee_in_ZAO['name'].unique()"
   ]
  },
  {
   "cell_type": "markdown",
   "metadata": {},
   "source": [
    "All 10 of the most common chain coffee shops have opened their establishments in the Central Administrative District (ЦАО), and 9 of them are also present in the Western Administrative District (ЗАО). Only 'Правда кофе' is not represented in ЗАО"
   ]
  },
  {
   "cell_type": "markdown",
   "metadata": {},
   "source": [
    "### Operating Hours"
   ]
  },
  {
   "cell_type": "markdown",
   "metadata": {},
   "source": [
    "Let's find the 5 most frequently encountered operating schedules"
   ]
  },
  {
   "cell_type": "code",
   "execution_count": null,
   "metadata": {},
   "outputs": [],
   "source": [
    "# create a copy\n",
    "data_c_copy = data_c.copy()\n",
    "\n",
    "# Replace empty values in the 'hours' column with an empty string in the copied data\n",
    "data_c_copy['hours'].fillna('', inplace=True)\n",
    "\n",
    "# Split the string in the 'hours' column by the delimiter \";\" and create a list of all combinations of days and hours\n",
    "all_hours_combinations = []\n",
    "for hours_string in data_c_copy['hours']:\n",
    "    hours_list = hours_string.split('; ')\n",
    "    all_hours_combinations.extend(hours_list)\n",
    "\n",
    "# Use Counter to count the frequency of each combination\n",
    "hours_count = Counter(all_hours_combinations)\n",
    "\n",
    "# the 10 most common combinations\n",
    "hours_count.most_common(10)"
   ]
  },
  {
   "cell_type": "code",
   "execution_count": null,
   "metadata": {},
   "outputs": [],
   "source": [
    "print('Total number of 24/7 coffee shops:', data_c.query('is_24_7==True').shape[0])"
   ]
  },
  {
   "cell_type": "code",
   "execution_count": null,
   "metadata": {},
   "outputs": [],
   "source": [
    "data_c.query('is_24_7==True').groupby('district')['name'].count()"
   ]
  },
  {
   "cell_type": "markdown",
   "metadata": {},
   "source": [
    "This way, coffee shops in Moscow most often operate daily from 10:00 AM to 10:00 PM. In the Central Administrative District (CAD) and Western Administrative District (WAD), there are 25 and 9 round-the-clock establishments, respectively. This seems reasonable since WAD is a more business-oriented district, and the demand for coffee shops during the nighttime is unlikely to be high. However, in CAD, the nightlife is vibrant."
   ]
  },
  {
   "cell_type": "markdown",
   "metadata": {},
   "source": [
    "### Ratings"
   ]
  },
  {
   "cell_type": "code",
   "execution_count": null,
   "metadata": {},
   "outputs": [],
   "source": [
    "# count avg ratings\n",
    "rating_c = data_c.groupby('district', as_index=False)['rating'].agg('mean').round(3)"
   ]
  },
  {
   "cell_type": "code",
   "execution_count": null,
   "metadata": {},
   "outputs": [],
   "source": [
    "Choropleth(\n",
    "    geo_data=state_geo,\n",
    "    data=rating_c,\n",
    "    columns=['district', 'rating'],\n",
    "    key_on='feature.name',\n",
    "    fill_color='YlGnBu',\n",
    "    fill_opacity=0.8,\n",
    "    legend_name='AVG rating by districts',\n",
    ").add_to(m)\n",
    "\n",
    "marker_cluster = MarkerCluster().add_to(m)\n",
    "\n",
    "def create_clusters(row):\n",
    "    Marker(\n",
    "        [row['lat'], row['lng']],\n",
    "        popup=f\"{row['name']} {row['rating']}\",\n",
    "    ).add_to(marker_cluster)\n",
    "\n",
    "data.apply(create_clusters, axis=1)\n",
    "\n",
    "m"
   ]
  },
  {
   "cell_type": "markdown",
   "metadata": {},
   "source": [
    "ЦОА and СЗАО have coffee shops with high ratings, making it challenging to compete. Meanwhile, in ЗAO, coffee shop ratings are among the lowest. It seems we can stand out quite well in this context. However, it's possible that these ratings also reflect the discerning tastes of customers. If we consider ZAO primarily as a business district, people here value both time and quality."
   ]
  },
  {
   "cell_type": "markdown",
   "metadata": {},
   "source": [
    "### Cappuccino Price"
   ]
  },
  {
   "cell_type": "code",
   "execution_count": null,
   "metadata": {},
   "outputs": [],
   "source": [
    "# create a hist\n",
    "plt.figure(figsize=(12, 6))\n",
    "plt.hist(data_c['middle_coffee_cup'], bins=50, color='lightblue', edgecolor='black')\n",
    "plt.xlabel('Cappuccino Price')\n",
    "plt.ylabel('Number of Establishments')\n",
    "plt.title('Distribution of Average Coffee Cup Prices in Moscow Coffee Shops')\n",
    "plt.show()"
   ]
  },
  {
   "cell_type": "code",
   "execution_count": null,
   "metadata": {},
   "outputs": [],
   "source": [
    "coffee_CAO = data_c.query('district==\"Центральный административный округ\"') \n",
    "\n",
    "plt.figure(figsize=(12, 6))\n",
    "plt.hist(coffee_CAO['middle_coffee_cup'], bins=50, color='lightblue', edgecolor='black')\n",
    "plt.xlabel('Cappuccino Price')\n",
    "plt.ylabel('Number of Establishments')\n",
    "plt.title('Distribution of Average Coffee Cup Prices in ЦАО')\n",
    "plt.show()"
   ]
  },
  {
   "cell_type": "code",
   "execution_count": null,
   "metadata": {},
   "outputs": [],
   "source": [
    "coffee_ZAO = data_c.query('district==\"Западный административный округ\"') \n",
    "\n",
    "plt.figure(figsize=(12, 6))\n",
    "plt.hist(coffee_ZAO['middle_coffee_cup'], bins=50, color='lightblue', edgecolor='black')\n",
    "plt.xlabel('Cappuccino Price')\n",
    "plt.ylabel('Number of Establishments')\n",
    "plt.title('Distribution of Average Coffee Cup Prices in ЗАО')\n",
    "plt.show()"
   ]
  },
  {
   "cell_type": "markdown",
   "metadata": {},
   "source": [
    "So, most often in Moscow coffee shops, cappuccino is purchased for 260-270 rubles. Although the second most popular price is 90 rubles per cup. In Central Administrative Okrug (CAO) and Western Administrative Okrug (WAO), the usual price is 260 rubles. Although there are many inexpensive coffee shops in CAO, WAO is not as flexible in pricing. And there are significantly fewer establishments here."
   ]
  },
  {
   "cell_type": "markdown",
   "metadata": {},
   "source": [
    "### Price category"
   ]
  },
  {
   "cell_type": "code",
   "execution_count": null,
   "metadata": {},
   "outputs": [],
   "source": [
    "# Creating two subplots for two datasets on one graph\n",
    "fig, axes = plt.subplots(1, 4, figsize=(12, 6))\n",
    "# Creating a dictionary with pastel colors\n",
    "pastel_colors = sns.color_palette(\"pastel\", 4)\n",
    "\n",
    "# Creating a dictionary that maps colors to categories\n",
    "fixed_colors = {\n",
    "    'выше среднего': pastel_colors[0],\n",
    "    'средние': pastel_colors[1],\n",
    "    'высокие': pastel_colors[2],\n",
    "    'низкие': pastel_colors[3]\n",
    "}\n",
    "\n",
    "# first (data)\n",
    "sns.countplot(data=data, x='price', ax=axes[0], palette=fixed_colors)\n",
    "axes[0].set_title('Price Distribution in Moscow')\n",
    "axes[0].set_xlabel('Price Category')\n",
    "axes[0].set_ylabel('Number of Establishments')\n",
    "axes[0].tick_params(axis='x', labelrotation=45)\n",
    "\n",
    "# second (data_c)\n",
    "sns.countplot(data=data_c, x='price', ax=axes[1], palette=fixed_colors)\n",
    "axes[1].set_title('Price Distribution in Coffee Shops')\n",
    "axes[1].set_xlabel('Price Category')\n",
    "axes[1].set_ylabel('Number of Establishments')\n",
    "axes[1].tick_params(axis='x', labelrotation=45)\n",
    "\n",
    "# CAO\n",
    "sns.countplot(data=coffee_CAO, x='price', ax=axes[2], palette=fixed_colors)\n",
    "axes[2].set_title('Prices in CAO Coffee Shops')\n",
    "axes[2].set_xlabel('Price Category')\n",
    "axes[2].set_ylabel('Number of Establishments')\n",
    "axes[2].tick_params(axis='x', labelrotation=45)\n",
    "\n",
    "# WAO\n",
    "sns.countplot(data=coffee_ZAO, x='price', ax=axes[3], palette=fixed_colors)\n",
    "axes[3].set_title('Prices in WAO Coffee Shops')\n",
    "axes[3].set_xlabel('Price Category')\n",
    "axes[3].set_ylabel('Number of Establishments')\n",
    "axes[3].tick_params(axis='x', labelrotation=45)\n",
    "\n",
    "\n",
    "plt.tight_layout()\n",
    "\n",
    "\n",
    "plt.show()"
   ]
  },
  {
   "cell_type": "markdown",
   "metadata": {},
   "source": [
    "In Moscow's coffee shops, just like in establishments of other categories, medium prices are the most prevalent. It's evident that in the Central Administrative District (CAO), there's a diverse mix of restaurant-goers, which results in demand not only for medium-priced items but also for high and low-priced ones. However, in the Western Administrative District (WAO), where prices are above average, the ratio of such establishments is higher than in CAO."
   ]
  },
  {
   "cell_type": "markdown",
   "metadata": {},
   "source": [
    "### Conclusions and Recommendations"
   ]
  },
  {
   "cell_type": "markdown",
   "metadata": {},
   "source": [
    "Key takeaways from the conducted research:\n",
    "\n",
    "- Target Audience: The primary target audience should be young adults aged 20 to 35.\n",
    "\n",
    "- Location: It is recommended to choose a location for the coffee shop in central districts of Moscow, such as the Central Administrative District (CAO) or the Western Administrative District (ZAO), where there is an active young audience and access to business and entertainment centers. There are already 117 coffee shops in CAO, while ZAO has only 50.\n",
    "\n",
    "- Operating Hours: Provide flexible working hours, including 24/7 service, especially in CAO, where nightlife is active. Operating from 10 AM to 10 PM on weekdays and 24/7 on weekends is also an option. In ZAO, there are few 24/7 establishments, so competition is lower, but to justify such working hours, consider locating the coffee shop near other public places that operate at night. If you focus on daytime hours, consider placing the coffee shop near business centers.\n",
    "\n",
    "- Main Competitors: Pay attention to chain establishments that are well-represented in the selected areas of Moscow, such as 'Kofemania,' 'CofeFest,' 'Shokoladnitsa,' and 'Cinnabon.' By studying the menus of competitors, you can find unique features that they don't have, making it easier to stand out.\n",
    "\n",
    "- Price: The price of a cup of coffee should likely be around 260 rubles, as this option is the most popular in other coffee shops and seems to be in demand among customers. However, at the launch stage, you can slightly reduce the price by 10-20 rubles to differentiate yourself from competitors (the effectiveness of this strategy cannot be judged without data). A significantly lower price may raise doubts about quality, while a significantly higher price must be justified.\n",
    "\n",
    "- Ratings: Based on the conducted research, it appears that ratings in ZAO establishments are low. This can be a good sign and provide an advantage at the start, provided that a high level of service is ensured.\n",
    "\n",
    "It is advisable to further analyze customer reviews for other coffee shops in the chosen area, taking into account feedback and criticism to avoid mistakes."
   ]
  }
 ],
 "metadata": {
  "ExecuteTimeLog": [
   {
    "duration": 1414,
    "start_time": "2023-08-28T10:00:32.436Z"
   },
   {
    "duration": 135,
    "start_time": "2023-08-28T10:08:21.596Z"
   },
   {
    "duration": 70,
    "start_time": "2023-08-28T10:08:28.163Z"
   },
   {
    "duration": 16,
    "start_time": "2023-08-28T10:23:33.240Z"
   },
   {
    "duration": 7088,
    "start_time": "2023-08-28T10:33:30.116Z"
   },
   {
    "duration": 33,
    "start_time": "2023-08-28T10:41:56.073Z"
   },
   {
    "duration": 13,
    "start_time": "2023-08-28T10:43:54.305Z"
   },
   {
    "duration": 16,
    "start_time": "2023-08-28T10:44:03.458Z"
   },
   {
    "duration": 4,
    "start_time": "2023-08-28T10:46:26.995Z"
   },
   {
    "duration": 11,
    "start_time": "2023-08-28T10:47:40.232Z"
   },
   {
    "duration": 101,
    "start_time": "2023-08-28T10:47:47.962Z"
   },
   {
    "duration": 61,
    "start_time": "2023-08-28T10:47:51.505Z"
   },
   {
    "duration": 10,
    "start_time": "2023-08-28T10:48:04.000Z"
   },
   {
    "duration": 96,
    "start_time": "2023-08-28T10:48:09.732Z"
   },
   {
    "duration": 15,
    "start_time": "2023-08-28T10:50:43.283Z"
   },
   {
    "duration": 19,
    "start_time": "2023-08-28T10:53:05.623Z"
   },
   {
    "duration": 18,
    "start_time": "2023-08-28T10:53:17.884Z"
   },
   {
    "duration": 22,
    "start_time": "2023-08-28T10:56:19.080Z"
   },
   {
    "duration": 67,
    "start_time": "2023-08-28T10:57:38.095Z"
   },
   {
    "duration": 8,
    "start_time": "2023-08-28T10:57:44.096Z"
   },
   {
    "duration": 9,
    "start_time": "2023-08-28T10:58:05.925Z"
   },
   {
    "duration": 3,
    "start_time": "2023-08-28T11:00:34.867Z"
   },
   {
    "duration": 83,
    "start_time": "2023-08-28T11:00:34.874Z"
   },
   {
    "duration": 11,
    "start_time": "2023-08-28T11:00:34.959Z"
   },
   {
    "duration": 27,
    "start_time": "2023-08-28T11:00:34.972Z"
   },
   {
    "duration": 4,
    "start_time": "2023-08-28T11:00:35.001Z"
   },
   {
    "duration": 20,
    "start_time": "2023-08-28T11:00:35.007Z"
   },
   {
    "duration": 11,
    "start_time": "2023-08-28T11:00:48.585Z"
   },
   {
    "duration": 26,
    "start_time": "2023-08-28T11:01:45.223Z"
   },
   {
    "duration": 4,
    "start_time": "2023-08-28T11:02:33.664Z"
   },
   {
    "duration": 375,
    "start_time": "2023-08-28T11:05:00.969Z"
   },
   {
    "duration": 24,
    "start_time": "2023-08-28T11:05:24.807Z"
   },
   {
    "duration": 25,
    "start_time": "2023-08-28T11:05:31.135Z"
   },
   {
    "duration": 25,
    "start_time": "2023-08-28T11:05:51.903Z"
   },
   {
    "duration": 6,
    "start_time": "2023-08-28T11:06:20.145Z"
   },
   {
    "duration": 23,
    "start_time": "2023-08-28T11:06:26.438Z"
   },
   {
    "duration": 6,
    "start_time": "2023-08-28T11:09:40.668Z"
   },
   {
    "duration": 28,
    "start_time": "2023-08-28T11:09:46.988Z"
   },
   {
    "duration": 2,
    "start_time": "2023-08-28T11:11:59.271Z"
   },
   {
    "duration": 81,
    "start_time": "2023-08-28T11:11:59.275Z"
   },
   {
    "duration": 11,
    "start_time": "2023-08-28T11:11:59.358Z"
   },
   {
    "duration": 33,
    "start_time": "2023-08-28T11:11:59.370Z"
   },
   {
    "duration": 3,
    "start_time": "2023-08-28T11:11:59.405Z"
   },
   {
    "duration": 13,
    "start_time": "2023-08-28T11:11:59.410Z"
   },
   {
    "duration": 5,
    "start_time": "2023-08-28T11:12:12.934Z"
   },
   {
    "duration": 24,
    "start_time": "2023-08-28T11:12:27.520Z"
   },
   {
    "duration": 23,
    "start_time": "2023-08-28T11:12:59.096Z"
   },
   {
    "duration": 23,
    "start_time": "2023-08-28T11:14:35.291Z"
   },
   {
    "duration": 46,
    "start_time": "2023-08-28T11:14:45.258Z"
   },
   {
    "duration": 24,
    "start_time": "2023-08-28T11:15:49.027Z"
   },
   {
    "duration": 7,
    "start_time": "2023-08-28T11:23:16.905Z"
   },
   {
    "duration": 5,
    "start_time": "2023-08-28T11:23:24.688Z"
   },
   {
    "duration": 8,
    "start_time": "2023-08-28T11:23:50.410Z"
   },
   {
    "duration": 5,
    "start_time": "2023-08-28T11:23:55.782Z"
   },
   {
    "duration": 5,
    "start_time": "2023-08-28T11:27:08.042Z"
   },
   {
    "duration": 5,
    "start_time": "2023-08-28T11:27:21.910Z"
   },
   {
    "duration": 3,
    "start_time": "2023-08-28T11:27:25.568Z"
   },
   {
    "duration": 73,
    "start_time": "2023-08-28T11:27:25.575Z"
   },
   {
    "duration": 12,
    "start_time": "2023-08-28T11:27:25.649Z"
   },
   {
    "duration": 23,
    "start_time": "2023-08-28T11:27:25.662Z"
   },
   {
    "duration": 3,
    "start_time": "2023-08-28T11:27:25.687Z"
   },
   {
    "duration": 5,
    "start_time": "2023-08-28T11:27:34.391Z"
   },
   {
    "duration": 5,
    "start_time": "2023-08-28T11:28:01.780Z"
   },
   {
    "duration": 129,
    "start_time": "2023-08-28T11:28:54.560Z"
   },
   {
    "duration": 63,
    "start_time": "2023-08-28T11:30:09.766Z"
   },
   {
    "duration": 5,
    "start_time": "2023-08-28T11:30:20.398Z"
   },
   {
    "duration": 178,
    "start_time": "2023-08-28T11:31:07.720Z"
   },
   {
    "duration": 3,
    "start_time": "2023-08-28T11:31:21.488Z"
   },
   {
    "duration": 75,
    "start_time": "2023-08-28T11:31:21.492Z"
   },
   {
    "duration": 12,
    "start_time": "2023-08-28T11:31:21.569Z"
   },
   {
    "duration": 31,
    "start_time": "2023-08-28T11:31:21.583Z"
   },
   {
    "duration": 184,
    "start_time": "2023-08-28T11:31:21.615Z"
   },
   {
    "duration": 153,
    "start_time": "2023-08-28T11:31:21.801Z"
   },
   {
    "duration": 15,
    "start_time": "2023-08-28T11:31:44.033Z"
   },
   {
    "duration": 662,
    "start_time": "2023-08-28T11:54:30.833Z"
   },
   {
    "duration": 298,
    "start_time": "2023-08-28T11:55:14.172Z"
   },
   {
    "duration": 414,
    "start_time": "2023-08-28T11:55:28.814Z"
   },
   {
    "duration": 4,
    "start_time": "2023-08-28T11:55:52.660Z"
   },
   {
    "duration": 83,
    "start_time": "2023-08-28T11:55:52.666Z"
   },
   {
    "duration": 12,
    "start_time": "2023-08-28T11:55:52.751Z"
   },
   {
    "duration": 28,
    "start_time": "2023-08-28T11:55:52.765Z"
   },
   {
    "duration": 15,
    "start_time": "2023-08-28T11:55:52.795Z"
   },
   {
    "duration": 331,
    "start_time": "2023-08-28T11:55:52.812Z"
   },
   {
    "duration": 12,
    "start_time": "2023-08-28T11:57:24.646Z"
   },
   {
    "duration": 3076,
    "start_time": "2023-08-28T11:57:33.671Z"
   },
   {
    "duration": 279,
    "start_time": "2023-08-28T11:59:20.018Z"
   },
   {
    "duration": 15,
    "start_time": "2023-08-28T11:59:55.777Z"
   },
   {
    "duration": 18,
    "start_time": "2023-08-28T12:00:13.207Z"
   },
   {
    "duration": 26,
    "start_time": "2023-08-28T12:00:34.458Z"
   },
   {
    "duration": 13,
    "start_time": "2023-08-28T12:02:01.621Z"
   },
   {
    "duration": 22,
    "start_time": "2023-08-28T12:02:30.646Z"
   },
   {
    "duration": 400,
    "start_time": "2023-08-28T12:08:47.127Z"
   },
   {
    "duration": 3,
    "start_time": "2023-08-28T12:09:19.833Z"
   },
   {
    "duration": 79,
    "start_time": "2023-08-28T12:09:19.840Z"
   },
   {
    "duration": 13,
    "start_time": "2023-08-28T12:09:19.920Z"
   },
   {
    "duration": 25,
    "start_time": "2023-08-28T12:09:19.934Z"
   },
   {
    "duration": 14,
    "start_time": "2023-08-28T12:09:19.960Z"
   },
   {
    "duration": 14,
    "start_time": "2023-08-28T12:09:19.976Z"
   },
   {
    "duration": 1286,
    "start_time": "2023-08-28T12:09:19.991Z"
   },
   {
    "duration": 1121,
    "start_time": "2023-08-28T12:09:50.819Z"
   },
   {
    "duration": 41,
    "start_time": "2023-08-28T12:10:22.557Z"
   },
   {
    "duration": 54,
    "start_time": "2023-08-28T12:10:32.291Z"
   },
   {
    "duration": 202,
    "start_time": "2023-08-28T12:13:06.232Z"
   },
   {
    "duration": 46,
    "start_time": "2023-08-28T12:13:21.528Z"
   },
   {
    "duration": 46,
    "start_time": "2023-08-28T12:16:51.854Z"
   },
   {
    "duration": 36,
    "start_time": "2023-08-28T12:17:56.936Z"
   },
   {
    "duration": 23,
    "start_time": "2023-08-28T12:19:17.867Z"
   },
   {
    "duration": 27,
    "start_time": "2023-08-28T12:19:45.625Z"
   },
   {
    "duration": 4,
    "start_time": "2023-08-28T12:20:29.459Z"
   },
   {
    "duration": 90,
    "start_time": "2023-08-28T12:20:29.466Z"
   },
   {
    "duration": 12,
    "start_time": "2023-08-28T12:20:29.558Z"
   },
   {
    "duration": 54,
    "start_time": "2023-08-28T12:20:29.572Z"
   },
   {
    "duration": 13,
    "start_time": "2023-08-28T12:20:29.628Z"
   },
   {
    "duration": 21,
    "start_time": "2023-08-28T12:20:29.643Z"
   },
   {
    "duration": 39,
    "start_time": "2023-08-28T12:20:29.665Z"
   },
   {
    "duration": 22,
    "start_time": "2023-08-28T12:20:51.189Z"
   },
   {
    "duration": 61,
    "start_time": "2023-08-28T12:21:55.136Z"
   },
   {
    "duration": 3,
    "start_time": "2023-08-28T12:45:59.948Z"
   },
   {
    "duration": 81,
    "start_time": "2023-08-28T12:45:59.952Z"
   },
   {
    "duration": 12,
    "start_time": "2023-08-28T12:46:00.034Z"
   },
   {
    "duration": 42,
    "start_time": "2023-08-28T12:46:00.047Z"
   },
   {
    "duration": 43,
    "start_time": "2023-08-28T12:46:00.091Z"
   },
   {
    "duration": 30,
    "start_time": "2023-08-28T12:46:00.136Z"
   },
   {
    "duration": 44,
    "start_time": "2023-08-28T12:46:00.167Z"
   },
   {
    "duration": 129,
    "start_time": "2023-08-28T12:46:59.006Z"
   },
   {
    "duration": 28,
    "start_time": "2023-08-28T12:53:58.416Z"
   },
   {
    "duration": 72432,
    "start_time": "2023-08-28T12:58:42.448Z"
   },
   {
    "duration": 8,
    "start_time": "2023-08-28T13:02:27.370Z"
   },
   {
    "duration": 25,
    "start_time": "2023-08-28T13:03:47.501Z"
   },
   {
    "duration": 351,
    "start_time": "2023-08-28T13:04:47.686Z"
   },
   {
    "duration": 223,
    "start_time": "2023-08-28T13:05:13.565Z"
   },
   {
    "duration": 283,
    "start_time": "2023-08-28T13:06:40.442Z"
   },
   {
    "duration": 228,
    "start_time": "2023-08-28T13:07:12.908Z"
   },
   {
    "duration": 279,
    "start_time": "2023-08-28T13:13:45.806Z"
   },
   {
    "duration": 4,
    "start_time": "2023-08-28T13:16:35.777Z"
   },
   {
    "duration": 91,
    "start_time": "2023-08-28T13:16:35.783Z"
   },
   {
    "duration": 11,
    "start_time": "2023-08-28T13:16:35.876Z"
   },
   {
    "duration": 29,
    "start_time": "2023-08-28T13:16:35.889Z"
   },
   {
    "duration": 13,
    "start_time": "2023-08-28T13:16:35.919Z"
   },
   {
    "duration": 25,
    "start_time": "2023-08-28T13:16:35.934Z"
   },
   {
    "duration": 51,
    "start_time": "2023-08-28T13:16:35.961Z"
   },
   {
    "duration": 35,
    "start_time": "2023-08-28T13:16:36.014Z"
   },
   {
    "duration": 342,
    "start_time": "2023-08-28T13:16:36.051Z"
   },
   {
    "duration": 16,
    "start_time": "2023-08-28T13:20:34.255Z"
   },
   {
    "duration": 140,
    "start_time": "2023-08-28T13:22:27.200Z"
   },
   {
    "duration": 140,
    "start_time": "2023-08-28T13:22:41.305Z"
   },
   {
    "duration": 593,
    "start_time": "2023-08-28T13:22:59.885Z"
   },
   {
    "duration": 213,
    "start_time": "2023-08-28T13:23:05.153Z"
   },
   {
    "duration": 20,
    "start_time": "2023-08-28T13:23:38.372Z"
   },
   {
    "duration": 18,
    "start_time": "2023-08-28T13:23:54.537Z"
   },
   {
    "duration": 15,
    "start_time": "2023-08-28T13:24:07.065Z"
   },
   {
    "duration": 16,
    "start_time": "2023-08-28T13:24:19.211Z"
   },
   {
    "duration": 16,
    "start_time": "2023-08-28T13:24:31.590Z"
   },
   {
    "duration": 6,
    "start_time": "2023-08-28T13:25:48.610Z"
   },
   {
    "duration": 32,
    "start_time": "2023-08-28T13:26:47.635Z"
   },
   {
    "duration": 3,
    "start_time": "2023-08-28T13:27:05.494Z"
   },
   {
    "duration": 157,
    "start_time": "2023-08-28T13:27:05.500Z"
   },
   {
    "duration": 11,
    "start_time": "2023-08-28T13:27:05.659Z"
   },
   {
    "duration": 25,
    "start_time": "2023-08-28T13:27:05.672Z"
   },
   {
    "duration": 13,
    "start_time": "2023-08-28T13:27:05.698Z"
   },
   {
    "duration": 15,
    "start_time": "2023-08-28T13:27:05.713Z"
   },
   {
    "duration": 38,
    "start_time": "2023-08-28T13:27:05.730Z"
   },
   {
    "duration": 30,
    "start_time": "2023-08-28T13:27:05.770Z"
   },
   {
    "duration": 228,
    "start_time": "2023-08-28T13:27:05.802Z"
   },
   {
    "duration": 259,
    "start_time": "2023-08-28T13:27:06.031Z"
   },
   {
    "duration": 30,
    "start_time": "2023-08-28T13:27:06.292Z"
   },
   {
    "duration": 31,
    "start_time": "2023-08-28T13:27:26.468Z"
   },
   {
    "duration": 29,
    "start_time": "2023-08-28T13:27:41.821Z"
   },
   {
    "duration": 29,
    "start_time": "2023-08-28T13:27:49.843Z"
   },
   {
    "duration": 187,
    "start_time": "2023-08-28T13:28:53.042Z"
   },
   {
    "duration": 324,
    "start_time": "2023-08-28T13:29:35.111Z"
   },
   {
    "duration": 3,
    "start_time": "2023-08-28T13:30:23.211Z"
   },
   {
    "duration": 74,
    "start_time": "2023-08-28T13:30:23.216Z"
   },
   {
    "duration": 13,
    "start_time": "2023-08-28T13:30:23.292Z"
   },
   {
    "duration": 32,
    "start_time": "2023-08-28T13:30:23.307Z"
   },
   {
    "duration": 14,
    "start_time": "2023-08-28T13:30:23.349Z"
   },
   {
    "duration": 20,
    "start_time": "2023-08-28T13:30:23.364Z"
   },
   {
    "duration": 28,
    "start_time": "2023-08-28T13:30:23.385Z"
   },
   {
    "duration": 35,
    "start_time": "2023-08-28T13:30:23.415Z"
   },
   {
    "duration": 227,
    "start_time": "2023-08-28T13:30:23.452Z"
   },
   {
    "duration": 235,
    "start_time": "2023-08-28T13:30:23.680Z"
   },
   {
    "duration": 34,
    "start_time": "2023-08-28T13:30:23.917Z"
   },
   {
    "duration": 216,
    "start_time": "2023-08-28T13:30:23.952Z"
   },
   {
    "duration": 26,
    "start_time": "2023-08-28T13:32:19.205Z"
   },
   {
    "duration": 3,
    "start_time": "2023-08-28T13:32:25.197Z"
   },
   {
    "duration": 73,
    "start_time": "2023-08-28T13:32:25.204Z"
   },
   {
    "duration": 12,
    "start_time": "2023-08-28T13:32:25.279Z"
   },
   {
    "duration": 55,
    "start_time": "2023-08-28T13:32:25.293Z"
   },
   {
    "duration": 21,
    "start_time": "2023-08-28T13:32:25.349Z"
   },
   {
    "duration": 12,
    "start_time": "2023-08-28T13:32:25.372Z"
   },
   {
    "duration": 40,
    "start_time": "2023-08-28T13:32:25.385Z"
   },
   {
    "duration": 44,
    "start_time": "2023-08-28T13:32:25.426Z"
   },
   {
    "duration": 237,
    "start_time": "2023-08-28T13:32:25.472Z"
   },
   {
    "duration": 231,
    "start_time": "2023-08-28T13:32:25.711Z"
   },
   {
    "duration": 31,
    "start_time": "2023-08-28T13:32:25.944Z"
   },
   {
    "duration": 169,
    "start_time": "2023-08-28T13:32:25.977Z"
   },
   {
    "duration": 3,
    "start_time": "2023-08-28T13:35:52.942Z"
   },
   {
    "duration": 73,
    "start_time": "2023-08-28T13:35:52.947Z"
   },
   {
    "duration": 11,
    "start_time": "2023-08-28T13:35:53.021Z"
   },
   {
    "duration": 29,
    "start_time": "2023-08-28T13:35:53.034Z"
   },
   {
    "duration": 13,
    "start_time": "2023-08-28T13:35:53.065Z"
   },
   {
    "duration": 12,
    "start_time": "2023-08-28T13:35:53.079Z"
   },
   {
    "duration": 29,
    "start_time": "2023-08-28T13:35:53.092Z"
   },
   {
    "duration": 40,
    "start_time": "2023-08-28T13:35:53.123Z"
   },
   {
    "duration": 225,
    "start_time": "2023-08-28T13:35:53.164Z"
   },
   {
    "duration": 230,
    "start_time": "2023-08-28T13:35:53.391Z"
   },
   {
    "duration": 34,
    "start_time": "2023-08-28T13:35:53.623Z"
   },
   {
    "duration": 198,
    "start_time": "2023-08-28T13:35:53.659Z"
   },
   {
    "duration": 27,
    "start_time": "2023-08-28T13:36:08.155Z"
   },
   {
    "duration": 3,
    "start_time": "2023-08-28T13:37:08.139Z"
   },
   {
    "duration": 71,
    "start_time": "2023-08-28T13:37:08.144Z"
   },
   {
    "duration": 12,
    "start_time": "2023-08-28T13:37:08.216Z"
   },
   {
    "duration": 32,
    "start_time": "2023-08-28T13:37:08.229Z"
   },
   {
    "duration": 15,
    "start_time": "2023-08-28T13:37:08.263Z"
   },
   {
    "duration": 20,
    "start_time": "2023-08-28T13:37:08.279Z"
   },
   {
    "duration": 32,
    "start_time": "2023-08-28T13:37:08.300Z"
   },
   {
    "duration": 42,
    "start_time": "2023-08-28T13:37:08.334Z"
   },
   {
    "duration": 221,
    "start_time": "2023-08-28T13:37:08.378Z"
   },
   {
    "duration": 217,
    "start_time": "2023-08-28T13:37:08.601Z"
   },
   {
    "duration": 32,
    "start_time": "2023-08-28T13:37:17.038Z"
   },
   {
    "duration": 28,
    "start_time": "2023-08-28T13:39:39.598Z"
   },
   {
    "duration": 157,
    "start_time": "2023-08-28T13:39:44.243Z"
   },
   {
    "duration": 237,
    "start_time": "2023-08-28T13:39:50.213Z"
   },
   {
    "duration": 28,
    "start_time": "2023-08-28T13:49:22.267Z"
   },
   {
    "duration": 227,
    "start_time": "2023-08-28T13:50:29.804Z"
   },
   {
    "duration": 23,
    "start_time": "2023-08-28T13:51:39.508Z"
   },
   {
    "duration": 21,
    "start_time": "2023-08-28T13:52:29.497Z"
   },
   {
    "duration": 9,
    "start_time": "2023-08-28T14:28:52.980Z"
   },
   {
    "duration": 12,
    "start_time": "2023-08-28T14:29:41.781Z"
   },
   {
    "duration": 12,
    "start_time": "2023-08-28T14:29:45.944Z"
   },
   {
    "duration": 16,
    "start_time": "2023-08-28T14:30:54.327Z"
   },
   {
    "duration": 11,
    "start_time": "2023-08-28T14:31:05.068Z"
   },
   {
    "duration": 18,
    "start_time": "2023-08-28T14:31:18.391Z"
   },
   {
    "duration": 14,
    "start_time": "2023-08-28T14:33:24.870Z"
   },
   {
    "duration": 1065,
    "start_time": "2023-08-28T14:34:30.249Z"
   },
   {
    "duration": 7,
    "start_time": "2023-08-28T14:35:55.687Z"
   },
   {
    "duration": 19,
    "start_time": "2023-08-28T14:36:03.903Z"
   },
   {
    "duration": 1930,
    "start_time": "2023-08-28T14:37:26.229Z"
   },
   {
    "duration": 152,
    "start_time": "2023-08-28T14:38:29.263Z"
   },
   {
    "duration": 17,
    "start_time": "2023-08-28T14:39:43.147Z"
   },
   {
    "duration": 806,
    "start_time": "2023-08-28T14:40:05.760Z"
   },
   {
    "duration": 1164,
    "start_time": "2023-08-28T14:41:37.686Z"
   },
   {
    "duration": 321,
    "start_time": "2023-08-28T14:42:21.720Z"
   },
   {
    "duration": 292,
    "start_time": "2023-08-28T14:43:15.260Z"
   },
   {
    "duration": 27,
    "start_time": "2023-08-28T14:44:33.884Z"
   },
   {
    "duration": 19,
    "start_time": "2023-08-28T14:44:52.034Z"
   },
   {
    "duration": 8,
    "start_time": "2023-08-28T14:57:36.843Z"
   },
   {
    "duration": 13,
    "start_time": "2023-08-28T14:57:42.691Z"
   },
   {
    "duration": 9,
    "start_time": "2023-08-28T14:59:30.971Z"
   },
   {
    "duration": 4,
    "start_time": "2023-08-28T15:00:25.640Z"
   },
   {
    "duration": 5,
    "start_time": "2023-08-28T15:02:05.309Z"
   },
   {
    "duration": 8,
    "start_time": "2023-08-28T15:03:05.250Z"
   },
   {
    "duration": 8,
    "start_time": "2023-08-28T15:04:58.720Z"
   },
   {
    "duration": 7,
    "start_time": "2023-08-28T15:05:19.389Z"
   },
   {
    "duration": 31,
    "start_time": "2023-08-28T15:06:53.988Z"
   },
   {
    "duration": 31,
    "start_time": "2023-08-28T15:07:50.852Z"
   },
   {
    "duration": 3,
    "start_time": "2023-08-28T15:07:59.526Z"
   },
   {
    "duration": 73,
    "start_time": "2023-08-28T15:07:59.530Z"
   },
   {
    "duration": 14,
    "start_time": "2023-08-28T15:07:59.605Z"
   },
   {
    "duration": 30,
    "start_time": "2023-08-28T15:07:59.620Z"
   },
   {
    "duration": 13,
    "start_time": "2023-08-28T15:07:59.652Z"
   },
   {
    "duration": 40,
    "start_time": "2023-08-28T15:07:59.666Z"
   },
   {
    "duration": 36,
    "start_time": "2023-08-28T15:07:59.708Z"
   },
   {
    "duration": 33,
    "start_time": "2023-08-28T15:07:59.746Z"
   },
   {
    "duration": 222,
    "start_time": "2023-08-28T15:07:59.780Z"
   },
   {
    "duration": 233,
    "start_time": "2023-08-28T15:08:00.004Z"
   },
   {
    "duration": 34,
    "start_time": "2023-08-28T15:08:00.239Z"
   },
   {
    "duration": 299,
    "start_time": "2023-08-28T15:08:00.275Z"
   },
   {
    "duration": 28,
    "start_time": "2023-08-28T15:08:00.576Z"
   },
   {
    "duration": 251,
    "start_time": "2023-08-28T15:08:00.606Z"
   },
   {
    "duration": 319,
    "start_time": "2023-08-28T15:08:00.858Z"
   },
   {
    "duration": 21,
    "start_time": "2023-08-28T15:08:01.179Z"
   },
   {
    "duration": 53,
    "start_time": "2023-08-28T15:08:01.201Z"
   },
   {
    "duration": 121,
    "start_time": "2023-08-28T15:08:01.256Z"
   },
   {
    "duration": 71,
    "start_time": "2023-08-28T15:08:01.378Z"
   },
   {
    "duration": 130,
    "start_time": "2023-08-28T15:12:47.113Z"
   },
   {
    "duration": 52,
    "start_time": "2023-08-29T16:43:59.501Z"
   },
   {
    "duration": 1392,
    "start_time": "2023-08-29T16:44:03.690Z"
   },
   {
    "duration": 242,
    "start_time": "2023-08-29T16:44:05.084Z"
   },
   {
    "duration": 14,
    "start_time": "2023-08-29T16:44:05.328Z"
   },
   {
    "duration": 51,
    "start_time": "2023-08-29T16:44:05.344Z"
   },
   {
    "duration": 15,
    "start_time": "2023-08-29T16:44:05.397Z"
   },
   {
    "duration": 52,
    "start_time": "2023-08-29T16:44:05.414Z"
   },
   {
    "duration": 43,
    "start_time": "2023-08-29T16:44:05.467Z"
   },
   {
    "duration": 69,
    "start_time": "2023-08-29T16:44:05.511Z"
   },
   {
    "duration": 274,
    "start_time": "2023-08-29T16:44:05.582Z"
   },
   {
    "duration": 269,
    "start_time": "2023-08-29T16:44:05.859Z"
   },
   {
    "duration": 41,
    "start_time": "2023-08-29T16:44:06.130Z"
   },
   {
    "duration": 273,
    "start_time": "2023-08-29T16:44:06.172Z"
   },
   {
    "duration": 40,
    "start_time": "2023-08-29T16:44:06.447Z"
   },
   {
    "duration": 289,
    "start_time": "2023-08-29T16:44:06.489Z"
   },
   {
    "duration": 506,
    "start_time": "2023-08-29T16:44:06.780Z"
   },
   {
    "duration": 20,
    "start_time": "2023-08-29T16:44:07.288Z"
   },
   {
    "duration": 18,
    "start_time": "2023-08-29T16:44:07.309Z"
   },
   {
    "duration": 19,
    "start_time": "2023-08-29T16:44:07.330Z"
   },
   {
    "duration": 41,
    "start_time": "2023-08-29T16:44:07.350Z"
   },
   {
    "duration": 18,
    "start_time": "2023-08-29T16:44:07.393Z"
   },
   {
    "duration": 4,
    "start_time": "2023-08-29T16:45:00.644Z"
   },
   {
    "duration": 66,
    "start_time": "2023-08-29T16:46:16.952Z"
   },
   {
    "duration": 5,
    "start_time": "2023-08-29T16:46:21.928Z"
   },
   {
    "duration": 8,
    "start_time": "2023-08-29T16:47:35.530Z"
   },
   {
    "duration": 8,
    "start_time": "2023-08-29T16:47:45.152Z"
   },
   {
    "duration": 11,
    "start_time": "2023-08-29T16:51:25.530Z"
   },
   {
    "duration": 9,
    "start_time": "2023-08-29T16:53:25.351Z"
   },
   {
    "duration": 4,
    "start_time": "2023-08-29T16:53:40.306Z"
   },
   {
    "duration": 7,
    "start_time": "2023-08-29T16:53:46.279Z"
   },
   {
    "duration": 163,
    "start_time": "2023-08-29T16:55:20.535Z"
   },
   {
    "duration": 159,
    "start_time": "2023-08-29T16:55:38.999Z"
   },
   {
    "duration": 205,
    "start_time": "2023-08-29T16:58:32.148Z"
   },
   {
    "duration": 150,
    "start_time": "2023-08-29T16:59:06.601Z"
   },
   {
    "duration": 145,
    "start_time": "2023-08-29T16:59:25.624Z"
   },
   {
    "duration": 185,
    "start_time": "2023-08-29T16:59:49.485Z"
   },
   {
    "duration": 181,
    "start_time": "2023-08-29T17:18:06.936Z"
   },
   {
    "duration": 177,
    "start_time": "2023-08-29T17:18:50.836Z"
   },
   {
    "duration": 178,
    "start_time": "2023-08-29T17:20:19.562Z"
   },
   {
    "duration": 175,
    "start_time": "2023-08-29T17:21:21.864Z"
   },
   {
    "duration": 282,
    "start_time": "2023-08-29T17:21:47.690Z"
   },
   {
    "duration": 158,
    "start_time": "2023-08-29T17:23:17.140Z"
   },
   {
    "duration": 164,
    "start_time": "2023-08-29T17:23:26.661Z"
   },
   {
    "duration": 190,
    "start_time": "2023-08-29T17:23:41.813Z"
   },
   {
    "duration": 182,
    "start_time": "2023-08-29T17:23:48.610Z"
   },
   {
    "duration": 184,
    "start_time": "2023-08-29T17:31:02.666Z"
   },
   {
    "duration": 168,
    "start_time": "2023-08-29T17:31:39.775Z"
   },
   {
    "duration": 183,
    "start_time": "2023-08-29T17:31:44.518Z"
   },
   {
    "duration": 691,
    "start_time": "2023-08-29T17:32:30.011Z"
   },
   {
    "duration": 188,
    "start_time": "2023-08-29T17:34:05.382Z"
   },
   {
    "duration": 200,
    "start_time": "2023-08-29T17:34:57.490Z"
   },
   {
    "duration": 318,
    "start_time": "2023-08-29T17:35:28.833Z"
   },
   {
    "duration": 182,
    "start_time": "2023-08-29T17:35:40.527Z"
   },
   {
    "duration": 216,
    "start_time": "2023-08-29T17:36:07.881Z"
   },
   {
    "duration": 196,
    "start_time": "2023-08-29T17:36:25.237Z"
   },
   {
    "duration": 190,
    "start_time": "2023-08-29T17:36:50.044Z"
   },
   {
    "duration": 197,
    "start_time": "2023-08-29T17:37:00.971Z"
   },
   {
    "duration": 12,
    "start_time": "2023-08-29T17:42:07.472Z"
   },
   {
    "duration": 259,
    "start_time": "2023-08-29T17:42:24.671Z"
   },
   {
    "duration": 159,
    "start_time": "2023-08-29T17:43:50.076Z"
   },
   {
    "duration": 185,
    "start_time": "2023-08-29T17:47:29.973Z"
   },
   {
    "duration": 167,
    "start_time": "2023-08-29T17:47:46.641Z"
   },
   {
    "duration": 191,
    "start_time": "2023-08-29T17:49:30.603Z"
   },
   {
    "duration": 657,
    "start_time": "2023-08-29T17:51:02.388Z"
   },
   {
    "duration": 431,
    "start_time": "2023-08-29T17:52:45.542Z"
   },
   {
    "duration": 414,
    "start_time": "2023-08-29T17:59:56.830Z"
   },
   {
    "duration": 431,
    "start_time": "2023-08-29T18:01:03.717Z"
   },
   {
    "duration": 379,
    "start_time": "2023-08-29T18:01:24.190Z"
   },
   {
    "duration": 172,
    "start_time": "2023-08-29T18:06:10.170Z"
   },
   {
    "duration": 14,
    "start_time": "2023-08-29T18:06:39.771Z"
   },
   {
    "duration": 572,
    "start_time": "2023-08-29T18:06:53.856Z"
   },
   {
    "duration": 503,
    "start_time": "2023-08-29T18:09:32.669Z"
   },
   {
    "duration": 497,
    "start_time": "2023-08-29T18:13:33.410Z"
   },
   {
    "duration": 487,
    "start_time": "2023-08-29T18:13:47.444Z"
   },
   {
    "duration": 3,
    "start_time": "2023-08-29T18:14:23.758Z"
   },
   {
    "duration": 84,
    "start_time": "2023-08-29T18:14:23.764Z"
   },
   {
    "duration": 13,
    "start_time": "2023-08-29T18:14:23.850Z"
   },
   {
    "duration": 37,
    "start_time": "2023-08-29T18:14:23.865Z"
   },
   {
    "duration": 23,
    "start_time": "2023-08-29T18:14:23.904Z"
   },
   {
    "duration": 35,
    "start_time": "2023-08-29T18:14:23.930Z"
   },
   {
    "duration": 38,
    "start_time": "2023-08-29T18:14:23.967Z"
   },
   {
    "duration": 39,
    "start_time": "2023-08-29T18:14:24.007Z"
   },
   {
    "duration": 272,
    "start_time": "2023-08-29T18:14:24.048Z"
   },
   {
    "duration": 359,
    "start_time": "2023-08-29T18:14:24.322Z"
   },
   {
    "duration": 33,
    "start_time": "2023-08-29T18:14:24.683Z"
   },
   {
    "duration": 286,
    "start_time": "2023-08-29T18:14:24.717Z"
   },
   {
    "duration": 33,
    "start_time": "2023-08-29T18:14:25.004Z"
   },
   {
    "duration": 287,
    "start_time": "2023-08-29T18:14:25.039Z"
   },
   {
    "duration": 317,
    "start_time": "2023-08-29T18:14:25.329Z"
   },
   {
    "duration": 35,
    "start_time": "2023-08-29T18:14:25.648Z"
   },
   {
    "duration": 23,
    "start_time": "2023-08-29T18:14:25.685Z"
   },
   {
    "duration": 6,
    "start_time": "2023-08-29T18:14:25.710Z"
   },
   {
    "duration": 37,
    "start_time": "2023-08-29T18:14:25.717Z"
   },
   {
    "duration": 4,
    "start_time": "2023-08-29T18:14:25.756Z"
   },
   {
    "duration": 177,
    "start_time": "2023-08-29T18:14:25.767Z"
   },
   {
    "duration": 197,
    "start_time": "2023-08-29T18:14:25.945Z"
   },
   {
    "duration": 525,
    "start_time": "2023-08-29T18:14:26.144Z"
   },
   {
    "duration": 654,
    "start_time": "2023-08-29T18:16:45.769Z"
   },
   {
    "duration": 651,
    "start_time": "2023-08-29T18:17:16.063Z"
   },
   {
    "duration": 671,
    "start_time": "2023-08-29T18:17:32.818Z"
   },
   {
    "duration": 680,
    "start_time": "2023-08-29T18:17:41.628Z"
   },
   {
    "duration": 196,
    "start_time": "2023-08-29T18:18:10.466Z"
   },
   {
    "duration": 672,
    "start_time": "2023-08-29T18:18:29.628Z"
   },
   {
    "duration": 33,
    "start_time": "2023-08-29T18:24:56.759Z"
   },
   {
    "duration": 20,
    "start_time": "2023-08-29T18:26:22.915Z"
   },
   {
    "duration": 22,
    "start_time": "2023-08-29T18:27:16.823Z"
   },
   {
    "duration": 196,
    "start_time": "2023-08-29T18:28:16.919Z"
   },
   {
    "duration": 207,
    "start_time": "2023-08-29T18:28:31.226Z"
   },
   {
    "duration": 192,
    "start_time": "2023-08-29T18:29:15.292Z"
   },
   {
    "duration": 328,
    "start_time": "2023-08-29T18:29:34.861Z"
   },
   {
    "duration": 193,
    "start_time": "2023-08-29T18:32:50.461Z"
   },
   {
    "duration": 269,
    "start_time": "2023-08-29T18:34:35.261Z"
   },
   {
    "duration": 244,
    "start_time": "2023-08-29T18:35:01.983Z"
   },
   {
    "duration": 2076,
    "start_time": "2023-08-29T18:57:33.393Z"
   },
   {
    "duration": 2300,
    "start_time": "2023-08-29T19:01:15.638Z"
   },
   {
    "duration": 18,
    "start_time": "2023-08-29T19:13:22.441Z"
   },
   {
    "duration": 11,
    "start_time": "2023-08-29T19:15:01.796Z"
   },
   {
    "duration": 36,
    "start_time": "2023-08-29T19:15:08.066Z"
   },
   {
    "duration": 84,
    "start_time": "2023-08-29T19:16:03.309Z"
   },
   {
    "duration": 16,
    "start_time": "2023-08-29T19:16:07.566Z"
   },
   {
    "duration": 13,
    "start_time": "2023-08-29T19:17:22.192Z"
   },
   {
    "duration": 14,
    "start_time": "2023-08-29T19:17:40.076Z"
   },
   {
    "duration": 10,
    "start_time": "2023-08-29T19:18:55.507Z"
   },
   {
    "duration": 14,
    "start_time": "2023-08-29T19:19:20.556Z"
   },
   {
    "duration": 11,
    "start_time": "2023-08-29T19:19:45.081Z"
   },
   {
    "duration": 14,
    "start_time": "2023-08-29T19:21:47.510Z"
   },
   {
    "duration": 86,
    "start_time": "2023-08-29T19:25:46.060Z"
   },
   {
    "duration": 27,
    "start_time": "2023-08-29T19:26:55.199Z"
   },
   {
    "duration": 13,
    "start_time": "2023-08-29T19:27:02.302Z"
   },
   {
    "duration": 22,
    "start_time": "2023-08-29T19:27:20.015Z"
   },
   {
    "duration": 9,
    "start_time": "2023-08-29T19:27:40.838Z"
   },
   {
    "duration": 8,
    "start_time": "2023-08-29T19:27:49.652Z"
   },
   {
    "duration": 85,
    "start_time": "2023-08-29T19:29:18.309Z"
   },
   {
    "duration": 86,
    "start_time": "2023-08-29T19:29:32.901Z"
   },
   {
    "duration": 89,
    "start_time": "2023-08-29T19:29:38.691Z"
   },
   {
    "duration": 134,
    "start_time": "2023-08-29T19:29:51.852Z"
   },
   {
    "duration": 87,
    "start_time": "2023-08-29T19:29:57.455Z"
   },
   {
    "duration": 236,
    "start_time": "2023-08-29T19:32:03.099Z"
   },
   {
    "duration": 97,
    "start_time": "2023-08-29T19:33:13.239Z"
   },
   {
    "duration": 337,
    "start_time": "2023-08-29T19:49:16.713Z"
   },
   {
    "duration": 332,
    "start_time": "2023-08-29T19:49:35.087Z"
   },
   {
    "duration": 362,
    "start_time": "2023-08-29T19:52:28.996Z"
   },
   {
    "duration": 401,
    "start_time": "2023-08-29T19:52:42.597Z"
   },
   {
    "duration": 313,
    "start_time": "2023-08-29T19:54:31.427Z"
   },
   {
    "duration": 432,
    "start_time": "2023-08-29T19:55:30.386Z"
   },
   {
    "duration": 341,
    "start_time": "2023-08-29T19:57:22.526Z"
   },
   {
    "duration": 419,
    "start_time": "2023-08-29T19:59:31.704Z"
   },
   {
    "duration": 430,
    "start_time": "2023-08-29T20:00:34.491Z"
   },
   {
    "duration": 534,
    "start_time": "2023-08-29T20:03:18.620Z"
   },
   {
    "duration": 405,
    "start_time": "2023-08-29T20:06:16.209Z"
   },
   {
    "duration": 335,
    "start_time": "2023-08-29T20:16:03.910Z"
   },
   {
    "duration": 328,
    "start_time": "2023-08-29T20:17:46.774Z"
   },
   {
    "duration": 823,
    "start_time": "2023-08-29T20:19:05.197Z"
   },
   {
    "duration": 48,
    "start_time": "2023-08-29T20:20:09.106Z"
   },
   {
    "duration": 637,
    "start_time": "2023-08-29T20:20:57.610Z"
   },
   {
    "duration": 707,
    "start_time": "2023-08-29T20:22:06.978Z"
   },
   {
    "duration": 542,
    "start_time": "2023-08-29T20:22:51.379Z"
   },
   {
    "duration": 604,
    "start_time": "2023-08-29T20:22:56.833Z"
   },
   {
    "duration": 565,
    "start_time": "2023-08-29T20:23:37.259Z"
   },
   {
    "duration": 819,
    "start_time": "2023-08-29T20:24:38.054Z"
   },
   {
    "duration": 736,
    "start_time": "2023-08-29T20:25:13.473Z"
   },
   {
    "duration": 562,
    "start_time": "2023-08-29T20:25:55.269Z"
   },
   {
    "duration": 586,
    "start_time": "2023-08-29T20:26:02.450Z"
   },
   {
    "duration": 732,
    "start_time": "2023-08-29T20:26:19.172Z"
   },
   {
    "duration": 632,
    "start_time": "2023-08-29T20:27:35.486Z"
   },
   {
    "duration": 610,
    "start_time": "2023-08-29T20:28:21.320Z"
   },
   {
    "duration": 609,
    "start_time": "2023-08-29T20:28:56.004Z"
   },
   {
    "duration": 1118,
    "start_time": "2023-08-29T20:29:59.634Z"
   },
   {
    "duration": 686,
    "start_time": "2023-08-29T20:30:42.072Z"
   },
   {
    "duration": 28,
    "start_time": "2023-08-29T20:31:31.260Z"
   },
   {
    "duration": 17,
    "start_time": "2023-08-29T20:31:43.229Z"
   },
   {
    "duration": 80,
    "start_time": "2023-08-29T20:31:56.325Z"
   },
   {
    "duration": 32,
    "start_time": "2023-08-29T20:32:05.264Z"
   },
   {
    "duration": 33,
    "start_time": "2023-08-29T20:33:50.895Z"
   },
   {
    "duration": 15,
    "start_time": "2023-08-29T20:34:08.066Z"
   },
   {
    "duration": 13,
    "start_time": "2023-08-29T20:34:58.066Z"
   },
   {
    "duration": 408,
    "start_time": "2023-08-29T20:37:05.368Z"
   },
   {
    "duration": 595,
    "start_time": "2023-08-29T20:38:27.832Z"
   },
   {
    "duration": 818,
    "start_time": "2023-08-29T20:39:28.365Z"
   },
   {
    "duration": 695,
    "start_time": "2023-08-29T20:40:03.066Z"
   },
   {
    "duration": 582,
    "start_time": "2023-08-29T20:40:48.224Z"
   },
   {
    "duration": 639,
    "start_time": "2023-08-29T20:42:30.462Z"
   },
   {
    "duration": 794,
    "start_time": "2023-08-29T20:44:43.165Z"
   },
   {
    "duration": 642,
    "start_time": "2023-08-29T20:46:40.010Z"
   },
   {
    "duration": 92,
    "start_time": "2023-08-29T20:47:56.350Z"
   },
   {
    "duration": 3,
    "start_time": "2023-08-29T20:48:11.695Z"
   },
   {
    "duration": 96,
    "start_time": "2023-08-29T20:48:11.700Z"
   },
   {
    "duration": 13,
    "start_time": "2023-08-29T20:48:11.798Z"
   },
   {
    "duration": 31,
    "start_time": "2023-08-29T20:48:11.814Z"
   },
   {
    "duration": 38,
    "start_time": "2023-08-29T20:48:11.846Z"
   },
   {
    "duration": 14,
    "start_time": "2023-08-29T20:48:11.894Z"
   },
   {
    "duration": 28,
    "start_time": "2023-08-29T20:48:11.909Z"
   },
   {
    "duration": 43,
    "start_time": "2023-08-29T20:48:11.939Z"
   },
   {
    "duration": 280,
    "start_time": "2023-08-29T20:48:11.983Z"
   },
   {
    "duration": 293,
    "start_time": "2023-08-29T20:48:12.271Z"
   },
   {
    "duration": 56,
    "start_time": "2023-08-29T20:48:12.565Z"
   },
   {
    "duration": 313,
    "start_time": "2023-08-29T20:48:12.623Z"
   },
   {
    "duration": 43,
    "start_time": "2023-08-29T20:48:12.938Z"
   },
   {
    "duration": 322,
    "start_time": "2023-08-29T20:48:12.983Z"
   },
   {
    "duration": 548,
    "start_time": "2023-08-29T20:48:13.307Z"
   },
   {
    "duration": 29,
    "start_time": "2023-08-29T20:48:13.856Z"
   },
   {
    "duration": 16,
    "start_time": "2023-08-29T20:48:13.886Z"
   },
   {
    "duration": 43,
    "start_time": "2023-08-29T20:48:13.904Z"
   },
   {
    "duration": 56,
    "start_time": "2023-08-29T20:48:13.949Z"
   },
   {
    "duration": 6,
    "start_time": "2023-08-29T20:48:14.007Z"
   },
   {
    "duration": 232,
    "start_time": "2023-08-29T20:48:14.014Z"
   },
   {
    "duration": 252,
    "start_time": "2023-08-29T20:48:14.248Z"
   },
   {
    "duration": 737,
    "start_time": "2023-08-29T20:48:14.502Z"
   },
   {
    "duration": 272,
    "start_time": "2023-08-29T20:48:15.241Z"
   },
   {
    "duration": 231,
    "start_time": "2023-08-29T20:48:15.515Z"
   },
   {
    "duration": 2324,
    "start_time": "2023-08-29T20:48:15.748Z"
   },
   {
    "duration": 19,
    "start_time": "2023-08-29T20:48:18.074Z"
   },
   {
    "duration": 12,
    "start_time": "2023-08-29T20:48:18.100Z"
   },
   {
    "duration": 113,
    "start_time": "2023-08-29T20:48:18.113Z"
   },
   {
    "duration": 404,
    "start_time": "2023-08-29T20:48:18.228Z"
   },
   {
    "duration": 11,
    "start_time": "2023-08-29T20:48:18.634Z"
   },
   {
    "duration": 654,
    "start_time": "2023-08-29T20:48:18.647Z"
   },
   {
    "duration": 680,
    "start_time": "2023-08-29T20:48:39.023Z"
   },
   {
    "duration": 926,
    "start_time": "2023-08-29T20:50:11.862Z"
   },
   {
    "duration": 11,
    "start_time": "2023-08-29T20:51:07.654Z"
   },
   {
    "duration": 684,
    "start_time": "2023-08-29T20:52:12.202Z"
   },
   {
    "duration": 653,
    "start_time": "2023-08-29T20:53:29.178Z"
   },
   {
    "duration": 10,
    "start_time": "2023-08-29T20:55:20.784Z"
   },
   {
    "duration": 21,
    "start_time": "2023-08-29T20:56:06.080Z"
   },
   {
    "duration": 837,
    "start_time": "2023-08-29T20:57:40.484Z"
   },
   {
    "duration": 15,
    "start_time": "2023-08-29T20:57:58.217Z"
   },
   {
    "duration": 9,
    "start_time": "2023-08-29T20:58:08.897Z"
   },
   {
    "duration": 8,
    "start_time": "2023-08-29T20:58:31.503Z"
   },
   {
    "duration": 20,
    "start_time": "2023-08-29T21:02:51.086Z"
   },
   {
    "duration": 54,
    "start_time": "2023-08-29T21:05:02.987Z"
   },
   {
    "duration": 65,
    "start_time": "2023-08-29T21:05:45.838Z"
   },
   {
    "duration": 83,
    "start_time": "2023-08-29T21:05:54.090Z"
   },
   {
    "duration": 13,
    "start_time": "2023-08-29T21:07:22.715Z"
   },
   {
    "duration": 19,
    "start_time": "2023-08-29T21:08:15.707Z"
   },
   {
    "duration": 13,
    "start_time": "2023-08-29T21:08:45.605Z"
   },
   {
    "duration": 28,
    "start_time": "2023-08-29T21:08:56.726Z"
   },
   {
    "duration": 14,
    "start_time": "2023-08-29T21:09:05.338Z"
   },
   {
    "duration": 36,
    "start_time": "2023-08-29T21:13:07.168Z"
   },
   {
    "duration": 22,
    "start_time": "2023-08-29T21:13:33.192Z"
   },
   {
    "duration": 46,
    "start_time": "2023-08-29T21:13:36.778Z"
   },
   {
    "duration": 14,
    "start_time": "2023-08-29T21:14:02.043Z"
   },
   {
    "duration": 644,
    "start_time": "2023-08-29T21:17:21.924Z"
   },
   {
    "duration": 14,
    "start_time": "2023-08-29T21:17:55.660Z"
   },
   {
    "duration": 15,
    "start_time": "2023-08-29T21:18:12.768Z"
   },
   {
    "duration": 17,
    "start_time": "2023-08-29T21:18:29.327Z"
   },
   {
    "duration": 21,
    "start_time": "2023-08-29T21:18:33.973Z"
   },
   {
    "duration": 20,
    "start_time": "2023-08-29T21:18:41.145Z"
   },
   {
    "duration": 19,
    "start_time": "2023-08-29T21:18:56.808Z"
   },
   {
    "duration": 15,
    "start_time": "2023-08-29T21:19:03.422Z"
   },
   {
    "duration": 15,
    "start_time": "2023-08-29T21:19:15.160Z"
   },
   {
    "duration": 642,
    "start_time": "2023-08-29T21:19:39.134Z"
   },
   {
    "duration": 657,
    "start_time": "2023-08-29T21:21:09.490Z"
   },
   {
    "duration": 131,
    "start_time": "2023-08-29T21:21:51.914Z"
   },
   {
    "duration": 781,
    "start_time": "2023-08-29T21:22:27.562Z"
   },
   {
    "duration": 1022,
    "start_time": "2023-08-29T21:25:51.685Z"
   },
   {
    "duration": 143,
    "start_time": "2023-08-29T21:26:44.892Z"
   },
   {
    "duration": 17,
    "start_time": "2023-08-29T21:28:00.833Z"
   },
   {
    "duration": 171,
    "start_time": "2023-08-29T21:29:47.144Z"
   },
   {
    "duration": 13,
    "start_time": "2023-08-29T21:29:57.629Z"
   },
   {
    "duration": 14,
    "start_time": "2023-08-29T21:31:08.561Z"
   },
   {
    "duration": 12,
    "start_time": "2023-08-29T21:32:16.722Z"
   },
   {
    "duration": 12,
    "start_time": "2023-08-29T21:32:37.560Z"
   },
   {
    "duration": 13,
    "start_time": "2023-08-29T21:35:06.177Z"
   },
   {
    "duration": 146,
    "start_time": "2023-08-29T21:35:40.662Z"
   },
   {
    "duration": 6,
    "start_time": "2023-08-29T21:35:47.646Z"
   },
   {
    "duration": 71,
    "start_time": "2023-08-29T21:35:47.656Z"
   },
   {
    "duration": 13,
    "start_time": "2023-08-29T21:35:47.729Z"
   },
   {
    "duration": 38,
    "start_time": "2023-08-29T21:35:47.744Z"
   },
   {
    "duration": 16,
    "start_time": "2023-08-29T21:35:47.784Z"
   },
   {
    "duration": 14,
    "start_time": "2023-08-29T21:35:47.801Z"
   },
   {
    "duration": 40,
    "start_time": "2023-08-29T21:35:47.816Z"
   },
   {
    "duration": 37,
    "start_time": "2023-08-29T21:35:47.857Z"
   },
   {
    "duration": 247,
    "start_time": "2023-08-29T21:35:47.896Z"
   },
   {
    "duration": 257,
    "start_time": "2023-08-29T21:35:48.144Z"
   },
   {
    "duration": 38,
    "start_time": "2023-08-29T21:35:48.403Z"
   },
   {
    "duration": 472,
    "start_time": "2023-08-29T21:35:48.444Z"
   },
   {
    "duration": 34,
    "start_time": "2023-08-29T21:35:48.918Z"
   },
   {
    "duration": 284,
    "start_time": "2023-08-29T21:35:48.967Z"
   },
   {
    "duration": 305,
    "start_time": "2023-08-29T21:35:49.255Z"
   },
   {
    "duration": 19,
    "start_time": "2023-08-29T21:35:49.567Z"
   },
   {
    "duration": 11,
    "start_time": "2023-08-29T21:35:49.588Z"
   },
   {
    "duration": 7,
    "start_time": "2023-08-29T21:35:49.601Z"
   },
   {
    "duration": 33,
    "start_time": "2023-08-29T21:35:49.609Z"
   },
   {
    "duration": 6,
    "start_time": "2023-08-29T21:35:49.667Z"
   },
   {
    "duration": 180,
    "start_time": "2023-08-29T21:35:49.675Z"
   },
   {
    "duration": 201,
    "start_time": "2023-08-29T21:35:49.857Z"
   },
   {
    "duration": 628,
    "start_time": "2023-08-29T21:35:50.060Z"
   },
   {
    "duration": 205,
    "start_time": "2023-08-29T21:35:50.690Z"
   },
   {
    "duration": 202,
    "start_time": "2023-08-29T21:35:50.897Z"
   },
   {
    "duration": 2028,
    "start_time": "2023-08-29T21:35:51.100Z"
   },
   {
    "duration": 11,
    "start_time": "2023-08-29T21:35:53.129Z"
   },
   {
    "duration": 21,
    "start_time": "2023-08-29T21:35:53.141Z"
   },
   {
    "duration": 100,
    "start_time": "2023-08-29T21:35:53.167Z"
   },
   {
    "duration": 380,
    "start_time": "2023-08-29T21:35:53.269Z"
   },
   {
    "duration": 23,
    "start_time": "2023-08-29T21:35:53.651Z"
   },
   {
    "duration": 0,
    "start_time": "2023-08-29T21:35:53.675Z"
   },
   {
    "duration": 0,
    "start_time": "2023-08-29T21:35:53.676Z"
   },
   {
    "duration": 10,
    "start_time": "2023-08-29T21:36:23.623Z"
   },
   {
    "duration": 13,
    "start_time": "2023-08-29T21:36:24.881Z"
   },
   {
    "duration": 583,
    "start_time": "2023-08-29T21:36:28.663Z"
   },
   {
    "duration": 5,
    "start_time": "2023-08-29T21:37:01.911Z"
   },
   {
    "duration": 286,
    "start_time": "2023-08-29T21:37:27.864Z"
   },
   {
    "duration": 1990,
    "start_time": "2023-08-29T21:38:12.896Z"
   },
   {
    "duration": 4,
    "start_time": "2023-08-29T21:38:27.776Z"
   },
   {
    "duration": 72,
    "start_time": "2023-08-29T21:38:27.783Z"
   },
   {
    "duration": 15,
    "start_time": "2023-08-29T21:38:27.858Z"
   },
   {
    "duration": 32,
    "start_time": "2023-08-29T21:38:27.875Z"
   },
   {
    "duration": 17,
    "start_time": "2023-08-29T21:38:27.910Z"
   },
   {
    "duration": 40,
    "start_time": "2023-08-29T21:38:27.931Z"
   },
   {
    "duration": 29,
    "start_time": "2023-08-29T21:38:27.973Z"
   },
   {
    "duration": 34,
    "start_time": "2023-08-29T21:38:28.004Z"
   },
   {
    "duration": 263,
    "start_time": "2023-08-29T21:38:28.039Z"
   },
   {
    "duration": 254,
    "start_time": "2023-08-29T21:38:28.304Z"
   },
   {
    "duration": 36,
    "start_time": "2023-08-29T21:38:28.560Z"
   },
   {
    "duration": 269,
    "start_time": "2023-08-29T21:38:28.598Z"
   },
   {
    "duration": 34,
    "start_time": "2023-08-29T21:38:28.869Z"
   },
   {
    "duration": 269,
    "start_time": "2023-08-29T21:38:28.905Z"
   },
   {
    "duration": 317,
    "start_time": "2023-08-29T21:38:29.177Z"
   },
   {
    "duration": 20,
    "start_time": "2023-08-29T21:38:29.495Z"
   },
   {
    "duration": 11,
    "start_time": "2023-08-29T21:38:29.516Z"
   },
   {
    "duration": 6,
    "start_time": "2023-08-29T21:38:29.529Z"
   },
   {
    "duration": 59,
    "start_time": "2023-08-29T21:38:29.537Z"
   },
   {
    "duration": 4,
    "start_time": "2023-08-29T21:38:29.598Z"
   },
   {
    "duration": 317,
    "start_time": "2023-08-29T21:38:29.603Z"
   },
   {
    "duration": 215,
    "start_time": "2023-08-29T21:38:29.922Z"
   },
   {
    "duration": 658,
    "start_time": "2023-08-29T21:38:30.139Z"
   },
   {
    "duration": 227,
    "start_time": "2023-08-29T21:38:30.799Z"
   },
   {
    "duration": 217,
    "start_time": "2023-08-29T21:38:31.027Z"
   },
   {
    "duration": 2096,
    "start_time": "2023-08-29T21:38:31.246Z"
   },
   {
    "duration": 11,
    "start_time": "2023-08-29T21:38:33.344Z"
   },
   {
    "duration": 12,
    "start_time": "2023-08-29T21:38:33.367Z"
   },
   {
    "duration": 89,
    "start_time": "2023-08-29T21:38:33.380Z"
   },
   {
    "duration": 430,
    "start_time": "2023-08-29T21:38:33.471Z"
   },
   {
    "duration": 13,
    "start_time": "2023-08-29T21:38:33.903Z"
   },
   {
    "duration": 41,
    "start_time": "2023-08-29T21:38:33.917Z"
   },
   {
    "duration": 19,
    "start_time": "2023-08-29T21:38:33.960Z"
   },
   {
    "duration": 2039,
    "start_time": "2023-08-29T21:39:09.448Z"
   },
   {
    "duration": 287,
    "start_time": "2023-08-29T21:40:54.780Z"
   },
   {
    "duration": 3,
    "start_time": "2023-08-29T21:41:06.636Z"
   },
   {
    "duration": 72,
    "start_time": "2023-08-29T21:41:06.644Z"
   },
   {
    "duration": 13,
    "start_time": "2023-08-29T21:41:06.718Z"
   },
   {
    "duration": 39,
    "start_time": "2023-08-29T21:41:06.733Z"
   },
   {
    "duration": 16,
    "start_time": "2023-08-29T21:41:06.774Z"
   },
   {
    "duration": 15,
    "start_time": "2023-08-29T21:41:06.792Z"
   },
   {
    "duration": 32,
    "start_time": "2023-08-29T21:41:06.809Z"
   },
   {
    "duration": 56,
    "start_time": "2023-08-29T21:41:06.843Z"
   },
   {
    "duration": 256,
    "start_time": "2023-08-29T21:41:06.901Z"
   },
   {
    "duration": 475,
    "start_time": "2023-08-29T21:41:07.159Z"
   },
   {
    "duration": 41,
    "start_time": "2023-08-29T21:41:07.636Z"
   },
   {
    "duration": 281,
    "start_time": "2023-08-29T21:41:07.679Z"
   },
   {
    "duration": 37,
    "start_time": "2023-08-29T21:41:07.962Z"
   },
   {
    "duration": 279,
    "start_time": "2023-08-29T21:41:08.001Z"
   },
   {
    "duration": 328,
    "start_time": "2023-08-29T21:41:08.283Z"
   },
   {
    "duration": 21,
    "start_time": "2023-08-29T21:41:08.613Z"
   },
   {
    "duration": 20,
    "start_time": "2023-08-29T21:41:08.636Z"
   },
   {
    "duration": 7,
    "start_time": "2023-08-29T21:41:08.666Z"
   },
   {
    "duration": 53,
    "start_time": "2023-08-29T21:41:08.675Z"
   },
   {
    "duration": 5,
    "start_time": "2023-08-29T21:41:08.729Z"
   },
   {
    "duration": 174,
    "start_time": "2023-08-29T21:41:08.736Z"
   },
   {
    "duration": 197,
    "start_time": "2023-08-29T21:41:08.911Z"
   },
   {
    "duration": 647,
    "start_time": "2023-08-29T21:41:09.110Z"
   },
   {
    "duration": 208,
    "start_time": "2023-08-29T21:41:09.759Z"
   },
   {
    "duration": 205,
    "start_time": "2023-08-29T21:41:09.968Z"
   },
   {
    "duration": 2144,
    "start_time": "2023-08-29T21:41:10.175Z"
   },
   {
    "duration": 12,
    "start_time": "2023-08-29T21:41:12.321Z"
   },
   {
    "duration": 41,
    "start_time": "2023-08-29T21:41:12.335Z"
   },
   {
    "duration": 97,
    "start_time": "2023-08-29T21:41:12.378Z"
   },
   {
    "duration": 435,
    "start_time": "2023-08-29T21:41:12.477Z"
   },
   {
    "duration": 9,
    "start_time": "2023-08-29T21:41:12.914Z"
   },
   {
    "duration": 32,
    "start_time": "2023-08-29T21:41:12.925Z"
   },
   {
    "duration": 249,
    "start_time": "2023-08-29T21:41:12.959Z"
   },
   {
    "duration": 5,
    "start_time": "2023-08-29T21:42:27.757Z"
   },
   {
    "duration": 11,
    "start_time": "2023-08-29T21:43:38.768Z"
   },
   {
    "duration": 24,
    "start_time": "2023-08-29T21:43:39.535Z"
   },
   {
    "duration": 2362,
    "start_time": "2023-08-29T21:44:12.016Z"
   },
   {
    "duration": 838,
    "start_time": "2023-08-29T21:45:21.193Z"
   },
   {
    "duration": 886,
    "start_time": "2023-08-29T21:45:40.257Z"
   },
   {
    "duration": 3,
    "start_time": "2023-08-29T21:46:18.466Z"
   },
   {
    "duration": 78,
    "start_time": "2023-08-29T21:46:18.470Z"
   },
   {
    "duration": 14,
    "start_time": "2023-08-29T21:46:18.549Z"
   },
   {
    "duration": 28,
    "start_time": "2023-08-29T21:46:18.565Z"
   },
   {
    "duration": 15,
    "start_time": "2023-08-29T21:46:18.595Z"
   },
   {
    "duration": 16,
    "start_time": "2023-08-29T21:46:18.611Z"
   },
   {
    "duration": 47,
    "start_time": "2023-08-29T21:46:18.629Z"
   },
   {
    "duration": 34,
    "start_time": "2023-08-29T21:46:18.678Z"
   },
   {
    "duration": 266,
    "start_time": "2023-08-29T21:46:18.715Z"
   },
   {
    "duration": 252,
    "start_time": "2023-08-29T21:46:18.983Z"
   },
   {
    "duration": 41,
    "start_time": "2023-08-29T21:46:19.237Z"
   },
   {
    "duration": 423,
    "start_time": "2023-08-29T21:46:19.279Z"
   },
   {
    "duration": 40,
    "start_time": "2023-08-29T21:46:19.704Z"
   },
   {
    "duration": 286,
    "start_time": "2023-08-29T21:46:19.746Z"
   },
   {
    "duration": 336,
    "start_time": "2023-08-29T21:46:20.034Z"
   },
   {
    "duration": 21,
    "start_time": "2023-08-29T21:46:20.372Z"
   },
   {
    "duration": 11,
    "start_time": "2023-08-29T21:46:20.394Z"
   },
   {
    "duration": 6,
    "start_time": "2023-08-29T21:46:20.407Z"
   },
   {
    "duration": 53,
    "start_time": "2023-08-29T21:46:20.415Z"
   },
   {
    "duration": 4,
    "start_time": "2023-08-29T21:46:20.469Z"
   },
   {
    "duration": 205,
    "start_time": "2023-08-29T21:46:20.475Z"
   },
   {
    "duration": 199,
    "start_time": "2023-08-29T21:46:20.682Z"
   },
   {
    "duration": 650,
    "start_time": "2023-08-29T21:46:20.883Z"
   },
   {
    "duration": 258,
    "start_time": "2023-08-29T21:46:21.536Z"
   },
   {
    "duration": 236,
    "start_time": "2023-08-29T21:46:21.796Z"
   },
   {
    "duration": 2134,
    "start_time": "2023-08-29T21:46:22.033Z"
   },
   {
    "duration": 11,
    "start_time": "2023-08-29T21:46:24.169Z"
   },
   {
    "duration": 19,
    "start_time": "2023-08-29T21:46:24.182Z"
   },
   {
    "duration": 98,
    "start_time": "2023-08-29T21:46:24.203Z"
   },
   {
    "duration": 401,
    "start_time": "2023-08-29T21:46:24.303Z"
   },
   {
    "duration": 12,
    "start_time": "2023-08-29T21:46:24.706Z"
   },
   {
    "duration": 23,
    "start_time": "2023-08-29T21:46:24.719Z"
   },
   {
    "duration": 1190,
    "start_time": "2023-08-29T21:46:24.743Z"
   },
   {
    "duration": 15,
    "start_time": "2023-08-29T21:47:10.204Z"
   },
   {
    "duration": 865,
    "start_time": "2023-08-29T21:47:35.526Z"
   },
   {
    "duration": 890,
    "start_time": "2023-08-29T21:48:01.940Z"
   },
   {
    "duration": 885,
    "start_time": "2023-08-29T21:49:54.867Z"
   },
   {
    "duration": 700,
    "start_time": "2023-08-29T21:50:34.453Z"
   },
   {
    "duration": 870,
    "start_time": "2023-08-29T21:51:01.043Z"
   },
   {
    "duration": 851,
    "start_time": "2023-08-29T21:52:21.228Z"
   },
   {
    "duration": 895,
    "start_time": "2023-08-29T21:53:13.481Z"
   },
   {
    "duration": 4,
    "start_time": "2023-08-30T16:13:15.326Z"
   },
   {
    "duration": 86,
    "start_time": "2023-08-30T16:13:15.334Z"
   },
   {
    "duration": 14,
    "start_time": "2023-08-30T16:13:15.422Z"
   },
   {
    "duration": 52,
    "start_time": "2023-08-30T16:13:15.437Z"
   },
   {
    "duration": 16,
    "start_time": "2023-08-30T16:13:15.491Z"
   },
   {
    "duration": 24,
    "start_time": "2023-08-30T16:13:15.508Z"
   },
   {
    "duration": 52,
    "start_time": "2023-08-30T16:13:15.534Z"
   },
   {
    "duration": 42,
    "start_time": "2023-08-30T16:13:15.588Z"
   },
   {
    "duration": 283,
    "start_time": "2023-08-30T16:13:15.631Z"
   },
   {
    "duration": 479,
    "start_time": "2023-08-30T16:13:15.916Z"
   },
   {
    "duration": 33,
    "start_time": "2023-08-30T16:13:16.398Z"
   },
   {
    "duration": 301,
    "start_time": "2023-08-30T16:13:16.433Z"
   },
   {
    "duration": 47,
    "start_time": "2023-08-30T16:13:16.736Z"
   },
   {
    "duration": 311,
    "start_time": "2023-08-30T16:13:16.785Z"
   },
   {
    "duration": 361,
    "start_time": "2023-08-30T16:13:17.097Z"
   },
   {
    "duration": 30,
    "start_time": "2023-08-30T16:13:17.460Z"
   },
   {
    "duration": 10,
    "start_time": "2023-08-30T16:13:17.492Z"
   },
   {
    "duration": 11,
    "start_time": "2023-08-30T16:13:17.504Z"
   },
   {
    "duration": 57,
    "start_time": "2023-08-30T16:13:17.517Z"
   },
   {
    "duration": 5,
    "start_time": "2023-08-30T16:13:17.576Z"
   },
   {
    "duration": 201,
    "start_time": "2023-08-30T16:13:17.587Z"
   },
   {
    "duration": 235,
    "start_time": "2023-08-30T16:13:17.790Z"
   },
   {
    "duration": 688,
    "start_time": "2023-08-30T16:13:18.027Z"
   },
   {
    "duration": 415,
    "start_time": "2023-08-30T16:13:18.717Z"
   },
   {
    "duration": 231,
    "start_time": "2023-08-30T16:13:19.133Z"
   },
   {
    "duration": 2233,
    "start_time": "2023-08-30T16:13:19.366Z"
   },
   {
    "duration": 13,
    "start_time": "2023-08-30T16:13:21.601Z"
   },
   {
    "duration": 22,
    "start_time": "2023-08-30T16:13:21.616Z"
   },
   {
    "duration": 147,
    "start_time": "2023-08-30T16:13:21.641Z"
   },
   {
    "duration": 434,
    "start_time": "2023-08-30T16:13:21.790Z"
   },
   {
    "duration": 10,
    "start_time": "2023-08-30T16:13:22.226Z"
   },
   {
    "duration": 12,
    "start_time": "2023-08-30T16:13:22.238Z"
   },
   {
    "duration": 1156,
    "start_time": "2023-08-30T16:13:22.269Z"
   },
   {
    "duration": 17,
    "start_time": "2023-08-30T16:16:52.773Z"
   },
   {
    "duration": 6,
    "start_time": "2023-08-30T16:20:54.315Z"
   },
   {
    "duration": 13,
    "start_time": "2023-08-30T16:27:11.786Z"
   },
   {
    "duration": 814,
    "start_time": "2023-08-30T16:30:38.544Z"
   },
   {
    "duration": 139,
    "start_time": "2023-08-30T16:30:56.549Z"
   },
   {
    "duration": 1039,
    "start_time": "2023-08-30T16:31:10.577Z"
   },
   {
    "duration": 1985,
    "start_time": "2023-08-30T16:34:24.831Z"
   },
   {
    "duration": 2511,
    "start_time": "2023-08-30T16:34:40.729Z"
   },
   {
    "duration": 1998,
    "start_time": "2023-08-30T16:34:50.829Z"
   },
   {
    "duration": 2689,
    "start_time": "2023-08-30T16:35:21.952Z"
   },
   {
    "duration": 1814,
    "start_time": "2023-08-30T16:35:38.757Z"
   },
   {
    "duration": 1955,
    "start_time": "2023-08-30T16:35:47.079Z"
   },
   {
    "duration": 1698,
    "start_time": "2023-08-30T16:37:11.592Z"
   },
   {
    "duration": 1596,
    "start_time": "2023-08-30T16:37:45.762Z"
   },
   {
    "duration": 1860,
    "start_time": "2023-08-30T16:39:59.430Z"
   },
   {
    "duration": 1579,
    "start_time": "2023-08-30T16:40:08.478Z"
   },
   {
    "duration": 1868,
    "start_time": "2023-08-30T16:40:24.469Z"
   },
   {
    "duration": 1805,
    "start_time": "2023-08-30T16:41:03.419Z"
   },
   {
    "duration": 1705,
    "start_time": "2023-08-30T16:42:16.362Z"
   },
   {
    "duration": 1751,
    "start_time": "2023-08-30T16:42:33.476Z"
   },
   {
    "duration": 27,
    "start_time": "2023-08-30T16:46:04.092Z"
   },
   {
    "duration": 54,
    "start_time": "2023-08-30T16:48:16.176Z"
   },
   {
    "duration": 66,
    "start_time": "2023-08-30T16:52:47.863Z"
   },
   {
    "duration": 50,
    "start_time": "2023-08-30T16:53:50.382Z"
   },
   {
    "duration": 48,
    "start_time": "2023-08-30T16:54:44.154Z"
   },
   {
    "duration": 96,
    "start_time": "2023-08-30T16:55:44.025Z"
   },
   {
    "duration": 60,
    "start_time": "2023-08-30T16:55:55.326Z"
   },
   {
    "duration": 45,
    "start_time": "2023-08-30T16:58:18.353Z"
   },
   {
    "duration": 91,
    "start_time": "2023-08-30T16:58:28.650Z"
   },
   {
    "duration": 124,
    "start_time": "2023-08-30T16:58:37.682Z"
   },
   {
    "duration": 740,
    "start_time": "2023-08-30T17:01:10.359Z"
   },
   {
    "duration": 89,
    "start_time": "2023-08-30T17:03:27.562Z"
   },
   {
    "duration": 588,
    "start_time": "2023-08-30T17:03:32.708Z"
   },
   {
    "duration": 509,
    "start_time": "2023-08-30T17:04:45.682Z"
   },
   {
    "duration": 540,
    "start_time": "2023-08-30T17:05:00.405Z"
   },
   {
    "duration": 600,
    "start_time": "2023-08-30T17:05:13.792Z"
   },
   {
    "duration": 569,
    "start_time": "2023-08-30T17:07:12.616Z"
   },
   {
    "duration": 805,
    "start_time": "2023-08-30T17:08:01.945Z"
   },
   {
    "duration": 698,
    "start_time": "2023-08-30T17:08:59.239Z"
   },
   {
    "duration": 721,
    "start_time": "2023-08-30T17:09:18.822Z"
   },
   {
    "duration": 20,
    "start_time": "2023-08-30T17:10:07.272Z"
   },
   {
    "duration": 14,
    "start_time": "2023-08-30T17:13:30.262Z"
   },
   {
    "duration": 22,
    "start_time": "2023-08-30T17:15:22.093Z"
   },
   {
    "duration": 3,
    "start_time": "2023-08-30T17:15:31.803Z"
   },
   {
    "duration": 147,
    "start_time": "2023-08-30T17:15:31.813Z"
   },
   {
    "duration": 16,
    "start_time": "2023-08-30T17:15:31.962Z"
   },
   {
    "duration": 46,
    "start_time": "2023-08-30T17:15:31.980Z"
   },
   {
    "duration": 16,
    "start_time": "2023-08-30T17:15:32.028Z"
   },
   {
    "duration": 52,
    "start_time": "2023-08-30T17:15:32.047Z"
   },
   {
    "duration": 56,
    "start_time": "2023-08-30T17:15:32.101Z"
   },
   {
    "duration": 93,
    "start_time": "2023-08-30T17:15:32.158Z"
   },
   {
    "duration": 314,
    "start_time": "2023-08-30T17:15:32.253Z"
   },
   {
    "duration": 270,
    "start_time": "2023-08-30T17:15:32.569Z"
   },
   {
    "duration": 42,
    "start_time": "2023-08-30T17:15:32.841Z"
   },
   {
    "duration": 464,
    "start_time": "2023-08-30T17:15:32.885Z"
   },
   {
    "duration": 42,
    "start_time": "2023-08-30T17:15:33.350Z"
   },
   {
    "duration": 285,
    "start_time": "2023-08-30T17:15:33.394Z"
   },
   {
    "duration": 370,
    "start_time": "2023-08-30T17:15:33.682Z"
   },
   {
    "duration": 34,
    "start_time": "2023-08-30T17:15:34.054Z"
   },
   {
    "duration": 17,
    "start_time": "2023-08-30T17:15:34.090Z"
   },
   {
    "duration": 10,
    "start_time": "2023-08-30T17:15:34.110Z"
   },
   {
    "duration": 52,
    "start_time": "2023-08-30T17:15:34.121Z"
   },
   {
    "duration": 5,
    "start_time": "2023-08-30T17:15:34.175Z"
   },
   {
    "duration": 185,
    "start_time": "2023-08-30T17:15:34.181Z"
   },
   {
    "duration": 208,
    "start_time": "2023-08-30T17:15:34.368Z"
   },
   {
    "duration": 637,
    "start_time": "2023-08-30T17:15:34.578Z"
   },
   {
    "duration": 234,
    "start_time": "2023-08-30T17:15:35.216Z"
   },
   {
    "duration": 208,
    "start_time": "2023-08-30T17:15:35.452Z"
   },
   {
    "duration": 2057,
    "start_time": "2023-08-30T17:15:35.662Z"
   },
   {
    "duration": 13,
    "start_time": "2023-08-30T17:15:37.721Z"
   },
   {
    "duration": 24,
    "start_time": "2023-08-30T17:15:37.736Z"
   },
   {
    "duration": 86,
    "start_time": "2023-08-30T17:15:37.768Z"
   },
   {
    "duration": 432,
    "start_time": "2023-08-30T17:15:37.855Z"
   },
   {
    "duration": 10,
    "start_time": "2023-08-30T17:15:38.289Z"
   },
   {
    "duration": 16,
    "start_time": "2023-08-30T17:15:38.300Z"
   },
   {
    "duration": 1082,
    "start_time": "2023-08-30T17:15:38.318Z"
   },
   {
    "duration": 5,
    "start_time": "2023-08-30T17:15:39.402Z"
   },
   {
    "duration": 32,
    "start_time": "2023-08-30T17:15:39.409Z"
   },
   {
    "duration": 601,
    "start_time": "2023-08-30T17:15:39.442Z"
   },
   {
    "duration": 610,
    "start_time": "2023-08-30T17:16:43.969Z"
   },
   {
    "duration": 3,
    "start_time": "2023-08-30T17:16:56.966Z"
   },
   {
    "duration": 83,
    "start_time": "2023-08-30T17:16:56.974Z"
   },
   {
    "duration": 13,
    "start_time": "2023-08-30T17:16:57.059Z"
   },
   {
    "duration": 27,
    "start_time": "2023-08-30T17:16:57.073Z"
   },
   {
    "duration": 15,
    "start_time": "2023-08-30T17:16:57.102Z"
   },
   {
    "duration": 23,
    "start_time": "2023-08-30T17:16:57.120Z"
   },
   {
    "duration": 38,
    "start_time": "2023-08-30T17:16:57.144Z"
   },
   {
    "duration": 37,
    "start_time": "2023-08-30T17:16:57.183Z"
   },
   {
    "duration": 254,
    "start_time": "2023-08-30T17:16:57.221Z"
   },
   {
    "duration": 267,
    "start_time": "2023-08-30T17:16:57.477Z"
   },
   {
    "duration": 47,
    "start_time": "2023-08-30T17:16:57.746Z"
   },
   {
    "duration": 292,
    "start_time": "2023-08-30T17:16:57.795Z"
   },
   {
    "duration": 32,
    "start_time": "2023-08-30T17:16:58.088Z"
   },
   {
    "duration": 426,
    "start_time": "2023-08-30T17:16:58.122Z"
   },
   {
    "duration": 318,
    "start_time": "2023-08-30T17:16:58.550Z"
   },
   {
    "duration": 22,
    "start_time": "2023-08-30T17:16:58.870Z"
   },
   {
    "duration": 8,
    "start_time": "2023-08-30T17:16:58.894Z"
   },
   {
    "duration": 6,
    "start_time": "2023-08-30T17:16:58.904Z"
   },
   {
    "duration": 59,
    "start_time": "2023-08-30T17:16:58.912Z"
   },
   {
    "duration": 5,
    "start_time": "2023-08-30T17:16:58.973Z"
   },
   {
    "duration": 172,
    "start_time": "2023-08-30T17:16:58.979Z"
   },
   {
    "duration": 198,
    "start_time": "2023-08-30T17:16:59.153Z"
   },
   {
    "duration": 632,
    "start_time": "2023-08-30T17:16:59.353Z"
   },
   {
    "duration": 228,
    "start_time": "2023-08-30T17:16:59.987Z"
   },
   {
    "duration": 212,
    "start_time": "2023-08-30T17:17:00.217Z"
   },
   {
    "duration": 2172,
    "start_time": "2023-08-30T17:17:00.431Z"
   },
   {
    "duration": 12,
    "start_time": "2023-08-30T17:17:02.605Z"
   },
   {
    "duration": 47,
    "start_time": "2023-08-30T17:17:02.618Z"
   },
   {
    "duration": 91,
    "start_time": "2023-08-30T17:17:02.668Z"
   },
   {
    "duration": 439,
    "start_time": "2023-08-30T17:17:02.760Z"
   },
   {
    "duration": 12,
    "start_time": "2023-08-30T17:17:03.201Z"
   },
   {
    "duration": 34,
    "start_time": "2023-08-30T17:17:03.215Z"
   },
   {
    "duration": 901,
    "start_time": "2023-08-30T17:17:03.250Z"
   },
   {
    "duration": 14,
    "start_time": "2023-08-30T17:17:04.154Z"
   },
   {
    "duration": 33,
    "start_time": "2023-08-30T17:17:04.170Z"
   },
   {
    "duration": 557,
    "start_time": "2023-08-30T17:17:04.205Z"
   },
   {
    "duration": 748,
    "start_time": "2023-08-30T17:19:20.387Z"
   },
   {
    "duration": 575,
    "start_time": "2023-08-30T17:19:35.099Z"
   },
   {
    "duration": 553,
    "start_time": "2023-08-30T17:20:48.480Z"
   },
   {
    "duration": 600,
    "start_time": "2023-08-30T17:23:01.644Z"
   },
   {
    "duration": 609,
    "start_time": "2023-08-30T17:23:23.891Z"
   },
   {
    "duration": 738,
    "start_time": "2023-08-30T17:24:10.615Z"
   },
   {
    "duration": 560,
    "start_time": "2023-08-30T17:25:15.784Z"
   },
   {
    "duration": 3,
    "start_time": "2023-08-30T17:25:20.523Z"
   },
   {
    "duration": 109,
    "start_time": "2023-08-30T17:25:20.528Z"
   },
   {
    "duration": 16,
    "start_time": "2023-08-30T17:25:20.639Z"
   },
   {
    "duration": 71,
    "start_time": "2023-08-30T17:25:20.657Z"
   },
   {
    "duration": 16,
    "start_time": "2023-08-30T17:25:20.731Z"
   },
   {
    "duration": 53,
    "start_time": "2023-08-30T17:25:20.749Z"
   },
   {
    "duration": 63,
    "start_time": "2023-08-30T17:25:20.804Z"
   },
   {
    "duration": 40,
    "start_time": "2023-08-30T17:25:20.869Z"
   },
   {
    "duration": 253,
    "start_time": "2023-08-30T17:25:20.911Z"
   },
   {
    "duration": 274,
    "start_time": "2023-08-30T17:25:21.165Z"
   },
   {
    "duration": 42,
    "start_time": "2023-08-30T17:25:21.441Z"
   },
   {
    "duration": 286,
    "start_time": "2023-08-30T17:25:21.486Z"
   },
   {
    "duration": 33,
    "start_time": "2023-08-30T17:25:21.774Z"
   },
   {
    "duration": 290,
    "start_time": "2023-08-30T17:25:21.810Z"
   },
   {
    "duration": 348,
    "start_time": "2023-08-30T17:25:22.102Z"
   },
   {
    "duration": 29,
    "start_time": "2023-08-30T17:25:22.452Z"
   },
   {
    "duration": 8,
    "start_time": "2023-08-30T17:25:22.483Z"
   },
   {
    "duration": 11,
    "start_time": "2023-08-30T17:25:22.493Z"
   },
   {
    "duration": 33,
    "start_time": "2023-08-30T17:25:22.506Z"
   },
   {
    "duration": 4,
    "start_time": "2023-08-30T17:25:22.541Z"
   },
   {
    "duration": 364,
    "start_time": "2023-08-30T17:25:22.568Z"
   },
   {
    "duration": 209,
    "start_time": "2023-08-30T17:25:22.934Z"
   },
   {
    "duration": 646,
    "start_time": "2023-08-30T17:25:23.144Z"
   },
   {
    "duration": 248,
    "start_time": "2023-08-30T17:25:23.792Z"
   },
   {
    "duration": 235,
    "start_time": "2023-08-30T17:25:24.042Z"
   },
   {
    "duration": 2117,
    "start_time": "2023-08-30T17:25:24.279Z"
   },
   {
    "duration": 11,
    "start_time": "2023-08-30T17:25:26.398Z"
   },
   {
    "duration": 19,
    "start_time": "2023-08-30T17:25:26.411Z"
   },
   {
    "duration": 96,
    "start_time": "2023-08-30T17:25:26.432Z"
   },
   {
    "duration": 396,
    "start_time": "2023-08-30T17:25:26.531Z"
   },
   {
    "duration": 10,
    "start_time": "2023-08-30T17:25:26.928Z"
   },
   {
    "duration": 23,
    "start_time": "2023-08-30T17:25:26.940Z"
   },
   {
    "duration": 919,
    "start_time": "2023-08-30T17:25:26.967Z"
   },
   {
    "duration": 5,
    "start_time": "2023-08-30T17:25:27.888Z"
   },
   {
    "duration": 40,
    "start_time": "2023-08-30T17:25:27.895Z"
   },
   {
    "duration": 577,
    "start_time": "2023-08-30T17:25:27.936Z"
   },
   {
    "duration": 573,
    "start_time": "2023-08-30T17:27:47.773Z"
   },
   {
    "duration": 700,
    "start_time": "2023-08-30T17:29:23.977Z"
   },
   {
    "duration": 521,
    "start_time": "2023-08-30T17:29:34.904Z"
   },
   {
    "duration": 512,
    "start_time": "2023-08-30T17:29:51.344Z"
   },
   {
    "duration": 539,
    "start_time": "2023-08-30T17:30:01.637Z"
   },
   {
    "duration": 9,
    "start_time": "2023-08-30T17:30:42.723Z"
   },
   {
    "duration": 495,
    "start_time": "2023-08-30T17:31:50.509Z"
   },
   {
    "duration": 689,
    "start_time": "2023-08-30T17:31:58.606Z"
   },
   {
    "duration": 562,
    "start_time": "2023-08-30T17:32:55.217Z"
   },
   {
    "duration": 524,
    "start_time": "2023-08-30T17:34:26.981Z"
   },
   {
    "duration": 563,
    "start_time": "2023-08-30T17:36:54.911Z"
   },
   {
    "duration": 4,
    "start_time": "2023-08-30T17:37:22.708Z"
   },
   {
    "duration": 99,
    "start_time": "2023-08-30T17:37:22.715Z"
   },
   {
    "duration": 16,
    "start_time": "2023-08-30T17:37:22.816Z"
   },
   {
    "duration": 49,
    "start_time": "2023-08-30T17:37:22.834Z"
   },
   {
    "duration": 18,
    "start_time": "2023-08-30T17:37:22.885Z"
   },
   {
    "duration": 29,
    "start_time": "2023-08-30T17:37:22.904Z"
   },
   {
    "duration": 46,
    "start_time": "2023-08-30T17:37:22.934Z"
   },
   {
    "duration": 48,
    "start_time": "2023-08-30T17:37:22.982Z"
   },
   {
    "duration": 257,
    "start_time": "2023-08-30T17:37:23.032Z"
   },
   {
    "duration": 258,
    "start_time": "2023-08-30T17:37:23.291Z"
   },
   {
    "duration": 36,
    "start_time": "2023-08-30T17:37:23.550Z"
   },
   {
    "duration": 465,
    "start_time": "2023-08-30T17:37:23.588Z"
   },
   {
    "duration": 52,
    "start_time": "2023-08-30T17:37:24.055Z"
   },
   {
    "duration": 308,
    "start_time": "2023-08-30T17:37:24.111Z"
   },
   {
    "duration": 327,
    "start_time": "2023-08-30T17:37:24.421Z"
   },
   {
    "duration": 33,
    "start_time": "2023-08-30T17:37:24.749Z"
   },
   {
    "duration": 35,
    "start_time": "2023-08-30T17:37:24.784Z"
   },
   {
    "duration": 8,
    "start_time": "2023-08-30T17:37:24.821Z"
   },
   {
    "duration": 38,
    "start_time": "2023-08-30T17:37:24.830Z"
   },
   {
    "duration": 4,
    "start_time": "2023-08-30T17:37:24.870Z"
   },
   {
    "duration": 179,
    "start_time": "2023-08-30T17:37:24.875Z"
   },
   {
    "duration": 205,
    "start_time": "2023-08-30T17:37:25.056Z"
   },
   {
    "duration": 638,
    "start_time": "2023-08-30T17:37:25.263Z"
   },
   {
    "duration": 206,
    "start_time": "2023-08-30T17:37:25.903Z"
   },
   {
    "duration": 206,
    "start_time": "2023-08-30T17:37:26.110Z"
   },
   {
    "duration": 2012,
    "start_time": "2023-08-30T17:37:26.319Z"
   },
   {
    "duration": 12,
    "start_time": "2023-08-30T17:37:28.333Z"
   },
   {
    "duration": 25,
    "start_time": "2023-08-30T17:37:28.347Z"
   },
   {
    "duration": 96,
    "start_time": "2023-08-30T17:37:28.374Z"
   },
   {
    "duration": 444,
    "start_time": "2023-08-30T17:37:28.472Z"
   },
   {
    "duration": 13,
    "start_time": "2023-08-30T17:37:28.918Z"
   },
   {
    "duration": 24,
    "start_time": "2023-08-30T17:37:28.933Z"
   },
   {
    "duration": 867,
    "start_time": "2023-08-30T17:37:28.959Z"
   },
   {
    "duration": 5,
    "start_time": "2023-08-30T17:37:29.828Z"
   },
   {
    "duration": 44,
    "start_time": "2023-08-30T17:37:29.834Z"
   },
   {
    "duration": 750,
    "start_time": "2023-08-30T17:37:29.880Z"
   },
   {
    "duration": 14,
    "start_time": "2023-08-30T17:49:12.407Z"
   },
   {
    "duration": 6,
    "start_time": "2023-08-30T18:01:41.912Z"
   },
   {
    "duration": 9,
    "start_time": "2023-08-30T18:02:59.574Z"
   },
   {
    "duration": 22,
    "start_time": "2023-08-30T18:03:11.233Z"
   },
   {
    "duration": 10,
    "start_time": "2023-08-30T18:04:25.310Z"
   },
   {
    "duration": 6,
    "start_time": "2023-08-30T18:05:47.889Z"
   },
   {
    "duration": 10,
    "start_time": "2023-08-30T18:06:54.401Z"
   },
   {
    "duration": 13,
    "start_time": "2023-08-30T18:08:52.372Z"
   },
   {
    "duration": 8,
    "start_time": "2023-08-30T18:08:58.746Z"
   },
   {
    "duration": 8,
    "start_time": "2023-08-30T18:09:11.843Z"
   },
   {
    "duration": 1404,
    "start_time": "2023-08-30T18:10:26.363Z"
   },
   {
    "duration": 1434,
    "start_time": "2023-08-30T18:11:10.524Z"
   },
   {
    "duration": 3,
    "start_time": "2023-08-30T18:11:40.734Z"
   },
   {
    "duration": 73,
    "start_time": "2023-08-30T18:11:40.741Z"
   },
   {
    "duration": 15,
    "start_time": "2023-08-30T18:11:40.816Z"
   },
   {
    "duration": 61,
    "start_time": "2023-08-30T18:11:40.833Z"
   },
   {
    "duration": 17,
    "start_time": "2023-08-30T18:11:40.896Z"
   },
   {
    "duration": 20,
    "start_time": "2023-08-30T18:11:40.915Z"
   },
   {
    "duration": 70,
    "start_time": "2023-08-30T18:11:40.937Z"
   },
   {
    "duration": 37,
    "start_time": "2023-08-30T18:11:41.009Z"
   },
   {
    "duration": 241,
    "start_time": "2023-08-30T18:11:41.047Z"
   },
   {
    "duration": 264,
    "start_time": "2023-08-30T18:11:41.289Z"
   },
   {
    "duration": 36,
    "start_time": "2023-08-30T18:11:41.555Z"
   },
   {
    "duration": 276,
    "start_time": "2023-08-30T18:11:41.592Z"
   },
   {
    "duration": 33,
    "start_time": "2023-08-30T18:11:41.869Z"
   },
   {
    "duration": 282,
    "start_time": "2023-08-30T18:11:41.903Z"
   },
   {
    "duration": 372,
    "start_time": "2023-08-30T18:11:42.188Z"
   },
   {
    "duration": 22,
    "start_time": "2023-08-30T18:11:42.566Z"
   },
   {
    "duration": 12,
    "start_time": "2023-08-30T18:11:42.589Z"
   },
   {
    "duration": 12,
    "start_time": "2023-08-30T18:11:42.603Z"
   },
   {
    "duration": 57,
    "start_time": "2023-08-30T18:11:42.616Z"
   },
   {
    "duration": 5,
    "start_time": "2023-08-30T18:11:42.674Z"
   },
   {
    "duration": 213,
    "start_time": "2023-08-30T18:11:42.680Z"
   },
   {
    "duration": 219,
    "start_time": "2023-08-30T18:11:42.895Z"
   },
   {
    "duration": 883,
    "start_time": "2023-08-30T18:11:43.116Z"
   },
   {
    "duration": 262,
    "start_time": "2023-08-30T18:11:44.001Z"
   },
   {
    "duration": 202,
    "start_time": "2023-08-30T18:11:44.265Z"
   },
   {
    "duration": 2040,
    "start_time": "2023-08-30T18:11:44.468Z"
   },
   {
    "duration": 11,
    "start_time": "2023-08-30T18:11:46.510Z"
   },
   {
    "duration": 19,
    "start_time": "2023-08-30T18:11:46.523Z"
   },
   {
    "duration": 283,
    "start_time": "2023-08-30T18:11:46.543Z"
   },
   {
    "duration": 428,
    "start_time": "2023-08-30T18:11:46.828Z"
   },
   {
    "duration": 19,
    "start_time": "2023-08-30T18:11:47.258Z"
   },
   {
    "duration": 14,
    "start_time": "2023-08-30T18:11:47.281Z"
   },
   {
    "duration": 882,
    "start_time": "2023-08-30T18:11:47.296Z"
   },
   {
    "duration": 5,
    "start_time": "2023-08-30T18:11:48.180Z"
   },
   {
    "duration": 26,
    "start_time": "2023-08-30T18:11:48.187Z"
   },
   {
    "duration": 582,
    "start_time": "2023-08-30T18:11:48.214Z"
   },
   {
    "duration": 1809,
    "start_time": "2023-08-30T18:11:48.798Z"
   },
   {
    "duration": 1462,
    "start_time": "2023-08-30T18:13:45.409Z"
   },
   {
    "duration": 298,
    "start_time": "2023-08-30T18:14:39.200Z"
   },
   {
    "duration": 370,
    "start_time": "2023-08-30T18:20:03.300Z"
   },
   {
    "duration": 397,
    "start_time": "2023-08-30T18:20:57.491Z"
   },
   {
    "duration": 376,
    "start_time": "2023-08-30T18:21:29.984Z"
   },
   {
    "duration": 508,
    "start_time": "2023-08-30T18:21:41.478Z"
   },
   {
    "duration": 383,
    "start_time": "2023-08-30T18:23:09.202Z"
   },
   {
    "duration": 415,
    "start_time": "2023-08-30T18:24:22.136Z"
   },
   {
    "duration": 408,
    "start_time": "2023-08-30T18:25:51.686Z"
   },
   {
    "duration": 400,
    "start_time": "2023-08-30T18:26:17.049Z"
   },
   {
    "duration": 475,
    "start_time": "2023-08-30T18:28:47.933Z"
   },
   {
    "duration": 441,
    "start_time": "2023-08-30T18:29:02.906Z"
   },
   {
    "duration": 467,
    "start_time": "2023-08-30T18:29:12.676Z"
   },
   {
    "duration": 613,
    "start_time": "2023-08-30T18:29:20.122Z"
   },
   {
    "duration": 475,
    "start_time": "2023-08-30T18:29:31.330Z"
   },
   {
    "duration": 432,
    "start_time": "2023-08-30T18:29:46.251Z"
   },
   {
    "duration": 167,
    "start_time": "2023-08-30T18:32:06.651Z"
   },
   {
    "duration": 153,
    "start_time": "2023-08-30T18:32:30.646Z"
   },
   {
    "duration": 4,
    "start_time": "2023-08-30T18:32:36.645Z"
   },
   {
    "duration": 100,
    "start_time": "2023-08-30T18:32:36.652Z"
   },
   {
    "duration": 17,
    "start_time": "2023-08-30T18:32:36.754Z"
   },
   {
    "duration": 45,
    "start_time": "2023-08-30T18:32:36.772Z"
   },
   {
    "duration": 18,
    "start_time": "2023-08-30T18:32:36.819Z"
   },
   {
    "duration": 38,
    "start_time": "2023-08-30T18:32:36.841Z"
   },
   {
    "duration": 40,
    "start_time": "2023-08-30T18:32:36.882Z"
   },
   {
    "duration": 38,
    "start_time": "2023-08-30T18:32:36.924Z"
   },
   {
    "duration": 291,
    "start_time": "2023-08-30T18:32:36.963Z"
   },
   {
    "duration": 295,
    "start_time": "2023-08-30T18:32:37.255Z"
   },
   {
    "duration": 47,
    "start_time": "2023-08-30T18:32:37.552Z"
   },
   {
    "duration": 318,
    "start_time": "2023-08-30T18:32:37.601Z"
   },
   {
    "duration": 49,
    "start_time": "2023-08-30T18:32:37.921Z"
   },
   {
    "duration": 520,
    "start_time": "2023-08-30T18:32:37.972Z"
   },
   {
    "duration": 376,
    "start_time": "2023-08-30T18:32:38.495Z"
   },
   {
    "duration": 28,
    "start_time": "2023-08-30T18:32:38.875Z"
   },
   {
    "duration": 11,
    "start_time": "2023-08-30T18:32:38.905Z"
   },
   {
    "duration": 17,
    "start_time": "2023-08-30T18:32:38.918Z"
   },
   {
    "duration": 65,
    "start_time": "2023-08-30T18:32:38.937Z"
   },
   {
    "duration": 7,
    "start_time": "2023-08-30T18:32:39.005Z"
   },
   {
    "duration": 210,
    "start_time": "2023-08-30T18:32:39.013Z"
   },
   {
    "duration": 239,
    "start_time": "2023-08-30T18:32:39.226Z"
   },
   {
    "duration": 722,
    "start_time": "2023-08-30T18:32:39.470Z"
   },
   {
    "duration": 236,
    "start_time": "2023-08-30T18:32:40.197Z"
   },
   {
    "duration": 270,
    "start_time": "2023-08-30T18:32:40.435Z"
   },
   {
    "duration": 2413,
    "start_time": "2023-08-30T18:32:40.708Z"
   },
   {
    "duration": 13,
    "start_time": "2023-08-30T18:32:43.123Z"
   },
   {
    "duration": 36,
    "start_time": "2023-08-30T18:32:43.138Z"
   },
   {
    "duration": 122,
    "start_time": "2023-08-30T18:32:43.179Z"
   },
   {
    "duration": 453,
    "start_time": "2023-08-30T18:32:43.303Z"
   },
   {
    "duration": 21,
    "start_time": "2023-08-30T18:32:43.759Z"
   },
   {
    "duration": 22,
    "start_time": "2023-08-30T18:32:43.783Z"
   },
   {
    "duration": 1077,
    "start_time": "2023-08-30T18:32:43.807Z"
   },
   {
    "duration": 16,
    "start_time": "2023-08-30T18:32:44.888Z"
   },
   {
    "duration": 32,
    "start_time": "2023-08-30T18:32:44.907Z"
   },
   {
    "duration": 859,
    "start_time": "2023-08-30T18:32:44.941Z"
   },
   {
    "duration": 351,
    "start_time": "2023-08-30T18:32:45.803Z"
   },
   {
    "duration": 168,
    "start_time": "2023-08-30T18:32:46.155Z"
   },
   {
    "duration": 458,
    "start_time": "2023-08-30T18:34:09.197Z"
   },
   {
    "duration": 482,
    "start_time": "2023-08-30T18:34:51.163Z"
   },
   {
    "duration": 171,
    "start_time": "2023-08-30T18:35:14.114Z"
   },
   {
    "duration": 468,
    "start_time": "2023-08-30T18:35:19.463Z"
   },
   {
    "duration": 447,
    "start_time": "2023-08-30T18:39:38.029Z"
   },
   {
    "duration": 420,
    "start_time": "2023-08-30T18:39:50.142Z"
   },
   {
    "duration": 451,
    "start_time": "2023-08-30T18:42:49.508Z"
   },
   {
    "duration": 437,
    "start_time": "2023-08-30T18:45:14.708Z"
   },
   {
    "duration": 689,
    "start_time": "2023-08-30T18:47:47.511Z"
   },
   {
    "duration": 428,
    "start_time": "2023-08-30T18:48:08.309Z"
   },
   {
    "duration": 486,
    "start_time": "2023-08-30T18:50:44.729Z"
   },
   {
    "duration": 431,
    "start_time": "2023-08-30T18:50:54.407Z"
   },
   {
    "duration": 463,
    "start_time": "2023-08-30T18:51:03.699Z"
   },
   {
    "duration": 9,
    "start_time": "2023-08-30T19:02:19.144Z"
   },
   {
    "duration": 17,
    "start_time": "2023-08-30T19:02:26.430Z"
   },
   {
    "duration": 4,
    "start_time": "2023-08-30T19:03:35.537Z"
   },
   {
    "duration": 16,
    "start_time": "2023-08-30T19:04:08.939Z"
   },
   {
    "duration": 24,
    "start_time": "2023-08-30T19:04:30.653Z"
   },
   {
    "duration": 14,
    "start_time": "2023-08-30T19:04:39.106Z"
   },
   {
    "duration": 260,
    "start_time": "2023-08-30T19:06:01.588Z"
   },
   {
    "duration": 33,
    "start_time": "2023-08-30T19:06:29.497Z"
   },
   {
    "duration": 385,
    "start_time": "2023-08-30T19:06:52.652Z"
   },
   {
    "duration": 132,
    "start_time": "2023-08-30T19:07:31.806Z"
   },
   {
    "duration": 151,
    "start_time": "2023-08-30T19:08:16.553Z"
   },
   {
    "duration": 124,
    "start_time": "2023-08-30T19:10:16.122Z"
   },
   {
    "duration": 3,
    "start_time": "2023-08-30T19:12:56.702Z"
   },
   {
    "duration": 86,
    "start_time": "2023-08-30T19:15:51.533Z"
   },
   {
    "duration": 84,
    "start_time": "2023-08-30T19:15:51.621Z"
   },
   {
    "duration": 17,
    "start_time": "2023-08-30T19:15:51.707Z"
   },
   {
    "duration": 62,
    "start_time": "2023-08-30T19:15:51.726Z"
   },
   {
    "duration": 17,
    "start_time": "2023-08-30T19:15:51.793Z"
   },
   {
    "duration": 28,
    "start_time": "2023-08-30T19:15:51.812Z"
   },
   {
    "duration": 28,
    "start_time": "2023-08-30T19:15:51.842Z"
   },
   {
    "duration": 40,
    "start_time": "2023-08-30T19:15:51.879Z"
   },
   {
    "duration": 268,
    "start_time": "2023-08-30T19:15:51.921Z"
   },
   {
    "duration": 313,
    "start_time": "2023-08-30T19:15:52.192Z"
   },
   {
    "duration": 35,
    "start_time": "2023-08-30T19:15:52.506Z"
   },
   {
    "duration": 306,
    "start_time": "2023-08-30T19:15:52.543Z"
   },
   {
    "duration": 52,
    "start_time": "2023-08-30T19:15:52.851Z"
   },
   {
    "duration": 307,
    "start_time": "2023-08-30T19:15:52.906Z"
   },
   {
    "duration": 358,
    "start_time": "2023-08-30T19:15:53.215Z"
   },
   {
    "duration": 23,
    "start_time": "2023-08-30T19:15:53.582Z"
   },
   {
    "duration": 10,
    "start_time": "2023-08-30T19:15:53.607Z"
   },
   {
    "duration": 14,
    "start_time": "2023-08-30T19:15:53.619Z"
   },
   {
    "duration": 38,
    "start_time": "2023-08-30T19:15:53.635Z"
   },
   {
    "duration": 12,
    "start_time": "2023-08-30T19:15:53.675Z"
   },
   {
    "duration": 202,
    "start_time": "2023-08-30T19:15:53.689Z"
   },
   {
    "duration": 254,
    "start_time": "2023-08-30T19:15:53.893Z"
   },
   {
    "duration": 703,
    "start_time": "2023-08-30T19:15:54.149Z"
   },
   {
    "duration": 254,
    "start_time": "2023-08-30T19:15:54.854Z"
   },
   {
    "duration": 229,
    "start_time": "2023-08-30T19:15:55.109Z"
   },
   {
    "duration": 2052,
    "start_time": "2023-08-30T19:15:55.340Z"
   },
   {
    "duration": 14,
    "start_time": "2023-08-30T19:15:57.394Z"
   },
   {
    "duration": 18,
    "start_time": "2023-08-30T19:15:57.410Z"
   },
   {
    "duration": 116,
    "start_time": "2023-08-30T19:15:57.429Z"
   },
   {
    "duration": 411,
    "start_time": "2023-08-30T19:15:57.547Z"
   },
   {
    "duration": 20,
    "start_time": "2023-08-30T19:15:57.960Z"
   },
   {
    "duration": 16,
    "start_time": "2023-08-30T19:15:57.985Z"
   },
   {
    "duration": 928,
    "start_time": "2023-08-30T19:15:58.003Z"
   },
   {
    "duration": 6,
    "start_time": "2023-08-30T19:15:58.932Z"
   },
   {
    "duration": 41,
    "start_time": "2023-08-30T19:15:58.940Z"
   },
   {
    "duration": 953,
    "start_time": "2023-08-30T19:15:58.986Z"
   },
   {
    "duration": 314,
    "start_time": "2023-08-30T19:15:59.941Z"
   },
   {
    "duration": 497,
    "start_time": "2023-08-30T19:16:00.257Z"
   },
   {
    "duration": 35,
    "start_time": "2023-08-30T19:16:00.756Z"
   },
   {
    "duration": 207,
    "start_time": "2023-08-30T19:16:00.798Z"
   },
   {
    "duration": 10643,
    "start_time": "2023-08-30T19:16:57.746Z"
   },
   {
    "duration": 10187,
    "start_time": "2023-08-30T19:18:52.638Z"
   },
   {
    "duration": 10248,
    "start_time": "2023-08-30T19:19:12.749Z"
   },
   {
    "duration": 10563,
    "start_time": "2023-08-30T19:19:31.596Z"
   },
   {
    "duration": 10,
    "start_time": "2023-08-30T19:20:14.086Z"
   },
   {
    "duration": 643,
    "start_time": "2023-08-30T19:23:51.357Z"
   },
   {
    "duration": 4,
    "start_time": "2023-08-30T19:25:47.410Z"
   },
   {
    "duration": 618,
    "start_time": "2023-08-30T19:26:45.456Z"
   },
   {
    "duration": 1321,
    "start_time": "2023-08-30T19:27:49.009Z"
   },
   {
    "duration": 141,
    "start_time": "2023-08-30T19:29:31.118Z"
   },
   {
    "duration": 9897,
    "start_time": "2023-08-30T19:30:03.684Z"
   },
   {
    "duration": 4,
    "start_time": "2023-08-30T19:32:10.001Z"
   },
   {
    "duration": 1401,
    "start_time": "2023-08-30T19:32:45.304Z"
   },
   {
    "duration": 666,
    "start_time": "2023-08-30T19:33:52.889Z"
   },
   {
    "duration": 659,
    "start_time": "2023-08-30T19:35:02.597Z"
   },
   {
    "duration": 13,
    "start_time": "2023-08-30T19:35:28.498Z"
   },
   {
    "duration": 10812,
    "start_time": "2023-08-30T19:35:50.146Z"
   },
   {
    "duration": 10650,
    "start_time": "2023-08-30T19:39:13.645Z"
   },
   {
    "duration": 10247,
    "start_time": "2023-08-30T19:40:18.987Z"
   },
   {
    "duration": 9549,
    "start_time": "2023-08-30T19:42:33.201Z"
   },
   {
    "duration": 1827,
    "start_time": "2023-08-30T19:44:14.385Z"
   },
   {
    "duration": 10031,
    "start_time": "2023-08-30T19:44:37.788Z"
   },
   {
    "duration": 14,
    "start_time": "2023-08-30T19:48:42.810Z"
   },
   {
    "duration": 18,
    "start_time": "2023-08-30T19:48:54.221Z"
   },
   {
    "duration": 27,
    "start_time": "2023-08-30T19:49:16.260Z"
   },
   {
    "duration": 14,
    "start_time": "2023-08-30T19:49:28.442Z"
   },
   {
    "duration": 9,
    "start_time": "2023-08-30T19:50:46.550Z"
   },
   {
    "duration": 19,
    "start_time": "2023-08-30T19:50:52.878Z"
   },
   {
    "duration": 19,
    "start_time": "2023-08-30T19:51:35.573Z"
   },
   {
    "duration": 14,
    "start_time": "2023-08-30T19:51:50.588Z"
   },
   {
    "duration": 16,
    "start_time": "2023-08-30T19:55:41.786Z"
   },
   {
    "duration": 14,
    "start_time": "2023-08-30T19:56:55.204Z"
   },
   {
    "duration": 12,
    "start_time": "2023-08-30T19:57:19.692Z"
   },
   {
    "duration": 20,
    "start_time": "2023-08-30T19:57:31.888Z"
   },
   {
    "duration": 12,
    "start_time": "2023-08-30T19:59:31.459Z"
   },
   {
    "duration": 17,
    "start_time": "2023-08-30T19:59:59.503Z"
   },
   {
    "duration": 13,
    "start_time": "2023-08-30T20:00:55.402Z"
   },
   {
    "duration": 9,
    "start_time": "2023-08-30T20:01:03.103Z"
   },
   {
    "duration": 13,
    "start_time": "2023-08-30T20:01:05.244Z"
   },
   {
    "duration": 14,
    "start_time": "2023-08-30T20:01:13.686Z"
   },
   {
    "duration": 12,
    "start_time": "2023-08-30T20:01:44.489Z"
   },
   {
    "duration": 1488,
    "start_time": "2023-08-30T20:06:16.881Z"
   },
   {
    "duration": 1749,
    "start_time": "2023-08-30T20:08:29.784Z"
   },
   {
    "duration": 298,
    "start_time": "2023-08-30T20:09:20.891Z"
   },
   {
    "duration": 5,
    "start_time": "2023-08-30T20:09:40.984Z"
   },
   {
    "duration": 8,
    "start_time": "2023-08-30T20:10:53.588Z"
   },
   {
    "duration": 793,
    "start_time": "2023-08-30T20:11:26.206Z"
   },
   {
    "duration": 21,
    "start_time": "2023-08-30T20:16:21.302Z"
   },
   {
    "duration": 24,
    "start_time": "2023-08-30T20:16:42.416Z"
   },
   {
    "duration": 23,
    "start_time": "2023-08-30T20:16:49.291Z"
   },
   {
    "duration": 20,
    "start_time": "2023-08-30T20:17:16.683Z"
   },
   {
    "duration": 332,
    "start_time": "2023-08-30T20:17:35.792Z"
   },
   {
    "duration": 871,
    "start_time": "2023-08-30T20:18:23.508Z"
   },
   {
    "duration": 21,
    "start_time": "2023-08-30T20:19:50.512Z"
   },
   {
    "duration": 27,
    "start_time": "2023-08-30T20:19:59.075Z"
   },
   {
    "duration": 23,
    "start_time": "2023-08-30T20:23:27.826Z"
   },
   {
    "duration": 844,
    "start_time": "2023-08-30T20:23:37.611Z"
   },
   {
    "duration": 822,
    "start_time": "2023-08-30T20:24:05.488Z"
   },
   {
    "duration": 808,
    "start_time": "2023-08-30T20:24:21.788Z"
   },
   {
    "duration": 23,
    "start_time": "2023-08-30T20:26:45.019Z"
   },
   {
    "duration": 825,
    "start_time": "2023-08-30T20:27:13.215Z"
   },
   {
    "duration": 840,
    "start_time": "2023-08-30T20:28:33.784Z"
   },
   {
    "duration": 252,
    "start_time": "2023-08-30T20:32:52.738Z"
   },
   {
    "duration": 719,
    "start_time": "2023-08-30T20:33:40.079Z"
   },
   {
    "duration": 712,
    "start_time": "2023-08-30T20:34:47.889Z"
   },
   {
    "duration": 780,
    "start_time": "2023-08-30T20:35:41.741Z"
   },
   {
    "duration": 721,
    "start_time": "2023-08-30T20:36:55.628Z"
   },
   {
    "duration": 747,
    "start_time": "2023-08-30T20:37:47.435Z"
   },
   {
    "duration": 24,
    "start_time": "2023-08-30T20:38:35.895Z"
   },
   {
    "duration": 21,
    "start_time": "2023-08-30T20:39:08.700Z"
   },
   {
    "duration": 738,
    "start_time": "2023-08-30T20:39:48.036Z"
   },
   {
    "duration": 617,
    "start_time": "2023-08-30T20:41:17.719Z"
   },
   {
    "duration": 4,
    "start_time": "2023-08-30T20:41:45.857Z"
   },
   {
    "duration": 91,
    "start_time": "2023-08-30T20:41:45.863Z"
   },
   {
    "duration": 13,
    "start_time": "2023-08-30T20:41:45.955Z"
   },
   {
    "duration": 30,
    "start_time": "2023-08-30T20:41:45.970Z"
   },
   {
    "duration": 16,
    "start_time": "2023-08-30T20:41:46.003Z"
   },
   {
    "duration": 20,
    "start_time": "2023-08-30T20:41:46.021Z"
   },
   {
    "duration": 48,
    "start_time": "2023-08-30T20:41:46.042Z"
   },
   {
    "duration": 33,
    "start_time": "2023-08-30T20:41:46.092Z"
   },
   {
    "duration": 252,
    "start_time": "2023-08-30T20:41:46.127Z"
   },
   {
    "duration": 268,
    "start_time": "2023-08-30T20:41:46.380Z"
   },
   {
    "duration": 48,
    "start_time": "2023-08-30T20:41:46.650Z"
   },
   {
    "duration": 281,
    "start_time": "2023-08-30T20:41:46.700Z"
   },
   {
    "duration": 33,
    "start_time": "2023-08-30T20:41:46.984Z"
   },
   {
    "duration": 277,
    "start_time": "2023-08-30T20:41:47.021Z"
   },
   {
    "duration": 347,
    "start_time": "2023-08-30T20:41:47.300Z"
   },
   {
    "duration": 34,
    "start_time": "2023-08-30T20:41:47.649Z"
   },
   {
    "duration": 17,
    "start_time": "2023-08-30T20:41:47.685Z"
   },
   {
    "duration": 8,
    "start_time": "2023-08-30T20:41:47.704Z"
   },
   {
    "duration": 34,
    "start_time": "2023-08-30T20:41:47.714Z"
   },
   {
    "duration": 6,
    "start_time": "2023-08-30T20:41:47.766Z"
   },
   {
    "duration": 183,
    "start_time": "2023-08-30T20:41:47.774Z"
   },
   {
    "duration": 205,
    "start_time": "2023-08-30T20:41:47.958Z"
   },
   {
    "duration": 657,
    "start_time": "2023-08-30T20:41:48.167Z"
   },
   {
    "duration": 218,
    "start_time": "2023-08-30T20:41:48.825Z"
   },
   {
    "duration": 201,
    "start_time": "2023-08-30T20:41:49.045Z"
   },
   {
    "duration": 1971,
    "start_time": "2023-08-30T20:41:49.248Z"
   },
   {
    "duration": 11,
    "start_time": "2023-08-30T20:41:51.221Z"
   },
   {
    "duration": 35,
    "start_time": "2023-08-30T20:41:51.234Z"
   },
   {
    "duration": 85,
    "start_time": "2023-08-30T20:41:51.271Z"
   },
   {
    "duration": 464,
    "start_time": "2023-08-30T20:41:51.358Z"
   },
   {
    "duration": 9,
    "start_time": "2023-08-30T20:41:51.824Z"
   },
   {
    "duration": 15,
    "start_time": "2023-08-30T20:41:51.834Z"
   },
   {
    "duration": 964,
    "start_time": "2023-08-30T20:41:51.851Z"
   },
   {
    "duration": 5,
    "start_time": "2023-08-30T20:41:52.817Z"
   },
   {
    "duration": 30,
    "start_time": "2023-08-30T20:41:52.824Z"
   },
   {
    "duration": 556,
    "start_time": "2023-08-30T20:41:52.866Z"
   },
   {
    "duration": 314,
    "start_time": "2023-08-30T20:41:53.423Z"
   },
   {
    "duration": 436,
    "start_time": "2023-08-30T20:41:53.739Z"
   },
   {
    "duration": 8,
    "start_time": "2023-08-30T20:41:54.177Z"
   },
   {
    "duration": 10853,
    "start_time": "2023-08-30T20:41:54.187Z"
   },
   {
    "duration": 40,
    "start_time": "2023-08-30T20:42:05.044Z"
   },
   {
    "duration": 690,
    "start_time": "2023-08-30T20:42:05.085Z"
   },
   {
    "duration": 10,
    "start_time": "2023-08-30T20:42:05.776Z"
   },
   {
    "duration": 10,
    "start_time": "2023-08-30T20:42:36.687Z"
   },
   {
    "duration": 643,
    "start_time": "2023-08-30T20:43:48.479Z"
   },
   {
    "duration": 10,
    "start_time": "2023-08-30T20:45:48.872Z"
   },
   {
    "duration": 1456,
    "start_time": "2023-08-30T20:50:51.622Z"
   },
   {
    "duration": 1676,
    "start_time": "2023-08-30T20:52:03.890Z"
   },
   {
    "duration": 1469,
    "start_time": "2023-08-30T20:52:37.430Z"
   },
   {
    "duration": 4,
    "start_time": "2023-08-30T20:56:25.484Z"
   },
   {
    "duration": 93,
    "start_time": "2023-08-30T20:56:25.490Z"
   },
   {
    "duration": 13,
    "start_time": "2023-08-30T20:56:25.585Z"
   },
   {
    "duration": 29,
    "start_time": "2023-08-30T20:56:25.601Z"
   },
   {
    "duration": 16,
    "start_time": "2023-08-30T20:56:25.631Z"
   },
   {
    "duration": 16,
    "start_time": "2023-08-30T20:56:25.666Z"
   },
   {
    "duration": 54,
    "start_time": "2023-08-30T20:56:25.683Z"
   },
   {
    "duration": 28,
    "start_time": "2023-08-30T20:56:25.739Z"
   },
   {
    "duration": 240,
    "start_time": "2023-08-30T20:56:25.769Z"
   },
   {
    "duration": 255,
    "start_time": "2023-08-30T20:56:26.011Z"
   },
   {
    "duration": 32,
    "start_time": "2023-08-30T20:56:26.268Z"
   },
   {
    "duration": 275,
    "start_time": "2023-08-30T20:56:26.302Z"
   },
   {
    "duration": 32,
    "start_time": "2023-08-30T20:56:26.579Z"
   },
   {
    "duration": 273,
    "start_time": "2023-08-30T20:56:26.613Z"
   },
   {
    "duration": 1957,
    "start_time": "2023-08-30T20:56:26.887Z"
   },
   {
    "duration": 32,
    "start_time": "2023-08-30T20:56:28.846Z"
   },
   {
    "duration": 23,
    "start_time": "2023-08-30T20:56:28.879Z"
   },
   {
    "duration": 17,
    "start_time": "2023-08-30T20:56:28.904Z"
   },
   {
    "duration": 36,
    "start_time": "2023-08-30T20:56:28.923Z"
   },
   {
    "duration": 6,
    "start_time": "2023-08-30T20:56:28.960Z"
   },
   {
    "duration": 183,
    "start_time": "2023-08-30T20:56:28.968Z"
   },
   {
    "duration": 206,
    "start_time": "2023-08-30T20:56:29.153Z"
   },
   {
    "duration": 645,
    "start_time": "2023-08-30T20:56:29.361Z"
   },
   {
    "duration": 227,
    "start_time": "2023-08-30T20:56:30.010Z"
   },
   {
    "duration": 217,
    "start_time": "2023-08-30T20:56:30.239Z"
   },
   {
    "duration": 2081,
    "start_time": "2023-08-30T20:56:30.458Z"
   },
   {
    "duration": 27,
    "start_time": "2023-08-30T20:56:32.541Z"
   },
   {
    "duration": 47,
    "start_time": "2023-08-30T20:56:32.570Z"
   },
   {
    "duration": 118,
    "start_time": "2023-08-30T20:56:32.619Z"
   },
   {
    "duration": 483,
    "start_time": "2023-08-30T20:56:32.740Z"
   },
   {
    "duration": 16,
    "start_time": "2023-08-30T20:56:33.225Z"
   },
   {
    "duration": 31,
    "start_time": "2023-08-30T20:56:33.243Z"
   },
   {
    "duration": 954,
    "start_time": "2023-08-30T20:56:33.276Z"
   },
   {
    "duration": 6,
    "start_time": "2023-08-30T20:56:34.231Z"
   },
   {
    "duration": 55,
    "start_time": "2023-08-30T20:56:34.239Z"
   },
   {
    "duration": 530,
    "start_time": "2023-08-30T20:56:34.296Z"
   },
   {
    "duration": 312,
    "start_time": "2023-08-30T20:56:34.828Z"
   },
   {
    "duration": 465,
    "start_time": "2023-08-30T20:56:35.143Z"
   },
   {
    "duration": 9,
    "start_time": "2023-08-30T20:56:35.610Z"
   },
   {
    "duration": 9280,
    "start_time": "2023-08-30T20:56:35.621Z"
   },
   {
    "duration": 24,
    "start_time": "2023-08-30T20:56:44.903Z"
   },
   {
    "duration": 1750,
    "start_time": "2023-08-30T20:56:44.968Z"
   },
   {
    "duration": 647,
    "start_time": "2023-08-30T20:58:42.921Z"
   },
   {
    "duration": 10,
    "start_time": "2023-08-30T21:08:51.953Z"
   },
   {
    "duration": 17,
    "start_time": "2023-08-30T21:09:53.789Z"
   },
   {
    "duration": 10,
    "start_time": "2023-08-30T21:10:00.257Z"
   },
   {
    "duration": 88,
    "start_time": "2023-08-30T21:10:10.134Z"
   },
   {
    "duration": 11,
    "start_time": "2023-08-30T21:10:16.504Z"
   },
   {
    "duration": 9,
    "start_time": "2023-08-30T21:10:21.858Z"
   },
   {
    "duration": 10,
    "start_time": "2023-08-30T21:10:34.300Z"
   },
   {
    "duration": 10,
    "start_time": "2023-08-30T21:10:42.151Z"
   },
   {
    "duration": 17,
    "start_time": "2023-08-30T21:11:22.035Z"
   },
   {
    "duration": 105,
    "start_time": "2023-08-30T21:12:59.516Z"
   },
   {
    "duration": 10,
    "start_time": "2023-08-30T21:13:03.808Z"
   },
   {
    "duration": 1758,
    "start_time": "2023-08-30T21:15:12.086Z"
   },
   {
    "duration": 4,
    "start_time": "2023-08-30T21:18:27.356Z"
   },
   {
    "duration": 9,
    "start_time": "2023-08-30T21:18:41.274Z"
   },
   {
    "duration": 38,
    "start_time": "2023-08-30T21:18:46.841Z"
   },
   {
    "duration": 10,
    "start_time": "2023-08-30T21:19:28.787Z"
   },
   {
    "duration": 13,
    "start_time": "2023-08-30T21:19:38.249Z"
   },
   {
    "duration": 9,
    "start_time": "2023-08-30T21:20:10.699Z"
   },
   {
    "duration": 29,
    "start_time": "2023-08-30T21:20:15.173Z"
   },
   {
    "duration": 8,
    "start_time": "2023-08-30T21:22:04.486Z"
   },
   {
    "duration": 8,
    "start_time": "2023-08-30T21:22:09.861Z"
   },
   {
    "duration": 25,
    "start_time": "2023-08-30T21:22:35.719Z"
   },
   {
    "duration": 18,
    "start_time": "2023-08-30T21:22:47.451Z"
   },
   {
    "duration": 6,
    "start_time": "2023-08-30T21:23:53.216Z"
   },
   {
    "duration": 7,
    "start_time": "2023-08-30T21:25:50.846Z"
   },
   {
    "duration": 188,
    "start_time": "2023-08-30T21:27:45.725Z"
   },
   {
    "duration": 179,
    "start_time": "2023-08-30T21:27:58.543Z"
   },
   {
    "duration": 186,
    "start_time": "2023-08-30T21:28:17.976Z"
   },
   {
    "duration": 4,
    "start_time": "2023-08-30T21:30:59.630Z"
   },
   {
    "duration": 4,
    "start_time": "2023-08-31T07:17:08.049Z"
   },
   {
    "duration": 78,
    "start_time": "2023-08-31T07:17:08.055Z"
   },
   {
    "duration": 13,
    "start_time": "2023-08-31T07:17:08.134Z"
   },
   {
    "duration": 33,
    "start_time": "2023-08-31T07:17:08.149Z"
   },
   {
    "duration": 16,
    "start_time": "2023-08-31T07:17:08.184Z"
   },
   {
    "duration": 31,
    "start_time": "2023-08-31T07:17:08.202Z"
   },
   {
    "duration": 34,
    "start_time": "2023-08-31T07:17:08.234Z"
   },
   {
    "duration": 39,
    "start_time": "2023-08-31T07:17:08.269Z"
   },
   {
    "duration": 242,
    "start_time": "2023-08-31T07:17:08.309Z"
   },
   {
    "duration": 264,
    "start_time": "2023-08-31T07:17:08.554Z"
   },
   {
    "duration": 37,
    "start_time": "2023-08-31T07:17:08.819Z"
   },
   {
    "duration": 283,
    "start_time": "2023-08-31T07:17:08.858Z"
   },
   {
    "duration": 39,
    "start_time": "2023-08-31T07:17:09.143Z"
   },
   {
    "duration": 305,
    "start_time": "2023-08-31T07:17:09.184Z"
   },
   {
    "duration": 357,
    "start_time": "2023-08-31T07:17:09.491Z"
   },
   {
    "duration": 32,
    "start_time": "2023-08-31T07:17:09.850Z"
   },
   {
    "duration": 10,
    "start_time": "2023-08-31T07:17:09.884Z"
   },
   {
    "duration": 7,
    "start_time": "2023-08-31T07:17:09.896Z"
   },
   {
    "duration": 40,
    "start_time": "2023-08-31T07:17:09.904Z"
   },
   {
    "duration": 24,
    "start_time": "2023-08-31T07:17:09.946Z"
   },
   {
    "duration": 188,
    "start_time": "2023-08-31T07:17:09.971Z"
   },
   {
    "duration": 202,
    "start_time": "2023-08-31T07:17:10.161Z"
   },
   {
    "duration": 638,
    "start_time": "2023-08-31T07:17:10.364Z"
   },
   {
    "duration": 208,
    "start_time": "2023-08-31T07:17:11.004Z"
   },
   {
    "duration": 197,
    "start_time": "2023-08-31T07:17:11.214Z"
   },
   {
    "duration": 2003,
    "start_time": "2023-08-31T07:17:11.412Z"
   },
   {
    "duration": 11,
    "start_time": "2023-08-31T07:17:13.417Z"
   },
   {
    "duration": 14,
    "start_time": "2023-08-31T07:17:13.431Z"
   },
   {
    "duration": 97,
    "start_time": "2023-08-31T07:17:13.446Z"
   },
   {
    "duration": 405,
    "start_time": "2023-08-31T07:17:13.544Z"
   },
   {
    "duration": 17,
    "start_time": "2023-08-31T07:17:13.950Z"
   },
   {
    "duration": 29,
    "start_time": "2023-08-31T07:17:13.968Z"
   },
   {
    "duration": 871,
    "start_time": "2023-08-31T07:17:13.999Z"
   },
   {
    "duration": 4,
    "start_time": "2023-08-31T07:17:14.872Z"
   },
   {
    "duration": 44,
    "start_time": "2023-08-31T07:17:14.878Z"
   },
   {
    "duration": 567,
    "start_time": "2023-08-31T07:17:14.924Z"
   },
   {
    "duration": 285,
    "start_time": "2023-08-31T07:17:15.493Z"
   },
   {
    "duration": 428,
    "start_time": "2023-08-31T07:17:15.780Z"
   },
   {
    "duration": 7,
    "start_time": "2023-08-31T07:17:16.210Z"
   },
   {
    "duration": 9103,
    "start_time": "2023-08-31T07:17:16.219Z"
   },
   {
    "duration": 51,
    "start_time": "2023-08-31T07:17:25.324Z"
   },
   {
    "duration": 805,
    "start_time": "2023-08-31T07:17:25.377Z"
   },
   {
    "duration": 8,
    "start_time": "2023-08-31T07:17:26.184Z"
   },
   {
    "duration": 25,
    "start_time": "2023-08-31T07:17:26.194Z"
   },
   {
    "duration": 17,
    "start_time": "2023-08-31T07:17:26.220Z"
   },
   {
    "duration": 194,
    "start_time": "2023-08-31T07:17:26.238Z"
   },
   {
    "duration": 5,
    "start_time": "2023-08-31T07:17:26.433Z"
   },
   {
    "duration": 33,
    "start_time": "2023-08-31T07:17:26.441Z"
   },
   {
    "duration": 1774,
    "start_time": "2023-08-31T07:18:44.637Z"
   },
   {
    "duration": 1410,
    "start_time": "2023-08-31T07:19:02.292Z"
   },
   {
    "duration": 6,
    "start_time": "2023-08-31T07:19:05.749Z"
   },
   {
    "duration": 4,
    "start_time": "2023-08-31T07:21:02.556Z"
   },
   {
    "duration": 8,
    "start_time": "2023-08-31T07:21:28.038Z"
   },
   {
    "duration": 14,
    "start_time": "2023-08-31T07:29:50.958Z"
   },
   {
    "duration": 1704,
    "start_time": "2023-08-31T07:30:08.382Z"
   },
   {
    "duration": 6,
    "start_time": "2023-08-31T07:31:33.991Z"
   },
   {
    "duration": 6,
    "start_time": "2023-08-31T07:31:58.612Z"
   },
   {
    "duration": 6,
    "start_time": "2023-08-31T07:32:08.118Z"
   },
   {
    "duration": 191,
    "start_time": "2023-08-31T07:39:10.199Z"
   },
   {
    "duration": 176,
    "start_time": "2023-08-31T07:39:42.462Z"
   },
   {
    "duration": 20,
    "start_time": "2023-08-31T07:49:07.185Z"
   },
   {
    "duration": 5,
    "start_time": "2023-08-31T07:50:18.536Z"
   },
   {
    "duration": 5,
    "start_time": "2023-08-31T07:50:40.136Z"
   },
   {
    "duration": 1424,
    "start_time": "2023-08-31T07:51:02.565Z"
   },
   {
    "duration": 1534,
    "start_time": "2023-08-31T07:52:01.296Z"
   },
   {
    "duration": 355,
    "start_time": "2023-08-31T07:52:53.691Z"
   },
   {
    "duration": 325,
    "start_time": "2023-08-31T07:53:18.513Z"
   },
   {
    "duration": 345,
    "start_time": "2023-08-31T07:54:04.215Z"
   },
   {
    "duration": 306,
    "start_time": "2023-08-31T08:03:45.048Z"
   },
   {
    "duration": 2,
    "start_time": "2023-09-01T09:14:25.283Z"
   },
   {
    "duration": 3,
    "start_time": "2023-09-01T09:16:46.498Z"
   },
   {
    "duration": 125,
    "start_time": "2023-09-01T09:16:46.503Z"
   },
   {
    "duration": 15,
    "start_time": "2023-09-01T09:16:46.629Z"
   },
   {
    "duration": 49,
    "start_time": "2023-09-01T09:16:46.646Z"
   },
   {
    "duration": 18,
    "start_time": "2023-09-01T09:16:46.697Z"
   },
   {
    "duration": 29,
    "start_time": "2023-09-01T09:16:46.717Z"
   },
   {
    "duration": 36,
    "start_time": "2023-09-01T09:16:46.748Z"
   },
   {
    "duration": 33,
    "start_time": "2023-09-01T09:16:46.786Z"
   },
   {
    "duration": 279,
    "start_time": "2023-09-01T09:16:46.821Z"
   },
   {
    "duration": 272,
    "start_time": "2023-09-01T09:16:47.102Z"
   },
   {
    "duration": 39,
    "start_time": "2023-09-01T09:16:47.376Z"
   },
   {
    "duration": 301,
    "start_time": "2023-09-01T09:16:47.418Z"
   },
   {
    "duration": 47,
    "start_time": "2023-09-01T09:16:47.721Z"
   },
   {
    "duration": 306,
    "start_time": "2023-09-01T09:16:47.771Z"
   },
   {
    "duration": 361,
    "start_time": "2023-09-01T09:16:48.079Z"
   },
   {
    "duration": 29,
    "start_time": "2023-09-01T09:16:48.442Z"
   },
   {
    "duration": 10,
    "start_time": "2023-09-01T09:16:48.472Z"
   },
   {
    "duration": 34,
    "start_time": "2023-09-01T09:16:48.484Z"
   },
   {
    "duration": 54,
    "start_time": "2023-09-01T09:16:48.520Z"
   },
   {
    "duration": 5,
    "start_time": "2023-09-01T09:16:48.576Z"
   },
   {
    "duration": 186,
    "start_time": "2023-09-01T09:16:48.582Z"
   },
   {
    "duration": 205,
    "start_time": "2023-09-01T09:16:48.769Z"
   },
   {
    "duration": 617,
    "start_time": "2023-09-01T09:16:48.976Z"
   },
   {
    "duration": 204,
    "start_time": "2023-09-01T09:16:49.595Z"
   },
   {
    "duration": 201,
    "start_time": "2023-09-01T09:16:49.801Z"
   },
   {
    "duration": 3982,
    "start_time": "2023-09-01T09:16:50.004Z"
   },
   {
    "duration": 11,
    "start_time": "2023-09-01T09:16:53.988Z"
   },
   {
    "duration": 17,
    "start_time": "2023-09-01T09:16:54.001Z"
   },
   {
    "duration": 92,
    "start_time": "2023-09-01T09:16:54.020Z"
   },
   {
    "duration": 391,
    "start_time": "2023-09-01T09:16:54.114Z"
   },
   {
    "duration": 11,
    "start_time": "2023-09-01T09:16:54.506Z"
   },
   {
    "duration": 17,
    "start_time": "2023-09-01T09:16:54.519Z"
   },
   {
    "duration": 890,
    "start_time": "2023-09-01T09:16:54.538Z"
   },
   {
    "duration": 5,
    "start_time": "2023-09-01T09:16:55.430Z"
   },
   {
    "duration": 31,
    "start_time": "2023-09-01T09:16:55.437Z"
   },
   {
    "duration": 555,
    "start_time": "2023-09-01T09:16:55.470Z"
   },
   {
    "duration": 304,
    "start_time": "2023-09-01T09:16:56.027Z"
   },
   {
    "duration": 413,
    "start_time": "2023-09-01T09:16:56.333Z"
   },
   {
    "duration": 8,
    "start_time": "2023-09-01T09:16:56.748Z"
   },
   {
    "duration": 8949,
    "start_time": "2023-09-01T09:16:56.757Z"
   },
   {
    "duration": 58,
    "start_time": "2023-09-01T09:17:05.710Z"
   },
   {
    "duration": 785,
    "start_time": "2023-09-01T09:17:05.770Z"
   },
   {
    "duration": 11,
    "start_time": "2023-09-01T09:17:06.556Z"
   },
   {
    "duration": 18,
    "start_time": "2023-09-01T09:17:06.568Z"
   },
   {
    "duration": 14,
    "start_time": "2023-09-01T09:17:06.587Z"
   },
   {
    "duration": 199,
    "start_time": "2023-09-01T09:17:06.602Z"
   },
   {
    "duration": 6,
    "start_time": "2023-09-01T09:17:06.803Z"
   },
   {
    "duration": 187,
    "start_time": "2023-09-01T09:17:06.811Z"
   },
   {
    "duration": 328,
    "start_time": "2023-09-01T09:17:07.000Z"
   },
   {
    "duration": 18,
    "start_time": "2023-09-01T09:17:07.330Z"
   },
   {
    "duration": 32,
    "start_time": "2023-09-01T09:20:54.154Z"
   },
   {
    "duration": 11,
    "start_time": "2023-09-01T09:45:23.592Z"
   },
   {
    "duration": 15,
    "start_time": "2023-09-01T09:46:18.479Z"
   },
   {
    "duration": 8,
    "start_time": "2023-09-01T09:47:40.960Z"
   },
   {
    "duration": 10,
    "start_time": "2023-09-01T09:47:49.880Z"
   },
   {
    "duration": 9,
    "start_time": "2023-09-01T09:48:14.014Z"
   },
   {
    "duration": 10,
    "start_time": "2023-09-01T09:48:26.384Z"
   },
   {
    "duration": 14,
    "start_time": "2023-09-01T09:54:36.774Z"
   },
   {
    "duration": 10,
    "start_time": "2023-09-01T09:57:26.974Z"
   },
   {
    "duration": 16,
    "start_time": "2023-09-01T09:58:23.004Z"
   },
   {
    "duration": 17,
    "start_time": "2023-09-01T09:58:42.718Z"
   },
   {
    "duration": 12,
    "start_time": "2023-09-01T09:58:49.273Z"
   },
   {
    "duration": 12,
    "start_time": "2023-09-01T09:59:43.004Z"
   },
   {
    "duration": 9120,
    "start_time": "2023-09-01T10:00:33.775Z"
   },
   {
    "duration": 9020,
    "start_time": "2023-09-01T10:01:24.520Z"
   },
   {
    "duration": 11182,
    "start_time": "2023-09-01T10:03:24.585Z"
   },
   {
    "duration": 8961,
    "start_time": "2023-09-01T10:05:16.685Z"
   },
   {
    "duration": 4,
    "start_time": "2023-09-01T10:12:31.383Z"
   },
   {
    "duration": 3,
    "start_time": "2023-09-01T10:13:45.723Z"
   },
   {
    "duration": 41,
    "start_time": "2023-09-01T10:14:18.151Z"
   },
   {
    "duration": 41,
    "start_time": "2023-09-01T10:15:30.483Z"
   },
   {
    "duration": 42,
    "start_time": "2023-09-01T10:17:00.739Z"
   },
   {
    "duration": 18,
    "start_time": "2023-09-01T10:17:13.800Z"
   },
   {
    "duration": 154,
    "start_time": "2023-09-01T10:21:21.028Z"
   },
   {
    "duration": 157,
    "start_time": "2023-09-01T10:21:51.446Z"
   },
   {
    "duration": 164,
    "start_time": "2023-09-01T10:21:56.921Z"
   },
   {
    "duration": 177,
    "start_time": "2023-09-01T10:23:28.658Z"
   },
   {
    "duration": 173,
    "start_time": "2023-09-01T10:23:38.189Z"
   },
   {
    "duration": 5,
    "start_time": "2023-09-01T10:24:42.224Z"
   },
   {
    "duration": 18,
    "start_time": "2023-09-01T10:28:19.256Z"
   },
   {
    "duration": 190,
    "start_time": "2023-09-01T10:28:47.402Z"
   },
   {
    "duration": 13,
    "start_time": "2023-09-01T11:31:03.486Z"
   },
   {
    "duration": 7,
    "start_time": "2023-09-01T11:31:30.519Z"
   },
   {
    "duration": 18,
    "start_time": "2023-09-01T11:31:43.139Z"
   },
   {
    "duration": 8,
    "start_time": "2023-09-01T11:42:51.624Z"
   },
   {
    "duration": 16,
    "start_time": "2023-09-01T11:49:00.849Z"
   },
   {
    "duration": 17490,
    "start_time": "2023-09-01T11:49:08.604Z"
   },
   {
    "duration": 6,
    "start_time": "2023-09-01T11:50:26.026Z"
   },
   {
    "duration": 8,
    "start_time": "2023-09-01T11:50:31.599Z"
   },
   {
    "duration": 324,
    "start_time": "2023-09-01T11:50:55.827Z"
   },
   {
    "duration": 84,
    "start_time": "2023-09-01T11:52:46.429Z"
   },
   {
    "duration": 7,
    "start_time": "2023-09-01T11:55:21.536Z"
   },
   {
    "duration": 13,
    "start_time": "2023-09-01T11:55:58.632Z"
   },
   {
    "duration": 12,
    "start_time": "2023-09-01T11:56:15.928Z"
   },
   {
    "duration": 9,
    "start_time": "2023-09-01T11:57:08.184Z"
   },
   {
    "duration": 9,
    "start_time": "2023-09-01T11:57:39.179Z"
   },
   {
    "duration": 7,
    "start_time": "2023-09-01T12:09:40.307Z"
   },
   {
    "duration": 15,
    "start_time": "2023-09-01T12:09:55.086Z"
   },
   {
    "duration": 7,
    "start_time": "2023-09-01T12:10:04.076Z"
   },
   {
    "duration": 6,
    "start_time": "2023-09-01T12:11:25.805Z"
   },
   {
    "duration": 6,
    "start_time": "2023-09-01T12:12:32.175Z"
   },
   {
    "duration": 8,
    "start_time": "2023-09-01T12:12:34.652Z"
   },
   {
    "duration": 311,
    "start_time": "2023-09-01T12:19:12.461Z"
   },
   {
    "duration": 135,
    "start_time": "2023-09-01T12:19:39.336Z"
   },
   {
    "duration": 7,
    "start_time": "2023-09-01T12:20:35.889Z"
   },
   {
    "duration": 4,
    "start_time": "2023-09-01T12:22:16.051Z"
   },
   {
    "duration": 15,
    "start_time": "2023-09-01T12:22:30.152Z"
   },
   {
    "duration": 4,
    "start_time": "2023-09-01T12:22:41.263Z"
   },
   {
    "duration": 84,
    "start_time": "2023-09-01T12:22:41.274Z"
   },
   {
    "duration": 13,
    "start_time": "2023-09-01T12:22:41.360Z"
   },
   {
    "duration": 33,
    "start_time": "2023-09-01T12:22:41.374Z"
   },
   {
    "duration": 16,
    "start_time": "2023-09-01T12:22:41.409Z"
   },
   {
    "duration": 24,
    "start_time": "2023-09-01T12:22:41.426Z"
   },
   {
    "duration": 38,
    "start_time": "2023-09-01T12:22:41.466Z"
   },
   {
    "duration": 35,
    "start_time": "2023-09-01T12:22:41.506Z"
   },
   {
    "duration": 281,
    "start_time": "2023-09-01T12:22:41.543Z"
   },
   {
    "duration": 317,
    "start_time": "2023-09-01T12:22:41.828Z"
   },
   {
    "duration": 44,
    "start_time": "2023-09-01T12:22:42.147Z"
   },
   {
    "duration": 325,
    "start_time": "2023-09-01T12:22:42.193Z"
   },
   {
    "duration": 48,
    "start_time": "2023-09-01T12:22:42.519Z"
   },
   {
    "duration": 286,
    "start_time": "2023-09-01T12:22:42.569Z"
   },
   {
    "duration": 335,
    "start_time": "2023-09-01T12:22:42.856Z"
   },
   {
    "duration": 24,
    "start_time": "2023-09-01T12:22:43.193Z"
   },
   {
    "duration": 16,
    "start_time": "2023-09-01T12:22:43.219Z"
   },
   {
    "duration": 10,
    "start_time": "2023-09-01T12:22:43.237Z"
   },
   {
    "duration": 36,
    "start_time": "2023-09-01T12:22:43.268Z"
   },
   {
    "duration": 4,
    "start_time": "2023-09-01T12:22:43.307Z"
   },
   {
    "duration": 206,
    "start_time": "2023-09-01T12:22:43.313Z"
   },
   {
    "duration": 215,
    "start_time": "2023-09-01T12:22:43.521Z"
   },
   {
    "duration": 865,
    "start_time": "2023-09-01T12:22:43.737Z"
   },
   {
    "duration": 219,
    "start_time": "2023-09-01T12:22:44.606Z"
   },
   {
    "duration": 211,
    "start_time": "2023-09-01T12:22:44.827Z"
   },
   {
    "duration": 2643,
    "start_time": "2023-09-01T12:22:45.040Z"
   },
   {
    "duration": 12,
    "start_time": "2023-09-01T12:22:47.685Z"
   },
   {
    "duration": 15,
    "start_time": "2023-09-01T12:22:47.699Z"
   },
   {
    "duration": 92,
    "start_time": "2023-09-01T12:22:47.715Z"
   },
   {
    "duration": 562,
    "start_time": "2023-09-01T12:22:47.808Z"
   },
   {
    "duration": 11,
    "start_time": "2023-09-01T12:22:48.372Z"
   },
   {
    "duration": 68,
    "start_time": "2023-09-01T12:22:48.385Z"
   },
   {
    "duration": 904,
    "start_time": "2023-09-01T12:22:48.455Z"
   },
   {
    "duration": 4,
    "start_time": "2023-09-01T12:22:49.367Z"
   },
   {
    "duration": 38,
    "start_time": "2023-09-01T12:22:49.373Z"
   },
   {
    "duration": 522,
    "start_time": "2023-09-01T12:22:49.412Z"
   },
   {
    "duration": 300,
    "start_time": "2023-09-01T12:22:49.935Z"
   },
   {
    "duration": 449,
    "start_time": "2023-09-01T12:22:50.237Z"
   },
   {
    "duration": 10,
    "start_time": "2023-09-01T12:22:50.688Z"
   },
   {
    "duration": 9720,
    "start_time": "2023-09-01T12:22:50.700Z"
   },
   {
    "duration": 50,
    "start_time": "2023-09-01T12:23:00.422Z"
   },
   {
    "duration": 796,
    "start_time": "2023-09-01T12:23:00.474Z"
   },
   {
    "duration": 8,
    "start_time": "2023-09-01T12:23:01.273Z"
   },
   {
    "duration": 58,
    "start_time": "2023-09-01T12:23:01.282Z"
   },
   {
    "duration": 36,
    "start_time": "2023-09-01T12:23:01.342Z"
   },
   {
    "duration": 236,
    "start_time": "2023-09-01T12:23:01.380Z"
   },
   {
    "duration": 6,
    "start_time": "2023-09-01T12:23:01.617Z"
   },
   {
    "duration": 238,
    "start_time": "2023-09-01T12:23:01.625Z"
   },
   {
    "duration": 327,
    "start_time": "2023-09-01T12:23:01.867Z"
   },
   {
    "duration": 17,
    "start_time": "2023-09-01T12:23:02.196Z"
   },
   {
    "duration": 41,
    "start_time": "2023-09-01T12:23:02.215Z"
   },
   {
    "duration": 9279,
    "start_time": "2023-09-01T12:23:02.258Z"
   },
   {
    "duration": 130,
    "start_time": "2023-09-01T12:23:11.540Z"
   },
   {
    "duration": 18,
    "start_time": "2023-09-01T12:23:11.672Z"
   },
   {
    "duration": 281,
    "start_time": "2023-09-01T12:23:11.692Z"
   },
   {
    "duration": 5,
    "start_time": "2023-09-01T12:23:11.975Z"
   },
   {
    "duration": 23,
    "start_time": "2023-09-01T12:23:11.981Z"
   },
   {
    "duration": 380,
    "start_time": "2023-09-01T12:23:12.006Z"
   },
   {
    "duration": 8,
    "start_time": "2023-09-01T12:23:12.388Z"
   },
   {
    "duration": 14,
    "start_time": "2023-09-01T12:23:12.397Z"
   },
   {
    "duration": 31,
    "start_time": "2023-09-01T12:23:12.412Z"
   },
   {
    "duration": 15,
    "start_time": "2023-09-01T12:23:12.445Z"
   },
   {
    "duration": 7,
    "start_time": "2023-09-01T12:24:28.840Z"
   },
   {
    "duration": 7,
    "start_time": "2023-09-01T12:25:14.692Z"
   },
   {
    "duration": 110,
    "start_time": "2023-09-01T12:25:51.093Z"
   },
   {
    "duration": 15,
    "start_time": "2023-09-01T12:26:40.538Z"
   },
   {
    "duration": 8,
    "start_time": "2023-09-01T12:26:49.979Z"
   },
   {
    "duration": 8,
    "start_time": "2023-09-01T12:27:47.800Z"
   },
   {
    "duration": 8,
    "start_time": "2023-09-01T12:27:53.337Z"
   },
   {
    "duration": 8,
    "start_time": "2023-09-01T12:29:17.388Z"
   },
   {
    "duration": 7,
    "start_time": "2023-09-01T12:29:38.774Z"
   },
   {
    "duration": 5,
    "start_time": "2023-09-01T12:31:11.549Z"
   },
   {
    "duration": 6,
    "start_time": "2023-09-01T12:31:34.359Z"
   },
   {
    "duration": 6,
    "start_time": "2023-09-01T12:31:49.761Z"
   },
   {
    "duration": 8,
    "start_time": "2023-09-01T12:36:29.137Z"
   },
   {
    "duration": 21767,
    "start_time": "2023-09-01T12:37:02.113Z"
   },
   {
    "duration": 8958,
    "start_time": "2023-09-01T12:39:21.989Z"
   },
   {
    "duration": 9340,
    "start_time": "2023-09-01T13:04:53.479Z"
   },
   {
    "duration": 9049,
    "start_time": "2023-09-01T13:06:30.595Z"
   },
   {
    "duration": 9031,
    "start_time": "2023-09-01T13:09:30.221Z"
   },
   {
    "duration": 220,
    "start_time": "2023-09-01T13:18:53.808Z"
   },
   {
    "duration": 193,
    "start_time": "2023-09-01T13:19:54.716Z"
   },
   {
    "duration": 197,
    "start_time": "2023-09-01T13:20:38.182Z"
   },
   {
    "duration": 209,
    "start_time": "2023-09-01T13:20:52.575Z"
   },
   {
    "duration": 224,
    "start_time": "2023-09-01T13:22:29.456Z"
   },
   {
    "duration": 214,
    "start_time": "2023-09-01T13:22:29.945Z"
   },
   {
    "duration": 214,
    "start_time": "2023-09-01T13:22:54.509Z"
   },
   {
    "duration": 229,
    "start_time": "2023-09-01T13:23:51.904Z"
   },
   {
    "duration": 218,
    "start_time": "2023-09-01T13:24:10.306Z"
   },
   {
    "duration": 396,
    "start_time": "2023-09-01T13:44:27.830Z"
   },
   {
    "duration": 131,
    "start_time": "2023-09-01T13:49:42.019Z"
   },
   {
    "duration": 404,
    "start_time": "2023-09-01T13:50:52.959Z"
   },
   {
    "duration": 437,
    "start_time": "2023-09-01T13:52:28.374Z"
   },
   {
    "duration": 442,
    "start_time": "2023-09-01T13:53:40.151Z"
   },
   {
    "duration": 26,
    "start_time": "2023-09-01T13:54:02.022Z"
   },
   {
    "duration": 283,
    "start_time": "2023-09-01T13:54:40.015Z"
   },
   {
    "duration": 3783,
    "start_time": "2023-09-01T13:54:55.561Z"
   },
   {
    "duration": 515,
    "start_time": "2023-09-01T13:55:10.319Z"
   },
   {
    "duration": 694,
    "start_time": "2023-09-01T13:55:41.699Z"
   },
   {
    "duration": 747,
    "start_time": "2023-09-01T13:56:25.610Z"
   },
   {
    "duration": 692,
    "start_time": "2023-09-01T13:58:03.829Z"
   },
   {
    "duration": 674,
    "start_time": "2023-09-01T13:58:25.530Z"
   },
   {
    "duration": 631,
    "start_time": "2023-09-01T13:58:45.918Z"
   },
   {
    "duration": 711,
    "start_time": "2023-09-01T13:59:53.559Z"
   },
   {
    "duration": 98,
    "start_time": "2023-09-01T14:00:55.220Z"
   },
   {
    "duration": 333,
    "start_time": "2023-09-01T14:01:00.424Z"
   },
   {
    "duration": 6,
    "start_time": "2023-09-01T14:02:02.829Z"
   },
   {
    "duration": 690,
    "start_time": "2023-09-01T14:02:30.429Z"
   },
   {
    "duration": 644,
    "start_time": "2023-09-01T14:03:54.378Z"
   },
   {
    "duration": 170,
    "start_time": "2023-09-01T14:15:15.902Z"
   },
   {
    "duration": 190,
    "start_time": "2023-09-01T14:16:11.161Z"
   },
   {
    "duration": 1444,
    "start_time": "2023-09-01T14:17:47.941Z"
   },
   {
    "duration": 11073,
    "start_time": "2023-09-01T14:19:21.048Z"
   },
   {
    "duration": 216,
    "start_time": "2023-09-01T14:19:45.582Z"
   },
   {
    "duration": 8079,
    "start_time": "2023-09-01T14:20:35.817Z"
   },
   {
    "duration": 4,
    "start_time": "2023-09-01T18:16:10.380Z"
   },
   {
    "duration": 253,
    "start_time": "2023-09-01T18:16:10.387Z"
   },
   {
    "duration": 16,
    "start_time": "2023-09-01T18:16:10.642Z"
   },
   {
    "duration": 37,
    "start_time": "2023-09-01T18:16:10.660Z"
   },
   {
    "duration": 17,
    "start_time": "2023-09-01T18:16:10.699Z"
   },
   {
    "duration": 18,
    "start_time": "2023-09-01T18:16:10.718Z"
   },
   {
    "duration": 35,
    "start_time": "2023-09-01T18:16:10.738Z"
   },
   {
    "duration": 30,
    "start_time": "2023-09-01T18:16:10.775Z"
   },
   {
    "duration": 277,
    "start_time": "2023-09-01T18:16:10.807Z"
   },
   {
    "duration": 263,
    "start_time": "2023-09-01T18:16:11.085Z"
   },
   {
    "duration": 40,
    "start_time": "2023-09-01T18:16:11.350Z"
   },
   {
    "duration": 278,
    "start_time": "2023-09-01T18:16:11.392Z"
   },
   {
    "duration": 34,
    "start_time": "2023-09-01T18:16:11.672Z"
   },
   {
    "duration": 286,
    "start_time": "2023-09-01T18:16:11.708Z"
   },
   {
    "duration": 359,
    "start_time": "2023-09-01T18:16:11.996Z"
   },
   {
    "duration": 29,
    "start_time": "2023-09-01T18:16:12.357Z"
   },
   {
    "duration": 40,
    "start_time": "2023-09-01T18:16:12.388Z"
   },
   {
    "duration": 8,
    "start_time": "2023-09-01T18:16:12.430Z"
   },
   {
    "duration": 37,
    "start_time": "2023-09-01T18:16:12.439Z"
   },
   {
    "duration": 5,
    "start_time": "2023-09-01T18:16:12.478Z"
   },
   {
    "duration": 186,
    "start_time": "2023-09-01T18:16:12.484Z"
   },
   {
    "duration": 214,
    "start_time": "2023-09-01T18:16:12.672Z"
   },
   {
    "duration": 642,
    "start_time": "2023-09-01T18:16:12.888Z"
   },
   {
    "duration": 206,
    "start_time": "2023-09-01T18:16:13.532Z"
   },
   {
    "duration": 222,
    "start_time": "2023-09-01T18:16:13.740Z"
   },
   {
    "duration": 1899,
    "start_time": "2023-09-01T18:16:13.968Z"
   },
   {
    "duration": 11,
    "start_time": "2023-09-01T18:16:15.869Z"
   },
   {
    "duration": 23,
    "start_time": "2023-09-01T18:16:15.881Z"
   },
   {
    "duration": 144,
    "start_time": "2023-09-01T18:16:15.909Z"
   },
   {
    "duration": 0,
    "start_time": "2023-09-01T18:16:16.055Z"
   },
   {
    "duration": 0,
    "start_time": "2023-09-01T18:16:16.056Z"
   },
   {
    "duration": 0,
    "start_time": "2023-09-01T18:16:16.067Z"
   },
   {
    "duration": 0,
    "start_time": "2023-09-01T18:16:16.069Z"
   },
   {
    "duration": 0,
    "start_time": "2023-09-01T18:16:16.070Z"
   },
   {
    "duration": 0,
    "start_time": "2023-09-01T18:16:16.071Z"
   },
   {
    "duration": 0,
    "start_time": "2023-09-01T18:16:16.073Z"
   },
   {
    "duration": 0,
    "start_time": "2023-09-01T18:16:16.074Z"
   },
   {
    "duration": 0,
    "start_time": "2023-09-01T18:16:16.077Z"
   },
   {
    "duration": 0,
    "start_time": "2023-09-01T18:16:16.078Z"
   },
   {
    "duration": 0,
    "start_time": "2023-09-01T18:16:16.079Z"
   },
   {
    "duration": 0,
    "start_time": "2023-09-01T18:16:16.081Z"
   },
   {
    "duration": 0,
    "start_time": "2023-09-01T18:16:16.082Z"
   },
   {
    "duration": 0,
    "start_time": "2023-09-01T18:16:16.084Z"
   },
   {
    "duration": 0,
    "start_time": "2023-09-01T18:16:16.085Z"
   },
   {
    "duration": 0,
    "start_time": "2023-09-01T18:16:16.087Z"
   },
   {
    "duration": 0,
    "start_time": "2023-09-01T18:16:16.089Z"
   },
   {
    "duration": 0,
    "start_time": "2023-09-01T18:16:16.090Z"
   },
   {
    "duration": 0,
    "start_time": "2023-09-01T18:16:16.092Z"
   },
   {
    "duration": 0,
    "start_time": "2023-09-01T18:16:16.093Z"
   },
   {
    "duration": 0,
    "start_time": "2023-09-01T18:16:16.095Z"
   },
   {
    "duration": 0,
    "start_time": "2023-09-01T18:16:16.096Z"
   },
   {
    "duration": 0,
    "start_time": "2023-09-01T18:16:16.098Z"
   },
   {
    "duration": 0,
    "start_time": "2023-09-01T18:16:16.099Z"
   },
   {
    "duration": 0,
    "start_time": "2023-09-01T18:16:16.100Z"
   },
   {
    "duration": 0,
    "start_time": "2023-09-01T18:16:16.102Z"
   },
   {
    "duration": 0,
    "start_time": "2023-09-01T18:16:16.103Z"
   },
   {
    "duration": 0,
    "start_time": "2023-09-01T18:16:16.105Z"
   },
   {
    "duration": 0,
    "start_time": "2023-09-01T18:16:16.106Z"
   },
   {
    "duration": 0,
    "start_time": "2023-09-01T18:16:16.108Z"
   },
   {
    "duration": 1,
    "start_time": "2023-09-01T18:16:16.167Z"
   },
   {
    "duration": 0,
    "start_time": "2023-09-01T18:16:16.169Z"
   },
   {
    "duration": 0,
    "start_time": "2023-09-01T18:16:16.171Z"
   },
   {
    "duration": 0,
    "start_time": "2023-09-01T18:16:16.172Z"
   },
   {
    "duration": 0,
    "start_time": "2023-09-01T18:16:16.174Z"
   },
   {
    "duration": 0,
    "start_time": "2023-09-01T18:16:16.175Z"
   },
   {
    "duration": 0,
    "start_time": "2023-09-01T18:16:16.177Z"
   },
   {
    "duration": 0,
    "start_time": "2023-09-01T18:16:16.178Z"
   },
   {
    "duration": 0,
    "start_time": "2023-09-01T18:16:16.179Z"
   },
   {
    "duration": 0,
    "start_time": "2023-09-01T18:16:16.181Z"
   },
   {
    "duration": 0,
    "start_time": "2023-09-01T18:16:16.182Z"
   },
   {
    "duration": 87,
    "start_time": "2023-09-01T18:16:36.058Z"
   },
   {
    "duration": 5,
    "start_time": "2023-09-01T18:20:48.988Z"
   },
   {
    "duration": 83,
    "start_time": "2023-09-01T18:20:48.996Z"
   },
   {
    "duration": 21,
    "start_time": "2023-09-01T18:20:49.082Z"
   },
   {
    "duration": 32,
    "start_time": "2023-09-01T18:20:49.106Z"
   },
   {
    "duration": 20,
    "start_time": "2023-09-01T18:20:49.166Z"
   },
   {
    "duration": 15,
    "start_time": "2023-09-01T18:20:49.188Z"
   },
   {
    "duration": 33,
    "start_time": "2023-09-01T18:20:49.205Z"
   },
   {
    "duration": 54,
    "start_time": "2023-09-01T18:20:49.240Z"
   },
   {
    "duration": 262,
    "start_time": "2023-09-01T18:20:49.296Z"
   },
   {
    "duration": 260,
    "start_time": "2023-09-01T18:20:49.566Z"
   },
   {
    "duration": 48,
    "start_time": "2023-09-01T18:20:49.828Z"
   },
   {
    "duration": 307,
    "start_time": "2023-09-01T18:20:49.878Z"
   },
   {
    "duration": 33,
    "start_time": "2023-09-01T18:20:50.186Z"
   },
   {
    "duration": 277,
    "start_time": "2023-09-01T18:20:50.221Z"
   },
   {
    "duration": 347,
    "start_time": "2023-09-01T18:20:50.501Z"
   },
   {
    "duration": 34,
    "start_time": "2023-09-01T18:20:50.850Z"
   },
   {
    "duration": 19,
    "start_time": "2023-09-01T18:20:50.886Z"
   },
   {
    "duration": 9,
    "start_time": "2023-09-01T18:20:50.906Z"
   },
   {
    "duration": 36,
    "start_time": "2023-09-01T18:20:50.916Z"
   },
   {
    "duration": 6,
    "start_time": "2023-09-01T18:20:50.969Z"
   },
   {
    "duration": 186,
    "start_time": "2023-09-01T18:20:50.977Z"
   },
   {
    "duration": 217,
    "start_time": "2023-09-01T18:20:51.165Z"
   },
   {
    "duration": 685,
    "start_time": "2023-09-01T18:20:51.384Z"
   },
   {
    "duration": 212,
    "start_time": "2023-09-01T18:20:52.071Z"
   },
   {
    "duration": 212,
    "start_time": "2023-09-01T18:20:52.285Z"
   },
   {
    "duration": 1949,
    "start_time": "2023-09-01T18:20:52.499Z"
   },
   {
    "duration": 19,
    "start_time": "2023-09-01T18:20:54.450Z"
   },
   {
    "duration": 25,
    "start_time": "2023-09-01T18:20:54.470Z"
   },
   {
    "duration": 103,
    "start_time": "2023-09-01T18:20:54.497Z"
   },
   {
    "duration": 436,
    "start_time": "2023-09-01T18:20:54.602Z"
   },
   {
    "duration": 11,
    "start_time": "2023-09-01T18:20:55.040Z"
   },
   {
    "duration": 23,
    "start_time": "2023-09-01T18:20:55.052Z"
   },
   {
    "duration": 889,
    "start_time": "2023-09-01T18:20:55.077Z"
   },
   {
    "duration": 5,
    "start_time": "2023-09-01T18:20:55.968Z"
   },
   {
    "duration": 27,
    "start_time": "2023-09-01T18:20:55.974Z"
   },
   {
    "duration": 568,
    "start_time": "2023-09-01T18:20:56.002Z"
   },
   {
    "duration": 290,
    "start_time": "2023-09-01T18:20:56.571Z"
   },
   {
    "duration": 441,
    "start_time": "2023-09-01T18:20:56.867Z"
   },
   {
    "duration": 8,
    "start_time": "2023-09-01T18:20:57.309Z"
   },
   {
    "duration": 1533,
    "start_time": "2023-09-01T18:22:27.380Z"
   },
   {
    "duration": 241,
    "start_time": "2023-09-01T18:22:28.916Z"
   },
   {
    "duration": 16,
    "start_time": "2023-09-01T18:22:29.159Z"
   },
   {
    "duration": 38,
    "start_time": "2023-09-01T18:22:29.177Z"
   },
   {
    "duration": 16,
    "start_time": "2023-09-01T18:22:29.218Z"
   },
   {
    "duration": 40,
    "start_time": "2023-09-01T18:22:29.237Z"
   },
   {
    "duration": 23,
    "start_time": "2023-09-01T18:22:29.279Z"
   },
   {
    "duration": 45,
    "start_time": "2023-09-01T18:22:29.303Z"
   },
   {
    "duration": 272,
    "start_time": "2023-09-01T18:22:29.350Z"
   },
   {
    "duration": 252,
    "start_time": "2023-09-01T18:22:29.624Z"
   },
   {
    "duration": 31,
    "start_time": "2023-09-01T18:22:29.878Z"
   },
   {
    "duration": 382,
    "start_time": "2023-09-01T18:22:29.911Z"
   },
   {
    "duration": 33,
    "start_time": "2023-09-01T18:22:30.295Z"
   },
   {
    "duration": 291,
    "start_time": "2023-09-01T18:22:30.332Z"
   },
   {
    "duration": 347,
    "start_time": "2023-09-01T18:22:30.625Z"
   },
   {
    "duration": 22,
    "start_time": "2023-09-01T18:22:30.973Z"
   },
   {
    "duration": 82,
    "start_time": "2023-09-01T18:22:30.997Z"
   },
   {
    "duration": 35,
    "start_time": "2023-09-01T18:22:31.081Z"
   },
   {
    "duration": 76,
    "start_time": "2023-09-01T18:22:31.118Z"
   },
   {
    "duration": 61,
    "start_time": "2023-09-01T18:22:31.196Z"
   },
   {
    "duration": 207,
    "start_time": "2023-09-01T18:22:31.259Z"
   },
   {
    "duration": 222,
    "start_time": "2023-09-01T18:22:31.468Z"
   },
   {
    "duration": 681,
    "start_time": "2023-09-01T18:22:31.691Z"
   },
   {
    "duration": 209,
    "start_time": "2023-09-01T18:22:32.374Z"
   },
   {
    "duration": 209,
    "start_time": "2023-09-01T18:22:32.585Z"
   },
   {
    "duration": 2085,
    "start_time": "2023-09-01T18:22:32.797Z"
   },
   {
    "duration": 12,
    "start_time": "2023-09-01T18:22:34.884Z"
   },
   {
    "duration": 22,
    "start_time": "2023-09-01T18:22:34.898Z"
   },
   {
    "duration": 101,
    "start_time": "2023-09-01T18:22:34.922Z"
   },
   {
    "duration": 413,
    "start_time": "2023-09-01T18:22:35.025Z"
   },
   {
    "duration": 9,
    "start_time": "2023-09-01T18:22:35.440Z"
   },
   {
    "duration": 31,
    "start_time": "2023-09-01T18:22:35.451Z"
   },
   {
    "duration": 1050,
    "start_time": "2023-09-01T18:22:35.484Z"
   },
   {
    "duration": 5,
    "start_time": "2023-09-01T18:22:36.536Z"
   },
   {
    "duration": 38,
    "start_time": "2023-09-01T18:22:36.543Z"
   },
   {
    "duration": 557,
    "start_time": "2023-09-01T18:22:36.584Z"
   },
   {
    "duration": 293,
    "start_time": "2023-09-01T18:22:37.143Z"
   },
   {
    "duration": 455,
    "start_time": "2023-09-01T18:22:37.438Z"
   },
   {
    "duration": 8,
    "start_time": "2023-09-01T18:22:37.895Z"
   },
   {
    "duration": 9841,
    "start_time": "2023-09-01T18:22:37.905Z"
   },
   {
    "duration": 16,
    "start_time": "2023-09-01T18:22:47.769Z"
   },
   {
    "duration": 888,
    "start_time": "2023-09-01T18:22:47.787Z"
   },
   {
    "duration": 8,
    "start_time": "2023-09-01T18:22:48.677Z"
   },
   {
    "duration": 21,
    "start_time": "2023-09-01T18:22:48.688Z"
   },
   {
    "duration": 10,
    "start_time": "2023-09-01T18:22:48.712Z"
   },
   {
    "duration": 253,
    "start_time": "2023-09-01T18:22:48.723Z"
   },
   {
    "duration": 7,
    "start_time": "2023-09-01T18:22:48.978Z"
   },
   {
    "duration": 213,
    "start_time": "2023-09-01T18:22:48.987Z"
   },
   {
    "duration": 348,
    "start_time": "2023-09-01T18:22:49.202Z"
   },
   {
    "duration": 23,
    "start_time": "2023-09-01T18:22:49.553Z"
   },
   {
    "duration": 11,
    "start_time": "2023-09-01T18:22:49.578Z"
   },
   {
    "duration": 9489,
    "start_time": "2023-09-01T18:22:49.591Z"
   },
   {
    "duration": 89,
    "start_time": "2023-09-01T18:22:59.081Z"
   },
   {
    "duration": 17,
    "start_time": "2023-09-01T18:22:59.171Z"
   },
   {
    "duration": 267,
    "start_time": "2023-09-01T18:22:59.190Z"
   },
   {
    "duration": 10,
    "start_time": "2023-09-01T18:22:59.459Z"
   },
   {
    "duration": 23,
    "start_time": "2023-09-01T18:22:59.470Z"
   },
   {
    "duration": 690,
    "start_time": "2023-09-01T18:22:59.495Z"
   },
   {
    "duration": 9,
    "start_time": "2023-09-01T18:23:00.187Z"
   },
   {
    "duration": 54,
    "start_time": "2023-09-01T18:23:00.198Z"
   },
   {
    "duration": 62,
    "start_time": "2023-09-01T18:23:00.254Z"
   },
   {
    "duration": 57,
    "start_time": "2023-09-01T18:23:00.318Z"
   },
   {
    "duration": 67,
    "start_time": "2023-09-01T18:23:00.377Z"
   },
   {
    "duration": 39,
    "start_time": "2023-09-01T18:23:00.446Z"
   },
   {
    "duration": 95,
    "start_time": "2023-09-01T18:23:00.487Z"
   },
   {
    "duration": 9244,
    "start_time": "2023-09-01T18:23:00.585Z"
   },
   {
    "duration": 354,
    "start_time": "2023-09-01T18:23:09.832Z"
   },
   {
    "duration": 204,
    "start_time": "2023-09-01T18:23:10.188Z"
   },
   {
    "duration": 193,
    "start_time": "2023-09-01T18:23:10.394Z"
   },
   {
    "duration": 596,
    "start_time": "2023-09-01T18:23:10.589Z"
   },
   {
    "duration": 931,
    "start_time": "2023-09-01T18:24:43.720Z"
   },
   {
    "duration": 917,
    "start_time": "2023-09-01T18:24:59.587Z"
   },
   {
    "duration": 444,
    "start_time": "2023-09-01T18:32:38.195Z"
   },
   {
    "duration": 480,
    "start_time": "2023-09-01T18:34:16.657Z"
   },
   {
    "duration": 455,
    "start_time": "2023-09-01T18:36:07.983Z"
   },
   {
    "duration": 354,
    "start_time": "2023-09-01T18:37:09.523Z"
   },
   {
    "duration": 508,
    "start_time": "2023-09-01T18:38:30.037Z"
   },
   {
    "duration": 444,
    "start_time": "2023-09-01T18:39:42.708Z"
   },
   {
    "duration": 482,
    "start_time": "2023-09-01T18:40:23.579Z"
   },
   {
    "duration": 486,
    "start_time": "2023-09-01T18:40:34.152Z"
   },
   {
    "duration": 484,
    "start_time": "2023-09-01T18:40:48.666Z"
   },
   {
    "duration": 930,
    "start_time": "2023-09-01T18:41:24.343Z"
   },
   {
    "duration": 477,
    "start_time": "2023-09-01T18:41:35.845Z"
   },
   {
    "duration": 453,
    "start_time": "2023-09-01T18:42:54.369Z"
   },
   {
    "duration": 446,
    "start_time": "2023-09-01T18:43:29.279Z"
   },
   {
    "duration": 485,
    "start_time": "2023-09-01T18:43:39.859Z"
   },
   {
    "duration": 488,
    "start_time": "2023-09-01T18:43:48.375Z"
   },
   {
    "duration": 459,
    "start_time": "2023-09-01T18:43:54.886Z"
   },
   {
    "duration": 472,
    "start_time": "2023-09-01T18:44:00.981Z"
   },
   {
    "duration": 442,
    "start_time": "2023-09-01T18:44:21.497Z"
   },
   {
    "duration": 324,
    "start_time": "2023-09-01T18:46:15.008Z"
   },
   {
    "duration": 465,
    "start_time": "2023-09-01T18:46:18.665Z"
   },
   {
    "duration": 485,
    "start_time": "2023-09-01T18:46:40.550Z"
   },
   {
    "duration": 488,
    "start_time": "2023-09-01T18:47:23.548Z"
   },
   {
    "duration": 531,
    "start_time": "2023-09-01T18:49:14.661Z"
   },
   {
    "duration": 494,
    "start_time": "2023-09-01T18:49:43.603Z"
   },
   {
    "duration": 535,
    "start_time": "2023-09-01T18:52:39.336Z"
   },
   {
    "duration": 509,
    "start_time": "2023-09-01T18:52:58.750Z"
   },
   {
    "duration": 502,
    "start_time": "2023-09-01T18:53:07.170Z"
   },
   {
    "duration": 501,
    "start_time": "2023-09-01T18:53:16.049Z"
   },
   {
    "duration": 514,
    "start_time": "2023-09-01T18:53:29.435Z"
   },
   {
    "duration": 522,
    "start_time": "2023-09-01T18:53:43.879Z"
   },
   {
    "duration": 480,
    "start_time": "2023-09-01T18:54:50.798Z"
   },
   {
    "duration": 614,
    "start_time": "2023-09-01T19:03:02.343Z"
   },
   {
    "duration": 3,
    "start_time": "2023-09-01T19:25:12.897Z"
   },
   {
    "duration": 80,
    "start_time": "2023-09-01T19:25:12.903Z"
   },
   {
    "duration": 12,
    "start_time": "2023-09-01T19:25:12.985Z"
   },
   {
    "duration": 36,
    "start_time": "2023-09-01T19:25:12.999Z"
   },
   {
    "duration": 15,
    "start_time": "2023-09-01T19:25:13.037Z"
   },
   {
    "duration": 22,
    "start_time": "2023-09-01T19:25:13.067Z"
   },
   {
    "duration": 27,
    "start_time": "2023-09-01T19:25:13.090Z"
   },
   {
    "duration": 38,
    "start_time": "2023-09-01T19:25:13.119Z"
   },
   {
    "duration": 269,
    "start_time": "2023-09-01T19:25:13.159Z"
   },
   {
    "duration": 240,
    "start_time": "2023-09-01T19:25:13.430Z"
   },
   {
    "duration": 33,
    "start_time": "2023-09-01T19:25:13.673Z"
   },
   {
    "duration": 295,
    "start_time": "2023-09-01T19:25:13.708Z"
   },
   {
    "duration": 33,
    "start_time": "2023-09-01T19:25:14.005Z"
   },
   {
    "duration": 261,
    "start_time": "2023-09-01T19:25:14.040Z"
   },
   {
    "duration": 332,
    "start_time": "2023-09-01T19:25:14.302Z"
   },
   {
    "duration": 31,
    "start_time": "2023-09-01T19:25:14.636Z"
   },
   {
    "duration": 9,
    "start_time": "2023-09-01T19:25:14.669Z"
   },
   {
    "duration": 9,
    "start_time": "2023-09-01T19:25:14.679Z"
   },
   {
    "duration": 37,
    "start_time": "2023-09-01T19:25:14.689Z"
   },
   {
    "duration": 4,
    "start_time": "2023-09-01T19:25:14.727Z"
   },
   {
    "duration": 191,
    "start_time": "2023-09-01T19:25:14.733Z"
   },
   {
    "duration": 241,
    "start_time": "2023-09-01T19:25:14.926Z"
   },
   {
    "duration": 660,
    "start_time": "2023-09-01T19:25:15.168Z"
   },
   {
    "duration": 217,
    "start_time": "2023-09-01T19:25:15.829Z"
   },
   {
    "duration": 206,
    "start_time": "2023-09-01T19:25:16.048Z"
   },
   {
    "duration": 2530,
    "start_time": "2023-09-01T19:25:16.255Z"
   },
   {
    "duration": 10,
    "start_time": "2023-09-01T19:25:18.787Z"
   },
   {
    "duration": 21,
    "start_time": "2023-09-01T19:25:18.799Z"
   },
   {
    "duration": 109,
    "start_time": "2023-09-01T19:25:18.824Z"
   },
   {
    "duration": 374,
    "start_time": "2023-09-01T19:25:18.934Z"
   },
   {
    "duration": 9,
    "start_time": "2023-09-01T19:25:19.310Z"
   },
   {
    "duration": 37,
    "start_time": "2023-09-01T19:25:19.321Z"
   },
   {
    "duration": 814,
    "start_time": "2023-09-01T19:25:19.360Z"
   },
   {
    "duration": 5,
    "start_time": "2023-09-01T19:25:20.176Z"
   },
   {
    "duration": 27,
    "start_time": "2023-09-01T19:25:20.182Z"
   },
   {
    "duration": 521,
    "start_time": "2023-09-01T19:25:20.210Z"
   },
   {
    "duration": 291,
    "start_time": "2023-09-01T19:25:20.733Z"
   },
   {
    "duration": 473,
    "start_time": "2023-09-01T19:25:21.026Z"
   },
   {
    "duration": 7,
    "start_time": "2023-09-01T19:25:21.501Z"
   },
   {
    "duration": 9257,
    "start_time": "2023-09-01T19:25:21.510Z"
   },
   {
    "duration": 17,
    "start_time": "2023-09-01T19:25:30.770Z"
   },
   {
    "duration": 764,
    "start_time": "2023-09-01T19:25:30.789Z"
   },
   {
    "duration": 18,
    "start_time": "2023-09-01T19:25:31.554Z"
   },
   {
    "duration": 75,
    "start_time": "2023-09-01T19:25:31.574Z"
   },
   {
    "duration": 38,
    "start_time": "2023-09-01T19:25:31.651Z"
   },
   {
    "duration": 197,
    "start_time": "2023-09-01T19:25:31.691Z"
   },
   {
    "duration": 7,
    "start_time": "2023-09-01T19:25:31.890Z"
   },
   {
    "duration": 199,
    "start_time": "2023-09-01T19:25:31.899Z"
   },
   {
    "duration": 352,
    "start_time": "2023-09-01T19:25:32.100Z"
   },
   {
    "duration": 22,
    "start_time": "2023-09-01T19:25:32.454Z"
   },
   {
    "duration": 18,
    "start_time": "2023-09-01T19:25:32.478Z"
   },
   {
    "duration": 9213,
    "start_time": "2023-09-01T19:25:32.498Z"
   },
   {
    "duration": 69,
    "start_time": "2023-09-01T19:25:41.713Z"
   },
   {
    "duration": 18,
    "start_time": "2023-09-01T19:25:41.784Z"
   },
   {
    "duration": 299,
    "start_time": "2023-09-01T19:25:41.804Z"
   },
   {
    "duration": 6,
    "start_time": "2023-09-01T19:25:42.105Z"
   },
   {
    "duration": 20,
    "start_time": "2023-09-01T19:25:42.113Z"
   },
   {
    "duration": 324,
    "start_time": "2023-09-01T19:25:42.135Z"
   },
   {
    "duration": 11,
    "start_time": "2023-09-01T19:25:42.461Z"
   },
   {
    "duration": 11,
    "start_time": "2023-09-01T19:25:42.474Z"
   },
   {
    "duration": 6,
    "start_time": "2023-09-01T19:25:42.487Z"
   },
   {
    "duration": 9,
    "start_time": "2023-09-01T19:25:42.494Z"
   },
   {
    "duration": 11,
    "start_time": "2023-09-01T19:25:42.504Z"
   },
   {
    "duration": 8,
    "start_time": "2023-09-01T19:25:42.517Z"
   },
   {
    "duration": 7,
    "start_time": "2023-09-01T19:25:42.526Z"
   },
   {
    "duration": 8740,
    "start_time": "2023-09-01T19:25:42.535Z"
   },
   {
    "duration": 345,
    "start_time": "2023-09-01T19:25:51.277Z"
   },
   {
    "duration": 205,
    "start_time": "2023-09-01T19:25:51.624Z"
   },
   {
    "duration": 206,
    "start_time": "2023-09-01T19:25:51.831Z"
   },
   {
    "duration": 1437,
    "start_time": "2023-09-01T19:25:52.038Z"
   },
   {
    "duration": 9,
    "start_time": "2023-09-01T19:26:31.390Z"
   },
   {
    "duration": 7,
    "start_time": "2023-09-01T19:28:19.355Z"
   },
   {
    "duration": 9,
    "start_time": "2023-09-01T19:28:38.945Z"
   },
   {
    "duration": 221,
    "start_time": "2023-09-01T19:30:44.505Z"
   },
   {
    "duration": 208,
    "start_time": "2023-09-01T19:31:33.579Z"
   },
   {
    "duration": 213,
    "start_time": "2023-09-01T19:32:31.383Z"
   },
   {
    "duration": 208,
    "start_time": "2023-09-01T19:33:35.722Z"
   },
   {
    "duration": 213,
    "start_time": "2023-09-01T19:33:40.386Z"
   },
   {
    "duration": 8786,
    "start_time": "2023-09-01T19:46:22.970Z"
   },
   {
    "duration": 4,
    "start_time": "2023-09-01T19:50:23.656Z"
   },
   {
    "duration": 106,
    "start_time": "2023-09-01T19:50:23.662Z"
   },
   {
    "duration": 15,
    "start_time": "2023-09-01T19:50:23.770Z"
   },
   {
    "duration": 34,
    "start_time": "2023-09-01T19:50:23.786Z"
   },
   {
    "duration": 16,
    "start_time": "2023-09-01T19:50:23.823Z"
   },
   {
    "duration": 38,
    "start_time": "2023-09-01T19:50:23.841Z"
   },
   {
    "duration": 33,
    "start_time": "2023-09-01T19:50:23.881Z"
   },
   {
    "duration": 62,
    "start_time": "2023-09-01T19:50:23.917Z"
   },
   {
    "duration": 252,
    "start_time": "2023-09-01T19:50:23.981Z"
   },
   {
    "duration": 257,
    "start_time": "2023-09-01T19:50:24.235Z"
   },
   {
    "duration": 34,
    "start_time": "2023-09-01T19:50:24.494Z"
   },
   {
    "duration": 297,
    "start_time": "2023-09-01T19:50:24.530Z"
   },
   {
    "duration": 43,
    "start_time": "2023-09-01T19:50:24.829Z"
   },
   {
    "duration": 285,
    "start_time": "2023-09-01T19:50:24.875Z"
   },
   {
    "duration": 313,
    "start_time": "2023-09-01T19:50:25.162Z"
   },
   {
    "duration": 20,
    "start_time": "2023-09-01T19:50:25.477Z"
   },
   {
    "duration": 32,
    "start_time": "2023-09-01T19:50:25.499Z"
   },
   {
    "duration": 9,
    "start_time": "2023-09-01T19:50:25.533Z"
   },
   {
    "duration": 36,
    "start_time": "2023-09-01T19:50:25.544Z"
   },
   {
    "duration": 4,
    "start_time": "2023-09-01T19:50:25.582Z"
   },
   {
    "duration": 186,
    "start_time": "2023-09-01T19:50:25.588Z"
   },
   {
    "duration": 209,
    "start_time": "2023-09-01T19:50:25.776Z"
   },
   {
    "duration": 597,
    "start_time": "2023-09-01T19:50:25.987Z"
   },
   {
    "duration": 213,
    "start_time": "2023-09-01T19:50:26.586Z"
   },
   {
    "duration": 211,
    "start_time": "2023-09-01T19:50:26.800Z"
   },
   {
    "duration": 1859,
    "start_time": "2023-09-01T19:50:27.013Z"
   },
   {
    "duration": 12,
    "start_time": "2023-09-01T19:50:28.874Z"
   },
   {
    "duration": 13,
    "start_time": "2023-09-01T19:50:28.888Z"
   },
   {
    "duration": 102,
    "start_time": "2023-09-01T19:50:28.903Z"
   },
   {
    "duration": 403,
    "start_time": "2023-09-01T19:50:29.007Z"
   },
   {
    "duration": 10,
    "start_time": "2023-09-01T19:50:29.412Z"
   },
   {
    "duration": 17,
    "start_time": "2023-09-01T19:50:29.424Z"
   },
   {
    "duration": 880,
    "start_time": "2023-09-01T19:50:29.442Z"
   },
   {
    "duration": 6,
    "start_time": "2023-09-01T19:50:30.324Z"
   },
   {
    "duration": 92,
    "start_time": "2023-09-01T19:50:30.331Z"
   },
   {
    "duration": 607,
    "start_time": "2023-09-01T19:50:30.425Z"
   },
   {
    "duration": 312,
    "start_time": "2023-09-01T19:50:31.034Z"
   },
   {
    "duration": 509,
    "start_time": "2023-09-01T19:50:31.347Z"
   },
   {
    "duration": 15,
    "start_time": "2023-09-01T19:50:31.858Z"
   },
   {
    "duration": 10055,
    "start_time": "2023-09-01T19:50:31.875Z"
   },
   {
    "duration": 34,
    "start_time": "2023-09-01T19:50:41.938Z"
   },
   {
    "duration": 772,
    "start_time": "2023-09-01T19:50:41.973Z"
   },
   {
    "duration": 7,
    "start_time": "2023-09-01T19:50:42.747Z"
   },
   {
    "duration": 29,
    "start_time": "2023-09-01T19:50:42.756Z"
   },
   {
    "duration": 10,
    "start_time": "2023-09-01T19:50:42.787Z"
   },
   {
    "duration": 210,
    "start_time": "2023-09-01T19:50:42.799Z"
   },
   {
    "duration": 7,
    "start_time": "2023-09-01T19:50:43.012Z"
   },
   {
    "duration": 209,
    "start_time": "2023-09-01T19:50:43.021Z"
   },
   {
    "duration": 308,
    "start_time": "2023-09-01T19:50:43.232Z"
   },
   {
    "duration": 26,
    "start_time": "2023-09-01T19:50:43.542Z"
   },
   {
    "duration": 28,
    "start_time": "2023-09-01T19:50:43.569Z"
   },
   {
    "duration": 8819,
    "start_time": "2023-09-01T19:50:43.598Z"
   },
   {
    "duration": 69,
    "start_time": "2023-09-01T19:50:52.419Z"
   },
   {
    "duration": 16,
    "start_time": "2023-09-01T19:50:52.490Z"
   },
   {
    "duration": 294,
    "start_time": "2023-09-01T19:50:52.508Z"
   },
   {
    "duration": 4,
    "start_time": "2023-09-01T19:50:52.804Z"
   },
   {
    "duration": 20,
    "start_time": "2023-09-01T19:50:52.809Z"
   },
   {
    "duration": 330,
    "start_time": "2023-09-01T19:50:52.830Z"
   },
   {
    "duration": 237,
    "start_time": "2023-09-01T19:50:53.166Z"
   },
   {
    "duration": 7,
    "start_time": "2023-09-01T19:50:53.405Z"
   },
   {
    "duration": 11,
    "start_time": "2023-09-01T19:50:53.413Z"
   },
   {
    "duration": 19,
    "start_time": "2023-09-01T19:50:53.426Z"
   },
   {
    "duration": 8,
    "start_time": "2023-09-01T19:50:53.446Z"
   },
   {
    "duration": 6,
    "start_time": "2023-09-01T19:50:53.466Z"
   },
   {
    "duration": 12,
    "start_time": "2023-09-01T19:50:53.474Z"
   },
   {
    "duration": 8651,
    "start_time": "2023-09-01T19:50:53.488Z"
   },
   {
    "duration": 351,
    "start_time": "2023-09-01T19:51:02.143Z"
   },
   {
    "duration": 211,
    "start_time": "2023-09-01T19:51:02.496Z"
   },
   {
    "duration": 210,
    "start_time": "2023-09-01T19:51:02.708Z"
   },
   {
    "duration": 609,
    "start_time": "2023-09-01T19:51:02.919Z"
   },
   {
    "duration": 10641,
    "start_time": "2023-09-01T19:51:55.678Z"
   },
   {
    "duration": 153,
    "start_time": "2023-09-01T19:56:24.650Z"
   },
   {
    "duration": 8,
    "start_time": "2023-09-01T19:57:03.326Z"
   },
   {
    "duration": 192,
    "start_time": "2023-09-01T20:00:50.286Z"
   },
   {
    "duration": 1730,
    "start_time": "2023-09-01T20:22:45.784Z"
   },
   {
    "duration": 135,
    "start_time": "2023-09-01T20:22:47.516Z"
   },
   {
    "duration": 15,
    "start_time": "2023-09-01T20:22:47.653Z"
   },
   {
    "duration": 35,
    "start_time": "2023-09-01T20:22:47.670Z"
   },
   {
    "duration": 15,
    "start_time": "2023-09-01T20:22:47.707Z"
   },
   {
    "duration": 13,
    "start_time": "2023-09-01T20:22:47.723Z"
   },
   {
    "duration": 24,
    "start_time": "2023-09-01T20:22:47.738Z"
   },
   {
    "duration": 57,
    "start_time": "2023-09-01T20:22:47.764Z"
   },
   {
    "duration": 260,
    "start_time": "2023-09-01T20:22:47.822Z"
   },
   {
    "duration": 270,
    "start_time": "2023-09-01T20:22:48.085Z"
   },
   {
    "duration": 33,
    "start_time": "2023-09-01T20:22:48.357Z"
   },
   {
    "duration": 376,
    "start_time": "2023-09-01T20:22:48.402Z"
   },
   {
    "duration": 42,
    "start_time": "2023-09-01T20:22:48.780Z"
   },
   {
    "duration": 280,
    "start_time": "2023-09-01T20:22:48.824Z"
   },
   {
    "duration": 419,
    "start_time": "2023-09-01T20:22:49.105Z"
   },
   {
    "duration": 21,
    "start_time": "2023-09-01T20:22:49.526Z"
   },
   {
    "duration": 8,
    "start_time": "2023-09-01T20:22:49.549Z"
   },
   {
    "duration": 18,
    "start_time": "2023-09-01T20:22:49.559Z"
   },
   {
    "duration": 50,
    "start_time": "2023-09-01T20:22:49.579Z"
   },
   {
    "duration": 4,
    "start_time": "2023-09-01T20:22:49.631Z"
   },
   {
    "duration": 200,
    "start_time": "2023-09-01T20:22:49.637Z"
   },
   {
    "duration": 217,
    "start_time": "2023-09-01T20:22:49.839Z"
   },
   {
    "duration": 665,
    "start_time": "2023-09-01T20:22:50.058Z"
   },
   {
    "duration": 209,
    "start_time": "2023-09-01T20:22:50.724Z"
   },
   {
    "duration": 218,
    "start_time": "2023-09-01T20:22:50.935Z"
   },
   {
    "duration": 2031,
    "start_time": "2023-09-01T20:22:51.155Z"
   },
   {
    "duration": 11,
    "start_time": "2023-09-01T20:22:53.188Z"
   },
   {
    "duration": 28,
    "start_time": "2023-09-01T20:22:53.203Z"
   },
   {
    "duration": 95,
    "start_time": "2023-09-01T20:22:53.233Z"
   },
   {
    "duration": 429,
    "start_time": "2023-09-01T20:22:53.330Z"
   },
   {
    "duration": 11,
    "start_time": "2023-09-01T20:22:53.761Z"
   },
   {
    "duration": 28,
    "start_time": "2023-09-01T20:22:53.774Z"
   },
   {
    "duration": 1080,
    "start_time": "2023-09-01T20:22:53.804Z"
   },
   {
    "duration": 5,
    "start_time": "2023-09-01T20:22:54.886Z"
   },
   {
    "duration": 34,
    "start_time": "2023-09-01T20:22:54.902Z"
   },
   {
    "duration": 522,
    "start_time": "2023-09-01T20:22:54.938Z"
   },
   {
    "duration": 306,
    "start_time": "2023-09-01T20:22:55.462Z"
   },
   {
    "duration": 518,
    "start_time": "2023-09-01T20:22:55.770Z"
   },
   {
    "duration": 11,
    "start_time": "2023-09-01T20:22:56.290Z"
   },
   {
    "duration": 9713,
    "start_time": "2023-09-01T20:22:56.302Z"
   },
   {
    "duration": 16,
    "start_time": "2023-09-01T20:23:06.017Z"
   },
   {
    "duration": 831,
    "start_time": "2023-09-01T20:23:06.034Z"
   },
   {
    "duration": 8,
    "start_time": "2023-09-01T20:23:06.867Z"
   },
   {
    "duration": 42,
    "start_time": "2023-09-01T20:23:06.876Z"
   },
   {
    "duration": 23,
    "start_time": "2023-09-01T20:23:06.920Z"
   },
   {
    "duration": 196,
    "start_time": "2023-09-01T20:23:06.945Z"
   },
   {
    "duration": 6,
    "start_time": "2023-09-01T20:23:07.142Z"
   },
   {
    "duration": 204,
    "start_time": "2023-09-01T20:23:07.149Z"
   },
   {
    "duration": 326,
    "start_time": "2023-09-01T20:23:07.355Z"
   },
   {
    "duration": 26,
    "start_time": "2023-09-01T20:23:07.683Z"
   },
   {
    "duration": 11,
    "start_time": "2023-09-01T20:23:07.710Z"
   },
   {
    "duration": 9754,
    "start_time": "2023-09-01T20:23:07.722Z"
   },
   {
    "duration": 63,
    "start_time": "2023-09-01T20:23:17.479Z"
   },
   {
    "duration": 72,
    "start_time": "2023-09-01T20:23:17.544Z"
   },
   {
    "duration": 312,
    "start_time": "2023-09-01T20:23:17.617Z"
   },
   {
    "duration": 4,
    "start_time": "2023-09-01T20:23:17.931Z"
   },
   {
    "duration": 20,
    "start_time": "2023-09-01T20:23:17.937Z"
   },
   {
    "duration": 369,
    "start_time": "2023-09-01T20:23:17.959Z"
   },
   {
    "duration": 515,
    "start_time": "2023-09-01T20:23:18.330Z"
   },
   {
    "duration": 6,
    "start_time": "2023-09-01T20:23:18.846Z"
   },
   {
    "duration": 14,
    "start_time": "2023-09-01T20:23:18.854Z"
   },
   {
    "duration": 18,
    "start_time": "2023-09-01T20:23:18.870Z"
   },
   {
    "duration": 12,
    "start_time": "2023-09-01T20:23:18.890Z"
   },
   {
    "duration": 19,
    "start_time": "2023-09-01T20:23:18.904Z"
   },
   {
    "duration": 16,
    "start_time": "2023-09-01T20:23:18.925Z"
   },
   {
    "duration": 9575,
    "start_time": "2023-09-01T20:23:18.943Z"
   },
   {
    "duration": 396,
    "start_time": "2023-09-01T20:23:28.522Z"
   },
   {
    "duration": 229,
    "start_time": "2023-09-01T20:23:28.920Z"
   },
   {
    "duration": 211,
    "start_time": "2023-09-01T20:23:29.150Z"
   },
   {
    "duration": 630,
    "start_time": "2023-09-01T20:23:29.362Z"
   },
   {
    "duration": 6,
    "start_time": "2023-09-01T20:24:57.275Z"
   },
   {
    "duration": 5,
    "start_time": "2023-09-01T20:25:23.284Z"
   },
   {
    "duration": 59,
    "start_time": "2023-09-03T11:50:30.335Z"
   },
   {
    "duration": 1979,
    "start_time": "2023-09-03T11:51:53.910Z"
   },
   {
    "duration": 143,
    "start_time": "2023-09-03T11:51:55.892Z"
   },
   {
    "duration": 15,
    "start_time": "2023-09-03T11:51:56.037Z"
   },
   {
    "duration": 37,
    "start_time": "2023-09-03T11:51:56.054Z"
   },
   {
    "duration": 30,
    "start_time": "2023-09-03T11:52:06.720Z"
   },
   {
    "duration": 31,
    "start_time": "2023-09-03T11:53:39.319Z"
   },
   {
    "duration": 26,
    "start_time": "2023-09-03T11:55:38.463Z"
   },
   {
    "duration": 24,
    "start_time": "2023-09-03T11:57:10.734Z"
   },
   {
    "duration": 24,
    "start_time": "2023-09-03T11:57:34.641Z"
   },
   {
    "duration": 591,
    "start_time": "2023-09-03T11:58:52.996Z"
   },
   {
    "duration": 36,
    "start_time": "2023-09-03T11:59:01.044Z"
   },
   {
    "duration": 1624,
    "start_time": "2023-09-03T12:00:33.143Z"
   },
   {
    "duration": 18,
    "start_time": "2023-09-03T12:01:08.157Z"
   },
   {
    "duration": 17,
    "start_time": "2023-09-03T12:01:20.817Z"
   },
   {
    "duration": 3,
    "start_time": "2023-09-03T12:02:28.510Z"
   },
   {
    "duration": 85,
    "start_time": "2023-09-03T12:02:28.516Z"
   },
   {
    "duration": 14,
    "start_time": "2023-09-03T12:02:28.603Z"
   },
   {
    "duration": 31,
    "start_time": "2023-09-03T12:02:28.619Z"
   },
   {
    "duration": 72,
    "start_time": "2023-09-03T12:07:07.489Z"
   },
   {
    "duration": 5,
    "start_time": "2023-09-03T12:08:06.087Z"
   },
   {
    "duration": 106,
    "start_time": "2023-09-03T12:08:06.094Z"
   },
   {
    "duration": 14,
    "start_time": "2023-09-03T12:08:06.202Z"
   },
   {
    "duration": 40,
    "start_time": "2023-09-03T12:08:06.219Z"
   },
   {
    "duration": 16,
    "start_time": "2023-09-03T12:08:06.261Z"
   },
   {
    "duration": 43,
    "start_time": "2023-09-03T12:08:06.279Z"
   },
   {
    "duration": 31,
    "start_time": "2023-09-03T12:08:06.324Z"
   },
   {
    "duration": 57,
    "start_time": "2023-09-03T12:08:06.357Z"
   },
   {
    "duration": 304,
    "start_time": "2023-09-03T12:08:06.418Z"
   },
   {
    "duration": 370,
    "start_time": "2023-09-03T12:08:06.725Z"
   },
   {
    "duration": 51,
    "start_time": "2023-09-03T12:08:07.097Z"
   },
   {
    "duration": 308,
    "start_time": "2023-09-03T12:08:07.150Z"
   },
   {
    "duration": 34,
    "start_time": "2023-09-03T12:08:07.460Z"
   },
   {
    "duration": 305,
    "start_time": "2023-09-03T12:08:07.496Z"
   },
   {
    "duration": 435,
    "start_time": "2023-09-03T12:08:07.803Z"
   },
   {
    "duration": 22,
    "start_time": "2023-09-03T12:08:08.240Z"
   },
   {
    "duration": 114,
    "start_time": "2023-09-03T12:08:08.264Z"
   },
   {
    "duration": 19,
    "start_time": "2023-09-03T12:08:08.380Z"
   },
   {
    "duration": 37,
    "start_time": "2023-09-03T12:08:08.401Z"
   },
   {
    "duration": 77,
    "start_time": "2023-09-03T12:08:08.440Z"
   },
   {
    "duration": 214,
    "start_time": "2023-09-03T12:08:08.519Z"
   },
   {
    "duration": 235,
    "start_time": "2023-09-03T12:08:08.735Z"
   },
   {
    "duration": 715,
    "start_time": "2023-09-03T12:08:08.972Z"
   },
   {
    "duration": 242,
    "start_time": "2023-09-03T12:08:09.691Z"
   },
   {
    "duration": 334,
    "start_time": "2023-09-03T12:08:09.935Z"
   },
   {
    "duration": 2136,
    "start_time": "2023-09-03T12:08:10.271Z"
   },
   {
    "duration": 17,
    "start_time": "2023-09-03T12:08:12.410Z"
   },
   {
    "duration": 54,
    "start_time": "2023-09-03T12:08:12.429Z"
   },
   {
    "duration": 130,
    "start_time": "2023-09-03T12:08:12.485Z"
   },
   {
    "duration": 477,
    "start_time": "2023-09-03T12:08:12.617Z"
   },
   {
    "duration": 13,
    "start_time": "2023-09-03T12:11:07.707Z"
   },
   {
    "duration": 16,
    "start_time": "2023-09-03T12:11:13.822Z"
   },
   {
    "duration": 32424,
    "start_time": "2023-09-03T12:11:30.622Z"
   },
   {
    "duration": 4,
    "start_time": "2023-09-03T12:12:26.991Z"
   },
   {
    "duration": 86,
    "start_time": "2023-09-03T12:12:27.000Z"
   },
   {
    "duration": 14,
    "start_time": "2023-09-03T12:12:27.088Z"
   },
   {
    "duration": 33,
    "start_time": "2023-09-03T12:12:27.110Z"
   },
   {
    "duration": 17,
    "start_time": "2023-09-03T12:12:27.145Z"
   },
   {
    "duration": 25,
    "start_time": "2023-09-03T12:12:27.164Z"
   },
   {
    "duration": 42,
    "start_time": "2023-09-03T12:12:27.191Z"
   },
   {
    "duration": 43,
    "start_time": "2023-09-03T12:12:27.234Z"
   },
   {
    "duration": 277,
    "start_time": "2023-09-03T12:12:27.279Z"
   },
   {
    "duration": 311,
    "start_time": "2023-09-03T12:12:27.558Z"
   },
   {
    "duration": 47,
    "start_time": "2023-09-03T12:12:27.870Z"
   },
   {
    "duration": 638,
    "start_time": "2023-09-03T12:12:27.919Z"
   },
   {
    "duration": 53,
    "start_time": "2023-09-03T12:12:28.560Z"
   },
   {
    "duration": 327,
    "start_time": "2023-09-03T12:12:28.615Z"
   },
   {
    "duration": 363,
    "start_time": "2023-09-03T12:12:28.946Z"
   },
   {
    "duration": 21,
    "start_time": "2023-09-03T12:12:29.311Z"
   },
   {
    "duration": 8,
    "start_time": "2023-09-03T12:12:29.334Z"
   },
   {
    "duration": 7,
    "start_time": "2023-09-03T12:12:29.344Z"
   },
   {
    "duration": 57,
    "start_time": "2023-09-03T12:12:29.353Z"
   },
   {
    "duration": 4,
    "start_time": "2023-09-03T12:12:29.413Z"
   },
   {
    "duration": 252,
    "start_time": "2023-09-03T12:12:29.419Z"
   },
   {
    "duration": 216,
    "start_time": "2023-09-03T12:12:29.673Z"
   },
   {
    "duration": 861,
    "start_time": "2023-09-03T12:12:29.891Z"
   },
   {
    "duration": 473,
    "start_time": "2023-09-03T12:12:30.754Z"
   },
   {
    "duration": 420,
    "start_time": "2023-09-03T12:12:31.229Z"
   },
   {
    "duration": 2444,
    "start_time": "2023-09-03T12:12:31.651Z"
   },
   {
    "duration": 21,
    "start_time": "2023-09-03T12:12:34.097Z"
   },
   {
    "duration": 14,
    "start_time": "2023-09-03T12:12:34.120Z"
   },
   {
    "duration": 102,
    "start_time": "2023-09-03T12:12:34.136Z"
   },
   {
    "duration": 460,
    "start_time": "2023-09-03T12:12:34.240Z"
   },
   {
    "duration": 12,
    "start_time": "2023-09-03T12:12:34.708Z"
   },
   {
    "duration": 17,
    "start_time": "2023-09-03T12:12:34.722Z"
   },
   {
    "duration": 33042,
    "start_time": "2023-09-03T12:12:34.741Z"
   },
   {
    "duration": 5,
    "start_time": "2023-09-03T12:13:07.784Z"
   },
   {
    "duration": 36,
    "start_time": "2023-09-03T12:13:07.790Z"
   },
   {
    "duration": 625,
    "start_time": "2023-09-03T12:13:07.828Z"
   },
   {
    "duration": 334,
    "start_time": "2023-09-03T12:13:08.455Z"
   },
   {
    "duration": 540,
    "start_time": "2023-09-03T12:13:08.791Z"
   },
   {
    "duration": 8,
    "start_time": "2023-09-03T12:13:09.333Z"
   },
   {
    "duration": 10409,
    "start_time": "2023-09-03T12:13:09.342Z"
   },
   {
    "duration": 18,
    "start_time": "2023-09-03T12:13:19.754Z"
   },
   {
    "duration": 831,
    "start_time": "2023-09-03T12:13:19.813Z"
   },
   {
    "duration": 10,
    "start_time": "2023-09-03T12:13:20.646Z"
   },
   {
    "duration": 49,
    "start_time": "2023-09-03T12:13:20.658Z"
   },
   {
    "duration": 16,
    "start_time": "2023-09-03T12:13:20.711Z"
   },
   {
    "duration": 243,
    "start_time": "2023-09-03T12:13:20.729Z"
   },
   {
    "duration": 8,
    "start_time": "2023-09-03T12:13:20.974Z"
   },
   {
    "duration": 648,
    "start_time": "2023-09-03T12:13:20.984Z"
   },
   {
    "duration": 380,
    "start_time": "2023-09-03T12:13:21.634Z"
   },
   {
    "duration": 14,
    "start_time": "2023-09-03T12:13:22.017Z"
   },
   {
    "duration": 14,
    "start_time": "2023-09-03T12:13:22.033Z"
   },
   {
    "duration": 10597,
    "start_time": "2023-09-03T12:13:22.049Z"
   },
   {
    "duration": 93,
    "start_time": "2023-09-03T12:13:32.648Z"
   },
   {
    "duration": 75,
    "start_time": "2023-09-03T12:13:32.743Z"
   },
   {
    "duration": 347,
    "start_time": "2023-09-03T12:13:32.820Z"
   },
   {
    "duration": 6,
    "start_time": "2023-09-03T12:13:33.169Z"
   },
   {
    "duration": 33,
    "start_time": "2023-09-03T12:13:33.177Z"
   },
   {
    "duration": 346,
    "start_time": "2023-09-03T12:13:33.212Z"
   },
   {
    "duration": 249,
    "start_time": "2023-09-03T12:13:33.560Z"
   },
   {
    "duration": 7,
    "start_time": "2023-09-03T12:13:33.811Z"
   },
   {
    "duration": 15,
    "start_time": "2023-09-03T12:13:33.820Z"
   },
   {
    "duration": 10,
    "start_time": "2023-09-03T12:13:33.837Z"
   },
   {
    "duration": 7,
    "start_time": "2023-09-03T12:13:33.849Z"
   },
   {
    "duration": 7,
    "start_time": "2023-09-03T12:13:33.858Z"
   },
   {
    "duration": 9,
    "start_time": "2023-09-03T12:13:33.867Z"
   },
   {
    "duration": 10423,
    "start_time": "2023-09-03T12:13:33.910Z"
   },
   {
    "duration": 440,
    "start_time": "2023-09-03T12:13:44.335Z"
   },
   {
    "duration": 236,
    "start_time": "2023-09-03T12:13:44.777Z"
   },
   {
    "duration": 240,
    "start_time": "2023-09-03T12:13:45.015Z"
   },
   {
    "duration": 727,
    "start_time": "2023-09-03T12:13:45.257Z"
   },
   {
    "duration": 13,
    "start_time": "2023-09-03T12:16:02.634Z"
   },
   {
    "duration": 21,
    "start_time": "2023-09-03T12:16:11.954Z"
   },
   {
    "duration": 901,
    "start_time": "2023-09-03T12:16:13.724Z"
   },
   {
    "duration": 11,
    "start_time": "2023-09-03T12:17:18.741Z"
   },
   {
    "duration": 13,
    "start_time": "2023-09-03T12:17:26.899Z"
   },
   {
    "duration": 776,
    "start_time": "2023-09-03T12:17:30.404Z"
   },
   {
    "duration": 10,
    "start_time": "2023-09-03T12:17:47.135Z"
   },
   {
    "duration": 14,
    "start_time": "2023-09-03T12:17:54.848Z"
   },
   {
    "duration": 895,
    "start_time": "2023-09-03T12:17:56.017Z"
   },
   {
    "duration": 10,
    "start_time": "2023-09-03T12:18:10.394Z"
   },
   {
    "duration": 14,
    "start_time": "2023-09-03T12:18:12.043Z"
   },
   {
    "duration": 989,
    "start_time": "2023-09-03T12:18:12.569Z"
   },
   {
    "duration": 4,
    "start_time": "2023-09-03T12:22:03.254Z"
   },
   {
    "duration": 10,
    "start_time": "2023-09-03T12:22:07.810Z"
   },
   {
    "duration": 11,
    "start_time": "2023-09-03T12:22:25.056Z"
   },
   {
    "duration": 19,
    "start_time": "2023-09-03T12:23:15.370Z"
   },
   {
    "duration": 10,
    "start_time": "2023-09-03T12:25:56.268Z"
   },
   {
    "duration": 13,
    "start_time": "2023-09-03T12:26:30.322Z"
   },
   {
    "duration": 297,
    "start_time": "2023-09-03T12:26:59.184Z"
   },
   {
    "duration": 47,
    "start_time": "2023-09-03T12:27:57.785Z"
   },
   {
    "duration": 10,
    "start_time": "2023-09-03T12:28:45.710Z"
   },
   {
    "duration": 10,
    "start_time": "2023-09-03T12:29:56.519Z"
   },
   {
    "duration": 14,
    "start_time": "2023-09-03T12:30:17.528Z"
   },
   {
    "duration": 17,
    "start_time": "2023-09-03T12:30:30.169Z"
   },
   {
    "duration": 11,
    "start_time": "2023-09-03T12:30:38.011Z"
   },
   {
    "duration": 7,
    "start_time": "2023-09-03T12:32:17.501Z"
   },
   {
    "duration": 6,
    "start_time": "2023-09-03T12:32:36.199Z"
   },
   {
    "duration": 7,
    "start_time": "2023-09-03T12:33:39.918Z"
   },
   {
    "duration": 11,
    "start_time": "2023-09-03T12:33:48.154Z"
   },
   {
    "duration": 83,
    "start_time": "2023-09-03T12:35:03.299Z"
   },
   {
    "duration": 231,
    "start_time": "2023-09-03T12:37:15.435Z"
   },
   {
    "duration": 224,
    "start_time": "2023-09-03T12:37:51.138Z"
   },
   {
    "duration": 218,
    "start_time": "2023-09-03T12:42:19.835Z"
   },
   {
    "duration": 639,
    "start_time": "2023-09-03T12:43:35.914Z"
   },
   {
    "duration": 2516,
    "start_time": "2023-09-03T18:18:40.534Z"
   },
   {
    "duration": 204,
    "start_time": "2023-09-03T18:18:43.052Z"
   },
   {
    "duration": 17,
    "start_time": "2023-09-03T18:18:43.258Z"
   },
   {
    "duration": 111,
    "start_time": "2023-09-03T18:18:43.278Z"
   },
   {
    "duration": 69,
    "start_time": "2023-09-03T18:18:43.390Z"
   },
   {
    "duration": 35,
    "start_time": "2023-09-03T18:18:43.461Z"
   },
   {
    "duration": 69,
    "start_time": "2023-09-03T18:18:43.498Z"
   },
   {
    "duration": 91,
    "start_time": "2023-09-03T18:18:43.569Z"
   },
   {
    "duration": 501,
    "start_time": "2023-09-03T18:18:43.662Z"
   },
   {
    "duration": 618,
    "start_time": "2023-09-03T18:18:44.167Z"
   },
   {
    "duration": 84,
    "start_time": "2023-09-03T18:18:44.786Z"
   },
   {
    "duration": 794,
    "start_time": "2023-09-03T18:18:44.871Z"
   },
   {
    "duration": 83,
    "start_time": "2023-09-03T18:18:45.667Z"
   },
   {
    "duration": 631,
    "start_time": "2023-09-03T18:18:45.752Z"
   },
   {
    "duration": 340,
    "start_time": "2023-09-03T18:18:46.385Z"
   },
   {
    "duration": 29,
    "start_time": "2023-09-03T18:18:46.726Z"
   },
   {
    "duration": 7,
    "start_time": "2023-09-03T18:18:46.757Z"
   },
   {
    "duration": 8,
    "start_time": "2023-09-03T18:18:46.765Z"
   },
   {
    "duration": 25,
    "start_time": "2023-09-03T18:18:46.774Z"
   },
   {
    "duration": 4,
    "start_time": "2023-09-03T18:18:46.800Z"
   },
   {
    "duration": 174,
    "start_time": "2023-09-03T18:18:46.806Z"
   },
   {
    "duration": 183,
    "start_time": "2023-09-03T18:18:46.982Z"
   },
   {
    "duration": 568,
    "start_time": "2023-09-03T18:18:47.166Z"
   },
   {
    "duration": 180,
    "start_time": "2023-09-03T18:18:47.736Z"
   },
   {
    "duration": 182,
    "start_time": "2023-09-03T18:18:47.918Z"
   },
   {
    "duration": 1805,
    "start_time": "2023-09-03T18:18:48.102Z"
   },
   {
    "duration": 9,
    "start_time": "2023-09-03T18:18:49.909Z"
   },
   {
    "duration": 34,
    "start_time": "2023-09-03T18:18:49.921Z"
   },
   {
    "duration": 75,
    "start_time": "2023-09-03T18:18:49.956Z"
   },
   {
    "duration": 343,
    "start_time": "2023-09-03T18:18:50.032Z"
   },
   {
    "duration": 7,
    "start_time": "2023-09-03T18:18:50.376Z"
   },
   {
    "duration": 12,
    "start_time": "2023-09-03T18:18:50.385Z"
   },
   {
    "duration": 876,
    "start_time": "2023-09-03T18:18:50.398Z"
   },
   {
    "duration": 4,
    "start_time": "2023-09-03T18:18:51.275Z"
   },
   {
    "duration": 41,
    "start_time": "2023-09-03T18:18:51.280Z"
   },
   {
    "duration": 497,
    "start_time": "2023-09-03T18:18:51.322Z"
   },
   {
    "duration": 274,
    "start_time": "2023-09-03T18:18:51.820Z"
   },
   {
    "duration": 446,
    "start_time": "2023-09-03T18:18:52.095Z"
   },
   {
    "duration": 9,
    "start_time": "2023-09-03T18:18:52.543Z"
   },
   {
    "duration": 8738,
    "start_time": "2023-09-03T18:18:52.554Z"
   },
   {
    "duration": 14,
    "start_time": "2023-09-03T18:19:01.293Z"
   },
   {
    "duration": 676,
    "start_time": "2023-09-03T18:19:01.308Z"
   },
   {
    "duration": 6,
    "start_time": "2023-09-03T18:19:01.985Z"
   },
   {
    "duration": 36,
    "start_time": "2023-09-03T18:19:01.992Z"
   },
   {
    "duration": 12,
    "start_time": "2023-09-03T18:19:02.029Z"
   },
   {
    "duration": 165,
    "start_time": "2023-09-03T18:19:02.042Z"
   },
   {
    "duration": 5,
    "start_time": "2023-09-03T18:19:02.209Z"
   },
   {
    "duration": 163,
    "start_time": "2023-09-03T18:19:02.215Z"
   },
   {
    "duration": 338,
    "start_time": "2023-09-03T18:19:02.379Z"
   },
   {
    "duration": 11,
    "start_time": "2023-09-03T18:19:02.719Z"
   },
   {
    "duration": 24,
    "start_time": "2023-09-03T18:19:02.732Z"
   },
   {
    "duration": 8711,
    "start_time": "2023-09-03T18:19:02.757Z"
   },
   {
    "duration": 81,
    "start_time": "2023-09-03T18:19:11.470Z"
   },
   {
    "duration": 16,
    "start_time": "2023-09-03T18:19:11.553Z"
   },
   {
    "duration": 272,
    "start_time": "2023-09-03T18:19:11.570Z"
   },
   {
    "duration": 4,
    "start_time": "2023-09-03T18:19:11.849Z"
   },
   {
    "duration": 16,
    "start_time": "2023-09-03T18:19:11.854Z"
   },
   {
    "duration": 294,
    "start_time": "2023-09-03T18:19:11.872Z"
   },
   {
    "duration": 428,
    "start_time": "2023-09-03T18:19:12.168Z"
   },
   {
    "duration": 5,
    "start_time": "2023-09-03T18:19:12.598Z"
   },
   {
    "duration": 10,
    "start_time": "2023-09-03T18:19:12.604Z"
   },
   {
    "duration": 7,
    "start_time": "2023-09-03T18:19:12.615Z"
   },
   {
    "duration": 5,
    "start_time": "2023-09-03T18:19:12.623Z"
   },
   {
    "duration": 24,
    "start_time": "2023-09-03T18:19:12.629Z"
   },
   {
    "duration": 10,
    "start_time": "2023-09-03T18:19:12.654Z"
   },
   {
    "duration": 9033,
    "start_time": "2023-09-03T18:19:12.665Z"
   },
   {
    "duration": 329,
    "start_time": "2023-09-03T18:19:21.699Z"
   },
   {
    "duration": 207,
    "start_time": "2023-09-03T18:19:22.030Z"
   },
   {
    "duration": 192,
    "start_time": "2023-09-03T18:19:22.239Z"
   },
   {
    "duration": 587,
    "start_time": "2023-09-03T18:19:22.433Z"
   }
  ],
  "kernelspec": {
   "display_name": "Python 3 (ipykernel)",
   "language": "python",
   "name": "python3"
  },
  "language_info": {
   "codemirror_mode": {
    "name": "ipython",
    "version": 3
   },
   "file_extension": ".py",
   "mimetype": "text/x-python",
   "name": "python",
   "nbconvert_exporter": "python",
   "pygments_lexer": "ipython3",
   "version": "3.10.9"
  },
  "toc": {
   "base_numbering": 1,
   "nav_menu": {},
   "number_sections": true,
   "sideBar": true,
   "skip_h1_title": true,
   "title_cell": "Contents",
   "title_sidebar": "Contents",
   "toc_cell": true,
   "toc_position": {
    "height": "calc(100% - 180px)",
    "left": "10px",
    "top": "150px",
    "width": "370.188px"
   },
   "toc_section_display": true,
   "toc_window_display": true
  }
 },
 "nbformat": 4,
 "nbformat_minor": 2
}
